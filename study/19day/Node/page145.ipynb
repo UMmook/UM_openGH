{
 "cells": [
  {
   "cell_type": "code",
   "execution_count": 1,
   "id": "5edb5d77",
   "metadata": {},
   "outputs": [
    {
     "name": "stdout",
     "output_type": "stream",
     "text": [
      "시작\n",
      "나는 run이다\n",
      "끝\n"
     ]
    }
   ],
   "source": [
    "import time\n",
    "def run():\n",
    "    print('나는 run이다')\n",
    "print('시작')\n",
    "time.sleep(3) # 초 단위\n",
    "run()\n",
    "print('끝')"
   ]
  },
  {
   "cell_type": "code",
   "execution_count": null,
   "id": "53c42329",
   "metadata": {},
   "outputs": [],
   "source": []
  }
 ],
 "metadata": {
  "kernelspec": {
   "display_name": "Python 3 (ipykernel)",
   "language": "python",
   "name": "python3"
  },
  "language_info": {
   "codemirror_mode": {
    "name": "ipython",
    "version": 3
   },
   "file_extension": ".py",
   "mimetype": "text/x-python",
   "name": "python",
   "nbconvert_exporter": "python",
   "pygments_lexer": "ipython3",
   "version": "3.8.0"
  }
 },
 "nbformat": 4,
 "nbformat_minor": 5
}
