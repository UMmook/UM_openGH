{
 "cells": [
  {
   "cell_type": "code",
   "execution_count": 2,
   "id": "689f9e59",
   "metadata": {},
   "outputs": [],
   "source": [
    "import mod"
   ]
  },
  {
   "cell_type": "code",
   "execution_count": 2,
   "id": "c3e53d03",
   "metadata": {},
   "outputs": [
    {
     "data": {
      "text/plain": [
       "1234"
      ]
     },
     "execution_count": 2,
     "metadata": {},
     "output_type": "execute_result"
    }
   ],
   "source": [
    "mod.my_val"
   ]
  },
  {
   "cell_type": "code",
   "execution_count": 3,
   "id": "1e502163",
   "metadata": {},
   "outputs": [
    {
     "data": {
      "text/plain": [
       "11"
      ]
     },
     "execution_count": 3,
     "metadata": {},
     "output_type": "execute_result"
    }
   ],
   "source": [
    "mod.my_inc(10)"
   ]
  },
  {
   "cell_type": "code",
   "execution_count": 4,
   "id": "043b2a55",
   "metadata": {},
   "outputs": [
    {
     "data": {
      "text/plain": [
       "11"
      ]
     },
     "execution_count": 4,
     "metadata": {},
     "output_type": "execute_result"
    }
   ],
   "source": [
    "from mod import my_inc\n",
    "my_inc(10)"
   ]
  },
  {
   "cell_type": "code",
   "execution_count": 5,
   "id": "2581dcd1",
   "metadata": {},
   "outputs": [
    {
     "name": "stdout",
     "output_type": "stream",
     "text": [
      "1695018133.7946725\n"
     ]
    }
   ],
   "source": [
    "import time\n",
    "t1 = time.time()\n",
    "print(t1)"
   ]
  },
  {
   "cell_type": "code",
   "execution_count": 6,
   "id": "a4244a2a",
   "metadata": {},
   "outputs": [
    {
     "name": "stdout",
     "output_type": "stream",
     "text": [
      "1695018319.1612816\n"
     ]
    }
   ],
   "source": [
    "from time import time\n",
    "t1 = time()\n",
    "print(t1)"
   ]
  },
  {
   "cell_type": "code",
   "execution_count": 3,
   "id": "fc969579",
   "metadata": {},
   "outputs": [
    {
     "data": {
      "text/plain": [
       "9"
      ]
     },
     "execution_count": 3,
     "metadata": {},
     "output_type": "execute_result"
    }
   ],
   "source": [
    "mod.my_dec(10)"
   ]
  },
  {
   "cell_type": "code",
   "execution_count": 4,
   "id": "c88b9e0c",
   "metadata": {},
   "outputs": [
    {
     "data": {
      "text/plain": [
       "9"
      ]
     },
     "execution_count": 4,
     "metadata": {},
     "output_type": "execute_result"
    }
   ],
   "source": [
    "from mod import my_dec, my_inc\n",
    "my_dec(10)"
   ]
  },
  {
   "cell_type": "code",
   "execution_count": 6,
   "id": "60a55756",
   "metadata": {},
   "outputs": [],
   "source": [
    "# my_val이라는 같은 변수를 가지고 있는 파일 2개를 같이 import 했을 때\n",
    "# 결과는 마지막에 import한 쪽 값을 가져온다\n",
    "from mod2 import *\n",
    "from mod import *"
   ]
  },
  {
   "cell_type": "code",
   "execution_count": 7,
   "id": "9b8d73dd",
   "metadata": {},
   "outputs": [
    {
     "data": {
      "text/plain": [
       "1234"
      ]
     },
     "execution_count": 7,
     "metadata": {},
     "output_type": "execute_result"
    }
   ],
   "source": [
    "my_val"
   ]
  },
  {
   "cell_type": "code",
   "execution_count": 8,
   "id": "a9c9f25e",
   "metadata": {},
   "outputs": [],
   "source": [
    "from pkg1 import pkg1_1\n",
    "from pkg2 import pkg2_1"
   ]
  },
  {
   "cell_type": "code",
   "execution_count": 9,
   "id": "f094ee9b",
   "metadata": {},
   "outputs": [
    {
     "data": {
      "text/plain": [
       "11"
      ]
     },
     "execution_count": 9,
     "metadata": {},
     "output_type": "execute_result"
    }
   ],
   "source": [
    "pkg1_1.my_val"
   ]
  },
  {
   "cell_type": "code",
   "execution_count": 10,
   "id": "2c065978",
   "metadata": {},
   "outputs": [
    {
     "data": {
      "text/plain": [
       "21"
      ]
     },
     "execution_count": 10,
     "metadata": {},
     "output_type": "execute_result"
    }
   ],
   "source": [
    "pkg2_1.my_val"
   ]
  },
  {
   "cell_type": "code",
   "execution_count": null,
   "id": "d918283a",
   "metadata": {},
   "outputs": [],
   "source": []
  }
 ],
 "metadata": {
  "kernelspec": {
   "display_name": "Python 3 (ipykernel)",
   "language": "python",
   "name": "python3"
  },
  "language_info": {
   "codemirror_mode": {
    "name": "ipython",
    "version": 3
   },
   "file_extension": ".py",
   "mimetype": "text/x-python",
   "name": "python",
   "nbconvert_exporter": "python",
   "pygments_lexer": "ipython3",
   "version": "3.8.0"
  }
 },
 "nbformat": 4,
 "nbformat_minor": 5
}
