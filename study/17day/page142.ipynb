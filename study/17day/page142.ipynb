{
 "cells": [
  {
   "cell_type": "code",
   "execution_count": 1,
   "id": "0edc3f01",
   "metadata": {},
   "outputs": [],
   "source": [
    "# pandas, 표\n",
    "# seaborn, matplotlib 그림(시각호, 도식화)"
   ]
  },
  {
   "cell_type": "code",
   "execution_count": 2,
   "id": "272420ff",
   "metadata": {},
   "outputs": [],
   "source": [
    "# sql : 행(row) : 한 건\n",
    "#       열(column) : 종류\n",
    "\n",
    "#       국 영 수\n",
    "# 학생1 98 88 78\n",
    "# 학생2 88 83 72\n",
    "# 학생3 78 83 76\n",
    "# 학생4 68 63 46"
   ]
  },
  {
   "cell_type": "code",
   "execution_count": 3,
   "id": "e4e35d1c",
   "metadata": {},
   "outputs": [],
   "source": [
    "# pandas - Series(표 컬럼)\n",
    "# pandas - DataFrame(표, 2차원)"
   ]
  },
  {
   "cell_type": "code",
   "execution_count": 7,
   "id": "4a1dc3d0",
   "metadata": {},
   "outputs": [],
   "source": [
    "import pandas as pd"
   ]
  },
  {
   "cell_type": "code",
   "execution_count": 8,
   "id": "7387f7ec",
   "metadata": {},
   "outputs": [
    {
     "data": {
      "text/plain": [
       "0    98\n",
       "1    88\n",
       "2    78\n",
       "3    68\n",
       "dtype: int64"
      ]
     },
     "execution_count": 8,
     "metadata": {},
     "output_type": "execute_result"
    }
   ],
   "source": [
    "kor_data = [98, 88, 78, 68]\n",
    "s_kor_data = pd.Series(kor_data)\n",
    "s_kor_data"
   ]
  },
  {
   "cell_type": "code",
   "execution_count": 9,
   "id": "119766fb",
   "metadata": {},
   "outputs": [
    {
     "data": {
      "text/plain": [
       "[98, 88, 78, 68]"
      ]
     },
     "execution_count": 9,
     "metadata": {},
     "output_type": "execute_result"
    }
   ],
   "source": [
    "kor_data"
   ]
  },
  {
   "cell_type": "code",
   "execution_count": 11,
   "id": "0b6c5bb3",
   "metadata": {},
   "outputs": [
    {
     "data": {
      "text/plain": [
       "학생1    98\n",
       "학생2    88\n",
       "학생3    78\n",
       "학생4    68\n",
       "dtype: int64"
      ]
     },
     "execution_count": 11,
     "metadata": {},
     "output_type": "execute_result"
    }
   ],
   "source": [
    "s_kor_data_1 = pd.Series(kor_data, index=[\"학생1\", \"학생2\", \"학생3\", \"학생4\"])\n",
    "s_kor_data_1"
   ]
  },
  {
   "cell_type": "code",
   "execution_count": 12,
   "id": "f7d05456",
   "metadata": {},
   "outputs": [
    {
     "data": {
      "text/plain": [
       "학생1    88\n",
       "학생2    83\n",
       "학생3    83\n",
       "학생4    63\n",
       "dtype: int64"
      ]
     },
     "execution_count": 12,
     "metadata": {},
     "output_type": "execute_result"
    }
   ],
   "source": [
    "s_eng_data_1 = pd.Series([88, 83, 83, 63], index=[\"학생1\", \"학생2\", \"학생3\", \"학생4\"])\n",
    "s_eng_data_1"
   ]
  },
  {
   "cell_type": "code",
   "execution_count": 13,
   "id": "0593661a",
   "metadata": {},
   "outputs": [
    {
     "data": {
      "text/plain": [
       "학생1    78\n",
       "학생2    72\n",
       "학생3    76\n",
       "학생4    46\n",
       "dtype: int64"
      ]
     },
     "execution_count": 13,
     "metadata": {},
     "output_type": "execute_result"
    }
   ],
   "source": [
    "s_math_data_1 = pd.Series([78, 72, 76, 46], index=[\"학생1\", \"학생2\", \"학생3\", \"학생4\"])\n",
    "s_math_data_1"
   ]
  },
  {
   "cell_type": "code",
   "execution_count": 15,
   "id": "a89bcee9",
   "metadata": {},
   "outputs": [
    {
     "data": {
      "text/plain": [
       "(46, 46)"
      ]
     },
     "execution_count": 15,
     "metadata": {},
     "output_type": "execute_result"
    }
   ],
   "source": [
    "s_math_data_1[3], s_math_data_1[\"학생4\"]"
   ]
  },
  {
   "cell_type": "code",
   "execution_count": 19,
   "id": "ef8b9a62",
   "metadata": {},
   "outputs": [
    {
     "data": {
      "text/plain": [
       "학생1    78\n",
       "학생2    72\n",
       "학생3    76\n",
       "학생4    66\n",
       "dtype: int64"
      ]
     },
     "execution_count": 19,
     "metadata": {},
     "output_type": "execute_result"
    }
   ],
   "source": [
    "s_math_data_1[\"학생4\"] = 66 # sql = update [tablename] set math=66 where name='학생4'\n",
    "s_math_data_1"
   ]
  },
  {
   "cell_type": "code",
   "execution_count": 21,
   "id": "e3d15f3d",
   "metadata": {},
   "outputs": [
    {
     "data": {
      "text/plain": [
       "학생1    87\n",
       "학생2    85\n",
       "학생3    83\n",
       "학생4    81\n",
       "dtype: int64"
      ]
     },
     "execution_count": 21,
     "metadata": {},
     "output_type": "execute_result"
    }
   ],
   "source": [
    "s_sci_data_1 = pd.Series({\"학생1\":87, \"학생2\":85, \"학생3\":83, \"학생4\":81})\n",
    "s_sci_data_1"
   ]
  },
  {
   "cell_type": "code",
   "execution_count": 22,
   "id": "6cdf50b5",
   "metadata": {},
   "outputs": [
    {
     "data": {
      "text/plain": [
       "(87, 81)"
      ]
     },
     "execution_count": 22,
     "metadata": {},
     "output_type": "execute_result"
    }
   ],
   "source": [
    "s_sci_data_1[\"학생1\"], s_sci_data_1[\"학생4\"]"
   ]
  },
  {
   "cell_type": "code",
   "execution_count": 23,
   "id": "a9746b96",
   "metadata": {},
   "outputs": [
    {
     "data": {
      "text/plain": [
       "학생1    87\n",
       "학생4    81\n",
       "dtype: int64"
      ]
     },
     "execution_count": 23,
     "metadata": {},
     "output_type": "execute_result"
    }
   ],
   "source": [
    "s_sci_data_1[ [\"학생1\", \"학생4\"] ]"
   ]
  },
  {
   "cell_type": "code",
   "execution_count": 24,
   "id": "4905b408",
   "metadata": {},
   "outputs": [
    {
     "data": {
      "text/plain": [
       "'apple'"
      ]
     },
     "execution_count": 24,
     "metadata": {},
     "output_type": "execute_result"
    }
   ],
   "source": [
    "str1 = \"pine apple\"\n",
    "str1[5:]"
   ]
  },
  {
   "cell_type": "code",
   "execution_count": 25,
   "id": "ab1905f5",
   "metadata": {},
   "outputs": [
    {
     "data": {
      "text/plain": [
       "학생3    83\n",
       "학생4    81\n",
       "dtype: int64"
      ]
     },
     "execution_count": 25,
     "metadata": {},
     "output_type": "execute_result"
    }
   ],
   "source": [
    "s_sci_data_1[-2:]"
   ]
  },
  {
   "cell_type": "code",
   "execution_count": 26,
   "id": "b68d6197",
   "metadata": {},
   "outputs": [
    {
     "data": {
      "text/plain": [
       "학생1    87\n",
       "학생2    85\n",
       "dtype: int64"
      ]
     },
     "execution_count": 26,
     "metadata": {},
     "output_type": "execute_result"
    }
   ],
   "source": [
    "s_sci_data_1[ s_sci_data_1 >= 85 ]"
   ]
  },
  {
   "cell_type": "code",
   "execution_count": 27,
   "id": "d4a42009",
   "metadata": {},
   "outputs": [
    {
     "data": {
      "text/plain": [
       "학생1    87.0\n",
       "학생2    85.0\n",
       "학생3    83.0\n",
       "학생4    81.0\n",
       "dtype: float64"
      ]
     },
     "execution_count": 27,
     "metadata": {},
     "output_type": "execute_result"
    }
   ],
   "source": [
    "s_sci_data_1_float = s_sci_data_1.astype(\"float\")\n",
    "s_sci_data_1_float"
   ]
  },
  {
   "cell_type": "code",
   "execution_count": 30,
   "id": "dcfaec0d",
   "metadata": {},
   "outputs": [
    {
     "data": {
      "text/plain": [
       "학생1    87\n",
       "학생2    85\n",
       "학생3    83\n",
       "학생4    81\n",
       "dtype: object"
      ]
     },
     "execution_count": 30,
     "metadata": {},
     "output_type": "execute_result"
    }
   ],
   "source": [
    "s_sci_data_1_str = s_sci_data_1.astype(\"object\") # pandas string : object\n",
    "s_sci_data_1_str"
   ]
  },
  {
   "cell_type": "code",
   "execution_count": null,
   "id": "9b824513",
   "metadata": {},
   "outputs": [],
   "source": []
  }
 ],
 "metadata": {
  "kernelspec": {
   "display_name": "Python 3 (ipykernel)",
   "language": "python",
   "name": "python3"
  },
  "language_info": {
   "codemirror_mode": {
    "name": "ipython",
    "version": 3
   },
   "file_extension": ".py",
   "mimetype": "text/x-python",
   "name": "python",
   "nbconvert_exporter": "python",
   "pygments_lexer": "ipython3",
   "version": "3.8.0"
  }
 },
 "nbformat": 4,
 "nbformat_minor": 5
}
