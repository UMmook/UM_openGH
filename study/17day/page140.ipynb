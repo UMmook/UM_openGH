{
 "cells": [
  {
   "cell_type": "code",
   "execution_count": null,
   "id": "2f27277d",
   "metadata": {},
   "outputs": [],
   "source": [
    "#2023 - 09 - 14 강의\n",
    "\n",
    "# shift + enter : cell 실행 후 한 줄 더 생성 / 또는 다음 줄로 생성\n",
    "# ctrl + enter : 제자리에서 실행"
   ]
  },
  {
   "cell_type": "code",
   "execution_count": 1,
   "id": "925459e1",
   "metadata": {},
   "outputs": [],
   "source": [
    "a = 1"
   ]
  },
  {
   "cell_type": "code",
   "execution_count": 3,
   "id": "5d67e5d0",
   "metadata": {},
   "outputs": [
    {
     "name": "stdout",
     "output_type": "stream",
     "text": [
      "3\n"
     ]
    }
   ],
   "source": [
    "a += 1\n",
    "print(a)"
   ]
  },
  {
   "cell_type": "code",
   "execution_count": 4,
   "id": "9370e9f3",
   "metadata": {},
   "outputs": [],
   "source": [
    "# 자료형 - 숫자형"
   ]
  },
  {
   "cell_type": "code",
   "execution_count": 5,
   "id": "7499345a",
   "metadata": {},
   "outputs": [
    {
     "data": {
      "text/plain": [
       "8"
      ]
     },
     "execution_count": 5,
     "metadata": {},
     "output_type": "execute_result"
    }
   ],
   "source": [
    "2**3"
   ]
  },
  {
   "cell_type": "code",
   "execution_count": 6,
   "id": "9d0ba959",
   "metadata": {},
   "outputs": [
    {
     "data": {
      "text/plain": [
       "1.6666666666666667"
      ]
     },
     "execution_count": 6,
     "metadata": {},
     "output_type": "execute_result"
    }
   ],
   "source": [
    "5/3"
   ]
  },
  {
   "cell_type": "code",
   "execution_count": 7,
   "id": "953a6dab",
   "metadata": {},
   "outputs": [
    {
     "data": {
      "text/plain": [
       "1"
      ]
     },
     "execution_count": 7,
     "metadata": {},
     "output_type": "execute_result"
    }
   ],
   "source": [
    "int(5/3)"
   ]
  },
  {
   "cell_type": "code",
   "execution_count": 8,
   "id": "11732cea",
   "metadata": {},
   "outputs": [
    {
     "data": {
      "text/plain": [
       "1"
      ]
     },
     "execution_count": 8,
     "metadata": {},
     "output_type": "execute_result"
    }
   ],
   "source": [
    "5//3"
   ]
  },
  {
   "cell_type": "code",
   "execution_count": 9,
   "id": "1e300633",
   "metadata": {},
   "outputs": [
    {
     "data": {
      "text/plain": [
       "2"
      ]
     },
     "execution_count": 9,
     "metadata": {},
     "output_type": "execute_result"
    }
   ],
   "source": [
    "5%3"
   ]
  },
  {
   "cell_type": "code",
   "execution_count": null,
   "id": "97150906",
   "metadata": {},
   "outputs": [],
   "source": [
    "# 작은 따음표 3개를 쓰면 여러 문자열을 삽입할 수 있다"
   ]
  },
  {
   "cell_type": "code",
   "execution_count": 10,
   "id": "f3e317ea",
   "metadata": {},
   "outputs": [],
   "source": [
    "news1 = \"\"\"카멘 쇼케이스에 대해서도 많은 성원과 호응을 보내주셔서 감사합니다.\n",
    "\n",
    "특히 저희 삼대장님들과 개발진들의 열정과 매력이 여러분들에게 잘 전달된 것 같아서 매우 기쁩니다.\n",
    "\n",
    "앞으로도 삼대장님들을 포함한 많은 스탭분들의 매력을 보여드릴 기회가 늘어나면 좋겠습니다. \n",
    "\n",
    "그리고 저희 스튜디오의 궁극의 합작품인 카멘 레이드도 여러분들께 꼭 좋은 평가를 얻었으면 하는 바램입니다.\"\"\""
   ]
  },
  {
   "cell_type": "code",
   "execution_count": 11,
   "id": "43c48c2b",
   "metadata": {},
   "outputs": [
    {
     "data": {
      "text/plain": [
       "'카멘 쇼케이스에 대해서도 많은 성원과 호응을 보내주셔서 감사합니다.\\n\\n특히 저희 삼대장님들과 개발진들의 열정과 매력이 여러분들에게 잘 전달된 것 같아서 매우 기쁩니다.\\n\\n앞으로도 삼대장님들을 포함한 많은 스탭분들의 매력을 보여드릴 기회가 늘어나면 좋겠습니다. \\n\\n그리고 저희 스튜디오의 궁극의 합작품인 카멘 레이드도 여러분들께 꼭 좋은 평가를 얻었으면 하는 바램입니다.'"
      ]
     },
     "execution_count": 11,
     "metadata": {},
     "output_type": "execute_result"
    }
   ],
   "source": [
    "news1"
   ]
  },
  {
   "cell_type": "code",
   "execution_count": 12,
   "id": "12cbd199",
   "metadata": {},
   "outputs": [
    {
     "data": {
      "text/plain": [
       "'hihihi'"
      ]
     },
     "execution_count": 12,
     "metadata": {},
     "output_type": "execute_result"
    }
   ],
   "source": [
    "str1 = \"hi\"\n",
    "str1 * 3"
   ]
  },
  {
   "cell_type": "code",
   "execution_count": 13,
   "id": "dc6b1950",
   "metadata": {},
   "outputs": [
    {
     "data": {
      "text/plain": [
       "'================================'"
      ]
     },
     "execution_count": 13,
     "metadata": {},
     "output_type": "execute_result"
    }
   ],
   "source": [
    "\"================================\""
   ]
  },
  {
   "cell_type": "code",
   "execution_count": 14,
   "id": "d1f3cda9",
   "metadata": {},
   "outputs": [
    {
     "data": {
      "text/plain": [
       "'========================================'"
      ]
     },
     "execution_count": 14,
     "metadata": {},
     "output_type": "execute_result"
    }
   ],
   "source": [
    "\"=\" * 40"
   ]
  },
  {
   "cell_type": "code",
   "execution_count": null,
   "id": "8141527f",
   "metadata": {},
   "outputs": [],
   "source": [
    "# 배열의 길이를 측정할 때 length 대신 len()을 사용한다\n",
    "# 배열에서 앞에서는 [0]배열부터 / 뒤에서는 [-1]배열부터 확인할 수 있다\n",
    "# 배열에서 [1:3] 입력시 해당 배열의 [1]배열부터 [3]배열 이전까지 출력할 수 있다"
   ]
  },
  {
   "cell_type": "code",
   "execution_count": 15,
   "id": "d400b020",
   "metadata": {},
   "outputs": [
    {
     "data": {
      "text/plain": [
       "4"
      ]
     },
     "execution_count": 15,
     "metadata": {},
     "output_type": "execute_result"
    }
   ],
   "source": [
    "a = [1, 2, 3, 4]\n",
    "len(a)"
   ]
  },
  {
   "cell_type": "code",
   "execution_count": 16,
   "id": "59beb2fd",
   "metadata": {},
   "outputs": [
    {
     "data": {
      "text/plain": [
       "5"
      ]
     },
     "execution_count": 16,
     "metadata": {},
     "output_type": "execute_result"
    }
   ],
   "source": [
    "a = \"hello\"\n",
    "len(a)"
   ]
  },
  {
   "cell_type": "code",
   "execution_count": 17,
   "id": "0019a457",
   "metadata": {},
   "outputs": [
    {
     "data": {
      "text/plain": [
       "'e'"
      ]
     },
     "execution_count": 17,
     "metadata": {},
     "output_type": "execute_result"
    }
   ],
   "source": [
    "a[1]"
   ]
  },
  {
   "cell_type": "code",
   "execution_count": 18,
   "id": "e8ef9ef7",
   "metadata": {},
   "outputs": [
    {
     "data": {
      "text/plain": [
       "('o', 'o')"
      ]
     },
     "execution_count": 18,
     "metadata": {},
     "output_type": "execute_result"
    }
   ],
   "source": [
    "a[4], a[-1]"
   ]
  },
  {
   "cell_type": "code",
   "execution_count": 19,
   "id": "4bbc643a",
   "metadata": {},
   "outputs": [
    {
     "data": {
      "text/plain": [
       "'el'"
      ]
     },
     "execution_count": 19,
     "metadata": {},
     "output_type": "execute_result"
    }
   ],
   "source": [
    "a[1:3]"
   ]
  },
  {
   "cell_type": "code",
   "execution_count": 20,
   "id": "0551088f",
   "metadata": {},
   "outputs": [
    {
     "data": {
      "text/plain": [
       "'llo'"
      ]
     },
     "execution_count": 20,
     "metadata": {},
     "output_type": "execute_result"
    }
   ],
   "source": [
    "a[2:]"
   ]
  },
  {
   "cell_type": "code",
   "execution_count": 22,
   "id": "3a2b18c7",
   "metadata": {},
   "outputs": [
    {
     "data": {
      "text/plain": [
       "'he'"
      ]
     },
     "execution_count": 22,
     "metadata": {},
     "output_type": "execute_result"
    }
   ],
   "source": [
    "a[:2]"
   ]
  },
  {
   "cell_type": "code",
   "execution_count": 23,
   "id": "71ee523e",
   "metadata": {},
   "outputs": [
    {
     "data": {
      "text/plain": [
       "'hello'"
      ]
     },
     "execution_count": 23,
     "metadata": {},
     "output_type": "execute_result"
    }
   ],
   "source": [
    "a[:]"
   ]
  },
  {
   "cell_type": "code",
   "execution_count": 24,
   "id": "b2a5e159",
   "metadata": {},
   "outputs": [
    {
     "data": {
      "text/plain": [
       "'12345678'"
      ]
     },
     "execution_count": 24,
     "metadata": {},
     "output_type": "execute_result"
    }
   ],
   "source": [
    "phone_num = \"010-1234-5678\"\n",
    "#pn = 12345678\n",
    "pn = phone_num[4:8] + phone_num[9:]\n",
    "pn"
   ]
  },
  {
   "cell_type": "code",
   "execution_count": 25,
   "id": "f86d5e77",
   "metadata": {},
   "outputs": [
    {
     "data": {
      "text/plain": [
       "'hello'"
      ]
     },
     "execution_count": 25,
     "metadata": {},
     "output_type": "execute_result"
    }
   ],
   "source": [
    "a = \"hello\"\n",
    "a"
   ]
  },
  {
   "cell_type": "code",
   "execution_count": 26,
   "id": "c7106fc7",
   "metadata": {},
   "outputs": [
    {
     "data": {
      "text/plain": [
       "'hallo'"
      ]
     },
     "execution_count": 26,
     "metadata": {},
     "output_type": "execute_result"
    }
   ],
   "source": [
    "hallo = a[:1] + \"a\" + a[2:]\n",
    "hallo"
   ]
  },
  {
   "cell_type": "code",
   "execution_count": 27,
   "id": "48f58dda",
   "metadata": {},
   "outputs": [
    {
     "name": "stdout",
     "output_type": "stream",
     "text": [
      "answer : [10]\n"
     ]
    }
   ],
   "source": [
    "res = 10\n",
    "print(\"answer : [%d]\" %res)"
   ]
  },
  {
   "cell_type": "code",
   "execution_count": 28,
   "id": "259051c2",
   "metadata": {},
   "outputs": [
    {
     "name": "stdout",
     "output_type": "stream",
     "text": [
      "answer : [olleh]\n"
     ]
    }
   ],
   "source": [
    "res = \"olleh\" # hello\n",
    "print(\"answer : [%s]\" %res)"
   ]
  },
  {
   "cell_type": "code",
   "execution_count": 29,
   "id": "09175d89",
   "metadata": {},
   "outputs": [
    {
     "name": "stdout",
     "output_type": "stream",
     "text": [
      "(0, 1) 2\n",
      "(0, 2) 3\n",
      "(0, 3) 4\n"
     ]
    }
   ],
   "source": [
    "# (0, 1) 2\n",
    "# (0, 2) 3\n",
    "# (0, 3) 4\n",
    "res2 = [0, 0, 0, 0, 0]\n",
    "\n",
    "res2[1] = 2\n",
    "res2[2] = 3\n",
    "res2[3] = 4\n",
    "\n",
    "for j in range(1, 4):\n",
    "    print(\"(0, %d) %d\" %(j, res2[j]))"
   ]
  },
  {
   "cell_type": "code",
   "execution_count": 30,
   "id": "04c6cdcd",
   "metadata": {},
   "outputs": [
    {
     "name": "stdout",
     "output_type": "stream",
     "text": [
      "농도가 98%입니다\n"
     ]
    }
   ],
   "source": [
    "print(\"농도가 98%입니다\")"
   ]
  },
  {
   "cell_type": "code",
   "execution_count": 31,
   "id": "6ff842ca",
   "metadata": {},
   "outputs": [
    {
     "name": "stdout",
     "output_type": "stream",
     "text": [
      "농도가 98%입니다\n"
     ]
    }
   ],
   "source": [
    "print(\"농도가 %d%%입니다\" %98)"
   ]
  },
  {
   "cell_type": "code",
   "execution_count": 32,
   "id": "ba6d7af0",
   "metadata": {},
   "outputs": [
    {
     "data": {
      "text/plain": [
       "'hi'"
      ]
     },
     "execution_count": 32,
     "metadata": {},
     "output_type": "execute_result"
    }
   ],
   "source": [
    "\"%s\" %\"hi\""
   ]
  },
  {
   "cell_type": "code",
   "execution_count": 33,
   "id": "cb985aa8",
   "metadata": {},
   "outputs": [
    {
     "data": {
      "text/plain": [
       "'        hi'"
      ]
     },
     "execution_count": 33,
     "metadata": {},
     "output_type": "execute_result"
    }
   ],
   "source": [
    "# 공백이 10칸이 생성되며 앞에서 순서대로 8칸은 공백 남은 2칸은 입력한 값 hi가 적용된다\n",
    "\"%10s\" %\"hi\""
   ]
  },
  {
   "cell_type": "code",
   "execution_count": 34,
   "id": "c1b04f75",
   "metadata": {},
   "outputs": [
    {
     "data": {
      "text/plain": [
       "'hi        '"
      ]
     },
     "execution_count": 34,
     "metadata": {},
     "output_type": "execute_result"
    }
   ],
   "source": [
    "# 공백이 10칸이 생성되며 -가 붙을 시 뒤에서부터 적용되며 앞에 2칸은 입력한 값 hi가 적용된다\n",
    "\"%-10s\" %\"hi\""
   ]
  },
  {
   "cell_type": "code",
   "execution_count": 39,
   "id": "e5b290e1",
   "metadata": {},
   "outputs": [
    {
     "data": {
      "text/plain": [
       "'김진수       10  20'"
      ]
     },
     "execution_count": 39,
     "metadata": {},
     "output_type": "execute_result"
    }
   ],
   "source": [
    "# 이름, 11번째 자리에 n, 15번째 자리에 m\n",
    "# -10을 통해 10칸 공백 생성 후 맨 앞에 이름 출력\n",
    "# -4를 통해 이름 출력 후 남은 공백 다음 4칸의 공백 생성 후 맨 앞 (11)번째에 n 출력\n",
    "# n 출력 후 남은 공백 다음 (15)번째에 m 출력\n",
    "\n",
    "# '김진수' 출력 후 7자리 공백 + '10' 출력 후 2자리 공백 + '20' 출력\n",
    "name = \"김진수\"\n",
    "n = 10\n",
    "m = 20\n",
    "\"%-10s%-4d%d\" %(name, n, m)"
   ]
  },
  {
   "cell_type": "code",
   "execution_count": 36,
   "id": "46567323",
   "metadata": {},
   "outputs": [
    {
     "data": {
      "text/plain": [
       "'3.4213'"
      ]
     },
     "execution_count": 36,
     "metadata": {},
     "output_type": "execute_result"
    }
   ],
   "source": [
    "# .4f 는 소수점 4자리 까지 출력\n",
    "res = 3.42134234\n",
    "\"%.4f\" %res"
   ]
  },
  {
   "cell_type": "code",
   "execution_count": 37,
   "id": "787c726e",
   "metadata": {},
   "outputs": [
    {
     "data": {
      "text/plain": [
       "0.3333333333333333"
      ]
     },
     "execution_count": 37,
     "metadata": {},
     "output_type": "execute_result"
    }
   ],
   "source": [
    "1/3"
   ]
  },
  {
   "cell_type": "code",
   "execution_count": 38,
   "id": "782b21e9",
   "metadata": {},
   "outputs": [
    {
     "data": {
      "text/plain": [
       "'0.3333'"
      ]
     },
     "execution_count": 38,
     "metadata": {},
     "output_type": "execute_result"
    }
   ],
   "source": [
    "res = 1/3\n",
    "\"%.4f\" %res"
   ]
  },
  {
   "cell_type": "code",
   "execution_count": 40,
   "id": "e1cd40e6",
   "metadata": {},
   "outputs": [
    {
     "data": {
      "text/plain": [
       "('값:1, 값:2', '값:2, 값:1')"
      ]
     },
     "execution_count": 40,
     "metadata": {},
     "output_type": "execute_result"
    }
   ],
   "source": [
    "# {} 속에 들어간 인덱스의 번호에 들어간 값을 출력\n",
    "# {0} 입력 시 (a, b)중 0인덱스인 a값 출력 / {1} 입력 시 (a, b)중 1인덱스인 b값 출력\n",
    "a = 1\n",
    "b = 2\n",
    "\"값:{0}, 값:{1}\".format(a, b), \"값:{1}, 값:{0}\".format(a, b)"
   ]
  },
  {
   "cell_type": "code",
   "execution_count": 41,
   "id": "9f225269",
   "metadata": {},
   "outputs": [
    {
     "data": {
      "text/plain": [
       "'값:1, 값:2'"
      ]
     },
     "execution_count": 41,
     "metadata": {},
     "output_type": "execute_result"
    }
   ],
   "source": [
    "# {} 속에 입력한 변수에 직접적으로 값을 지정하는 방법\n",
    "\"값:{first}, 값:{second}\".format(first = a, second = b)"
   ]
  },
  {
   "cell_type": "code",
   "execution_count": 42,
   "id": "e6be5928",
   "metadata": {},
   "outputs": [
    {
     "name": "stdout",
     "output_type": "stream",
     "text": [
      "김진수 고객님께서 다음 상품에 대해 98.1 정도로 \n",
      "만족하실 것 같아요. 가보실래요?\n"
     ]
    }
   ],
   "source": [
    "# f 문자열 포매팅 기능 -> 문자열 앞에 접두사로 f를 붙이면 사용 가능\n",
    "name = \"김진수\"\n",
    "satis_pred = 98.1 # 예상 만족도\n",
    "print(f\"\"\"{name} 고객님께서 다음 상품에 대해 {satis_pred} 정도로 \n",
    "만족하실 것 같아요. 가보실래요?\"\"\")"
   ]
  },
  {
   "cell_type": "code",
   "execution_count": null,
   "id": "002fba74",
   "metadata": {},
   "outputs": [],
   "source": [
    "# 코딩 테스트 (자동화), 과제, 화이트보드 테스트 (수동 체점)"
   ]
  },
  {
   "cell_type": "code",
   "execution_count": 43,
   "id": "07a2de55",
   "metadata": {},
   "outputs": [
    {
     "data": {
      "text/plain": [
       "2"
      ]
     },
     "execution_count": 43,
     "metadata": {},
     "output_type": "execute_result"
    }
   ],
   "source": [
    "a = \"my hobby\"\n",
    "\n",
    "# count = ()속 값의 갯수\n",
    "a.count('b')"
   ]
  },
  {
   "cell_type": "code",
   "execution_count": 44,
   "id": "d7a7cfee",
   "metadata": {},
   "outputs": [
    {
     "data": {
      "text/plain": [
       "5"
      ]
     },
     "execution_count": 44,
     "metadata": {},
     "output_type": "execute_result"
    }
   ],
   "source": [
    "# find = ()속 값이 처음 나온 인덱스\n",
    "a.find('b')"
   ]
  },
  {
   "cell_type": "code",
   "execution_count": 45,
   "id": "871b6835",
   "metadata": {},
   "outputs": [
    {
     "data": {
      "text/plain": [
       "-1"
      ]
     },
     "execution_count": 45,
     "metadata": {},
     "output_type": "execute_result"
    }
   ],
   "source": [
    "# 찾는 값이 없다면 -1 반환\n",
    "a.find('k')"
   ]
  },
  {
   "cell_type": "code",
   "execution_count": 46,
   "id": "8b2778ce",
   "metadata": {},
   "outputs": [
    {
     "data": {
      "text/plain": [
       "'a to the b to the c'"
      ]
     },
     "execution_count": 46,
     "metadata": {},
     "output_type": "execute_result"
    }
   ],
   "source": [
    "# join을 통해 ()속 문자 사이마다 앞의 \"\"값 넣고 출력\n",
    "\" to the \".join('abc')"
   ]
  },
  {
   "cell_type": "code",
   "execution_count": 47,
   "id": "fde82e4a",
   "metadata": {},
   "outputs": [
    {
     "data": {
      "text/plain": [
       "'hi '"
      ]
     },
     "execution_count": 47,
     "metadata": {},
     "output_type": "execute_result"
    }
   ],
   "source": [
    "# lstrip = 왼쪽 공백 지우기 / rstrip = 오른쪽 공백 지우기\n",
    "a = \" hi \"\n",
    "a.lstrip()"
   ]
  },
  {
   "cell_type": "code",
   "execution_count": 48,
   "id": "f1415bad",
   "metadata": {},
   "outputs": [
    {
     "data": {
      "text/plain": [
       "'^^'"
      ]
     },
     "execution_count": 48,
     "metadata": {},
     "output_type": "execute_result"
    }
   ],
   "source": [
    "# strip = 양쪽 공백 지우기\n",
    "# () 속에 값을 입력 시 양쪽에 해당 값을 지움\n",
    "a = \"***^^***\"\n",
    "a.strip(\"*\")"
   ]
  },
  {
   "cell_type": "code",
   "execution_count": 49,
   "id": "3778cdd6",
   "metadata": {},
   "outputs": [
    {
     "data": {
      "text/plain": [
       "'hallo'"
      ]
     },
     "execution_count": 49,
     "metadata": {},
     "output_type": "execute_result"
    }
   ],
   "source": [
    "# replace = ()속 앞에 문자열을 뒤에 문자열로 바꿈\n",
    "a = \"hello\"\n",
    "a.replace(\"e\", \"a\")"
   ]
  },
  {
   "cell_type": "code",
   "execution_count": 50,
   "id": "488ce7ca",
   "metadata": {},
   "outputs": [
    {
     "data": {
      "text/plain": [
       "['010', '1234', '5678']"
      ]
     },
     "execution_count": 50,
     "metadata": {},
     "output_type": "execute_result"
    }
   ],
   "source": [
    "# split = ()속 값을 기준으로 문자열을 나눔 / 공백일 때는 공백 기준으로 나눔\n",
    "pn = \"010-1234-5678\"\n",
    "pn.split(\"-\")"
   ]
  },
  {
   "cell_type": "code",
   "execution_count": null,
   "id": "f653437b",
   "metadata": {},
   "outputs": [],
   "source": [
    "# [ , , ] : JS-배열, 파이썬-리스트"
   ]
  },
  {
   "cell_type": "code",
   "execution_count": 51,
   "id": "daed6918",
   "metadata": {},
   "outputs": [
    {
     "data": {
      "text/plain": [
       "('hello', 'hallo')"
      ]
     },
     "execution_count": 51,
     "metadata": {},
     "output_type": "execute_result"
    }
   ],
   "source": [
    "a = \"hello\"\n",
    "a2 = a.replace(\"e\", \"a\")\n",
    "a, a2"
   ]
  },
  {
   "cell_type": "code",
   "execution_count": 52,
   "id": "a0f095b7",
   "metadata": {},
   "outputs": [
    {
     "data": {
      "text/plain": [
       "[1, 2, 3, 4, 6]"
      ]
     },
     "execution_count": 52,
     "metadata": {},
     "output_type": "execute_result"
    }
   ],
   "source": [
    "# sort = 순서대로 정렬\n",
    "a = [1, 4, 2, 6, 3]\n",
    "a.sort()\n",
    "a"
   ]
  },
  {
   "cell_type": "code",
   "execution_count": 53,
   "id": "7d9c1a3b",
   "metadata": {},
   "outputs": [
    {
     "data": {
      "text/plain": [
       "([1, 4, 2, 6, 3], [1, 2, 3, 4, 6])"
      ]
     },
     "execution_count": 53,
     "metadata": {},
     "output_type": "execute_result"
    }
   ],
   "source": [
    "a = [1, 4, 2, 6, 3]\n",
    "a2 = sorted(a)\n",
    "a, a2"
   ]
  },
  {
   "cell_type": "code",
   "execution_count": 54,
   "id": "4a85c7c4",
   "metadata": {},
   "outputs": [
    {
     "data": {
      "text/plain": [
       "[1, 2, '3', 4]"
      ]
     },
     "execution_count": 54,
     "metadata": {},
     "output_type": "execute_result"
    }
   ],
   "source": [
    "a = [1, 2, \"3\", 4]\n",
    "a"
   ]
  },
  {
   "cell_type": "code",
   "execution_count": 55,
   "id": "03525249",
   "metadata": {},
   "outputs": [
    {
     "data": {
      "text/plain": [
       "[1, 2, [3, 4]]"
      ]
     },
     "execution_count": 55,
     "metadata": {},
     "output_type": "execute_result"
    }
   ],
   "source": [
    "a = [1, 2, [3, 4]]\n",
    "a"
   ]
  },
  {
   "cell_type": "code",
   "execution_count": 56,
   "id": "1284adb1",
   "metadata": {},
   "outputs": [
    {
     "data": {
      "text/plain": [
       "(1, 2, 3, 4)"
      ]
     },
     "execution_count": 56,
     "metadata": {},
     "output_type": "execute_result"
    }
   ],
   "source": [
    "a[0], a[1], a[2][0], a[2][1]"
   ]
  },
  {
   "cell_type": "code",
   "execution_count": 57,
   "id": "66c3378f",
   "metadata": {},
   "outputs": [
    {
     "data": {
      "text/plain": [
       "'23'"
      ]
     },
     "execution_count": 57,
     "metadata": {},
     "output_type": "execute_result"
    }
   ],
   "source": [
    "# str = 문자열 강제 변환\n",
    "str(2) + \"3\""
   ]
  },
  {
   "cell_type": "code",
   "execution_count": 61,
   "id": "d18d4961",
   "metadata": {},
   "outputs": [
    {
     "data": {
      "text/plain": [
       "['h', 'a', 'l', 'l', 'o']"
      ]
     },
     "execution_count": 61,
     "metadata": {},
     "output_type": "execute_result"
    }
   ],
   "source": [
    "a = [\"h\", \"e\", \"l\", \"l\", \"o\"]\n",
    "a[1] = \"a\"\n",
    "a"
   ]
  },
  {
   "cell_type": "code",
   "execution_count": 62,
   "id": "108a3949",
   "metadata": {},
   "outputs": [
    {
     "data": {
      "text/plain": [
       "['h', 'l', 'l', 'o']"
      ]
     },
     "execution_count": 62,
     "metadata": {},
     "output_type": "execute_result"
    }
   ],
   "source": [
    "# del = 문자 또는 문자열 삭제\n",
    "del a[1]\n",
    "a"
   ]
  },
  {
   "cell_type": "code",
   "execution_count": 63,
   "id": "718c8788",
   "metadata": {},
   "outputs": [
    {
     "data": {
      "text/plain": [
       "[1, 2, 3, 4, 5]"
      ]
     },
     "execution_count": 63,
     "metadata": {},
     "output_type": "execute_result"
    }
   ],
   "source": [
    "# append = 배열 뒤에 값을 추가\n",
    "a = [1, 2, 3]\n",
    "a.append(4)\n",
    "a.append(5)\n",
    "a"
   ]
  },
  {
   "cell_type": "code",
   "execution_count": 64,
   "id": "4ac95551",
   "metadata": {},
   "outputs": [
    {
     "data": {
      "text/plain": [
       "[4, 1, 2, 3]"
      ]
     },
     "execution_count": 64,
     "metadata": {},
     "output_type": "execute_result"
    }
   ],
   "source": [
    "# insert = 지정한 인덱스 자리에 값을 추가\n",
    "a = [1, 2, 3]\n",
    "a.insert(0, 4)\n",
    "a"
   ]
  },
  {
   "cell_type": "code",
   "execution_count": 67,
   "id": "562dcb8d",
   "metadata": {},
   "outputs": [
    {
     "data": {
      "text/plain": [
       "['엑셀 cell 데이터 입력', '마우스 포인터 움직임', '키보드 엔터', '전원끄기']"
      ]
     },
     "execution_count": 67,
     "metadata": {},
     "output_type": "execute_result"
    }
   ],
   "source": [
    "a = [\"엑셀 cell 데이터 입력\", \"마우스 포인터 움직임\", \"키보드 엔터\"]\n",
    "a.append(\"전원끄기\")\n",
    "a"
   ]
  },
  {
   "cell_type": "code",
   "execution_count": 68,
   "id": "f0b06217",
   "metadata": {},
   "outputs": [
    {
     "data": {
      "text/plain": [
       "['전원끄기', '엑셀 cell 데이터 입력', '마우스 포인터 움직임', '키보드 엔터']"
      ]
     },
     "execution_count": 68,
     "metadata": {},
     "output_type": "execute_result"
    }
   ],
   "source": [
    "a = [\"엑셀 cell 데이터 입력\", \"마우스 포인터 움직임\", \"키보드 엔터\"]\n",
    "a.insert(0, \"전원끄기\")\n",
    "a"
   ]
  },
  {
   "cell_type": "code",
   "execution_count": 70,
   "id": "45fae9cc",
   "metadata": {},
   "outputs": [
    {
     "data": {
      "text/plain": [
       "['사장님 업무 지시', '이사님 업무 지시', '과장님 업무 지시', '김대리님 업무 지시']"
      ]
     },
     "execution_count": 70,
     "metadata": {},
     "output_type": "execute_result"
    }
   ],
   "source": [
    "a = [\"사장님 업무 지시\", \"과장님 업무 지시\", \"김대리님 업무 지시\"]\n",
    "a.insert(1, \"이사님 업무 지시\")\n",
    "a"
   ]
  },
  {
   "cell_type": "code",
   "execution_count": 71,
   "id": "c961f268",
   "metadata": {},
   "outputs": [
    {
     "data": {
      "text/plain": [
       "[10, 30, 40]"
      ]
     },
     "execution_count": 71,
     "metadata": {},
     "output_type": "execute_result"
    }
   ],
   "source": [
    "a = [10, 20, 30, 40]\n",
    "del a[1] # 20 삭제\n",
    "a"
   ]
  },
  {
   "cell_type": "code",
   "execution_count": 74,
   "id": "16c3da96",
   "metadata": {},
   "outputs": [
    {
     "data": {
      "text/plain": [
       "[10, 30]"
      ]
     },
     "execution_count": 74,
     "metadata": {},
     "output_type": "execute_result"
    }
   ],
   "source": [
    "# remove = () 입력 값 삭제\n",
    "a.remove(40) # 40 삭제\n",
    "a"
   ]
  },
  {
   "cell_type": "code",
   "execution_count": 76,
   "id": "c1a9c89e",
   "metadata": {},
   "outputs": [
    {
     "data": {
      "text/plain": [
       "[1, 2]"
      ]
     },
     "execution_count": 76,
     "metadata": {},
     "output_type": "execute_result"
    }
   ],
   "source": [
    "# pop =  맨 뒤의 요소를 리턴하고 해당 요소 삭제\n",
    "a = [1, 2, 3]\n",
    "a.pop()\n",
    "a"
   ]
  },
  {
   "cell_type": "code",
   "execution_count": 77,
   "id": "b1a9f315",
   "metadata": {},
   "outputs": [
    {
     "data": {
      "text/plain": [
       "[2, 3]"
      ]
     },
     "execution_count": 77,
     "metadata": {},
     "output_type": "execute_result"
    }
   ],
   "source": [
    "# pop에 값이 입력될 시 () 입력된 인덱스의 요소를 리턴하고 해당 요소 삭제\n",
    "a = [1, 2, 3]\n",
    "a.pop(0)\n",
    "a"
   ]
  },
  {
   "cell_type": "code",
   "execution_count": 78,
   "id": "2cf75504",
   "metadata": {},
   "outputs": [
    {
     "data": {
      "text/plain": [
       "[1, 20, 3]"
      ]
     },
     "execution_count": 78,
     "metadata": {},
     "output_type": "execute_result"
    }
   ],
   "source": [
    "# [] 리스트/배열 사용 시 속에 값을 변경이 가능하다\n",
    "# () 튜플 사용 시 속에 값을 변경할 수 없다\n",
    "a = [1, 2, 3]\n",
    "a[1] = 20\n",
    "a"
   ]
  },
  {
   "cell_type": "code",
   "execution_count": 79,
   "id": "fa5d4aec",
   "metadata": {},
   "outputs": [],
   "source": [
    "# JS 객체\n",
    "# dic = {name: 'pey',\n",
    "#       phone: '010-9999-1234',\n",
    "#       birth: '1118'}\n",
    "\n",
    "# 파이썬 객체\n",
    "dic = {'name': 'pey',\n",
    "      'phone': '010-9999-1234',\n",
    "      'birth': '1118'}"
   ]
  },
  {
   "cell_type": "code",
   "execution_count": 80,
   "id": "492066ed",
   "metadata": {},
   "outputs": [
    {
     "data": {
      "text/plain": [
       "{'name': 'pey', 'phone': '010-9999-1234', 'birth': '1118', 'hobby': 'swiming'}"
      ]
     },
     "execution_count": 80,
     "metadata": {},
     "output_type": "execute_result"
    }
   ],
   "source": [
    "dic[\"hobby\"] = \"swiming\"\n",
    "dic"
   ]
  },
  {
   "cell_type": "code",
   "execution_count": 81,
   "id": "8a79b88c",
   "metadata": {},
   "outputs": [
    {
     "data": {
      "text/plain": [
       "{'name': 'pey', 'phone': '010-9999-1234', 'birth': '1118'}"
      ]
     },
     "execution_count": 81,
     "metadata": {},
     "output_type": "execute_result"
    }
   ],
   "source": [
    "del dic[\"hobby\"]\n",
    "dic"
   ]
  },
  {
   "cell_type": "code",
   "execution_count": 82,
   "id": "e2c5aad8",
   "metadata": {},
   "outputs": [
    {
     "data": {
      "text/plain": [
       "'pey'"
      ]
     },
     "execution_count": 82,
     "metadata": {},
     "output_type": "execute_result"
    }
   ],
   "source": [
    "dic[\"name\"]"
   ]
  },
  {
   "cell_type": "code",
   "execution_count": 83,
   "id": "5acf8222",
   "metadata": {},
   "outputs": [
    {
     "data": {
      "text/plain": [
       "'kim'"
      ]
     },
     "execution_count": 83,
     "metadata": {},
     "output_type": "execute_result"
    }
   ],
   "source": [
    "dic = {'name': 'pey',\n",
    "      'phone': '010-9999-1234',\n",
    "      'birth': '1118',\n",
    "      'name': 'kim'}\n",
    "dic[\"name\"]"
   ]
  },
  {
   "cell_type": "code",
   "execution_count": 84,
   "id": "9a0afb33",
   "metadata": {},
   "outputs": [
    {
     "data": {
      "text/plain": [
       "dict_keys(['name', 'phone', 'birth'])"
      ]
     },
     "execution_count": 84,
     "metadata": {},
     "output_type": "execute_result"
    }
   ],
   "source": [
    "dic.keys()"
   ]
  },
  {
   "cell_type": "code",
   "execution_count": 85,
   "id": "314ab9e2",
   "metadata": {},
   "outputs": [
    {
     "data": {
      "text/plain": [
       "dict_values(['kim', '010-9999-1234', '1118'])"
      ]
     },
     "execution_count": 85,
     "metadata": {},
     "output_type": "execute_result"
    }
   ],
   "source": [
    "dic.values()"
   ]
  },
  {
   "cell_type": "code",
   "execution_count": 86,
   "id": "d45b9617",
   "metadata": {},
   "outputs": [
    {
     "data": {
      "text/plain": [
       "dict_items([('name', 'kim'), ('phone', '010-9999-1234'), ('birth', '1118')])"
      ]
     },
     "execution_count": 86,
     "metadata": {},
     "output_type": "execute_result"
    }
   ],
   "source": [
    "dic.items()"
   ]
  },
  {
   "cell_type": "code",
   "execution_count": 89,
   "id": "3a2597e7",
   "metadata": {},
   "outputs": [
    {
     "data": {
      "text/plain": [
       "('kim', 'books')"
      ]
     },
     "execution_count": 89,
     "metadata": {},
     "output_type": "execute_result"
    }
   ],
   "source": [
    "# get = () 값을 가져오는데 없다면 공백 또는 none 출력\n",
    "# 만약 없는 값일 때 출력 값을 지정할 수 있다\n",
    "dic.get(\"name\"), dic.get(\"hobby\", \"books\")"
   ]
  },
  {
   "cell_type": "code",
   "execution_count": 90,
   "id": "24663788",
   "metadata": {},
   "outputs": [
    {
     "data": {
      "text/plain": [
       "False"
      ]
     },
     "execution_count": 90,
     "metadata": {},
     "output_type": "execute_result"
    }
   ],
   "source": [
    "# dic 속에 해당 key가 있는지 확인\n",
    "# 없으면 False 출력\n",
    "\"hobby\" in dic"
   ]
  },
  {
   "cell_type": "code",
   "execution_count": 91,
   "id": "2b8404fe",
   "metadata": {},
   "outputs": [
    {
     "data": {
      "text/plain": [
       "True"
      ]
     },
     "execution_count": 91,
     "metadata": {},
     "output_type": "execute_result"
    }
   ],
   "source": [
    "# 있으면 True 출력\n",
    "\"name\" in dic"
   ]
  },
  {
   "cell_type": "code",
   "execution_count": 92,
   "id": "02572dbd",
   "metadata": {},
   "outputs": [],
   "source": [
    "# JS : set 집합"
   ]
  },
  {
   "cell_type": "code",
   "execution_count": 93,
   "id": "4ead5e25",
   "metadata": {},
   "outputs": [
    {
     "data": {
      "text/plain": [
       "False"
      ]
     },
     "execution_count": 93,
     "metadata": {},
     "output_type": "execute_result"
    }
   ],
   "source": [
    "1 > 2"
   ]
  },
  {
   "cell_type": "code",
   "execution_count": 94,
   "id": "cf89d82f",
   "metadata": {},
   "outputs": [],
   "source": [
    "# 파이썬은 True / False에서 첫 문자를 대문자로 써야만 식별이 가능하다\n",
    "if (False):\n",
    "    print(\"이건 실행 못하겠네\")"
   ]
  },
  {
   "cell_type": "code",
   "execution_count": 95,
   "id": "83aad893",
   "metadata": {},
   "outputs": [
    {
     "data": {
      "text/plain": [
       "[1, 20, 3]"
      ]
     },
     "execution_count": 95,
     "metadata": {},
     "output_type": "execute_result"
    }
   ],
   "source": [
    "a = [1, 2, 3]\n",
    "b = a\n",
    "b[1] = 20\n",
    "a"
   ]
  },
  {
   "cell_type": "code",
   "execution_count": 96,
   "id": "b743536d",
   "metadata": {},
   "outputs": [
    {
     "data": {
      "text/plain": [
       "[1, 2, 3]"
      ]
     },
     "execution_count": 96,
     "metadata": {},
     "output_type": "execute_result"
    }
   ],
   "source": [
    "a = [1, 2, 3]\n",
    "b = a[:]\n",
    "b[1] = 20\n",
    "a"
   ]
  },
  {
   "cell_type": "code",
   "execution_count": 97,
   "id": "b0bf63e5",
   "metadata": {},
   "outputs": [
    {
     "data": {
      "text/plain": [
       "[1, 2, 3]"
      ]
     },
     "execution_count": 97,
     "metadata": {},
     "output_type": "execute_result"
    }
   ],
   "source": [
    "from copy import copy\n",
    "a = [1, 2, 3]\n",
    "b = copy(a)\n",
    "b[1] = 20\n",
    "a"
   ]
  },
  {
   "cell_type": "code",
   "execution_count": 98,
   "id": "9af88096",
   "metadata": {},
   "outputs": [
    {
     "data": {
      "text/plain": [
       "(1, 2)"
      ]
     },
     "execution_count": 98,
     "metadata": {},
     "output_type": "execute_result"
    }
   ],
   "source": [
    "a = 1\n",
    "b = 2\n",
    "a, b = (1, 2)\n",
    "a, b"
   ]
  },
  {
   "cell_type": "code",
   "execution_count": 99,
   "id": "a2ec2096",
   "metadata": {},
   "outputs": [
    {
     "data": {
      "text/plain": [
       "(1, 2)"
      ]
     },
     "execution_count": 99,
     "metadata": {},
     "output_type": "execute_result"
    }
   ],
   "source": [
    "(a, b) = 1, 2\n",
    "a, b"
   ]
  },
  {
   "cell_type": "code",
   "execution_count": 100,
   "id": "c973473c",
   "metadata": {},
   "outputs": [
    {
     "data": {
      "text/plain": [
       "(1, 2)"
      ]
     },
     "execution_count": 100,
     "metadata": {},
     "output_type": "execute_result"
    }
   ],
   "source": [
    "a, b = 1, 2\n",
    "a, b"
   ]
  },
  {
   "cell_type": "code",
   "execution_count": 101,
   "id": "7d6f6c75",
   "metadata": {},
   "outputs": [
    {
     "data": {
      "text/plain": [
       "(0, 0)"
      ]
     },
     "execution_count": 101,
     "metadata": {},
     "output_type": "execute_result"
    }
   ],
   "source": [
    "a = 0\n",
    "b = 0\n",
    "a = b = 0\n",
    "a, b"
   ]
  },
  {
   "cell_type": "code",
   "execution_count": 102,
   "id": "0642ca02",
   "metadata": {},
   "outputs": [
    {
     "data": {
      "text/plain": [
       "(2, 1)"
      ]
     },
     "execution_count": 102,
     "metadata": {},
     "output_type": "execute_result"
    }
   ],
   "source": [
    "x = 1\n",
    "y = 2\n",
    "x, y = y, x\n",
    "x, y"
   ]
  },
  {
   "cell_type": "code",
   "execution_count": 104,
   "id": "94b8b365",
   "metadata": {},
   "outputs": [
    {
     "name": "stdout",
     "output_type": "stream",
     "text": [
      "택시를 \n",
      "타고 \n",
      "가자 \n"
     ]
    }
   ],
   "source": [
    "my_money = 20000\n",
    "taxi_pay = 10000\n",
    "if my_money >= taxi_pay: # {\n",
    "    print(\"택시를 \")\n",
    "    print(\"타고 \")\n",
    "    print(\"가자 \")\n",
    "# }"
   ]
  },
  {
   "cell_type": "code",
   "execution_count": 110,
   "id": "9e78aac0",
   "metadata": {},
   "outputs": [
    {
     "name": "stdout",
     "output_type": "stream",
     "text": [
      "타고 \n"
     ]
    }
   ],
   "source": [
    "# 들여쓰기가 제대로 안되면 오류가 난다\n",
    "my_money = 2000\n",
    "taxi_pay = 10000\n",
    "if my_money >= taxi_pay:\n",
    "    print(\"택시를 \")\n",
    "print(\"타고 \")"
   ]
  },
  {
   "cell_type": "code",
   "execution_count": 111,
   "id": "26b1b04f",
   "metadata": {},
   "outputs": [
    {
     "name": "stdout",
     "output_type": "stream",
     "text": [
      "ok\n"
     ]
    }
   ],
   "source": [
    "if True and True:\n",
    "    print(\"ok\")"
   ]
  },
  {
   "cell_type": "code",
   "execution_count": 113,
   "id": "920ee91a",
   "metadata": {},
   "outputs": [
    {
     "name": "stdout",
     "output_type": "stream",
     "text": [
      "ok\n"
     ]
    }
   ],
   "source": [
    "if True or True:\n",
    "    print(\"ok\")"
   ]
  },
  {
   "cell_type": "code",
   "execution_count": 114,
   "id": "f0aba3dd",
   "metadata": {},
   "outputs": [
    {
     "data": {
      "text/plain": [
       "True"
      ]
     },
     "execution_count": 114,
     "metadata": {},
     "output_type": "execute_result"
    }
   ],
   "source": [
    "dict1 = {\"key1\":1, \"key4\":4, \"key2\":2}\n",
    "\"key4\" in dict1"
   ]
  },
  {
   "cell_type": "code",
   "execution_count": 115,
   "id": "8ab5fe06",
   "metadata": {},
   "outputs": [
    {
     "data": {
      "text/plain": [
       "True"
      ]
     },
     "execution_count": 115,
     "metadata": {},
     "output_type": "execute_result"
    }
   ],
   "source": [
    "list1 = [1, 4, 2]\n",
    "4 in list1"
   ]
  },
  {
   "cell_type": "code",
   "execution_count": null,
   "id": "93da190d",
   "metadata": {},
   "outputs": [],
   "source": [
    "# pass = 수행되도 아무런 일도 일어나지 않음"
   ]
  },
  {
   "cell_type": "code",
   "execution_count": 117,
   "id": "b4504da6",
   "metadata": {},
   "outputs": [
    {
     "name": "stdout",
     "output_type": "stream",
     "text": [
      "0 1 2 3 4 5 6 7 8 9 "
     ]
    }
   ],
   "source": [
    "# JS\n",
    "# for (let i=0; i<100000000; i++){ }\n",
    "\n",
    "# range = () 횟수 만큼 반복\n",
    "for i in range(10):\n",
    "    print(i, end=\" \")"
   ]
  },
  {
   "cell_type": "code",
   "execution_count": 118,
   "id": "d5503986",
   "metadata": {},
   "outputs": [
    {
     "data": {
      "text/plain": [
       "range(0, 10)"
      ]
     },
     "execution_count": 118,
     "metadata": {},
     "output_type": "execute_result"
    }
   ],
   "source": [
    "range(10)"
   ]
  },
  {
   "cell_type": "code",
   "execution_count": 119,
   "id": "f3751545",
   "metadata": {},
   "outputs": [
    {
     "data": {
      "text/plain": [
       "range(0, 10)"
      ]
     },
     "execution_count": 119,
     "metadata": {},
     "output_type": "execute_result"
    }
   ],
   "source": [
    "range(0, 10)"
   ]
  },
  {
   "cell_type": "code",
   "execution_count": 120,
   "id": "48c6cbdc",
   "metadata": {},
   "outputs": [
    {
     "name": "stdout",
     "output_type": "stream",
     "text": [
      "1 2 3 4 5 6 7 8 9 "
     ]
    }
   ],
   "source": [
    "# (1, 10) = 1부터 시작해서 10 이전까지 반복\n",
    "for i in range(1, 10):\n",
    "    print(i, end=\" \")"
   ]
  },
  {
   "cell_type": "code",
   "execution_count": 121,
   "id": "932be18b",
   "metadata": {},
   "outputs": [
    {
     "name": "stdout",
     "output_type": "stream",
     "text": [
      "1 3 5 7 9 "
     ]
    }
   ],
   "source": [
    "# (1, 10, 2) = 1부터 시작해서 10 이전까지 +2 반복\n",
    "for i in range(1, 10, 2):\n",
    "    print(i, end=\" \")"
   ]
  },
  {
   "cell_type": "code",
   "execution_count": 122,
   "id": "3eb3addf",
   "metadata": {},
   "outputs": [
    {
     "name": "stdout",
     "output_type": "stream",
     "text": [
      "2 4 6 8 "
     ]
    }
   ],
   "source": [
    "# (2, 10, 2) = 2부터 시작해서 10 이전까지 +2 반복\n",
    "for i in range(2, 10, 2):\n",
    "    print(i, end=\" \")"
   ]
  },
  {
   "cell_type": "code",
   "execution_count": 123,
   "id": "318576ce",
   "metadata": {},
   "outputs": [
    {
     "name": "stdout",
     "output_type": "stream",
     "text": [
      "[3, 6, 9, 12]\n"
     ]
    }
   ],
   "source": [
    "a = [1, 2, 3, 4]\n",
    "result = []\n",
    "for num in a:\n",
    "    result.append(num * 3)\n",
    "print(result)"
   ]
  },
  {
   "cell_type": "code",
   "execution_count": 124,
   "id": "8d6bec63",
   "metadata": {},
   "outputs": [
    {
     "name": "stdout",
     "output_type": "stream",
     "text": [
      "[3, 6, 9, 12]\n"
     ]
    }
   ],
   "source": [
    "result = [num * 3 for num in a]\n",
    "print(result)"
   ]
  },
  {
   "cell_type": "code",
   "execution_count": 125,
   "id": "bb39fd1f",
   "metadata": {},
   "outputs": [
    {
     "name": "stdout",
     "output_type": "stream",
     "text": [
      "[6, 12]\n"
     ]
    }
   ],
   "source": [
    "result = [num * 3 for num in a if num % 2 == 0]\n",
    "print(result)"
   ]
  },
  {
   "cell_type": "code",
   "execution_count": 126,
   "id": "b051af2b",
   "metadata": {},
   "outputs": [
    {
     "name": "stdout",
     "output_type": "stream",
     "text": [
      "[6, 12]\n"
     ]
    }
   ],
   "source": [
    "result = []\n",
    "for num in a:\n",
    "    if num % 2 == 0:\n",
    "        result.append(num * 3)\n",
    "print(result)"
   ]
  },
  {
   "cell_type": "code",
   "execution_count": 127,
   "id": "7f82c6d4",
   "metadata": {},
   "outputs": [
    {
     "name": "stdout",
     "output_type": "stream",
     "text": [
      "[2, 4, 6, 8, 10, 12, 14, 16, 18, 3, 6, 9, 12, 15, 18, 21, 24, 27, 4, 8, 12, 16, 20, 24, 28, 32, 36, 5, 10, 15, 20, 25, 30, 35, 40, 45, 6, 12, 18, 24, 30, 36, 42, 48, 54, 7, 14, 21, 28, 35, 42, 49, 56, 63, 8, 16, 24, 32, 40, 48, 56, 64, 72, 9, 18, 27, 36, 45, 54, 63, 72, 81]\n"
     ]
    }
   ],
   "source": [
    "result = [dan * gop for dan in range(2, 10) for gop in range(1, 10)]\n",
    "print(result)"
   ]
  },
  {
   "cell_type": "code",
   "execution_count": 163,
   "id": "45c6ce20",
   "metadata": {},
   "outputs": [
    {
     "name": "stdout",
     "output_type": "stream",
     "text": [
      "[2, 4, 6, 8, 10, 12, 14, 16, 18, 3, 6, 9, 12, 15, 18, 21, 24, 27, 4, 8, 12, 16, 20, 24, 28, 32, 36, 5, 10, 15, 20, 25, 30, 35, 40, 45, 6, 12, 18, 24, 30, 36, 42, 48, 54, 7, 14, 21, 28, 35, 42, 49, 56, 63, 8, 16, 24, 32, 40, 48, 56, 64, 72, 9, 18, 27, 36, 45, 54, 63, 72, 81]\n"
     ]
    }
   ],
   "source": [
    "result = []\n",
    "for dan in range(2, 10):\n",
    "    for gop in range(1, 10):\n",
    "        result.append(dan * gop)\n",
    "print(result)"
   ]
  },
  {
   "cell_type": "code",
   "execution_count": 147,
   "id": "0ce23dd7",
   "metadata": {},
   "outputs": [
    {
     "name": "stdout",
     "output_type": "stream",
     "text": [
      "life is too short\n"
     ]
    }
   ],
   "source": [
    "# JS\n",
    "# console.log(\"life\" + \"is\" + \"too short\")\n",
    "print(\"life\" + \" is\" + \" too short\")"
   ]
  },
  {
   "cell_type": "code",
   "execution_count": 148,
   "id": "a0bba886",
   "metadata": {},
   "outputs": [
    {
     "name": "stdout",
     "output_type": "stream",
     "text": [
      "life is too short\n"
     ]
    }
   ],
   "source": [
    "print(\"life\" \" is\" \" too short\")"
   ]
  },
  {
   "cell_type": "code",
   "execution_count": 149,
   "id": "13c8ba2e",
   "metadata": {},
   "outputs": [
    {
     "name": "stdout",
     "output_type": "stream",
     "text": [
      "life  is  too short\n"
     ]
    }
   ],
   "source": [
    "print(\"life\", \" is\", \" too short\")"
   ]
  },
  {
   "cell_type": "code",
   "execution_count": 150,
   "id": "656ea40e",
   "metadata": {},
   "outputs": [
    {
     "name": "stdout",
     "output_type": "stream",
     "text": [
      "0\n",
      "1\n",
      "2\n",
      "3\n",
      "4\n",
      "5\n",
      "6\n",
      "7\n",
      "8\n",
      "9\n"
     ]
    }
   ],
   "source": [
    "for i in range(10):\n",
    "    print(i)"
   ]
  },
  {
   "cell_type": "code",
   "execution_count": 151,
   "id": "af8f12fa",
   "metadata": {},
   "outputs": [
    {
     "name": "stdout",
     "output_type": "stream",
     "text": [
      "0 1 2 3 4 5 6 7 8 9 "
     ]
    }
   ],
   "source": [
    "for i in range(10):\n",
    "    print(i, end=' ')"
   ]
  },
  {
   "cell_type": "code",
   "execution_count": 153,
   "id": "3613a975",
   "metadata": {},
   "outputs": [
    {
     "name": "stdout",
     "output_type": "stream",
     "text": [
      "1 2 3\n",
      "1/2/3\n"
     ]
    }
   ],
   "source": [
    "a = 1\n",
    "b = 2\n",
    "c = 3\n",
    "print(a, b, c)\n",
    "print(a, b, c, sep=\"/\")"
   ]
  },
  {
   "cell_type": "code",
   "execution_count": 154,
   "id": "d3e235dd",
   "metadata": {},
   "outputs": [
    {
     "name": "stdout",
     "output_type": "stream",
     "text": [
      "3\n"
     ]
    }
   ],
   "source": [
    "a = input()"
   ]
  },
  {
   "cell_type": "code",
   "execution_count": 156,
   "id": "d886b1fe",
   "metadata": {},
   "outputs": [
    {
     "data": {
      "text/plain": [
       "4"
      ]
     },
     "execution_count": 156,
     "metadata": {},
     "output_type": "execute_result"
    }
   ],
   "source": [
    "int(a) + 1"
   ]
  },
  {
   "cell_type": "code",
   "execution_count": 166,
   "id": "5033669d",
   "metadata": {},
   "outputs": [
    {
     "name": "stdout",
     "output_type": "stream",
     "text": [
      "60\t59\t58\t57\t56\t55\t54\t53\t52\t51\t50\t49\t48\t47\t46\t45\t44\t43\t42\t41\t40\t39\t38\t37\t36\t35\t34\t33\t32\t31\t30\t29\t28\t27\t26\t25\t24\t23\t22\t21\t20\t19\t18\t17\t16\t15\t14\t13\t12\t11\t10\t9\t8\t7\t6\t5\t4\t3\t2\t1\t0\t\n",
      "\n",
      "발사!\n"
     ]
    }
   ],
   "source": [
    "# page80 - 60초 카운트 후 발사\n",
    "\n",
    "for count in range(60, -1, -1):\n",
    "    print(count, end='\\t')\n",
    "    if count == 0:\n",
    "        print()\n",
    "        print()\n",
    "        print(\"발사!\")"
   ]
  },
  {
   "cell_type": "code",
   "execution_count": 168,
   "id": "21e9b137",
   "metadata": {},
   "outputs": [
    {
     "name": "stdout",
     "output_type": "stream",
     "text": [
      "60\t59\t58\t57\t56\t55\t54\t53\t52\t51\t50\t49\t48\t47\t46\t45\t44\t43\t42\t41\t40\t39\t38\t37\t36\t35\t34\t33\t32\t31\t30\t29\t28\t27\t26\t25\t24\t23\t22\t21\t20\t19\t18\t17\t16\t15\t14\t13\t12\t11\t10\t9\t8\t7\t6\t5\t4\t3\t2\t1\t0\t\n",
      "\n",
      "발사!\n"
     ]
    }
   ],
   "source": [
    "# 강사님 풀이 (60초 카운트 후 발사)\n",
    "\n",
    "for count in range(60, -1, -1):\n",
    "    print(count, end='\\t')\n",
    "print()\n",
    "print()\n",
    "print(\"발사!\")"
   ]
  },
  {
   "cell_type": "code",
   "execution_count": 171,
   "id": "552b8169",
   "metadata": {},
   "outputs": [
    {
     "name": "stdout",
     "output_type": "stream",
     "text": [
      "1\t2\t3\t4\t5\t6\t7\t8\t9\t\n",
      "2\t4\t6\t8\t10\t12\t14\t16\t18\t\n",
      "3\t6\t9\t12\t15\t18\t21\t24\t27\t\n",
      "4\t8\t12\t16\t20\t24\t28\t32\t36\t\n",
      "5\t10\t15\t20\t25\t30\t35\t40\t45\t\n",
      "6\t12\t18\t24\t30\t36\t42\t48\t54\t\n",
      "7\t14\t21\t28\t35\t42\t49\t56\t63\t\n",
      "8\t16\t24\t32\t40\t48\t56\t64\t72\t\n",
      "9\t18\t27\t36\t45\t54\t63\t72\t81\t\n"
     ]
    }
   ],
   "source": [
    "# page81 - 구구단 나열\n",
    "\n",
    "for sum1 in range(1, 10):\n",
    "    for sum2 in range(1, 10):\n",
    "        res = sum1 * sum2\n",
    "        print(res, end='\\t')\n",
    "    print()"
   ]
  },
  {
   "cell_type": "code",
   "execution_count": 172,
   "id": "0a919fb3",
   "metadata": {},
   "outputs": [
    {
     "name": "stdout",
     "output_type": "stream",
     "text": [
      "1\t2\t3\t4\t5\t6\t7\t8\t9\t\n",
      "2\t4\t6\t8\t10\t12\t14\t16\t18\t\n",
      "3\t6\t9\t12\t15\t18\t21\t24\t27\t\n",
      "4\t8\t12\t16\t20\t24\t28\t32\t36\t\n",
      "5\t10\t15\t20\t25\t30\t35\t40\t45\t\n",
      "6\t12\t18\t24\t30\t36\t42\t48\t54\t\n",
      "7\t14\t21\t28\t35\t42\t49\t56\t63\t\n",
      "8\t16\t24\t32\t40\t48\t56\t64\t72\t\n",
      "9\t18\t27\t36\t45\t54\t63\t72\t81\t\n"
     ]
    }
   ],
   "source": [
    "# 강사님 풀이 (구구단 나열)\n",
    "\n",
    "for sum1 in range(1, 10):\n",
    "    for sum2 in range(1, 10):\n",
    "        print(sum1 * sum2, end='\\t')\n",
    "    print()"
   ]
  },
  {
   "cell_type": "code",
   "execution_count": 2,
   "id": "a254b119",
   "metadata": {},
   "outputs": [
    {
     "name": "stdout",
     "output_type": "stream",
     "text": [
      "1 * * * * * * \n",
      "1 2 * * * * * \n",
      "1 2 3 * * * * \n",
      "1 2 3 4 * * * \n",
      "1 2 3 4 5 * * \n",
      "1 2 3 4 5 6 * \n",
      "1 2 3 4 5 6 7 \n",
      "\n",
      "\n",
      "1 * * * * * * \n",
      "1 2 * * * * * \n",
      "1 2 3 * * * * \n",
      "1 2 3 4 * * * \n",
      "1 2 3 4 5 * * \n",
      "1 2 3 4 5 6 * \n",
      "1 2 3 4 5 6 7 \n"
     ]
    }
   ],
   "source": [
    "# page82 - 1부터 7까지 *이 숫자로 변경\n",
    "\n",
    "# for문 속에 for문 2개 사용\n",
    "for a in range(1, 8):\n",
    "    for b in range(1, a+1):\n",
    "        print(b, end=' ')\n",
    "    for c in range(a+1, 8):\n",
    "        print(\"*\", end=' ')\n",
    "    print()\n",
    "    \n",
    "print()\n",
    "print()\n",
    "\n",
    "# for문 속에 for문 1개 사용\n",
    "for d in range(1, 8):\n",
    "    for e in range(1, 8):\n",
    "        if e > d:\n",
    "            print(\"*\", end=' ')\n",
    "        else :\n",
    "            print(e, end=' ')\n",
    "    print()"
   ]
  },
  {
   "cell_type": "code",
   "execution_count": 6,
   "id": "337df56f",
   "metadata": {},
   "outputs": [
    {
     "name": "stdout",
     "output_type": "stream",
     "text": [
      "1 * * * * * * \n",
      "1 2 * * * * * \n",
      "1 2 3 * * * * \n",
      "1 2 3 4 * * * \n",
      "1 2 3 4 5 * * \n",
      "1 2 3 4 5 6 * \n",
      "1 2 3 4 5 6 7 \n",
      "\n",
      "\n",
      "1 * * * * * * \n",
      "1 2 * * * * * \n",
      "1 2 3 * * * * \n",
      "1 2 3 4 * * * \n",
      "1 2 3 4 5 * * \n",
      "1 2 3 4 5 6 * \n",
      "1 2 3 4 5 6 7 \n"
     ]
    }
   ],
   "source": [
    "# 2023 - 09 - 15 강의\n",
    "\n",
    "# 강사님 풀이 (1부터 7까지 *이 숫자로 변경)\n",
    "# for문 속에 for문 1개 사용\n",
    "for d in range(1, 8):\n",
    "    for e in range(1, 8):\n",
    "        if d >= e:\n",
    "            print(e, end=' ')\n",
    "        else :\n",
    "            print(\"*\", end=' ')\n",
    "    print()\n",
    "    \n",
    "print()\n",
    "print()\n",
    "\n",
    "\n",
    "# for문 속에 for문 2개 사용\n",
    "for a in range(1, 8):\n",
    "    for b in range(1, a+1):\n",
    "        print(b, end=' ')\n",
    "    for c in range(1, (7-a)+1):\n",
    "        print(\"*\", end=' ')\n",
    "    print()"
   ]
  },
  {
   "cell_type": "code",
   "execution_count": 16,
   "id": "e60a5f2b",
   "metadata": {},
   "outputs": [
    {
     "name": "stdout",
     "output_type": "stream",
     "text": [
      "1 * * * * * * \n",
      "1 2 * * * * * \n",
      "1 2 3 * * * * \n",
      "1 2 3 4 * * * \n",
      "1 2 3 4 5 * * \n",
      "1 2 3 4 5 6 * \n",
      "1 2 3 4 5 6 7 \n",
      "\n",
      "\n",
      "1******\n",
      "12*****\n",
      "123****\n",
      "1234***\n",
      "12345**\n",
      "123456*\n",
      "1234567\n"
     ]
    }
   ],
   "source": [
    "# 반복문 없이 강사님 풀이\n",
    "for a in range(1, 8):\n",
    "    for b in range(1, a+1):\n",
    "        print(b, end=\" \")\n",
    "    print(\"* \"*(7-a))\n",
    "    \n",
    "print()\n",
    "print()\n",
    "        \n",
    "# 반복문 없이 다른사람 풀이\n",
    "num = \"\"\n",
    "for i in range(1, 8):\n",
    "    num += str(i)\n",
    "    print(num + \"*\"*(7-i))"
   ]
  },
  {
   "cell_type": "code",
   "execution_count": 21,
   "id": "c6ed4da7",
   "metadata": {},
   "outputs": [
    {
     "name": "stdout",
     "output_type": "stream",
     "text": [
      "a =  3 , b =  4 , c =  5\n",
      "aa =  9 , bb =  16 , cc =  25\n",
      "aa + bb =  25 , cc =  25\n",
      "count =  1\n",
      "\n",
      "a =  4 , b =  3 , c =  5\n",
      "aa =  16 , bb =  9 , cc =  25\n",
      "aa + bb =  25 , cc =  25\n",
      "count =  2\n",
      "\n",
      "a =  5 , b =  12 , c =  13\n",
      "aa =  25 , bb =  144 , cc =  169\n",
      "aa + bb =  169 , cc =  169\n",
      "count =  3\n",
      "\n",
      "a =  6 , b =  8 , c =  10\n",
      "aa =  36 , bb =  64 , cc =  100\n",
      "aa + bb =  100 , cc =  100\n",
      "count =  4\n",
      "\n",
      "a =  7 , b =  24 , c =  25\n",
      "aa =  49 , bb =  576 , cc =  625\n",
      "aa + bb =  625 , cc =  625\n",
      "count =  5\n",
      "\n",
      "a =  8 , b =  6 , c =  10\n",
      "aa =  64 , bb =  36 , cc =  100\n",
      "aa + bb =  100 , cc =  100\n",
      "count =  6\n",
      "\n",
      "a =  8 , b =  15 , c =  17\n",
      "aa =  64 , bb =  225 , cc =  289\n",
      "aa + bb =  289 , cc =  289\n",
      "count =  7\n",
      "\n",
      "a =  9 , b =  12 , c =  15\n",
      "aa =  81 , bb =  144 , cc =  225\n",
      "aa + bb =  225 , cc =  225\n",
      "count =  8\n",
      "\n",
      "a =  9 , b =  40 , c =  41\n",
      "aa =  81 , bb =  1600 , cc =  1681\n",
      "aa + bb =  1681 , cc =  1681\n",
      "count =  9\n",
      "\n",
      "a =  10 , b =  24 , c =  26\n",
      "aa =  100 , bb =  576 , cc =  676\n",
      "aa + bb =  676 , cc =  676\n",
      "count =  10\n",
      "\n",
      "a =  11 , b =  60 , c =  61\n",
      "aa =  121 , bb =  3600 , cc =  3721\n",
      "aa + bb =  3721 , cc =  3721\n",
      "count =  11\n",
      "\n",
      "a =  12 , b =  5 , c =  13\n",
      "aa =  144 , bb =  25 , cc =  169\n",
      "aa + bb =  169 , cc =  169\n",
      "count =  12\n",
      "\n",
      "a =  12 , b =  9 , c =  15\n",
      "aa =  144 , bb =  81 , cc =  225\n",
      "aa + bb =  225 , cc =  225\n",
      "count =  13\n",
      "\n",
      "a =  12 , b =  16 , c =  20\n",
      "aa =  144 , bb =  256 , cc =  400\n",
      "aa + bb =  400 , cc =  400\n",
      "count =  14\n",
      "\n",
      "a =  12 , b =  35 , c =  37\n",
      "aa =  144 , bb =  1225 , cc =  1369\n",
      "aa + bb =  1369 , cc =  1369\n",
      "count =  15\n",
      "\n",
      "a =  13 , b =  84 , c =  85\n",
      "aa =  169 , bb =  7056 , cc =  7225\n",
      "aa + bb =  7225 , cc =  7225\n",
      "count =  16\n",
      "\n",
      "a =  14 , b =  48 , c =  50\n",
      "aa =  196 , bb =  2304 , cc =  2500\n",
      "aa + bb =  2500 , cc =  2500\n",
      "count =  17\n",
      "\n",
      "a =  15 , b =  8 , c =  17\n",
      "aa =  225 , bb =  64 , cc =  289\n",
      "aa + bb =  289 , cc =  289\n",
      "count =  18\n",
      "\n",
      "a =  15 , b =  20 , c =  25\n",
      "aa =  225 , bb =  400 , cc =  625\n",
      "aa + bb =  625 , cc =  625\n",
      "count =  19\n",
      "\n",
      "a =  15 , b =  36 , c =  39\n",
      "aa =  225 , bb =  1296 , cc =  1521\n",
      "aa + bb =  1521 , cc =  1521\n",
      "count =  20\n",
      "\n",
      "a =  16 , b =  12 , c =  20\n",
      "aa =  256 , bb =  144 , cc =  400\n",
      "aa + bb =  400 , cc =  400\n",
      "count =  21\n",
      "\n",
      "a =  16 , b =  30 , c =  34\n",
      "aa =  256 , bb =  900 , cc =  1156\n",
      "aa + bb =  1156 , cc =  1156\n",
      "count =  22\n",
      "\n",
      "a =  16 , b =  63 , c =  65\n",
      "aa =  256 , bb =  3969 , cc =  4225\n",
      "aa + bb =  4225 , cc =  4225\n",
      "count =  23\n",
      "\n",
      "a =  18 , b =  24 , c =  30\n",
      "aa =  324 , bb =  576 , cc =  900\n",
      "aa + bb =  900 , cc =  900\n",
      "count =  24\n",
      "\n",
      "a =  18 , b =  80 , c =  82\n",
      "aa =  324 , bb =  6400 , cc =  6724\n",
      "aa + bb =  6724 , cc =  6724\n",
      "count =  25\n",
      "\n",
      "a =  20 , b =  15 , c =  25\n",
      "aa =  400 , bb =  225 , cc =  625\n",
      "aa + bb =  625 , cc =  625\n",
      "count =  26\n",
      "\n",
      "a =  20 , b =  21 , c =  29\n",
      "aa =  400 , bb =  441 , cc =  841\n",
      "aa + bb =  841 , cc =  841\n",
      "count =  27\n",
      "\n",
      "a =  20 , b =  48 , c =  52\n",
      "aa =  400 , bb =  2304 , cc =  2704\n",
      "aa + bb =  2704 , cc =  2704\n",
      "count =  28\n",
      "\n",
      "a =  21 , b =  20 , c =  29\n",
      "aa =  441 , bb =  400 , cc =  841\n",
      "aa + bb =  841 , cc =  841\n",
      "count =  29\n",
      "\n",
      "a =  21 , b =  28 , c =  35\n",
      "aa =  441 , bb =  784 , cc =  1225\n",
      "aa + bb =  1225 , cc =  1225\n",
      "count =  30\n",
      "\n",
      "a =  21 , b =  72 , c =  75\n",
      "aa =  441 , bb =  5184 , cc =  5625\n",
      "aa + bb =  5625 , cc =  5625\n",
      "count =  31\n",
      "\n",
      "a =  24 , b =  7 , c =  25\n",
      "aa =  576 , bb =  49 , cc =  625\n",
      "aa + bb =  625 , cc =  625\n",
      "count =  32\n",
      "\n",
      "a =  24 , b =  10 , c =  26\n",
      "aa =  576 , bb =  100 , cc =  676\n",
      "aa + bb =  676 , cc =  676\n",
      "count =  33\n",
      "\n",
      "a =  24 , b =  18 , c =  30\n",
      "aa =  576 , bb =  324 , cc =  900\n",
      "aa + bb =  900 , cc =  900\n",
      "count =  34\n",
      "\n",
      "a =  24 , b =  32 , c =  40\n",
      "aa =  576 , bb =  1024 , cc =  1600\n",
      "aa + bb =  1600 , cc =  1600\n",
      "count =  35\n",
      "\n",
      "a =  24 , b =  45 , c =  51\n",
      "aa =  576 , bb =  2025 , cc =  2601\n",
      "aa + bb =  2601 , cc =  2601\n",
      "count =  36\n",
      "\n",
      "a =  24 , b =  70 , c =  74\n",
      "aa =  576 , bb =  4900 , cc =  5476\n",
      "aa + bb =  5476 , cc =  5476\n",
      "count =  37\n",
      "\n",
      "a =  25 , b =  60 , c =  65\n",
      "aa =  625 , bb =  3600 , cc =  4225\n",
      "aa + bb =  4225 , cc =  4225\n",
      "count =  38\n",
      "\n",
      "a =  27 , b =  36 , c =  45\n",
      "aa =  729 , bb =  1296 , cc =  2025\n",
      "aa + bb =  2025 , cc =  2025\n",
      "count =  39\n",
      "\n",
      "a =  28 , b =  21 , c =  35\n",
      "aa =  784 , bb =  441 , cc =  1225\n",
      "aa + bb =  1225 , cc =  1225\n",
      "count =  40\n",
      "\n",
      "a =  28 , b =  45 , c =  53\n",
      "aa =  784 , bb =  2025 , cc =  2809\n",
      "aa + bb =  2809 , cc =  2809\n",
      "count =  41\n",
      "\n",
      "a =  28 , b =  96 , c =  100\n",
      "aa =  784 , bb =  9216 , cc =  10000\n",
      "aa + bb =  10000 , cc =  10000\n",
      "count =  42\n",
      "\n",
      "a =  30 , b =  16 , c =  34\n",
      "aa =  900 , bb =  256 , cc =  1156\n",
      "aa + bb =  1156 , cc =  1156\n",
      "count =  43\n",
      "\n",
      "a =  30 , b =  40 , c =  50\n",
      "aa =  900 , bb =  1600 , cc =  2500\n",
      "aa + bb =  2500 , cc =  2500\n",
      "count =  44\n",
      "\n",
      "a =  30 , b =  72 , c =  78\n",
      "aa =  900 , bb =  5184 , cc =  6084\n",
      "aa + bb =  6084 , cc =  6084\n",
      "count =  45\n",
      "\n",
      "a =  32 , b =  24 , c =  40\n",
      "aa =  1024 , bb =  576 , cc =  1600\n",
      "aa + bb =  1600 , cc =  1600\n",
      "count =  46\n",
      "\n",
      "a =  32 , b =  60 , c =  68\n",
      "aa =  1024 , bb =  3600 , cc =  4624\n",
      "aa + bb =  4624 , cc =  4624\n",
      "count =  47\n",
      "\n",
      "a =  33 , b =  44 , c =  55\n",
      "aa =  1089 , bb =  1936 , cc =  3025\n",
      "aa + bb =  3025 , cc =  3025\n",
      "count =  48\n",
      "\n",
      "a =  33 , b =  56 , c =  65\n",
      "aa =  1089 , bb =  3136 , cc =  4225\n",
      "aa + bb =  4225 , cc =  4225\n",
      "count =  49\n",
      "\n",
      "a =  35 , b =  12 , c =  37\n",
      "aa =  1225 , bb =  144 , cc =  1369\n",
      "aa + bb =  1369 , cc =  1369\n",
      "count =  50\n",
      "\n",
      "a =  35 , b =  84 , c =  91\n",
      "aa =  1225 , bb =  7056 , cc =  8281\n",
      "aa + bb =  8281 , cc =  8281\n",
      "count =  51\n",
      "\n",
      "a =  36 , b =  15 , c =  39\n",
      "aa =  1296 , bb =  225 , cc =  1521\n",
      "aa + bb =  1521 , cc =  1521\n",
      "count =  52\n",
      "\n",
      "a =  36 , b =  27 , c =  45\n",
      "aa =  1296 , bb =  729 , cc =  2025\n",
      "aa + bb =  2025 , cc =  2025\n",
      "count =  53\n",
      "\n",
      "a =  36 , b =  48 , c =  60\n",
      "aa =  1296 , bb =  2304 , cc =  3600\n",
      "aa + bb =  3600 , cc =  3600\n",
      "count =  54\n",
      "\n",
      "a =  36 , b =  77 , c =  85\n",
      "aa =  1296 , bb =  5929 , cc =  7225\n",
      "aa + bb =  7225 , cc =  7225\n",
      "count =  55\n",
      "\n",
      "a =  39 , b =  52 , c =  65\n",
      "aa =  1521 , bb =  2704 , cc =  4225\n",
      "aa + bb =  4225 , cc =  4225\n",
      "count =  56\n",
      "\n",
      "a =  39 , b =  80 , c =  89\n",
      "aa =  1521 , bb =  6400 , cc =  7921\n",
      "aa + bb =  7921 , cc =  7921\n",
      "count =  57\n",
      "\n",
      "a =  40 , b =  9 , c =  41\n",
      "aa =  1600 , bb =  81 , cc =  1681\n",
      "aa + bb =  1681 , cc =  1681\n",
      "count =  58\n",
      "\n",
      "a =  40 , b =  30 , c =  50\n",
      "aa =  1600 , bb =  900 , cc =  2500\n",
      "aa + bb =  2500 , cc =  2500\n",
      "count =  59\n",
      "\n",
      "a =  40 , b =  42 , c =  58\n",
      "aa =  1600 , bb =  1764 , cc =  3364\n",
      "aa + bb =  3364 , cc =  3364\n",
      "count =  60\n",
      "\n",
      "a =  40 , b =  75 , c =  85\n",
      "aa =  1600 , bb =  5625 , cc =  7225\n",
      "aa + bb =  7225 , cc =  7225\n",
      "count =  61\n",
      "\n",
      "a =  42 , b =  40 , c =  58\n",
      "aa =  1764 , bb =  1600 , cc =  3364\n",
      "aa + bb =  3364 , cc =  3364\n",
      "count =  62\n",
      "\n",
      "a =  42 , b =  56 , c =  70\n",
      "aa =  1764 , bb =  3136 , cc =  4900\n",
      "aa + bb =  4900 , cc =  4900\n",
      "count =  63\n",
      "\n",
      "a =  44 , b =  33 , c =  55\n",
      "aa =  1936 , bb =  1089 , cc =  3025\n",
      "aa + bb =  3025 , cc =  3025\n",
      "count =  64\n",
      "\n",
      "a =  45 , b =  24 , c =  51\n",
      "aa =  2025 , bb =  576 , cc =  2601\n",
      "aa + bb =  2601 , cc =  2601\n",
      "count =  65\n",
      "\n",
      "a =  45 , b =  28 , c =  53\n",
      "aa =  2025 , bb =  784 , cc =  2809\n",
      "aa + bb =  2809 , cc =  2809\n",
      "count =  66\n",
      "\n",
      "a =  45 , b =  60 , c =  75\n",
      "aa =  2025 , bb =  3600 , cc =  5625\n",
      "aa + bb =  5625 , cc =  5625\n",
      "count =  67\n",
      "\n",
      "a =  48 , b =  14 , c =  50\n",
      "aa =  2304 , bb =  196 , cc =  2500\n",
      "aa + bb =  2500 , cc =  2500\n",
      "count =  68\n",
      "\n",
      "a =  48 , b =  20 , c =  52\n",
      "aa =  2304 , bb =  400 , cc =  2704\n",
      "aa + bb =  2704 , cc =  2704\n",
      "count =  69\n",
      "\n",
      "a =  48 , b =  36 , c =  60\n",
      "aa =  2304 , bb =  1296 , cc =  3600\n",
      "aa + bb =  3600 , cc =  3600\n",
      "count =  70\n",
      "\n",
      "a =  48 , b =  55 , c =  73\n",
      "aa =  2304 , bb =  3025 , cc =  5329\n",
      "aa + bb =  5329 , cc =  5329\n",
      "count =  71\n",
      "\n",
      "a =  48 , b =  64 , c =  80\n",
      "aa =  2304 , bb =  4096 , cc =  6400\n",
      "aa + bb =  6400 , cc =  6400\n",
      "count =  72\n",
      "\n",
      "a =  51 , b =  68 , c =  85\n",
      "aa =  2601 , bb =  4624 , cc =  7225\n",
      "aa + bb =  7225 , cc =  7225\n",
      "count =  73\n",
      "\n",
      "a =  52 , b =  39 , c =  65\n",
      "aa =  2704 , bb =  1521 , cc =  4225\n",
      "aa + bb =  4225 , cc =  4225\n",
      "count =  74\n",
      "\n",
      "a =  54 , b =  72 , c =  90\n",
      "aa =  2916 , bb =  5184 , cc =  8100\n",
      "aa + bb =  8100 , cc =  8100\n",
      "count =  75\n",
      "\n",
      "a =  55 , b =  48 , c =  73\n",
      "aa =  3025 , bb =  2304 , cc =  5329\n",
      "aa + bb =  5329 , cc =  5329\n",
      "count =  76\n",
      "\n",
      "a =  56 , b =  33 , c =  65\n",
      "aa =  3136 , bb =  1089 , cc =  4225\n",
      "aa + bb =  4225 , cc =  4225\n",
      "count =  77\n",
      "\n",
      "a =  56 , b =  42 , c =  70\n",
      "aa =  3136 , bb =  1764 , cc =  4900\n",
      "aa + bb =  4900 , cc =  4900\n",
      "count =  78\n",
      "\n",
      "a =  57 , b =  76 , c =  95\n",
      "aa =  3249 , bb =  5776 , cc =  9025\n",
      "aa + bb =  9025 , cc =  9025\n",
      "count =  79\n",
      "\n",
      "a =  60 , b =  11 , c =  61\n",
      "aa =  3600 , bb =  121 , cc =  3721\n",
      "aa + bb =  3721 , cc =  3721\n",
      "count =  80\n",
      "\n",
      "a =  60 , b =  25 , c =  65\n",
      "aa =  3600 , bb =  625 , cc =  4225\n",
      "aa + bb =  4225 , cc =  4225\n",
      "count =  81\n",
      "\n",
      "a =  60 , b =  32 , c =  68\n",
      "aa =  3600 , bb =  1024 , cc =  4624\n",
      "aa + bb =  4624 , cc =  4624\n",
      "count =  82\n",
      "\n",
      "a =  60 , b =  45 , c =  75\n",
      "aa =  3600 , bb =  2025 , cc =  5625\n",
      "aa + bb =  5625 , cc =  5625\n",
      "count =  83\n",
      "\n",
      "a =  60 , b =  63 , c =  87\n",
      "aa =  3600 , bb =  3969 , cc =  7569\n",
      "aa + bb =  7569 , cc =  7569\n",
      "count =  84\n",
      "\n",
      "a =  60 , b =  80 , c =  100\n",
      "aa =  3600 , bb =  6400 , cc =  10000\n",
      "aa + bb =  10000 , cc =  10000\n",
      "count =  85\n",
      "\n",
      "a =  63 , b =  16 , c =  65\n",
      "aa =  3969 , bb =  256 , cc =  4225\n",
      "aa + bb =  4225 , cc =  4225\n",
      "count =  86\n",
      "\n",
      "a =  63 , b =  60 , c =  87\n",
      "aa =  3969 , bb =  3600 , cc =  7569\n",
      "aa + bb =  7569 , cc =  7569\n",
      "count =  87\n",
      "\n",
      "a =  64 , b =  48 , c =  80\n",
      "aa =  4096 , bb =  2304 , cc =  6400\n",
      "aa + bb =  6400 , cc =  6400\n",
      "count =  88\n",
      "\n",
      "a =  65 , b =  72 , c =  97\n",
      "aa =  4225 , bb =  5184 , cc =  9409\n",
      "aa + bb =  9409 , cc =  9409\n",
      "count =  89\n",
      "\n",
      "a =  68 , b =  51 , c =  85\n",
      "aa =  4624 , bb =  2601 , cc =  7225\n",
      "aa + bb =  7225 , cc =  7225\n",
      "count =  90\n",
      "\n",
      "a =  70 , b =  24 , c =  74\n",
      "aa =  4900 , bb =  576 , cc =  5476\n",
      "aa + bb =  5476 , cc =  5476\n",
      "count =  91\n",
      "\n",
      "a =  72 , b =  21 , c =  75\n",
      "aa =  5184 , bb =  441 , cc =  5625\n",
      "aa + bb =  5625 , cc =  5625\n",
      "count =  92\n",
      "\n",
      "a =  72 , b =  30 , c =  78\n",
      "aa =  5184 , bb =  900 , cc =  6084\n",
      "aa + bb =  6084 , cc =  6084\n",
      "count =  93\n",
      "\n",
      "a =  72 , b =  54 , c =  90\n",
      "aa =  5184 , bb =  2916 , cc =  8100\n",
      "aa + bb =  8100 , cc =  8100\n",
      "count =  94\n",
      "\n",
      "a =  72 , b =  65 , c =  97\n",
      "aa =  5184 , bb =  4225 , cc =  9409\n",
      "aa + bb =  9409 , cc =  9409\n",
      "count =  95\n",
      "\n"
     ]
    },
    {
     "name": "stdout",
     "output_type": "stream",
     "text": [
      "a =  75 , b =  40 , c =  85\n",
      "aa =  5625 , bb =  1600 , cc =  7225\n",
      "aa + bb =  7225 , cc =  7225\n",
      "count =  96\n",
      "\n",
      "a =  76 , b =  57 , c =  95\n",
      "aa =  5776 , bb =  3249 , cc =  9025\n",
      "aa + bb =  9025 , cc =  9025\n",
      "count =  97\n",
      "\n",
      "a =  77 , b =  36 , c =  85\n",
      "aa =  5929 , bb =  1296 , cc =  7225\n",
      "aa + bb =  7225 , cc =  7225\n",
      "count =  98\n",
      "\n",
      "a =  80 , b =  18 , c =  82\n",
      "aa =  6400 , bb =  324 , cc =  6724\n",
      "aa + bb =  6724 , cc =  6724\n",
      "count =  99\n",
      "\n",
      "a =  80 , b =  39 , c =  89\n",
      "aa =  6400 , bb =  1521 , cc =  7921\n",
      "aa + bb =  7921 , cc =  7921\n",
      "count =  100\n",
      "\n",
      "a =  80 , b =  60 , c =  100\n",
      "aa =  6400 , bb =  3600 , cc =  10000\n",
      "aa + bb =  10000 , cc =  10000\n",
      "count =  101\n",
      "\n",
      "a =  84 , b =  13 , c =  85\n",
      "aa =  7056 , bb =  169 , cc =  7225\n",
      "aa + bb =  7225 , cc =  7225\n",
      "count =  102\n",
      "\n",
      "a =  84 , b =  35 , c =  91\n",
      "aa =  7056 , bb =  1225 , cc =  8281\n",
      "aa + bb =  8281 , cc =  8281\n",
      "count =  103\n",
      "\n",
      "a =  96 , b =  28 , c =  100\n",
      "aa =  9216 , bb =  784 , cc =  10000\n",
      "aa + bb =  10000 , cc =  10000\n",
      "count =  104\n",
      "\n",
      "총 갯수 =  104\n"
     ]
    }
   ],
   "source": [
    "# page83 - 피타고라스의 정리 (1~100) 사이의 갯수\n",
    "\n",
    "# count = 갯수 / abc = 각 변의 길이\n",
    "count = 0\n",
    "for a in range(1, 101):\n",
    "    for b in range(1, 101):\n",
    "        for c in range(1, 101):\n",
    "            ra = a * a\n",
    "            rb = b * b\n",
    "            rc = c * c\n",
    "            res = ra + rb\n",
    "            if res == rc:\n",
    "                count = count + 1\n",
    "                print(\"a = \", a,\", b = \", b, \", c = \", c)\n",
    "                print(\"aa = \", ra, \", bb = \", rb, \", cc = \", rc)\n",
    "                print(\"aa + bb = \", res, \", cc = \", rc)\n",
    "                print(\"count = \", count)\n",
    "                print()\n",
    "print(\"총 갯수 = \", count)"
   ]
  },
  {
   "cell_type": "code",
   "execution_count": 22,
   "id": "b81d8cef",
   "metadata": {},
   "outputs": [
    {
     "name": "stdout",
     "output_type": "stream",
     "text": [
      "104 개\n"
     ]
    }
   ],
   "source": [
    "# 강사님 풀이 (피타고라스의 정리 (1~100) 사이의 갯수)\n",
    "\n",
    "count = 0\n",
    "for a in range(1, 101):\n",
    "    for b in range(1, 101):\n",
    "        for c in range(1, 101):\n",
    "            if a*a + b*b == c*c:\n",
    "                count+=1\n",
    "print(count, \"개\")"
   ]
  },
  {
   "cell_type": "code",
   "execution_count": 26,
   "id": "2c061c7a",
   "metadata": {},
   "outputs": [
    {
     "name": "stdout",
     "output_type": "stream",
     "text": [
      "1\t2\t3\t4\t5\t6\t7\t8\t9\t10\t\n",
      "2\t3\t4\t5\t6\t7\t8\t9\t10\t11\t\n",
      "3\t4\t5\t6\t7\t8\t9\t10\t11\t12\t\n",
      "4\t5\t6\t7\t8\t9\t10\t11\t12\t13\t\n",
      "5\t6\t7\t8\t9\t10\t11\t12\t13\t14\t\n",
      "6\t7\t8\t9\t10\t11\t12\t13\t14\t15\t\n",
      "7\t8\t9\t10\t11\t12\t13\t14\t15\t16\t\n",
      "8\t9\t10\t11\t12\t13\t14\t15\t16\t17\t\n",
      "9\t10\t11\t12\t13\t14\t15\t16\t17\t18\t\n",
      "10\t11\t12\t13\t14\t15\t16\t17\t18\t19\t\n",
      "\n",
      "모든 숫자의 합 =  1000\n"
     ]
    }
   ],
   "source": [
    "# page84 - 1~10 -> 10~19 까지 나열 후 모든 수의 합\n",
    "\n",
    "num = 0\n",
    "for num_hei in range(1, 11):\n",
    "    for num_wid in range(1, 11):\n",
    "        res = num_hei + num_wid - 1\n",
    "        num = num + res\n",
    "        print(res, end=\"\\t\")\n",
    "    print()\n",
    "print()\n",
    "print(\"모든 숫자의 합 = \", num)"
   ]
  },
  {
   "cell_type": "code",
   "execution_count": 29,
   "id": "07050133",
   "metadata": {},
   "outputs": [
    {
     "name": "stdout",
     "output_type": "stream",
     "text": [
      "누적 값은 1000이다\n",
      "\n",
      "1 2 3 4 5 6 7 8 9 10 \n",
      "2 3 4 5 6 7 8 9 10 11 \n",
      "3 4 5 6 7 8 9 10 11 12 \n",
      "4 5 6 7 8 9 10 11 12 13 \n",
      "5 6 7 8 9 10 11 12 13 14 \n",
      "6 7 8 9 10 11 12 13 14 15 \n",
      "7 8 9 10 11 12 13 14 15 16 \n",
      "8 9 10 11 12 13 14 15 16 17 \n",
      "9 10 11 12 13 14 15 16 17 18 \n",
      "10 11 12 13 14 15 16 17 18 19 \n",
      "누적 값은 1000이다\n"
     ]
    }
   ],
   "source": [
    "# 강사님 풀이 (1~10 -> 10~19 까지 나열 후 모든 수의 합)\n",
    "\n",
    "sum_val = 0\n",
    "for hang in range(1, 11):\n",
    "    for yeol in range(1, 11):\n",
    "        sum_val += hang + yeol - 1\n",
    "print(f\"누적 값은 {sum_val}이다\")\n",
    "\n",
    "print()\n",
    "\n",
    "sum_val = 0\n",
    "for hang in range(1, 11):\n",
    "    for yeol in range(1, 11):\n",
    "        num = hang + yeol - 1\n",
    "        sum_val += num\n",
    "        print(num, end=\" \")\n",
    "    print()\n",
    "print(f\"누적 값은 {sum_val}이다\")"
   ]
  },
  {
   "cell_type": "code",
   "execution_count": 32,
   "id": "d4d58a47",
   "metadata": {},
   "outputs": [
    {
     "name": "stdout",
     "output_type": "stream",
     "text": [
      "0 + 0 + 1 = 1\n",
      "\n",
      "0 + 0 + 2 = 2\n",
      "\n",
      "0 + 0 + 3 = 3\n",
      "\n",
      "0 + 0 + 4 = 4\n",
      "\n",
      "0 + 0 + 5 = 5\n",
      "\n",
      "0 + 0 + 6 = 6\n",
      "\n",
      "0 + 0 + 7 = 7\n",
      "\n",
      "0 + 0 + 8 = 8\n",
      "\n",
      "0 + 0 + 9 = 9\n",
      "\n",
      "0 + 1 + 0 = 1\n",
      "\n",
      "0 + 1 + 1 = 2\n",
      "\n",
      "0 + 1 + 2 = 3\n",
      "\n",
      "0 + 1 + 3 = 4\n",
      "\n",
      "0 + 1 + 4 = 5\n",
      "\n",
      "0 + 1 + 5 = 6\n",
      "\n",
      "0 + 1 + 6 = 7\n",
      "\n",
      "0 + 1 + 7 = 8\n",
      "\n",
      "0 + 1 + 8 = 9\n",
      "\n",
      "0 + 1 + 9 = 10\n",
      "\n",
      "0 + 2 + 0 = 2\n",
      "\n",
      "0 + 2 + 1 = 3\n",
      "\n",
      "0 + 2 + 2 = 4\n",
      "\n",
      "0 + 2 + 3 = 5\n",
      "\n",
      "0 + 2 + 4 = 6\n",
      "\n",
      "0 + 2 + 5 = 7\n",
      "\n",
      "0 + 2 + 6 = 8\n",
      "\n",
      "0 + 2 + 7 = 9\n",
      "\n",
      "0 + 2 + 8 = 10\n",
      "\n",
      "0 + 2 + 9 = 11\n",
      "\n",
      "0 + 3 + 0 = 3\n",
      "\n",
      "0 + 3 + 1 = 4\n",
      "\n",
      "0 + 3 + 2 = 5\n",
      "\n",
      "0 + 3 + 3 = 6\n",
      "\n",
      "0 + 3 + 4 = 7\n",
      "\n",
      "0 + 3 + 5 = 8\n",
      "\n",
      "0 + 3 + 6 = 9\n",
      "\n",
      "0 + 3 + 7 = 10\n",
      "\n",
      "0 + 3 + 8 = 11\n",
      "\n",
      "0 + 3 + 9 = 12\n",
      "\n",
      "0 + 4 + 0 = 4\n",
      "\n",
      "0 + 4 + 1 = 5\n",
      "\n",
      "0 + 4 + 2 = 6\n",
      "\n",
      "0 + 4 + 3 = 7\n",
      "\n",
      "0 + 4 + 4 = 8\n",
      "\n",
      "0 + 4 + 5 = 9\n",
      "\n",
      "0 + 4 + 6 = 10\n",
      "\n",
      "0 + 4 + 7 = 11\n",
      "\n",
      "0 + 4 + 8 = 12\n",
      "\n",
      "0 + 4 + 9 = 13\n",
      "\n",
      "0 + 5 + 0 = 5\n",
      "\n",
      "0 + 5 + 1 = 6\n",
      "\n",
      "0 + 5 + 2 = 7\n",
      "\n",
      "0 + 5 + 3 = 8\n",
      "\n",
      "0 + 5 + 4 = 9\n",
      "\n",
      "0 + 5 + 5 = 10\n",
      "\n",
      "0 + 5 + 6 = 11\n",
      "\n",
      "0 + 5 + 7 = 12\n",
      "\n",
      "0 + 5 + 8 = 13\n",
      "\n",
      "0 + 5 + 9 = 14\n",
      "\n",
      "0 + 6 + 0 = 6\n",
      "\n",
      "0 + 6 + 1 = 7\n",
      "\n",
      "0 + 6 + 2 = 8\n",
      "\n",
      "0 + 6 + 3 = 9\n",
      "\n",
      "0 + 6 + 4 = 10\n",
      "\n",
      "0 + 6 + 5 = 11\n",
      "\n",
      "0 + 6 + 6 = 12\n",
      "\n",
      "0 + 6 + 7 = 13\n",
      "\n",
      "0 + 6 + 8 = 14\n",
      "\n",
      "0 + 6 + 9 = 15\n",
      "\n",
      "0 + 7 + 0 = 7\n",
      "\n",
      "0 + 7 + 1 = 8\n",
      "\n",
      "0 + 7 + 2 = 9\n",
      "\n",
      "0 + 7 + 3 = 10\n",
      "\n",
      "0 + 7 + 4 = 11\n",
      "\n",
      "0 + 7 + 5 = 12\n",
      "\n",
      "0 + 7 + 6 = 13\n",
      "\n",
      "0 + 7 + 7 = 14\n",
      "\n",
      "0 + 7 + 8 = 15\n",
      "\n",
      "0 + 7 + 9 = 16\n",
      "\n",
      "0 + 8 + 0 = 8\n",
      "\n",
      "0 + 8 + 1 = 9\n",
      "\n",
      "0 + 8 + 2 = 10\n",
      "\n",
      "0 + 8 + 3 = 11\n",
      "\n",
      "0 + 8 + 4 = 12\n",
      "\n",
      "0 + 8 + 5 = 13\n",
      "\n",
      "0 + 8 + 6 = 14\n",
      "\n",
      "0 + 8 + 7 = 15\n",
      "\n",
      "0 + 8 + 8 = 16\n",
      "\n",
      "0 + 8 + 9 = 17\n",
      "\n",
      "0 + 9 + 0 = 9\n",
      "\n",
      "0 + 9 + 1 = 10\n",
      "\n",
      "0 + 9 + 2 = 11\n",
      "\n",
      "0 + 9 + 3 = 12\n",
      "\n",
      "0 + 9 + 4 = 13\n",
      "\n",
      "0 + 9 + 5 = 14\n",
      "\n",
      "0 + 9 + 6 = 15\n",
      "\n",
      "0 + 9 + 7 = 16\n",
      "\n",
      "0 + 9 + 8 = 17\n",
      "\n",
      "0 + 9 + 9 = 18\n",
      "\n",
      "1 + 0 + 0 = 1\n",
      "\n",
      "모든 수의 합 = 901\n"
     ]
    }
   ],
   "source": [
    "# page85 - 1~100 모든 정수의 각 자리에 나온 수 더한값\n",
    "\n",
    "# 변수 초기화\n",
    "num1 = 0\n",
    "num10 = 0\n",
    "num100 = 0\n",
    "res = 0\n",
    "sum_val = 0\n",
    "\n",
    "for num in range(1, 101):\n",
    "    num1 = int(num % 10)\n",
    "    num10 = int(num / 10 % 10)\n",
    "    num100 = int(num / 100 % 10)\n",
    "    res = num1 + num10 + num100\n",
    "    print(f\"{num100} + {num10} + {num1} = {res}\")\n",
    "    print()\n",
    "    sum_val = sum_val + res\n",
    "print(f\"모든 수의 합 = {sum_val}\")"
   ]
  },
  {
   "cell_type": "code",
   "execution_count": 35,
   "id": "33a1aab9",
   "metadata": {},
   "outputs": [
    {
     "name": "stdout",
     "output_type": "stream",
     "text": [
      "901\n"
     ]
    }
   ],
   "source": [
    "# 강사님 풀이 (1~100 모든 정수의 각 자리에 나온 수 더한값)\n",
    "\n",
    "sum_100 = 0\n",
    "for num in range(1, 101):\n",
    "    num_1 = int((num / 1) % 10)\n",
    "    num_10 = int((num / 10) % 10)\n",
    "    num_100 = int((num / 100) % 10)\n",
    "    sum_3s = num_100 + num_10 + num_1\n",
    "    sum_100 += sum_3s\n",
    "print(sum_100)"
   ]
  },
  {
   "cell_type": "code",
   "execution_count": 40,
   "id": "40ac38b3",
   "metadata": {},
   "outputs": [
    {
     "name": "stdout",
     "output_type": "stream",
     "text": [
      "num = 682\n",
      "682 / 2 = 341\n",
      "\n",
      "num = 341\n",
      "((341 * 3) + 1) / 2 = 512\n",
      "\n",
      "num = 512\n",
      "512 / 2 = 256\n",
      "\n",
      "num = 256\n",
      "256 / 2 = 128\n",
      "\n",
      "num = 128\n",
      "128 / 2 = 64\n",
      "\n",
      "num = 64\n",
      "64 / 2 = 32\n",
      "\n",
      "num = 32\n",
      "32 / 2 = 16\n",
      "\n",
      "num = 16\n",
      "16 / 2 = 8\n",
      "\n",
      "num = 8\n",
      "8 / 2 = 4\n",
      "\n",
      "num = 4\n",
      "4 / 2 = 2\n",
      "\n",
      "num = 2\n",
      "2 / 2 = 1\n",
      "\n",
      "최종 값 = 1\n",
      "총 계산 횟수 = 11회\n"
     ]
    }
   ],
   "source": [
    "# page87 - num의 값이 1이 나올 때 까지 짝수면 (/ 2) / 홀수면 ((* 3 + 1) / 2  반복\n",
    "\n",
    "# 짝수 = enum / 홀수 = onum\n",
    "num = 682\n",
    "count = 0\n",
    "while num != 1:\n",
    "    if num % 2 == 0:\n",
    "        print(f\"num = {num}\")\n",
    "        enum = int(num / 2)\n",
    "        print(f\"{num} / 2 = {enum}\")\n",
    "        num = int(num / 2)\n",
    "        print()\n",
    "        count = count + 1\n",
    "    else :\n",
    "        print(f\"num = {num}\")\n",
    "        onum = int(((num * 3) + 1) / 2)\n",
    "        print(f\"(({num} * 3) + 1) / 2 = {onum}\")\n",
    "        num = int(((num * 3) + 1) / 2)\n",
    "        print()\n",
    "        count = count + 1\n",
    "print(f\"최종 값 = {num}\")\n",
    "print(f\"총 계산 횟수 = {count}회\")"
   ]
  },
  {
   "cell_type": "code",
   "execution_count": 41,
   "id": "6d882deb",
   "metadata": {},
   "outputs": [
    {
     "name": "stdout",
     "output_type": "stream",
     "text": [
      "11\n"
     ]
    }
   ],
   "source": [
    "# 강사님 풀이 (num의 값이 1이 나올 때 까지 짝수면 (/ 2) / 홀수면 ((* 3 + 1) / 2  반복)\n",
    "\n",
    "number = 682\n",
    "count = 0\n",
    "while True:\n",
    "    if number % 2 == 0:\n",
    "        number /= 2\n",
    "    else :\n",
    "        number = (number * 3 + 1) / 2\n",
    "    count += 1\n",
    "    \n",
    "    if number == 1:\n",
    "        print(count)\n",
    "        break"
   ]
  },
  {
   "cell_type": "code",
   "execution_count": 42,
   "id": "8627d273",
   "metadata": {},
   "outputs": [
    {
     "name": "stdout",
     "output_type": "stream",
     "text": [
      "day = 17\n"
     ]
    }
   ],
   "source": [
    "# page88 - 우물안 개구리가 탈출까지 최소 며칠 소요되는가 / 낮 3m 오름 / 밤 2m 내려감 / 우물 깊이 = 19.4m\n",
    "\n",
    "holl = 19.4\n",
    "day = 0\n",
    "while True:\n",
    "    holl = holl - 3\n",
    "    if holl <= 0:\n",
    "        break\n",
    "    else :\n",
    "        holl = holl + 2\n",
    "        day = day + 1\n",
    "print(f\"day = {day}\")"
   ]
  },
  {
   "cell_type": "code",
   "execution_count": 43,
   "id": "ea46c3e3",
   "metadata": {},
   "outputs": [
    {
     "name": "stdout",
     "output_type": "stream",
     "text": [
      "17\n"
     ]
    }
   ],
   "source": [
    "# 강사님 풀이 (우물안 개구리가 탈출까지 최소 며칠 소요되는가)\n",
    "\n",
    "count = 0\n",
    "myHeight = 0\n",
    "while True:\n",
    "    myHeight += 3\n",
    "    if myHeight > 19.4:\n",
    "        break\n",
    "    myHeight -= 2\n",
    "    count += 1\n",
    "print(count)"
   ]
  },
  {
   "cell_type": "code",
   "execution_count": 79,
   "id": "6ea54f56",
   "metadata": {},
   "outputs": [
    {
     "name": "stdout",
     "output_type": "stream",
     "text": [
      "32\n"
     ]
    }
   ],
   "source": [
    "# 수열분수\n",
    "\n",
    "up_num = []\n",
    "down_num = []\n",
    "big_loop = 1\n",
    "# [1/1][1/2, 2/1][1/3, 2/2, 3/1][1/4, 2/3, 3/2, 4/1]... / [] 하나당 big_loop\n",
    "\n",
    "while True:\n",
    "    for i in range(1, big_loop + 1):\n",
    "        up_num.append(i)\n",
    "        down_num.append(big_loop + 1 - i)\n",
    "    if big_loop == 15:\n",
    "        break\n",
    "    big_loop += 1\n",
    "for i_test in range(len(down_num)):\n",
    "    if (up_num[i_test] == 4) and (down_num[i_test] == 5):\n",
    "        print(i_test+1)\n",
    "        break"
   ]
  },
  {
   "cell_type": "code",
   "execution_count": 81,
   "id": "d7c705df",
   "metadata": {},
   "outputs": [
    {
     "name": "stdout",
     "output_type": "stream",
     "text": [
      "32\n"
     ]
    }
   ],
   "source": [
    "big_loop = 1\n",
    "# [1/1][1/2, 2/1][1/3, 2/2, 3/1][1/4, 2/3, 3/2, 4/1]... / [] 하나당 big_loop\n",
    "i_test = 1\n",
    "going = True\n",
    "\n",
    "while going:\n",
    "    for i in range(1, big_loop + 1):\n",
    "        if (i == 4) and (big_loop + 1 - i == 5):\n",
    "            print(i_test)\n",
    "            going = False\n",
    "        i_test += 1\n",
    "    big_loop += 1"
   ]
  },
  {
   "cell_type": "code",
   "execution_count": 88,
   "id": "756b8ddf",
   "metadata": {},
   "outputs": [
    {
     "name": "stdout",
     "output_type": "stream",
     "text": [
      "구매해야할 남은 사과 갯수 = 0 / 17개 최저가 구매 = 7300\n",
      "사과 1개 = 0 / 사과 5개 = 1 / 사과 6개 = 2\n"
     ]
    }
   ],
   "source": [
    "# 사과 1개 = 700 / 사관 5개 = 2500 / 사과 6개 = 2400 / 최저가 사과 17개 = ?\n",
    "\n",
    "apple = 17\n",
    "money = 0\n",
    "apple6 = 0\n",
    "apple5 = 0\n",
    "apple1 = 0\n",
    "\n",
    "while apple > 0:\n",
    "    if apple >= 6:\n",
    "        apple = apple - 6\n",
    "        money = money + 2400\n",
    "        apple6 = apple6 + 1\n",
    "    elif apple >= 5:\n",
    "        apple = apple - 5\n",
    "        money = money + 2500\n",
    "        apple5 = apple5 + 1\n",
    "    elif apple >= 1:\n",
    "        apple = apple - 1\n",
    "        money = money + 700\n",
    "        apple1 = apple1 + 1\n",
    "print(f\"구매해야할 남은 사과 갯수 = {apple} / 17개 최저가 구매 = {money}\")\n",
    "print(f\"사과 1개 = {apple1} / 사과 5개 = {apple5} / 사과 6개 = {apple6}\")"
   ]
  },
  {
   "cell_type": "code",
   "execution_count": 93,
   "id": "b558a562",
   "metadata": {},
   "outputs": [
    {
     "name": "stdout",
     "output_type": "stream",
     "text": [
      "7300\n",
      "사과 17개의 최저가 = 7300\n"
     ]
    }
   ],
   "source": [
    "# 반복문 없이 다른사람 풀이\n",
    "\n",
    "def apple_shop (basket):    #   / <- 나누기 연산자 (소숫점도 나옴)  // <- 나누기 몫 연산자 (몫만나옴) % <- 나머지 연산자 (5 % 3 = 2 <- 나머지반환)\n",
    "    six_apple = basket // 6 #  6개로 묶인 사과 갯수 세기\n",
    "    basket = basket % 6     #  6개로 나눠서 남은 나머지만 넣어주기\n",
    "    five_apple = basket // 5 # 위 동일\n",
    "    basket = basket % 5      # 위 동일\n",
    "    one_apple = basket       # 남은 사과 담아주기\n",
    "    return (six_apple * 2400) + (five_apple * 2500) + (one_apple * 700) # 바구니의 갯수에 가격 매겨주기\n",
    "print(apple_shop(17))\n",
    "\n",
    "# 반복문 없이 변경\n",
    "apple = 17\n",
    "one_apple = 0\n",
    "five_apple = 0\n",
    "six_apple = 0\n",
    "money = 0\n",
    "\n",
    "six_apple = int(apple / 6)\n",
    "apple = apple % 6\n",
    "five_apple = int(apple / 5)\n",
    "apple = apple % 5\n",
    "one_apple = int(apple)\n",
    "\n",
    "money = (six_apple * 2400) + (five_apple * 2500) + (one_apple * 700)\n",
    "print(f\"사과 17개의 최저가 = {money}\")"
   ]
  },
  {
   "cell_type": "code",
   "execution_count": 102,
   "id": "747b010f",
   "metadata": {},
   "outputs": [
    {
     "data": {
      "text/plain": [
       "1"
      ]
     },
     "execution_count": 102,
     "metadata": {},
     "output_type": "execute_result"
    }
   ],
   "source": [
    "# 4의 3제곱 = 4 * 4 * 4 / 3의 2016제곱의 1의 자리의 숫자 = 1 / 1이 나오도록 구해볼 것\n",
    "# 10000자리수 이상 계산 불가, 반복문 이용 거듭 제곱\n",
    "\n",
    "num = 1\n",
    "for i in range(2016):\n",
    "    num *= 3\n",
    "    num %= 10\n",
    "num"
   ]
  },
  {
   "cell_type": "code",
   "execution_count": 115,
   "id": "11433886",
   "metadata": {},
   "outputs": [
    {
     "name": "stdout",
     "output_type": "stream",
     "text": [
      "양의 숫자를 입력하세요 = 84\n",
      "양의 숫자를 입력하세요 = 56\n",
      "양의 숫자를 입력하세요 = 87\n",
      "양의 숫자를 입력하세요 = 56\n",
      "양의 숫자를 입력하세요 = 55\n",
      "양의 숫자를 입력하세요 = 86\n",
      "양의 숫자를 입력하세요 = 25\n",
      "양의 숫자를 입력하세요 = 95\n",
      "양의 숫자를 입력하세요 = 35\n",
      "양의 숫자를 입력하세요 = -1\n",
      "평균 = 64.33333333333333 / 최대값 = 95 / 최소값 = 25\n",
      "모든 수의 합 = 579 / 입력한 수의 갯수 = 9\n"
     ]
    }
   ],
   "source": [
    "# 양수를 입력받는 반복문 작성 / 입력된 값들의 평균, 최소값, 최대값 출력 / 음수 입력시 종료\n",
    "# sum(), min(), max() 사용x, 반복문 o\n",
    "\n",
    "count = 0\n",
    "val_sum = 0\n",
    "val_average = 0\n",
    "val_max = 0\n",
    "val_min = 0\n",
    "\n",
    "while True:\n",
    "    val_in = int(input(\"양의 숫자를 입력하세요 = \"))\n",
    "    \n",
    "    # 최소값 설정\n",
    "    if val_min == 0:\n",
    "        val_min = val_in\n",
    "    \n",
    "    # 양수 일 때\n",
    "    if val_in >= 0:\n",
    "        \n",
    "        # 평균값 계산\n",
    "        count = count + 1\n",
    "        val_sum = int(val_sum + val_in)\n",
    "        val_average = val_sum / count\n",
    "        \n",
    "        # 최대값 계산\n",
    "        if val_max < val_in:\n",
    "            val_max = val_in\n",
    "            \n",
    "        # 최소값 계산\n",
    "        if val_min > val_in:\n",
    "            val_min = val_in\n",
    "            \n",
    "    # 음수 일 때\n",
    "    elif val_in < 0:\n",
    "        break\n",
    "        \n",
    "\n",
    "print(f\"평균 = {val_average} / 최대값 = {val_max} / 최소값 = {val_min}\")\n",
    "print(f\"모든 수의 합 = {val_sum} / 입력한 수의 갯수 = {count}\")"
   ]
  },
  {
   "cell_type": "code",
   "execution_count": 117,
   "id": "4199fb5c",
   "metadata": {},
   "outputs": [
    {
     "name": "stdout",
     "output_type": "stream",
     "text": [
      "양의 숫자를 입력하세요 = 84\n",
      "양의 숫자를 입력하세요 = 56\n",
      "양의 숫자를 입력하세요 = 87\n",
      "양의 숫자를 입력하세요 = 56\n",
      "양의 숫자를 입력하세요 = 55\n",
      "양의 숫자를 입력하세요 = 86\n",
      "양의 숫자를 입력하세요 = 25\n",
      "양의 숫자를 입력하세요 = 95\n",
      "양의 숫자를 입력하세요 = 35\n",
      "양의 숫자를 입력하세요 = -1\n",
      "평균 = 64.33333333333333 / 최대값 = 95 / 최소값 = 25\n",
      "모든 수의 합 = 579 / 입력한 수의 갯수 = 9\n"
     ]
    }
   ],
   "source": [
    "# 강사님 풀이\n",
    "\n",
    "val_count = 1\n",
    "val_sum = val_min = val_max = int(input(\"양의 숫자를 입력하세요 = \"))\n",
    "\n",
    "while True:\n",
    "    val_in = int(input(\"양의 숫자를 입력하세요 = \"))\n",
    "    \n",
    "    if val_in < 0:\n",
    "        val_average = val_sum / val_count\n",
    "        \n",
    "        print(f\"평균 = {val_average} / 최대값 = {val_max} / 최소값 = {val_min}\")\n",
    "        print(f\"모든 수의 합 = {val_sum} / 입력한 수의 갯수 = {val_count}\")\n",
    "        break\n",
    "        \n",
    "    if val_min > val_in:\n",
    "        val_min = val_in\n",
    "        \n",
    "    if val_max < val_in:\n",
    "        val_max = val_in\n",
    "        \n",
    "    val_sum += val_in\n",
    "    val_count += 1"
   ]
  },
  {
   "cell_type": "code",
   "execution_count": 166,
   "id": "0eea86f5",
   "metadata": {},
   "outputs": [
    {
     "name": "stdout",
     "output_type": "stream",
     "text": [
      "문자열을 입력하세요 = foobar\n",
      "앞 문자를 1번 뒤로 옮겼을 때 = ['oobarf']\n",
      "앞 문자를 2번 뒤로 옮겼을 때 = ['oobarf', 'obarfo']\n",
      "앞 문자를 3번 뒤로 옮겼을 때 = ['oobarf', 'obarfo', 'barfoo']\n",
      "앞 문자를 4번 뒤로 옮겼을 때 = ['oobarf', 'obarfo', 'barfoo', 'arfoob']\n",
      "앞 문자를 5번 뒤로 옮겼을 때 = ['oobarf', 'obarfo', 'barfoo', 'arfoob', 'rfooba']\n",
      "앞 문자를 6번 뒤로 옮겼을 때 = ['oobarf', 'obarfo', 'barfoo', 'arfoob', 'rfooba', 'foobar']\n",
      "사전순 정렬 = arfoob / 4 번째 단어 입니다\n"
     ]
    }
   ],
   "source": [
    "# 문자열에서 첫 글자를 맨 뒤로 옮기기 반복 / \n",
    "# 사전에서 가장 먼저 나오는 단어문자열 / 몇개의 문자를 뒤로 옮겨서 얻는 문자열인가\n",
    "# 예시 banana => ananab, nanaba, anaban, nabana, abanan / 사전 서순 abanan / 5개의 문자를 옮겨서 나온 문자열\n",
    "\n",
    "word = input(\"문자열을 입력하세요 = \")\n",
    "wordlist = []\n",
    "for r in range(len(word)):\n",
    "    word = word[1:] + word[0]\n",
    "    wordlist.append(word)\n",
    "    print(f\"앞 문자를 {r+1}번 뒤로 옮겼을 때 = {wordlist}\")\n",
    "wordlist_sort = sorted(wordlist)\n",
    "word_count = wordlist.index(wordlist_sort[0]) + 1\n",
    "print(f\"사전순 정렬 = {wordlist_sort[0]} / {word_count} 번째 단어 입니다\")"
   ]
  },
  {
   "cell_type": "code",
   "execution_count": 167,
   "id": "0d93a195",
   "metadata": {},
   "outputs": [],
   "source": [
    "# *args = 앞에 * 있을 시 args로 입력되는 값이 배열이 되어 들어간다\n",
    "\n",
    "def add_many(*args):\n",
    "    result = 0 \n",
    "    for i in args: \n",
    "        result = result + i   # *args에 입력받은 모든 값을 더한다.\n",
    "    return result"
   ]
  },
  {
   "cell_type": "code",
   "execution_count": 168,
   "id": "e2bcecb2",
   "metadata": {},
   "outputs": [
    {
     "name": "stdout",
     "output_type": "stream",
     "text": [
      "6\n"
     ]
    }
   ],
   "source": [
    "result = add_many(1, 2, 3)\n",
    "print(result)"
   ]
  },
  {
   "cell_type": "code",
   "execution_count": 169,
   "id": "9c97892f",
   "metadata": {},
   "outputs": [
    {
     "name": "stdout",
     "output_type": "stream",
     "text": [
      "55\n"
     ]
    }
   ],
   "source": [
    "result = add_many(1, 2, 3, 4, 5, 6, 7, 8, 9, 10)\n",
    "print(result)"
   ]
  },
  {
   "cell_type": "code",
   "execution_count": 172,
   "id": "15c26beb",
   "metadata": {},
   "outputs": [
    {
     "name": "stdout",
     "output_type": "stream",
     "text": [
      "55\n"
     ]
    }
   ],
   "source": [
    "mylist = [1, 2, 3, 4, 5, 6, 7, 8, 9, 10]\n",
    "def add_many2(args):\n",
    "    result = 0 \n",
    "    for i in args: \n",
    "        result = result + i   # *args에 입력받은 모든 값을 더한다.\n",
    "    return result\n",
    "result = add_many2(mylist)\n",
    "print(result)"
   ]
  },
  {
   "cell_type": "code",
   "execution_count": 173,
   "id": "4534e600",
   "metadata": {},
   "outputs": [],
   "source": [
    "def sachick(optype, *data):\n",
    "    if optype == \"add\":\n",
    "        result = 0\n",
    "        for i in data:\n",
    "            result += i\n",
    "    elif optype == \"mul\":\n",
    "        result = 1\n",
    "        for i in data:\n",
    "            result *= i\n",
    "    elif optype == \"sub\":\n",
    "        result = 0\n",
    "        for i in data:\n",
    "            result -= i\n",
    "    elif optype == \"div\":\n",
    "        result = 1\n",
    "        for i in data:\n",
    "            result /= i\n",
    "    else :\n",
    "        result = -1\n",
    "    return result"
   ]
  },
  {
   "cell_type": "code",
   "execution_count": null,
   "id": "14a2d5d4",
   "metadata": {},
   "outputs": [],
   "source": []
  }
 ],
 "metadata": {
  "kernelspec": {
   "display_name": "Python 3 (ipykernel)",
   "language": "python",
   "name": "python3"
  },
  "language_info": {
   "codemirror_mode": {
    "name": "ipython",
    "version": 3
   },
   "file_extension": ".py",
   "mimetype": "text/x-python",
   "name": "python",
   "nbconvert_exporter": "python",
   "pygments_lexer": "ipython3",
   "version": "3.8.0"
  }
 },
 "nbformat": 4,
 "nbformat_minor": 5
}
