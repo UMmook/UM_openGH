{
 "cells": [
  {
   "cell_type": "code",
   "execution_count": null,
   "id": "2f27277d",
   "metadata": {},
   "outputs": [],
   "source": [
    "# shift + enter : cell 실행 후 한 줄 더 생성 / 또는 다음 줄로 생성\n",
    "# ctrl + enter : 제자리에서 실행"
   ]
  },
  {
   "cell_type": "code",
   "execution_count": 1,
   "id": "925459e1",
   "metadata": {},
   "outputs": [],
   "source": [
    "a = 1"
   ]
  },
  {
   "cell_type": "code",
   "execution_count": 3,
   "id": "5d67e5d0",
   "metadata": {},
   "outputs": [
    {
     "name": "stdout",
     "output_type": "stream",
     "text": [
      "3\n"
     ]
    }
   ],
   "source": [
    "a += 1\n",
    "print(a)"
   ]
  },
  {
   "cell_type": "code",
   "execution_count": 4,
   "id": "9370e9f3",
   "metadata": {},
   "outputs": [],
   "source": [
    "# 자료형 - 숫자형"
   ]
  },
  {
   "cell_type": "code",
   "execution_count": 5,
   "id": "7499345a",
   "metadata": {},
   "outputs": [
    {
     "data": {
      "text/plain": [
       "8"
      ]
     },
     "execution_count": 5,
     "metadata": {},
     "output_type": "execute_result"
    }
   ],
   "source": [
    "2**3"
   ]
  },
  {
   "cell_type": "code",
   "execution_count": 6,
   "id": "9d0ba959",
   "metadata": {},
   "outputs": [
    {
     "data": {
      "text/plain": [
       "1.6666666666666667"
      ]
     },
     "execution_count": 6,
     "metadata": {},
     "output_type": "execute_result"
    }
   ],
   "source": [
    "5/3"
   ]
  },
  {
   "cell_type": "code",
   "execution_count": 7,
   "id": "953a6dab",
   "metadata": {},
   "outputs": [
    {
     "data": {
      "text/plain": [
       "1"
      ]
     },
     "execution_count": 7,
     "metadata": {},
     "output_type": "execute_result"
    }
   ],
   "source": [
    "int(5/3)"
   ]
  },
  {
   "cell_type": "code",
   "execution_count": 8,
   "id": "11732cea",
   "metadata": {},
   "outputs": [
    {
     "data": {
      "text/plain": [
       "1"
      ]
     },
     "execution_count": 8,
     "metadata": {},
     "output_type": "execute_result"
    }
   ],
   "source": [
    "5//3"
   ]
  },
  {
   "cell_type": "code",
   "execution_count": 9,
   "id": "1e300633",
   "metadata": {},
   "outputs": [
    {
     "data": {
      "text/plain": [
       "2"
      ]
     },
     "execution_count": 9,
     "metadata": {},
     "output_type": "execute_result"
    }
   ],
   "source": [
    "5%3"
   ]
  },
  {
   "cell_type": "code",
   "execution_count": null,
   "id": "97150906",
   "metadata": {},
   "outputs": [],
   "source": [
    "# 작은 따음표 3개를 쓰면 여러 문자열을 삽입할 수 있다"
   ]
  },
  {
   "cell_type": "code",
   "execution_count": 10,
   "id": "f3e317ea",
   "metadata": {},
   "outputs": [],
   "source": [
    "news1 = \"\"\"카멘 쇼케이스에 대해서도 많은 성원과 호응을 보내주셔서 감사합니다.\n",
    "\n",
    "특히 저희 삼대장님들과 개발진들의 열정과 매력이 여러분들에게 잘 전달된 것 같아서 매우 기쁩니다.\n",
    "\n",
    "앞으로도 삼대장님들을 포함한 많은 스탭분들의 매력을 보여드릴 기회가 늘어나면 좋겠습니다. \n",
    "\n",
    "그리고 저희 스튜디오의 궁극의 합작품인 카멘 레이드도 여러분들께 꼭 좋은 평가를 얻었으면 하는 바램입니다.\"\"\""
   ]
  },
  {
   "cell_type": "code",
   "execution_count": 11,
   "id": "43c48c2b",
   "metadata": {},
   "outputs": [
    {
     "data": {
      "text/plain": [
       "'카멘 쇼케이스에 대해서도 많은 성원과 호응을 보내주셔서 감사합니다.\\n\\n특히 저희 삼대장님들과 개발진들의 열정과 매력이 여러분들에게 잘 전달된 것 같아서 매우 기쁩니다.\\n\\n앞으로도 삼대장님들을 포함한 많은 스탭분들의 매력을 보여드릴 기회가 늘어나면 좋겠습니다. \\n\\n그리고 저희 스튜디오의 궁극의 합작품인 카멘 레이드도 여러분들께 꼭 좋은 평가를 얻었으면 하는 바램입니다.'"
      ]
     },
     "execution_count": 11,
     "metadata": {},
     "output_type": "execute_result"
    }
   ],
   "source": [
    "news1"
   ]
  },
  {
   "cell_type": "code",
   "execution_count": 12,
   "id": "12cbd199",
   "metadata": {},
   "outputs": [
    {
     "data": {
      "text/plain": [
       "'hihihi'"
      ]
     },
     "execution_count": 12,
     "metadata": {},
     "output_type": "execute_result"
    }
   ],
   "source": [
    "str1 = \"hi\"\n",
    "str1 * 3"
   ]
  },
  {
   "cell_type": "code",
   "execution_count": 13,
   "id": "dc6b1950",
   "metadata": {},
   "outputs": [
    {
     "data": {
      "text/plain": [
       "'================================'"
      ]
     },
     "execution_count": 13,
     "metadata": {},
     "output_type": "execute_result"
    }
   ],
   "source": [
    "\"================================\""
   ]
  },
  {
   "cell_type": "code",
   "execution_count": 14,
   "id": "d1f3cda9",
   "metadata": {},
   "outputs": [
    {
     "data": {
      "text/plain": [
       "'========================================'"
      ]
     },
     "execution_count": 14,
     "metadata": {},
     "output_type": "execute_result"
    }
   ],
   "source": [
    "\"=\" * 40"
   ]
  },
  {
   "cell_type": "code",
   "execution_count": null,
   "id": "8141527f",
   "metadata": {},
   "outputs": [],
   "source": [
    "# 배열의 길이를 측정할 때 length 대신 len()을 사용한다\n",
    "# 배열에서 앞에서는 [0]배열부터 / 뒤에서는 [-1]배열부터 확인할 수 있다\n",
    "# 배열에서 [1:3] 입력시 해당 배열의 [1]배열부터 [3]배열 이전까지 출력할 수 있다"
   ]
  },
  {
   "cell_type": "code",
   "execution_count": 15,
   "id": "d400b020",
   "metadata": {},
   "outputs": [
    {
     "data": {
      "text/plain": [
       "4"
      ]
     },
     "execution_count": 15,
     "metadata": {},
     "output_type": "execute_result"
    }
   ],
   "source": [
    "a = [1, 2, 3, 4]\n",
    "len(a)"
   ]
  },
  {
   "cell_type": "code",
   "execution_count": 16,
   "id": "59beb2fd",
   "metadata": {},
   "outputs": [
    {
     "data": {
      "text/plain": [
       "5"
      ]
     },
     "execution_count": 16,
     "metadata": {},
     "output_type": "execute_result"
    }
   ],
   "source": [
    "a = \"hello\"\n",
    "len(a)"
   ]
  },
  {
   "cell_type": "code",
   "execution_count": 17,
   "id": "0019a457",
   "metadata": {},
   "outputs": [
    {
     "data": {
      "text/plain": [
       "'e'"
      ]
     },
     "execution_count": 17,
     "metadata": {},
     "output_type": "execute_result"
    }
   ],
   "source": [
    "a[1]"
   ]
  },
  {
   "cell_type": "code",
   "execution_count": 18,
   "id": "e8ef9ef7",
   "metadata": {},
   "outputs": [
    {
     "data": {
      "text/plain": [
       "('o', 'o')"
      ]
     },
     "execution_count": 18,
     "metadata": {},
     "output_type": "execute_result"
    }
   ],
   "source": [
    "a[4], a[-1]"
   ]
  },
  {
   "cell_type": "code",
   "execution_count": 19,
   "id": "4bbc643a",
   "metadata": {},
   "outputs": [
    {
     "data": {
      "text/plain": [
       "'el'"
      ]
     },
     "execution_count": 19,
     "metadata": {},
     "output_type": "execute_result"
    }
   ],
   "source": [
    "a[1:3]"
   ]
  },
  {
   "cell_type": "code",
   "execution_count": 20,
   "id": "0551088f",
   "metadata": {},
   "outputs": [
    {
     "data": {
      "text/plain": [
       "'llo'"
      ]
     },
     "execution_count": 20,
     "metadata": {},
     "output_type": "execute_result"
    }
   ],
   "source": [
    "a[2:]"
   ]
  },
  {
   "cell_type": "code",
   "execution_count": 22,
   "id": "3a2b18c7",
   "metadata": {},
   "outputs": [
    {
     "data": {
      "text/plain": [
       "'he'"
      ]
     },
     "execution_count": 22,
     "metadata": {},
     "output_type": "execute_result"
    }
   ],
   "source": [
    "a[:2]"
   ]
  },
  {
   "cell_type": "code",
   "execution_count": 23,
   "id": "71ee523e",
   "metadata": {},
   "outputs": [
    {
     "data": {
      "text/plain": [
       "'hello'"
      ]
     },
     "execution_count": 23,
     "metadata": {},
     "output_type": "execute_result"
    }
   ],
   "source": [
    "a[:]"
   ]
  },
  {
   "cell_type": "code",
   "execution_count": 24,
   "id": "b2a5e159",
   "metadata": {},
   "outputs": [
    {
     "data": {
      "text/plain": [
       "'12345678'"
      ]
     },
     "execution_count": 24,
     "metadata": {},
     "output_type": "execute_result"
    }
   ],
   "source": [
    "phone_num = \"010-1234-5678\"\n",
    "#pn = 12345678\n",
    "pn = phone_num[4:8] + phone_num[9:]\n",
    "pn"
   ]
  },
  {
   "cell_type": "code",
   "execution_count": 25,
   "id": "f86d5e77",
   "metadata": {},
   "outputs": [
    {
     "data": {
      "text/plain": [
       "'hello'"
      ]
     },
     "execution_count": 25,
     "metadata": {},
     "output_type": "execute_result"
    }
   ],
   "source": [
    "a = \"hello\"\n",
    "a"
   ]
  },
  {
   "cell_type": "code",
   "execution_count": 26,
   "id": "c7106fc7",
   "metadata": {},
   "outputs": [
    {
     "data": {
      "text/plain": [
       "'hallo'"
      ]
     },
     "execution_count": 26,
     "metadata": {},
     "output_type": "execute_result"
    }
   ],
   "source": [
    "hallo = a[:1] + \"a\" + a[2:]\n",
    "hallo"
   ]
  },
  {
   "cell_type": "code",
   "execution_count": 27,
   "id": "48f58dda",
   "metadata": {},
   "outputs": [
    {
     "name": "stdout",
     "output_type": "stream",
     "text": [
      "answer : [10]\n"
     ]
    }
   ],
   "source": [
    "res = 10\n",
    "print(\"answer : [%d]\" %res)"
   ]
  },
  {
   "cell_type": "code",
   "execution_count": 28,
   "id": "259051c2",
   "metadata": {},
   "outputs": [
    {
     "name": "stdout",
     "output_type": "stream",
     "text": [
      "answer : [olleh]\n"
     ]
    }
   ],
   "source": [
    "res = \"olleh\" # hello\n",
    "print(\"answer : [%s]\" %res)"
   ]
  },
  {
   "cell_type": "code",
   "execution_count": 29,
   "id": "09175d89",
   "metadata": {},
   "outputs": [
    {
     "name": "stdout",
     "output_type": "stream",
     "text": [
      "(0, 1) 2\n",
      "(0, 2) 3\n",
      "(0, 3) 4\n"
     ]
    }
   ],
   "source": [
    "# (0, 1) 2\n",
    "# (0, 2) 3\n",
    "# (0, 3) 4\n",
    "res2 = [0, 0, 0, 0, 0]\n",
    "\n",
    "res2[1] = 2\n",
    "res2[2] = 3\n",
    "res2[3] = 4\n",
    "\n",
    "for j in range(1, 4):\n",
    "    print(\"(0, %d) %d\" %(j, res2[j]))"
   ]
  },
  {
   "cell_type": "code",
   "execution_count": 30,
   "id": "04c6cdcd",
   "metadata": {},
   "outputs": [
    {
     "name": "stdout",
     "output_type": "stream",
     "text": [
      "농도가 98%입니다\n"
     ]
    }
   ],
   "source": [
    "print(\"농도가 98%입니다\")"
   ]
  },
  {
   "cell_type": "code",
   "execution_count": 31,
   "id": "6ff842ca",
   "metadata": {},
   "outputs": [
    {
     "name": "stdout",
     "output_type": "stream",
     "text": [
      "농도가 98%입니다\n"
     ]
    }
   ],
   "source": [
    "print(\"농도가 %d%%입니다\" %98)"
   ]
  },
  {
   "cell_type": "code",
   "execution_count": 32,
   "id": "ba6d7af0",
   "metadata": {},
   "outputs": [
    {
     "data": {
      "text/plain": [
       "'hi'"
      ]
     },
     "execution_count": 32,
     "metadata": {},
     "output_type": "execute_result"
    }
   ],
   "source": [
    "\"%s\" %\"hi\""
   ]
  },
  {
   "cell_type": "code",
   "execution_count": 33,
   "id": "cb985aa8",
   "metadata": {},
   "outputs": [
    {
     "data": {
      "text/plain": [
       "'        hi'"
      ]
     },
     "execution_count": 33,
     "metadata": {},
     "output_type": "execute_result"
    }
   ],
   "source": [
    "# 공백이 10칸이 생성되며 앞에서 순서대로 8칸은 공백 남은 2칸은 입력한 값 hi가 적용된다\n",
    "\"%10s\" %\"hi\""
   ]
  },
  {
   "cell_type": "code",
   "execution_count": 34,
   "id": "c1b04f75",
   "metadata": {},
   "outputs": [
    {
     "data": {
      "text/plain": [
       "'hi        '"
      ]
     },
     "execution_count": 34,
     "metadata": {},
     "output_type": "execute_result"
    }
   ],
   "source": [
    "# 공백이 10칸이 생성되며 -가 붙을 시 뒤에서부터 적용되며 앞에 2칸은 입력한 값 hi가 적용된다\n",
    "\"%-10s\" %\"hi\""
   ]
  },
  {
   "cell_type": "code",
   "execution_count": 39,
   "id": "e5b290e1",
   "metadata": {},
   "outputs": [
    {
     "data": {
      "text/plain": [
       "'김진수       10  20'"
      ]
     },
     "execution_count": 39,
     "metadata": {},
     "output_type": "execute_result"
    }
   ],
   "source": [
    "# 이름, 11번째 자리에 n, 15번째 자리에 m\n",
    "# -10을 통해 10칸 공백 생성 후 맨 앞에 이름 출력\n",
    "# -4를 통해 이름 출력 후 남은 공백 다음 4칸의 공백 생성 후 맨 앞 (11)번째에 n 출력\n",
    "# n 출력 후 남은 공백 다음 (15)번째에 m 출력\n",
    "\n",
    "# '김진수' 출력 후 7자리 공백 + '10' 출력 후 2자리 공백 + '20' 출력\n",
    "name = \"김진수\"\n",
    "n = 10\n",
    "m = 20\n",
    "\"%-10s%-4d%d\" %(name, n, m)"
   ]
  },
  {
   "cell_type": "code",
   "execution_count": 36,
   "id": "46567323",
   "metadata": {},
   "outputs": [
    {
     "data": {
      "text/plain": [
       "'3.4213'"
      ]
     },
     "execution_count": 36,
     "metadata": {},
     "output_type": "execute_result"
    }
   ],
   "source": [
    "# .4f 는 소수점 4자리 까지 출력\n",
    "res = 3.42134234\n",
    "\"%.4f\" %res"
   ]
  },
  {
   "cell_type": "code",
   "execution_count": 37,
   "id": "787c726e",
   "metadata": {},
   "outputs": [
    {
     "data": {
      "text/plain": [
       "0.3333333333333333"
      ]
     },
     "execution_count": 37,
     "metadata": {},
     "output_type": "execute_result"
    }
   ],
   "source": [
    "1/3"
   ]
  },
  {
   "cell_type": "code",
   "execution_count": 38,
   "id": "782b21e9",
   "metadata": {},
   "outputs": [
    {
     "data": {
      "text/plain": [
       "'0.3333'"
      ]
     },
     "execution_count": 38,
     "metadata": {},
     "output_type": "execute_result"
    }
   ],
   "source": [
    "res = 1/3\n",
    "\"%.4f\" %res"
   ]
  },
  {
   "cell_type": "code",
   "execution_count": 40,
   "id": "e1cd40e6",
   "metadata": {},
   "outputs": [
    {
     "data": {
      "text/plain": [
       "('값:1, 값:2', '값:2, 값:1')"
      ]
     },
     "execution_count": 40,
     "metadata": {},
     "output_type": "execute_result"
    }
   ],
   "source": [
    "# {} 속에 들어간 인덱스의 번호에 들어간 값을 출력\n",
    "# {0} 입력 시 (a, b)중 0인덱스인 a값 출력 / {1} 입력 시 (a, b)중 1인덱스인 b값 출력\n",
    "a = 1\n",
    "b = 2\n",
    "\"값:{0}, 값:{1}\".format(a, b), \"값:{1}, 값:{0}\".format(a, b)"
   ]
  },
  {
   "cell_type": "code",
   "execution_count": 41,
   "id": "9f225269",
   "metadata": {},
   "outputs": [
    {
     "data": {
      "text/plain": [
       "'값:1, 값:2'"
      ]
     },
     "execution_count": 41,
     "metadata": {},
     "output_type": "execute_result"
    }
   ],
   "source": [
    "# {} 속에 입력한 변수에 직접적으로 값을 지정하는 방법\n",
    "\"값:{first}, 값:{second}\".format(first = a, second = b)"
   ]
  },
  {
   "cell_type": "code",
   "execution_count": 42,
   "id": "e6be5928",
   "metadata": {},
   "outputs": [
    {
     "name": "stdout",
     "output_type": "stream",
     "text": [
      "김진수 고객님께서 다음 상품에 대해 98.1 정도로 \n",
      "만족하실 것 같아요. 가보실래요?\n"
     ]
    }
   ],
   "source": [
    "# f 문자열 포매팅 기능 -> 문자열 앞에 접두사로 f를 붙이면 사용 가능\n",
    "name = \"김진수\"\n",
    "satis_pred = 98.1 # 예상 만족도\n",
    "print(f\"\"\"{name} 고객님께서 다음 상품에 대해 {satis_pred} 정도로 \n",
    "만족하실 것 같아요. 가보실래요?\"\"\")"
   ]
  },
  {
   "cell_type": "code",
   "execution_count": null,
   "id": "002fba74",
   "metadata": {},
   "outputs": [],
   "source": [
    "# 코딩 테스트 (자동화), 과제, 화이트보드 테스트 (수동 체점)"
   ]
  },
  {
   "cell_type": "code",
   "execution_count": 43,
   "id": "07a2de55",
   "metadata": {},
   "outputs": [
    {
     "data": {
      "text/plain": [
       "2"
      ]
     },
     "execution_count": 43,
     "metadata": {},
     "output_type": "execute_result"
    }
   ],
   "source": [
    "a = \"my hobby\"\n",
    "\n",
    "# count = ()속 값의 갯수\n",
    "a.count('b')"
   ]
  },
  {
   "cell_type": "code",
   "execution_count": 44,
   "id": "d7a7cfee",
   "metadata": {},
   "outputs": [
    {
     "data": {
      "text/plain": [
       "5"
      ]
     },
     "execution_count": 44,
     "metadata": {},
     "output_type": "execute_result"
    }
   ],
   "source": [
    "# find = ()속 값이 처음 나온 인덱스\n",
    "a.find('b')"
   ]
  },
  {
   "cell_type": "code",
   "execution_count": 45,
   "id": "871b6835",
   "metadata": {},
   "outputs": [
    {
     "data": {
      "text/plain": [
       "-1"
      ]
     },
     "execution_count": 45,
     "metadata": {},
     "output_type": "execute_result"
    }
   ],
   "source": [
    "# 찾는 값이 없다면 -1 반환\n",
    "a.find('k')"
   ]
  },
  {
   "cell_type": "code",
   "execution_count": 46,
   "id": "8b2778ce",
   "metadata": {},
   "outputs": [
    {
     "data": {
      "text/plain": [
       "'a to the b to the c'"
      ]
     },
     "execution_count": 46,
     "metadata": {},
     "output_type": "execute_result"
    }
   ],
   "source": [
    "# join을 통해 ()속 문자 사이마다 앞의 \"\"값 넣고 출력\n",
    "\" to the \".join('abc')"
   ]
  },
  {
   "cell_type": "code",
   "execution_count": 47,
   "id": "fde82e4a",
   "metadata": {},
   "outputs": [
    {
     "data": {
      "text/plain": [
       "'hi '"
      ]
     },
     "execution_count": 47,
     "metadata": {},
     "output_type": "execute_result"
    }
   ],
   "source": [
    "# lstrip = 왼쪽 공백 지우기 / rstrip = 오른쪽 공백 지우기\n",
    "a = \" hi \"\n",
    "a.lstrip()"
   ]
  },
  {
   "cell_type": "code",
   "execution_count": 48,
   "id": "f1415bad",
   "metadata": {},
   "outputs": [
    {
     "data": {
      "text/plain": [
       "'^^'"
      ]
     },
     "execution_count": 48,
     "metadata": {},
     "output_type": "execute_result"
    }
   ],
   "source": [
    "# strip = 양쪽 공백 지우기\n",
    "# () 속에 값을 입력 시 양쪽에 해당 값을 지움\n",
    "a = \"***^^***\"\n",
    "a.strip(\"*\")"
   ]
  },
  {
   "cell_type": "code",
   "execution_count": 49,
   "id": "3778cdd6",
   "metadata": {},
   "outputs": [
    {
     "data": {
      "text/plain": [
       "'hallo'"
      ]
     },
     "execution_count": 49,
     "metadata": {},
     "output_type": "execute_result"
    }
   ],
   "source": [
    "# replace = ()속 앞에 문자열을 뒤에 문자열로 바꿈\n",
    "a = \"hello\"\n",
    "a.replace(\"e\", \"a\")"
   ]
  },
  {
   "cell_type": "code",
   "execution_count": 50,
   "id": "488ce7ca",
   "metadata": {},
   "outputs": [
    {
     "data": {
      "text/plain": [
       "['010', '1234', '5678']"
      ]
     },
     "execution_count": 50,
     "metadata": {},
     "output_type": "execute_result"
    }
   ],
   "source": [
    "# split = ()속 값을 기준으로 문자열을 나눔 / 공백일 때는 공백 기준으로 나눔\n",
    "pn = \"010-1234-5678\"\n",
    "pn.split(\"-\")"
   ]
  },
  {
   "cell_type": "code",
   "execution_count": null,
   "id": "f653437b",
   "metadata": {},
   "outputs": [],
   "source": [
    "# [ , , ] : JS-배열, 파이썬-리스트"
   ]
  },
  {
   "cell_type": "code",
   "execution_count": 51,
   "id": "daed6918",
   "metadata": {},
   "outputs": [
    {
     "data": {
      "text/plain": [
       "('hello', 'hallo')"
      ]
     },
     "execution_count": 51,
     "metadata": {},
     "output_type": "execute_result"
    }
   ],
   "source": [
    "a = \"hello\"\n",
    "a2 = a.replace(\"e\", \"a\")\n",
    "a, a2"
   ]
  },
  {
   "cell_type": "code",
   "execution_count": 52,
   "id": "a0f095b7",
   "metadata": {},
   "outputs": [
    {
     "data": {
      "text/plain": [
       "[1, 2, 3, 4, 6]"
      ]
     },
     "execution_count": 52,
     "metadata": {},
     "output_type": "execute_result"
    }
   ],
   "source": [
    "# sort = 순서대로 정렬\n",
    "a = [1, 4, 2, 6, 3]\n",
    "a.sort()\n",
    "a"
   ]
  },
  {
   "cell_type": "code",
   "execution_count": 53,
   "id": "7d9c1a3b",
   "metadata": {},
   "outputs": [
    {
     "data": {
      "text/plain": [
       "([1, 4, 2, 6, 3], [1, 2, 3, 4, 6])"
      ]
     },
     "execution_count": 53,
     "metadata": {},
     "output_type": "execute_result"
    }
   ],
   "source": [
    "a = [1, 4, 2, 6, 3]\n",
    "a2 = sorted(a)\n",
    "a, a2"
   ]
  },
  {
   "cell_type": "code",
   "execution_count": 54,
   "id": "4a85c7c4",
   "metadata": {},
   "outputs": [
    {
     "data": {
      "text/plain": [
       "[1, 2, '3', 4]"
      ]
     },
     "execution_count": 54,
     "metadata": {},
     "output_type": "execute_result"
    }
   ],
   "source": [
    "a = [1, 2, \"3\", 4]\n",
    "a"
   ]
  },
  {
   "cell_type": "code",
   "execution_count": 55,
   "id": "03525249",
   "metadata": {},
   "outputs": [
    {
     "data": {
      "text/plain": [
       "[1, 2, [3, 4]]"
      ]
     },
     "execution_count": 55,
     "metadata": {},
     "output_type": "execute_result"
    }
   ],
   "source": [
    "a = [1, 2, [3, 4]]\n",
    "a"
   ]
  },
  {
   "cell_type": "code",
   "execution_count": 56,
   "id": "1284adb1",
   "metadata": {},
   "outputs": [
    {
     "data": {
      "text/plain": [
       "(1, 2, 3, 4)"
      ]
     },
     "execution_count": 56,
     "metadata": {},
     "output_type": "execute_result"
    }
   ],
   "source": [
    "a[0], a[1], a[2][0], a[2][1]"
   ]
  },
  {
   "cell_type": "code",
   "execution_count": 57,
   "id": "66c3378f",
   "metadata": {},
   "outputs": [
    {
     "data": {
      "text/plain": [
       "'23'"
      ]
     },
     "execution_count": 57,
     "metadata": {},
     "output_type": "execute_result"
    }
   ],
   "source": [
    "# str = 문자열 강제 변환\n",
    "str(2) + \"3\""
   ]
  },
  {
   "cell_type": "code",
   "execution_count": 61,
   "id": "d18d4961",
   "metadata": {},
   "outputs": [
    {
     "data": {
      "text/plain": [
       "['h', 'a', 'l', 'l', 'o']"
      ]
     },
     "execution_count": 61,
     "metadata": {},
     "output_type": "execute_result"
    }
   ],
   "source": [
    "a = [\"h\", \"e\", \"l\", \"l\", \"o\"]\n",
    "a[1] = \"a\"\n",
    "a"
   ]
  },
  {
   "cell_type": "code",
   "execution_count": 62,
   "id": "108a3949",
   "metadata": {},
   "outputs": [
    {
     "data": {
      "text/plain": [
       "['h', 'l', 'l', 'o']"
      ]
     },
     "execution_count": 62,
     "metadata": {},
     "output_type": "execute_result"
    }
   ],
   "source": [
    "# del = 문자 또는 문자열 삭제\n",
    "del a[1]\n",
    "a"
   ]
  },
  {
   "cell_type": "code",
   "execution_count": 63,
   "id": "718c8788",
   "metadata": {},
   "outputs": [
    {
     "data": {
      "text/plain": [
       "[1, 2, 3, 4, 5]"
      ]
     },
     "execution_count": 63,
     "metadata": {},
     "output_type": "execute_result"
    }
   ],
   "source": [
    "# append = 배열 뒤에 값을 추가\n",
    "a = [1, 2, 3]\n",
    "a.append(4)\n",
    "a.append(5)\n",
    "a"
   ]
  },
  {
   "cell_type": "code",
   "execution_count": 64,
   "id": "4ac95551",
   "metadata": {},
   "outputs": [
    {
     "data": {
      "text/plain": [
       "[4, 1, 2, 3]"
      ]
     },
     "execution_count": 64,
     "metadata": {},
     "output_type": "execute_result"
    }
   ],
   "source": [
    "# insert = 지정한 인덱스 자리에 값을 추가\n",
    "a = [1, 2, 3]\n",
    "a.insert(0, 4)\n",
    "a"
   ]
  },
  {
   "cell_type": "code",
   "execution_count": 67,
   "id": "562dcb8d",
   "metadata": {},
   "outputs": [
    {
     "data": {
      "text/plain": [
       "['엑셀 cell 데이터 입력', '마우스 포인터 움직임', '키보드 엔터', '전원끄기']"
      ]
     },
     "execution_count": 67,
     "metadata": {},
     "output_type": "execute_result"
    }
   ],
   "source": [
    "a = [\"엑셀 cell 데이터 입력\", \"마우스 포인터 움직임\", \"키보드 엔터\"]\n",
    "a.append(\"전원끄기\")\n",
    "a"
   ]
  },
  {
   "cell_type": "code",
   "execution_count": 68,
   "id": "f0b06217",
   "metadata": {},
   "outputs": [
    {
     "data": {
      "text/plain": [
       "['전원끄기', '엑셀 cell 데이터 입력', '마우스 포인터 움직임', '키보드 엔터']"
      ]
     },
     "execution_count": 68,
     "metadata": {},
     "output_type": "execute_result"
    }
   ],
   "source": [
    "a = [\"엑셀 cell 데이터 입력\", \"마우스 포인터 움직임\", \"키보드 엔터\"]\n",
    "a.insert(0, \"전원끄기\")\n",
    "a"
   ]
  },
  {
   "cell_type": "code",
   "execution_count": 70,
   "id": "45fae9cc",
   "metadata": {},
   "outputs": [
    {
     "data": {
      "text/plain": [
       "['사장님 업무 지시', '이사님 업무 지시', '과장님 업무 지시', '김대리님 업무 지시']"
      ]
     },
     "execution_count": 70,
     "metadata": {},
     "output_type": "execute_result"
    }
   ],
   "source": [
    "a = [\"사장님 업무 지시\", \"과장님 업무 지시\", \"김대리님 업무 지시\"]\n",
    "a.insert(1, \"이사님 업무 지시\")\n",
    "a"
   ]
  },
  {
   "cell_type": "code",
   "execution_count": 71,
   "id": "c961f268",
   "metadata": {},
   "outputs": [
    {
     "data": {
      "text/plain": [
       "[10, 30, 40]"
      ]
     },
     "execution_count": 71,
     "metadata": {},
     "output_type": "execute_result"
    }
   ],
   "source": [
    "a = [10, 20, 30, 40]\n",
    "del a[1] # 20 삭제\n",
    "a"
   ]
  },
  {
   "cell_type": "code",
   "execution_count": 74,
   "id": "16c3da96",
   "metadata": {},
   "outputs": [
    {
     "data": {
      "text/plain": [
       "[10, 30]"
      ]
     },
     "execution_count": 74,
     "metadata": {},
     "output_type": "execute_result"
    }
   ],
   "source": [
    "# remove = () 입력 값 삭제\n",
    "a.remove(40) # 40 삭제\n",
    "a"
   ]
  },
  {
   "cell_type": "code",
   "execution_count": 76,
   "id": "c1a9c89e",
   "metadata": {},
   "outputs": [
    {
     "data": {
      "text/plain": [
       "[1, 2]"
      ]
     },
     "execution_count": 76,
     "metadata": {},
     "output_type": "execute_result"
    }
   ],
   "source": [
    "# pop =  맨 뒤의 요소를 리턴하고 해당 요소 삭제\n",
    "a = [1, 2, 3]\n",
    "a.pop()\n",
    "a"
   ]
  },
  {
   "cell_type": "code",
   "execution_count": 77,
   "id": "b1a9f315",
   "metadata": {},
   "outputs": [
    {
     "data": {
      "text/plain": [
       "[2, 3]"
      ]
     },
     "execution_count": 77,
     "metadata": {},
     "output_type": "execute_result"
    }
   ],
   "source": [
    "# pop에 값이 입력될 시 () 입력된 인덱스의 요소를 리턴하고 해당 요소 삭제\n",
    "a = [1, 2, 3]\n",
    "a.pop(0)\n",
    "a"
   ]
  },
  {
   "cell_type": "code",
   "execution_count": 78,
   "id": "2cf75504",
   "metadata": {},
   "outputs": [
    {
     "data": {
      "text/plain": [
       "[1, 20, 3]"
      ]
     },
     "execution_count": 78,
     "metadata": {},
     "output_type": "execute_result"
    }
   ],
   "source": [
    "# [] 리스트/배열 사용 시 속에 값을 변경이 가능하다\n",
    "# () 튜플 사용 시 속에 값을 변경할 수 없다\n",
    "a = [1, 2, 3]\n",
    "a[1] = 20\n",
    "a"
   ]
  },
  {
   "cell_type": "code",
   "execution_count": 79,
   "id": "fa5d4aec",
   "metadata": {},
   "outputs": [],
   "source": [
    "# JS 객체\n",
    "# dic = {name: 'pey',\n",
    "#       phone: '010-9999-1234',\n",
    "#       birth: '1118'}\n",
    "\n",
    "# 파이썬 객체\n",
    "dic = {'name': 'pey',\n",
    "      'phone': '010-9999-1234',\n",
    "      'birth': '1118'}"
   ]
  },
  {
   "cell_type": "code",
   "execution_count": 80,
   "id": "492066ed",
   "metadata": {},
   "outputs": [
    {
     "data": {
      "text/plain": [
       "{'name': 'pey', 'phone': '010-9999-1234', 'birth': '1118', 'hobby': 'swiming'}"
      ]
     },
     "execution_count": 80,
     "metadata": {},
     "output_type": "execute_result"
    }
   ],
   "source": [
    "dic[\"hobby\"] = \"swiming\"\n",
    "dic"
   ]
  },
  {
   "cell_type": "code",
   "execution_count": 81,
   "id": "8a79b88c",
   "metadata": {},
   "outputs": [
    {
     "data": {
      "text/plain": [
       "{'name': 'pey', 'phone': '010-9999-1234', 'birth': '1118'}"
      ]
     },
     "execution_count": 81,
     "metadata": {},
     "output_type": "execute_result"
    }
   ],
   "source": [
    "del dic[\"hobby\"]\n",
    "dic"
   ]
  },
  {
   "cell_type": "code",
   "execution_count": 82,
   "id": "e2c5aad8",
   "metadata": {},
   "outputs": [
    {
     "data": {
      "text/plain": [
       "'pey'"
      ]
     },
     "execution_count": 82,
     "metadata": {},
     "output_type": "execute_result"
    }
   ],
   "source": [
    "dic[\"name\"]"
   ]
  },
  {
   "cell_type": "code",
   "execution_count": 83,
   "id": "5acf8222",
   "metadata": {},
   "outputs": [
    {
     "data": {
      "text/plain": [
       "'kim'"
      ]
     },
     "execution_count": 83,
     "metadata": {},
     "output_type": "execute_result"
    }
   ],
   "source": [
    "dic = {'name': 'pey',\n",
    "      'phone': '010-9999-1234',\n",
    "      'birth': '1118',\n",
    "      'name': 'kim'}\n",
    "dic[\"name\"]"
   ]
  },
  {
   "cell_type": "code",
   "execution_count": 84,
   "id": "9a0afb33",
   "metadata": {},
   "outputs": [
    {
     "data": {
      "text/plain": [
       "dict_keys(['name', 'phone', 'birth'])"
      ]
     },
     "execution_count": 84,
     "metadata": {},
     "output_type": "execute_result"
    }
   ],
   "source": [
    "dic.keys()"
   ]
  },
  {
   "cell_type": "code",
   "execution_count": 85,
   "id": "314ab9e2",
   "metadata": {},
   "outputs": [
    {
     "data": {
      "text/plain": [
       "dict_values(['kim', '010-9999-1234', '1118'])"
      ]
     },
     "execution_count": 85,
     "metadata": {},
     "output_type": "execute_result"
    }
   ],
   "source": [
    "dic.values()"
   ]
  },
  {
   "cell_type": "code",
   "execution_count": 86,
   "id": "d45b9617",
   "metadata": {},
   "outputs": [
    {
     "data": {
      "text/plain": [
       "dict_items([('name', 'kim'), ('phone', '010-9999-1234'), ('birth', '1118')])"
      ]
     },
     "execution_count": 86,
     "metadata": {},
     "output_type": "execute_result"
    }
   ],
   "source": [
    "dic.items()"
   ]
  },
  {
   "cell_type": "code",
   "execution_count": 89,
   "id": "3a2597e7",
   "metadata": {},
   "outputs": [
    {
     "data": {
      "text/plain": [
       "('kim', 'books')"
      ]
     },
     "execution_count": 89,
     "metadata": {},
     "output_type": "execute_result"
    }
   ],
   "source": [
    "# get = () 값을 가져오는데 없다면 공백 또는 none 출력\n",
    "# 만약 없는 값일 때 출력 값을 지정할 수 있다\n",
    "dic.get(\"name\"), dic.get(\"hobby\", \"books\")"
   ]
  },
  {
   "cell_type": "code",
   "execution_count": 90,
   "id": "24663788",
   "metadata": {},
   "outputs": [
    {
     "data": {
      "text/plain": [
       "False"
      ]
     },
     "execution_count": 90,
     "metadata": {},
     "output_type": "execute_result"
    }
   ],
   "source": [
    "# dic 속에 해당 key가 있는지 확인\n",
    "# 없으면 False 출력\n",
    "\"hobby\" in dic"
   ]
  },
  {
   "cell_type": "code",
   "execution_count": 91,
   "id": "2b8404fe",
   "metadata": {},
   "outputs": [
    {
     "data": {
      "text/plain": [
       "True"
      ]
     },
     "execution_count": 91,
     "metadata": {},
     "output_type": "execute_result"
    }
   ],
   "source": [
    "# 있으면 True 출력\n",
    "\"name\" in dic"
   ]
  },
  {
   "cell_type": "code",
   "execution_count": 92,
   "id": "02572dbd",
   "metadata": {},
   "outputs": [],
   "source": [
    "# JS : set 집합"
   ]
  },
  {
   "cell_type": "code",
   "execution_count": 93,
   "id": "4ead5e25",
   "metadata": {},
   "outputs": [
    {
     "data": {
      "text/plain": [
       "False"
      ]
     },
     "execution_count": 93,
     "metadata": {},
     "output_type": "execute_result"
    }
   ],
   "source": [
    "1 > 2"
   ]
  },
  {
   "cell_type": "code",
   "execution_count": 94,
   "id": "cf89d82f",
   "metadata": {},
   "outputs": [],
   "source": [
    "# 파이썬은 True / False에서 첫 문자를 대문자로 써야만 식별이 가능하다\n",
    "if (False):\n",
    "    print(\"이건 실행 못하겠네\")"
   ]
  },
  {
   "cell_type": "code",
   "execution_count": 95,
   "id": "83aad893",
   "metadata": {},
   "outputs": [
    {
     "data": {
      "text/plain": [
       "[1, 20, 3]"
      ]
     },
     "execution_count": 95,
     "metadata": {},
     "output_type": "execute_result"
    }
   ],
   "source": [
    "a = [1, 2, 3]\n",
    "b = a\n",
    "b[1] = 20\n",
    "a"
   ]
  },
  {
   "cell_type": "code",
   "execution_count": 96,
   "id": "b743536d",
   "metadata": {},
   "outputs": [
    {
     "data": {
      "text/plain": [
       "[1, 2, 3]"
      ]
     },
     "execution_count": 96,
     "metadata": {},
     "output_type": "execute_result"
    }
   ],
   "source": [
    "a = [1, 2, 3]\n",
    "b = a[:]\n",
    "b[1] = 20\n",
    "a"
   ]
  },
  {
   "cell_type": "code",
   "execution_count": 97,
   "id": "b0bf63e5",
   "metadata": {},
   "outputs": [
    {
     "data": {
      "text/plain": [
       "[1, 2, 3]"
      ]
     },
     "execution_count": 97,
     "metadata": {},
     "output_type": "execute_result"
    }
   ],
   "source": [
    "from copy import copy\n",
    "a = [1, 2, 3]\n",
    "b = copy(a)\n",
    "b[1] = 20\n",
    "a"
   ]
  },
  {
   "cell_type": "code",
   "execution_count": 98,
   "id": "9af88096",
   "metadata": {},
   "outputs": [
    {
     "data": {
      "text/plain": [
       "(1, 2)"
      ]
     },
     "execution_count": 98,
     "metadata": {},
     "output_type": "execute_result"
    }
   ],
   "source": [
    "a = 1\n",
    "b = 2\n",
    "a, b = (1, 2)\n",
    "a, b"
   ]
  },
  {
   "cell_type": "code",
   "execution_count": 99,
   "id": "a2ec2096",
   "metadata": {},
   "outputs": [
    {
     "data": {
      "text/plain": [
       "(1, 2)"
      ]
     },
     "execution_count": 99,
     "metadata": {},
     "output_type": "execute_result"
    }
   ],
   "source": [
    "(a, b) = 1, 2\n",
    "a, b"
   ]
  },
  {
   "cell_type": "code",
   "execution_count": 100,
   "id": "c973473c",
   "metadata": {},
   "outputs": [
    {
     "data": {
      "text/plain": [
       "(1, 2)"
      ]
     },
     "execution_count": 100,
     "metadata": {},
     "output_type": "execute_result"
    }
   ],
   "source": [
    "a, b = 1, 2\n",
    "a, b"
   ]
  },
  {
   "cell_type": "code",
   "execution_count": 101,
   "id": "7d6f6c75",
   "metadata": {},
   "outputs": [
    {
     "data": {
      "text/plain": [
       "(0, 0)"
      ]
     },
     "execution_count": 101,
     "metadata": {},
     "output_type": "execute_result"
    }
   ],
   "source": [
    "a = 0\n",
    "b = 0\n",
    "a = b = 0\n",
    "a, b"
   ]
  },
  {
   "cell_type": "code",
   "execution_count": 102,
   "id": "0642ca02",
   "metadata": {},
   "outputs": [
    {
     "data": {
      "text/plain": [
       "(2, 1)"
      ]
     },
     "execution_count": 102,
     "metadata": {},
     "output_type": "execute_result"
    }
   ],
   "source": [
    "x = 1\n",
    "y = 2\n",
    "x, y = y, x\n",
    "x, y"
   ]
  },
  {
   "cell_type": "code",
   "execution_count": 104,
   "id": "94b8b365",
   "metadata": {},
   "outputs": [
    {
     "name": "stdout",
     "output_type": "stream",
     "text": [
      "택시를 \n",
      "타고 \n",
      "가자 \n"
     ]
    }
   ],
   "source": [
    "my_money = 20000\n",
    "taxi_pay = 10000\n",
    "if my_money >= taxi_pay: # {\n",
    "    print(\"택시를 \")\n",
    "    print(\"타고 \")\n",
    "    print(\"가자 \")\n",
    "# }"
   ]
  },
  {
   "cell_type": "code",
   "execution_count": 110,
   "id": "9e78aac0",
   "metadata": {},
   "outputs": [
    {
     "name": "stdout",
     "output_type": "stream",
     "text": [
      "타고 \n"
     ]
    }
   ],
   "source": [
    "# 들여쓰기가 제대로 안되면 오류가 난다\n",
    "my_money = 2000\n",
    "taxi_pay = 10000\n",
    "if my_money >= taxi_pay:\n",
    "    print(\"택시를 \")\n",
    "print(\"타고 \")"
   ]
  },
  {
   "cell_type": "code",
   "execution_count": 111,
   "id": "26b1b04f",
   "metadata": {},
   "outputs": [
    {
     "name": "stdout",
     "output_type": "stream",
     "text": [
      "ok\n"
     ]
    }
   ],
   "source": [
    "if True and True:\n",
    "    print(\"ok\")"
   ]
  },
  {
   "cell_type": "code",
   "execution_count": 113,
   "id": "920ee91a",
   "metadata": {},
   "outputs": [
    {
     "name": "stdout",
     "output_type": "stream",
     "text": [
      "ok\n"
     ]
    }
   ],
   "source": [
    "if True or True:\n",
    "    print(\"ok\")"
   ]
  },
  {
   "cell_type": "code",
   "execution_count": 114,
   "id": "f0aba3dd",
   "metadata": {},
   "outputs": [
    {
     "data": {
      "text/plain": [
       "True"
      ]
     },
     "execution_count": 114,
     "metadata": {},
     "output_type": "execute_result"
    }
   ],
   "source": [
    "dict1 = {\"key1\":1, \"key4\":4, \"key2\":2}\n",
    "\"key4\" in dict1"
   ]
  },
  {
   "cell_type": "code",
   "execution_count": 115,
   "id": "8ab5fe06",
   "metadata": {},
   "outputs": [
    {
     "data": {
      "text/plain": [
       "True"
      ]
     },
     "execution_count": 115,
     "metadata": {},
     "output_type": "execute_result"
    }
   ],
   "source": [
    "list1 = [1, 4, 2]\n",
    "4 in list1"
   ]
  },
  {
   "cell_type": "code",
   "execution_count": null,
   "id": "93da190d",
   "metadata": {},
   "outputs": [],
   "source": [
    "# pass = 수행되도 아무런 일도 일어나지 않음"
   ]
  },
  {
   "cell_type": "code",
   "execution_count": 117,
   "id": "b4504da6",
   "metadata": {},
   "outputs": [
    {
     "name": "stdout",
     "output_type": "stream",
     "text": [
      "0 1 2 3 4 5 6 7 8 9 "
     ]
    }
   ],
   "source": [
    "# JS\n",
    "# for (let i=0; i<100000000; i++){ }\n",
    "\n",
    "# range = () 횟수 만큼 반복\n",
    "for i in range(10):\n",
    "    print(i, end=\" \")"
   ]
  },
  {
   "cell_type": "code",
   "execution_count": 118,
   "id": "d5503986",
   "metadata": {},
   "outputs": [
    {
     "data": {
      "text/plain": [
       "range(0, 10)"
      ]
     },
     "execution_count": 118,
     "metadata": {},
     "output_type": "execute_result"
    }
   ],
   "source": [
    "range(10)"
   ]
  },
  {
   "cell_type": "code",
   "execution_count": 119,
   "id": "f3751545",
   "metadata": {},
   "outputs": [
    {
     "data": {
      "text/plain": [
       "range(0, 10)"
      ]
     },
     "execution_count": 119,
     "metadata": {},
     "output_type": "execute_result"
    }
   ],
   "source": [
    "range(0, 10)"
   ]
  },
  {
   "cell_type": "code",
   "execution_count": 120,
   "id": "48c6cbdc",
   "metadata": {},
   "outputs": [
    {
     "name": "stdout",
     "output_type": "stream",
     "text": [
      "1 2 3 4 5 6 7 8 9 "
     ]
    }
   ],
   "source": [
    "# (1, 10) = 1부터 시작해서 10 이전까지 반복\n",
    "for i in range(1, 10):\n",
    "    print(i, end=\" \")"
   ]
  },
  {
   "cell_type": "code",
   "execution_count": 121,
   "id": "932be18b",
   "metadata": {},
   "outputs": [
    {
     "name": "stdout",
     "output_type": "stream",
     "text": [
      "1 3 5 7 9 "
     ]
    }
   ],
   "source": [
    "# (1, 10, 2) = 1부터 시작해서 10 이전까지 +2 반복\n",
    "for i in range(1, 10, 2):\n",
    "    print(i, end=\" \")"
   ]
  },
  {
   "cell_type": "code",
   "execution_count": 122,
   "id": "3eb3addf",
   "metadata": {},
   "outputs": [
    {
     "name": "stdout",
     "output_type": "stream",
     "text": [
      "2 4 6 8 "
     ]
    }
   ],
   "source": [
    "# (2, 10, 2) = 2부터 시작해서 10 이전까지 +2 반복\n",
    "for i in range(2, 10, 2):\n",
    "    print(i, end=\" \")"
   ]
  },
  {
   "cell_type": "code",
   "execution_count": 123,
   "id": "318576ce",
   "metadata": {},
   "outputs": [
    {
     "name": "stdout",
     "output_type": "stream",
     "text": [
      "[3, 6, 9, 12]\n"
     ]
    }
   ],
   "source": [
    "a = [1, 2, 3, 4]\n",
    "result = []\n",
    "for num in a:\n",
    "    result.append(num * 3)\n",
    "print(result)"
   ]
  },
  {
   "cell_type": "code",
   "execution_count": 124,
   "id": "8d6bec63",
   "metadata": {},
   "outputs": [
    {
     "name": "stdout",
     "output_type": "stream",
     "text": [
      "[3, 6, 9, 12]\n"
     ]
    }
   ],
   "source": [
    "result = [num * 3 for num in a]\n",
    "print(result)"
   ]
  },
  {
   "cell_type": "code",
   "execution_count": 125,
   "id": "bb39fd1f",
   "metadata": {},
   "outputs": [
    {
     "name": "stdout",
     "output_type": "stream",
     "text": [
      "[6, 12]\n"
     ]
    }
   ],
   "source": [
    "result = [num * 3 for num in a if num % 2 == 0]\n",
    "print(result)"
   ]
  },
  {
   "cell_type": "code",
   "execution_count": 126,
   "id": "b051af2b",
   "metadata": {},
   "outputs": [
    {
     "name": "stdout",
     "output_type": "stream",
     "text": [
      "[6, 12]\n"
     ]
    }
   ],
   "source": [
    "result = []\n",
    "for num in a:\n",
    "    if num % 2 == 0:\n",
    "        result.append(num * 3)\n",
    "print(result)"
   ]
  },
  {
   "cell_type": "code",
   "execution_count": 127,
   "id": "7f82c6d4",
   "metadata": {},
   "outputs": [
    {
     "name": "stdout",
     "output_type": "stream",
     "text": [
      "[2, 4, 6, 8, 10, 12, 14, 16, 18, 3, 6, 9, 12, 15, 18, 21, 24, 27, 4, 8, 12, 16, 20, 24, 28, 32, 36, 5, 10, 15, 20, 25, 30, 35, 40, 45, 6, 12, 18, 24, 30, 36, 42, 48, 54, 7, 14, 21, 28, 35, 42, 49, 56, 63, 8, 16, 24, 32, 40, 48, 56, 64, 72, 9, 18, 27, 36, 45, 54, 63, 72, 81]\n"
     ]
    }
   ],
   "source": [
    "result = [dan * gop for dan in range(2, 10) for gop in range(1, 10)]\n",
    "print(result)"
   ]
  },
  {
   "cell_type": "code",
   "execution_count": 163,
   "id": "45c6ce20",
   "metadata": {},
   "outputs": [
    {
     "name": "stdout",
     "output_type": "stream",
     "text": [
      "[2, 4, 6, 8, 10, 12, 14, 16, 18, 3, 6, 9, 12, 15, 18, 21, 24, 27, 4, 8, 12, 16, 20, 24, 28, 32, 36, 5, 10, 15, 20, 25, 30, 35, 40, 45, 6, 12, 18, 24, 30, 36, 42, 48, 54, 7, 14, 21, 28, 35, 42, 49, 56, 63, 8, 16, 24, 32, 40, 48, 56, 64, 72, 9, 18, 27, 36, 45, 54, 63, 72, 81]\n"
     ]
    }
   ],
   "source": [
    "result = []\n",
    "for dan in range(2, 10):\n",
    "    for gop in range(1, 10):\n",
    "        result.append(dan * gop)\n",
    "print(result)"
   ]
  },
  {
   "cell_type": "code",
   "execution_count": 147,
   "id": "0ce23dd7",
   "metadata": {},
   "outputs": [
    {
     "name": "stdout",
     "output_type": "stream",
     "text": [
      "life is too short\n"
     ]
    }
   ],
   "source": [
    "# JS\n",
    "# console.log(\"life\" + \"is\" + \"too short\")\n",
    "print(\"life\" + \" is\" + \" too short\")"
   ]
  },
  {
   "cell_type": "code",
   "execution_count": 148,
   "id": "a0bba886",
   "metadata": {},
   "outputs": [
    {
     "name": "stdout",
     "output_type": "stream",
     "text": [
      "life is too short\n"
     ]
    }
   ],
   "source": [
    "print(\"life\" \" is\" \" too short\")"
   ]
  },
  {
   "cell_type": "code",
   "execution_count": 149,
   "id": "13c8ba2e",
   "metadata": {},
   "outputs": [
    {
     "name": "stdout",
     "output_type": "stream",
     "text": [
      "life  is  too short\n"
     ]
    }
   ],
   "source": [
    "print(\"life\", \" is\", \" too short\")"
   ]
  },
  {
   "cell_type": "code",
   "execution_count": 150,
   "id": "656ea40e",
   "metadata": {},
   "outputs": [
    {
     "name": "stdout",
     "output_type": "stream",
     "text": [
      "0\n",
      "1\n",
      "2\n",
      "3\n",
      "4\n",
      "5\n",
      "6\n",
      "7\n",
      "8\n",
      "9\n"
     ]
    }
   ],
   "source": [
    "for i in range(10):\n",
    "    print(i)"
   ]
  },
  {
   "cell_type": "code",
   "execution_count": 151,
   "id": "af8f12fa",
   "metadata": {},
   "outputs": [
    {
     "name": "stdout",
     "output_type": "stream",
     "text": [
      "0 1 2 3 4 5 6 7 8 9 "
     ]
    }
   ],
   "source": [
    "for i in range(10):\n",
    "    print(i, end=' ')"
   ]
  },
  {
   "cell_type": "code",
   "execution_count": 153,
   "id": "3613a975",
   "metadata": {},
   "outputs": [
    {
     "name": "stdout",
     "output_type": "stream",
     "text": [
      "1 2 3\n",
      "1/2/3\n"
     ]
    }
   ],
   "source": [
    "a = 1\n",
    "b = 2\n",
    "c = 3\n",
    "print(a, b, c)\n",
    "print(a, b, c, sep=\"/\")"
   ]
  },
  {
   "cell_type": "code",
   "execution_count": 154,
   "id": "d3e235dd",
   "metadata": {},
   "outputs": [
    {
     "name": "stdout",
     "output_type": "stream",
     "text": [
      "3\n"
     ]
    }
   ],
   "source": [
    "a = input()"
   ]
  },
  {
   "cell_type": "code",
   "execution_count": 156,
   "id": "d886b1fe",
   "metadata": {},
   "outputs": [
    {
     "data": {
      "text/plain": [
       "4"
      ]
     },
     "execution_count": 156,
     "metadata": {},
     "output_type": "execute_result"
    }
   ],
   "source": [
    "int(a) + 1"
   ]
  },
  {
   "cell_type": "code",
   "execution_count": 166,
   "id": "5033669d",
   "metadata": {},
   "outputs": [
    {
     "name": "stdout",
     "output_type": "stream",
     "text": [
      "60\t59\t58\t57\t56\t55\t54\t53\t52\t51\t50\t49\t48\t47\t46\t45\t44\t43\t42\t41\t40\t39\t38\t37\t36\t35\t34\t33\t32\t31\t30\t29\t28\t27\t26\t25\t24\t23\t22\t21\t20\t19\t18\t17\t16\t15\t14\t13\t12\t11\t10\t9\t8\t7\t6\t5\t4\t3\t2\t1\t0\t\n",
      "\n",
      "발사!\n"
     ]
    }
   ],
   "source": [
    "# page80 - 60초 카운트 후 발사\n",
    "\n",
    "for count in range(60, -1, -1):\n",
    "    print(count, end='\\t')\n",
    "    if count == 0:\n",
    "        print()\n",
    "        print()\n",
    "        print(\"발사!\")"
   ]
  },
  {
   "cell_type": "code",
   "execution_count": 168,
   "id": "21e9b137",
   "metadata": {},
   "outputs": [
    {
     "name": "stdout",
     "output_type": "stream",
     "text": [
      "60\t59\t58\t57\t56\t55\t54\t53\t52\t51\t50\t49\t48\t47\t46\t45\t44\t43\t42\t41\t40\t39\t38\t37\t36\t35\t34\t33\t32\t31\t30\t29\t28\t27\t26\t25\t24\t23\t22\t21\t20\t19\t18\t17\t16\t15\t14\t13\t12\t11\t10\t9\t8\t7\t6\t5\t4\t3\t2\t1\t0\t\n",
      "\n",
      "발사!\n"
     ]
    }
   ],
   "source": [
    "# 강사님 풀이 (60초 카운트 후 발사)\n",
    "\n",
    "for count in range(60, -1, -1):\n",
    "    print(count, end='\\t')\n",
    "print()\n",
    "print()\n",
    "print(\"발사!\")"
   ]
  },
  {
   "cell_type": "code",
   "execution_count": 171,
   "id": "552b8169",
   "metadata": {},
   "outputs": [
    {
     "name": "stdout",
     "output_type": "stream",
     "text": [
      "1\t2\t3\t4\t5\t6\t7\t8\t9\t\n",
      "2\t4\t6\t8\t10\t12\t14\t16\t18\t\n",
      "3\t6\t9\t12\t15\t18\t21\t24\t27\t\n",
      "4\t8\t12\t16\t20\t24\t28\t32\t36\t\n",
      "5\t10\t15\t20\t25\t30\t35\t40\t45\t\n",
      "6\t12\t18\t24\t30\t36\t42\t48\t54\t\n",
      "7\t14\t21\t28\t35\t42\t49\t56\t63\t\n",
      "8\t16\t24\t32\t40\t48\t56\t64\t72\t\n",
      "9\t18\t27\t36\t45\t54\t63\t72\t81\t\n"
     ]
    }
   ],
   "source": [
    "# page81 - 구구단 나열\n",
    "\n",
    "for sum1 in range(1, 10):\n",
    "    for sum2 in range(1, 10):\n",
    "        res = sum1 * sum2\n",
    "        print(res, end='\\t')\n",
    "    print()"
   ]
  },
  {
   "cell_type": "code",
   "execution_count": 172,
   "id": "0a919fb3",
   "metadata": {},
   "outputs": [
    {
     "name": "stdout",
     "output_type": "stream",
     "text": [
      "1\t2\t3\t4\t5\t6\t7\t8\t9\t\n",
      "2\t4\t6\t8\t10\t12\t14\t16\t18\t\n",
      "3\t6\t9\t12\t15\t18\t21\t24\t27\t\n",
      "4\t8\t12\t16\t20\t24\t28\t32\t36\t\n",
      "5\t10\t15\t20\t25\t30\t35\t40\t45\t\n",
      "6\t12\t18\t24\t30\t36\t42\t48\t54\t\n",
      "7\t14\t21\t28\t35\t42\t49\t56\t63\t\n",
      "8\t16\t24\t32\t40\t48\t56\t64\t72\t\n",
      "9\t18\t27\t36\t45\t54\t63\t72\t81\t\n"
     ]
    }
   ],
   "source": [
    "# 강사님 풀이 (구구단 나열)\n",
    "\n",
    "for sum1 in range(1, 10):\n",
    "    for sum2 in range(1, 10):\n",
    "        print(sum1 * sum2, end='\\t')\n",
    "    print()"
   ]
  },
  {
   "cell_type": "code",
   "execution_count": 176,
   "id": "a254b119",
   "metadata": {},
   "outputs": [
    {
     "name": "stdout",
     "output_type": "stream",
     "text": [
      "1 * * * * * * \n",
      "1 2 * * * * * \n",
      "1 2 3 * * * * \n",
      "1 2 3 4 * * * \n",
      "1 2 3 4 5 * * \n",
      "1 2 3 4 5 6 * \n",
      "1 2 3 4 5 6 7 \n",
      "\n",
      "\n",
      "1 * * * * * * \n",
      "1 2 * * * * * \n",
      "1 2 3 * * * * \n",
      "1 2 3 4 * * * \n",
      "1 2 3 4 5 * * \n",
      "1 2 3 4 5 6 * \n",
      "1 2 3 4 5 6 7 \n"
     ]
    }
   ],
   "source": [
    "# page82 - 1부터 7까지 *이 숫자로 변경\n",
    "\n",
    "# for문 속에 for문 2개 사용\n",
    "for a in range(1, 8):\n",
    "    for b in range(1, a+1):\n",
    "        print(b, end=' ')\n",
    "    for c in range(a+1, 8):\n",
    "        print(\"*\", end=' ')\n",
    "    print()\n",
    "    \n",
    "print()\n",
    "print()\n",
    "\n",
    "# for문 속에 for문 1개 사용\n",
    "for d in range(1, 8):\n",
    "    for e in range(1, 8):\n",
    "        if e > d:\n",
    "            print(\"*\", end=' ')\n",
    "        else :\n",
    "            print(e, end=' ')\n",
    "    print()"
   ]
  },
  {
   "cell_type": "code",
   "execution_count": null,
   "id": "337df56f",
   "metadata": {},
   "outputs": [],
   "source": [
    "# 강사님 풀이 (1부터 7까지 *이 숫자로 변경)\n",
    "\n"
   ]
  }
 ],
 "metadata": {
  "kernelspec": {
   "display_name": "Python 3 (ipykernel)",
   "language": "python",
   "name": "python3"
  },
  "language_info": {
   "codemirror_mode": {
    "name": "ipython",
    "version": 3
   },
   "file_extension": ".py",
   "mimetype": "text/x-python",
   "name": "python",
   "nbconvert_exporter": "python",
   "pygments_lexer": "ipython3",
   "version": "3.8.0"
  }
 },
 "nbformat": 4,
 "nbformat_minor": 5
}
