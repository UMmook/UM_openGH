{
 "cells": [
  {
   "cell_type": "code",
   "execution_count": 1,
   "id": "5a916657",
   "metadata": {},
   "outputs": [],
   "source": [
    "# 자료구조와 알고리즘\n",
    "# 운영체제\n",
    "# 분산시스템\n",
    "# 네트워크 통신\n",
    "\n",
    "# HTML, CSS, Node.js\n",
    "\n",
    "# 화이트보드 테스트(자료구조와 알고리즘)\n",
    "#     화이트 박스 테스트\n",
    "\n",
    "# 코딩테스트(코드 자동 채점)\n",
    "#     블랙 박스 테스트(코드를 안보면서 결과 체크(기능을 본다))"
   ]
  },
  {
   "cell_type": "code",
   "execution_count": 2,
   "id": "d6f93112",
   "metadata": {},
   "outputs": [
    {
     "data": {
      "text/plain": [
       "-1"
      ]
     },
     "execution_count": 2,
     "metadata": {},
     "output_type": "execute_result"
    }
   ],
   "source": [
    "# 화이트 박스 테스트 (코드를 보면서 문제 탐색)\n",
    "def divide1(n, div):\n",
    "    return n/div\n",
    "\n",
    "def divide1(n, div):\n",
    "    if div != 0:\n",
    "        return n/div\n",
    "    else:\n",
    "        return -1\n",
    "\n",
    "divide1(10, 0)"
   ]
  },
  {
   "cell_type": "code",
   "execution_count": 3,
   "id": "e83b31ca",
   "metadata": {},
   "outputs": [],
   "source": [
    "# 파이썬 언어 문법 : 영어 문법(어법)\n",
    "# 자료 구조 알고리즘 : 프로그래밍(어법)"
   ]
  },
  {
   "cell_type": "code",
   "execution_count": 4,
   "id": "a643e1ac",
   "metadata": {},
   "outputs": [],
   "source": [
    "# array vs list\n",
    "# array : 길이 고정, 같은 종류(int, float, ...)\n",
    "# list : 길이 가변, 여러 종류(int, float, ...)"
   ]
  },
  {
   "cell_type": "code",
   "execution_count": 5,
   "id": "059f6c9d",
   "metadata": {},
   "outputs": [
    {
     "data": {
      "text/plain": [
       "[1, 2, 3, 4]"
      ]
     },
     "execution_count": 5,
     "metadata": {},
     "output_type": "execute_result"
    }
   ],
   "source": [
    "list_a = [1, 2, 3, 4]\n",
    "list_a"
   ]
  },
  {
   "cell_type": "code",
   "execution_count": 6,
   "id": "4b4b4dab",
   "metadata": {},
   "outputs": [
    {
     "data": {
      "text/plain": [
       "[1, 2, 3, 4, 5]"
      ]
     },
     "execution_count": 6,
     "metadata": {},
     "output_type": "execute_result"
    }
   ],
   "source": [
    "list_a.append(5)\n",
    "list_a"
   ]
  },
  {
   "cell_type": "code",
   "execution_count": 7,
   "id": "f71c2d13",
   "metadata": {},
   "outputs": [
    {
     "data": {
      "text/plain": [
       "[1, 1.5, 2, 3, 4, 5]"
      ]
     },
     "execution_count": 7,
     "metadata": {},
     "output_type": "execute_result"
    }
   ],
   "source": [
    "list_a.insert(1, 1.5)\n",
    "list_a"
   ]
  },
  {
   "cell_type": "code",
   "execution_count": 8,
   "id": "9380e7e5",
   "metadata": {},
   "outputs": [
    {
     "data": {
      "text/plain": [
       "[1, 2, 3, 4, 0, 0, 0]"
      ]
     },
     "execution_count": 8,
     "metadata": {},
     "output_type": "execute_result"
    }
   ],
   "source": [
    "array_a = [1, 2, 3, 4, 0, 0, 0]\n",
    "array_a"
   ]
  },
  {
   "cell_type": "code",
   "execution_count": 9,
   "id": "e04142d8",
   "metadata": {},
   "outputs": [
    {
     "data": {
      "text/plain": [
       "[1, 2, 3, 4, 4, 0, 0]"
      ]
     },
     "execution_count": 9,
     "metadata": {},
     "output_type": "execute_result"
    }
   ],
   "source": [
    "array_a[4] = array_a[3]\n",
    "array_a"
   ]
  },
  {
   "cell_type": "code",
   "execution_count": 10,
   "id": "6b4cbc44",
   "metadata": {},
   "outputs": [
    {
     "data": {
      "text/plain": [
       "[1, 2, 3, 3, 4, 0, 0]"
      ]
     },
     "execution_count": 10,
     "metadata": {},
     "output_type": "execute_result"
    }
   ],
   "source": [
    "array_a[3] = array_a[2]\n",
    "array_a"
   ]
  },
  {
   "cell_type": "code",
   "execution_count": 11,
   "id": "927e04c9",
   "metadata": {},
   "outputs": [
    {
     "data": {
      "text/plain": [
       "[1, 2, 5, 3, 4, 0, 0]"
      ]
     },
     "execution_count": 11,
     "metadata": {},
     "output_type": "execute_result"
    }
   ],
   "source": [
    "array_a[2] = 5\n",
    "array_a"
   ]
  },
  {
   "cell_type": "code",
   "execution_count": 12,
   "id": "c1884114",
   "metadata": {},
   "outputs": [
    {
     "name": "stdout",
     "output_type": "stream",
     "text": [
      "n1의 data값 :  값1\n",
      "n2의 data값 :  값2\n",
      "n3의 data값 :  값3\n"
     ]
    }
   ],
   "source": [
    "class Node:\n",
    "    def __init__(self, data_val):\n",
    "        self.data_val = data_val  # 자신의 값\n",
    "        self.next_val = None     # 포인터\n",
    "        \n",
    "class LinkedList:\n",
    "    def __init__(self):\n",
    "        self.head_val = None\n",
    "        \n",
    "mylist = LinkedList()\n",
    "n1 = Node(\"값1\")\n",
    "mylist.head_val = n1\n",
    "n2 =  Node(\"값2\")\n",
    "n1.next_val = n2\n",
    "n3 =  Node(\"값3\")\n",
    "n2.next_val = n3\n",
    "\n",
    "print(\"n1의 data값 : \", mylist.head_val.data_val)\n",
    "print(\"n2의 data값 : \", mylist.head_val.next_val.data_val)  # mylist.head_val.next_val : n2\n",
    "print(\"n3의 data값 : \", mylist.head_val.next_val.next_val.data_val)"
   ]
  },
  {
   "cell_type": "code",
   "execution_count": 13,
   "id": "d6da2c64",
   "metadata": {},
   "outputs": [
    {
     "name": "stdout",
     "output_type": "stream",
     "text": [
      "리스트의 data값 :  값1\n",
      "리스트의 data값 :  값12사이\n",
      "리스트의 data값 :  값2\n",
      "리스트의 data값 :  값3\n"
     ]
    }
   ],
   "source": [
    "n1 = Node(\"값1\")\n",
    "n2 = Node(\"값2\")\n",
    "n3 = Node(\"값3\")\n",
    "nbetween12 = Node(\"값12사이\")\n",
    "mylist2 = LinkedList()\n",
    "mylist2.head_val = n1\n",
    "# 아래 두 줄 : insert()문과 비슷\n",
    "n1.next_val = nbetween12  # n2\n",
    "nbetween12.next_val = n2\n",
    "# 아래 한 줄 : append()문과 비슷\n",
    "n2.next_val = n3\n",
    "print(\"리스트의 data값 : \", mylist2.head_val.data_val)\n",
    "print(\"리스트의 data값 : \", mylist2.head_val.next_val.data_val)  # mylist.head_val.next_val : n2\n",
    "print(\"리스트의 data값 : \", mylist2.head_val.next_val.next_val.data_val)\n",
    "print(\"리스트의 data값 : \", mylist2.head_val.next_val.next_val.next_val.data_val)"
   ]
  },
  {
   "cell_type": "code",
   "execution_count": 14,
   "id": "6563ee45",
   "metadata": {},
   "outputs": [
    {
     "name": "stdout",
     "output_type": "stream",
     "text": [
      "5\n",
      "54321\n"
     ]
    }
   ],
   "source": [
    "# P37\n",
    "\n",
    "n = input()\n",
    "numbers = input()"
   ]
  },
  {
   "cell_type": "code",
   "execution_count": 15,
   "id": "9af91d44",
   "metadata": {},
   "outputs": [
    {
     "data": {
      "text/plain": [
       "('5', '54321')"
      ]
     },
     "execution_count": 15,
     "metadata": {},
     "output_type": "execute_result"
    }
   ],
   "source": [
    "n, numbers"
   ]
  },
  {
   "cell_type": "code",
   "execution_count": 16,
   "id": "31ee9f52",
   "metadata": {},
   "outputs": [
    {
     "name": "stdout",
     "output_type": "stream",
     "text": [
      "15\n"
     ]
    }
   ],
   "source": [
    "answer = 15\n",
    "print(answer)"
   ]
  },
  {
   "cell_type": "code",
   "execution_count": 17,
   "id": "517d7af4",
   "metadata": {},
   "outputs": [
    {
     "name": "stdout",
     "output_type": "stream",
     "text": [
      "5\n",
      "54321\n",
      "15\n"
     ]
    }
   ],
   "source": [
    "n = input()\n",
    "numbers = input()\n",
    "sum_val = 0\n",
    "for i in range(int(n)):\n",
    "    sum_val += int(numbers[i])\n",
    "print(answer)"
   ]
  },
  {
   "cell_type": "code",
   "execution_count": 18,
   "id": "f27618cd",
   "metadata": {},
   "outputs": [
    {
     "name": "stdout",
     "output_type": "stream",
     "text": [
      "5\n",
      "54321\n"
     ]
    },
    {
     "data": {
      "text/plain": [
       "('5', ['5', '4', '3', '2', '1'])"
      ]
     },
     "execution_count": 18,
     "metadata": {},
     "output_type": "execute_result"
    }
   ],
   "source": [
    "n = input()\n",
    "numbers = list(input())\n",
    "n, numbers"
   ]
  },
  {
   "cell_type": "code",
   "execution_count": 19,
   "id": "e197504c",
   "metadata": {},
   "outputs": [
    {
     "data": {
      "text/plain": [
       "10"
      ]
     },
     "execution_count": 19,
     "metadata": {},
     "output_type": "execute_result"
    }
   ],
   "source": [
    "sum([1, 2, 3, 4])"
   ]
  },
  {
   "cell_type": "code",
   "execution_count": 20,
   "id": "67748e09",
   "metadata": {},
   "outputs": [],
   "source": [
    "# 이렇게 하지 말 것\n",
    "# sum = 0\n",
    "# sum([1, 2, 3, 4])"
   ]
  },
  {
   "cell_type": "code",
   "execution_count": 22,
   "id": "d8f9b713",
   "metadata": {},
   "outputs": [
    {
     "name": "stdout",
     "output_type": "stream",
     "text": [
      "15\n"
     ]
    }
   ],
   "source": [
    "sum_val = 0\n",
    "for i in numbers:\n",
    "    sum_val += int(i)\n",
    "print(sum_val)"
   ]
  },
  {
   "cell_type": "code",
   "execution_count": 30,
   "id": "cc0b67a1",
   "metadata": {},
   "outputs": [
    {
     "name": "stdout",
     "output_type": "stream",
     "text": [
      "3 4 5\n",
      "받은 값 :  [3, 4, 5]\n"
     ]
    },
    {
     "data": {
      "text/plain": [
       "[3, 4, 5]"
      ]
     },
     "execution_count": 30,
     "metadata": {},
     "output_type": "execute_result"
    }
   ],
   "source": [
    "a = list(map(int, input().split()))\n",
    "print(\"받은 값 : \", a)\n",
    "a"
   ]
  },
  {
   "cell_type": "code",
   "execution_count": 31,
   "id": "a948ca2a",
   "metadata": {},
   "outputs": [
    {
     "name": "stdout",
     "output_type": "stream",
     "text": [
      "3\n",
      "40 80 60\n"
     ]
    },
    {
     "data": {
      "text/plain": [
       "(3, [40, 80, 60])"
      ]
     },
     "execution_count": 31,
     "metadata": {},
     "output_type": "execute_result"
    }
   ],
   "source": [
    "# P38\n",
    "\n",
    "n = int(input())\n",
    "list_in = list(map(int, input().split()))\n",
    "n, list_in"
   ]
  },
  {
   "cell_type": "code",
   "execution_count": 32,
   "id": "48e2aeaf",
   "metadata": {},
   "outputs": [
    {
     "data": {
      "text/plain": [
       "80"
      ]
     },
     "execution_count": 32,
     "metadata": {},
     "output_type": "execute_result"
    }
   ],
   "source": [
    "max_point = max(list_in)\n",
    "max_point"
   ]
  },
  {
   "cell_type": "code",
   "execution_count": 35,
   "id": "29211e16",
   "metadata": {},
   "outputs": [
    {
     "data": {
      "text/plain": [
       "75.0"
      ]
     },
     "execution_count": 35,
     "metadata": {},
     "output_type": "execute_result"
    }
   ],
   "source": [
    "# (list_in[0]/80*100 + list_in[1]/80*100 + list_in[2]/80*100)/3\n",
    "# (list_in[0] + list_in[1] + list_in[2])/80*100/3\n",
    "sum(list_in)/80*100/3"
   ]
  },
  {
   "cell_type": "code",
   "execution_count": 41,
   "id": "6871a467",
   "metadata": {},
   "outputs": [
    {
     "name": "stdout",
     "output_type": "stream",
     "text": [
      "9\n",
      "10 20 30 40 50 60 70 80 90\n",
      "55.55555555555556\n"
     ]
    }
   ],
   "source": [
    "n = int(input())\n",
    "list_in = list(map(int, input().split()))\n",
    "max_point = max(list_in)\n",
    "print(sum(list_in)/max_point*100/n)"
   ]
  },
  {
   "cell_type": "code",
   "execution_count": 45,
   "id": "fd135a57",
   "metadata": {},
   "outputs": [
    {
     "data": {
      "text/plain": [
       "45"
      ]
     },
     "execution_count": 45,
     "metadata": {},
     "output_type": "execute_result"
    }
   ],
   "source": [
    "# P41\n",
    "\n",
    "a = [15, 13 ,10, 7, 3, 12, 13]\n",
    "s_6 = a[0] + a[1] + a[2] + a[3] + a[4] + a[5] + a[6]\n",
    "s_1 = a[0] + a[1]\n",
    "# s_2to5 = a[2] + a[3] + a[4] + a[5] + a[6]\n",
    "s_2to6 = s_6 - s_1  # 사칙 연산 1번 실행\n",
    "s_2to6"
   ]
  },
  {
   "cell_type": "code",
   "execution_count": 46,
   "id": "6a55dd81",
   "metadata": {},
   "outputs": [
    {
     "data": {
      "text/plain": [
       "45"
      ]
     },
     "execution_count": 46,
     "metadata": {},
     "output_type": "execute_result"
    }
   ],
   "source": [
    "a[2] + a[3] + a[4] + a[5] + a[6]  # 사칙 연산 4번 실행"
   ]
  },
  {
   "cell_type": "code",
   "execution_count": 47,
   "id": "d035b1c0",
   "metadata": {},
   "outputs": [
    {
     "data": {
      "text/plain": [
       "58"
      ]
     },
     "execution_count": 47,
     "metadata": {},
     "output_type": "execute_result"
    }
   ],
   "source": [
    "s_1to6 = s_6 - a[0]  # 사칙 연산 1번 실행\n",
    "s_1to6"
   ]
  },
  {
   "cell_type": "code",
   "execution_count": 48,
   "id": "aee9f826",
   "metadata": {},
   "outputs": [
    {
     "data": {
      "text/plain": [
       "58"
      ]
     },
     "execution_count": 48,
     "metadata": {},
     "output_type": "execute_result"
    }
   ],
   "source": [
    "s_1to6 = a[1] + a[2] + a[3] + a[4] + a[5] + a[6]  # 사칙 연산 5번 실행\n",
    "s_1to6"
   ]
  },
  {
   "cell_type": "code",
   "execution_count": 49,
   "id": "c4d6db47",
   "metadata": {},
   "outputs": [],
   "source": [
    "# 예제 입력, 예제 출력 : 테스트 케이스\n",
    "# 문제에서 제시 되지 않고 자동채점기에만 존재하는 케이스 : 히든 케이스\n",
    "\n",
    "# cache, memoization (memoization x)"
   ]
  },
  {
   "cell_type": "code",
   "execution_count": 51,
   "id": "a0ad1344",
   "metadata": {},
   "outputs": [
    {
     "name": "stdout",
     "output_type": "stream",
     "text": [
      "5 3\n",
      "5 4 3 2 1\n",
      "1 3\n",
      "12\n",
      "2 4\n",
      "9\n",
      "5 5\n",
      "1\n"
     ]
    }
   ],
   "source": [
    "# P43\n",
    "\n",
    "# 5 3\n",
    "suNo, quizNo = list(map( int, input().split() ))\n",
    "numbers      = list(map( int, input().split() ))\n",
    "prefix_sum = [0]\n",
    "temp = 0\n",
    "for i in numbers:\n",
    "    temp += i\n",
    "    prefix_sum.append(temp)\n",
    "\n",
    "for quiz in range(quizNo):\n",
    "    start_i, end_i = list(map( int, input().split() ))\n",
    "    ans = prefix_sum[end_i] - prefix_sum[start_i - 1]\n",
    "    print(ans)"
   ]
  },
  {
   "cell_type": "code",
   "execution_count": 58,
   "id": "d6b80a87",
   "metadata": {},
   "outputs": [
    {
     "data": {
      "text/plain": [
       "[0, 5, 9, 12, 14, 15]"
      ]
     },
     "execution_count": 58,
     "metadata": {},
     "output_type": "execute_result"
    }
   ],
   "source": [
    "numbers = [5, 4, 3, 2, 1]\n",
    "prefix_sum = [0]\n",
    "temp = 0\n",
    "for i in numbers:\n",
    "    temp += i\n",
    "    prefix_sum.append(temp)\n",
    "prefix_sum"
   ]
  },
  {
   "cell_type": "code",
   "execution_count": 52,
   "id": "feed4e0f",
   "metadata": {},
   "outputs": [
    {
     "data": {
      "text/plain": [
       "[1, 2, 3]"
      ]
     },
     "execution_count": 52,
     "metadata": {},
     "output_type": "execute_result"
    }
   ],
   "source": [
    "a = [1, 2, 3]\n",
    "a"
   ]
  },
  {
   "cell_type": "code",
   "execution_count": 54,
   "id": "0b07c044",
   "metadata": {},
   "outputs": [
    {
     "data": {
      "text/plain": [
       "[[1, 2, 3], [4, 5, 6], [7, 8, 9]]"
      ]
     },
     "execution_count": 54,
     "metadata": {},
     "output_type": "execute_result"
    }
   ],
   "source": [
    "a2 = [[1, 2, 3],\n",
    "      [4, 5, 6],\n",
    "      [7, 8, 9]]\n",
    "a2"
   ]
  },
  {
   "cell_type": "code",
   "execution_count": 55,
   "id": "95ab4669",
   "metadata": {},
   "outputs": [
    {
     "data": {
      "text/plain": [
       "[[0, 0, 0, 0, 0]]"
      ]
     },
     "execution_count": 55,
     "metadata": {},
     "output_type": "execute_result"
    }
   ],
   "source": [
    "n = 4\n",
    "A = [[0]*(n+1)]\n",
    "A"
   ]
  },
  {
   "cell_type": "code",
   "execution_count": 56,
   "id": "9951cb24",
   "metadata": {},
   "outputs": [
    {
     "data": {
      "text/plain": [
       "[[0, 0, 0, 0, 0],\n",
       " [0, 0, 0, 0, 0],\n",
       " [0, 0, 0, 0, 0],\n",
       " [0, 0, 0, 0, 0],\n",
       " [0, 0, 0, 0, 0]]"
      ]
     },
     "execution_count": 56,
     "metadata": {},
     "output_type": "execute_result"
    }
   ],
   "source": [
    "D = [[0]*(n+1) for i in range(n+1)]\n",
    "D"
   ]
  },
  {
   "cell_type": "code",
   "execution_count": 57,
   "id": "2ba32954",
   "metadata": {},
   "outputs": [
    {
     "data": {
      "text/plain": [
       "[0, 1, 2, 3, 4]"
      ]
     },
     "execution_count": 57,
     "metadata": {},
     "output_type": "execute_result"
    }
   ],
   "source": [
    "[i for i in range(n+1)]"
   ]
  },
  {
   "cell_type": "code",
   "execution_count": 1,
   "id": "93586b37",
   "metadata": {},
   "outputs": [
    {
     "name": "stdout",
     "output_type": "stream",
     "text": [
      "0\n",
      "1\n",
      "2\n",
      "3\n",
      "4\n"
     ]
    }
   ],
   "source": [
    "for 행 in range(5):\n",
    "    print(행)"
   ]
  },
  {
   "cell_type": "code",
   "execution_count": 2,
   "id": "e1e8b7a5",
   "metadata": {},
   "outputs": [
    {
     "data": {
      "text/plain": [
       "30"
      ]
     },
     "execution_count": 2,
     "metadata": {},
     "output_type": "execute_result"
    }
   ],
   "source": [
    "a = [10, 20, 30, 40]\n",
    "a[2]  # a[3]"
   ]
  },
  {
   "cell_type": "code",
   "execution_count": 3,
   "id": "8341eb98",
   "metadata": {},
   "outputs": [
    {
     "data": {
      "text/plain": [
       "30"
      ]
     },
     "execution_count": 3,
     "metadata": {},
     "output_type": "execute_result"
    }
   ],
   "source": [
    "a = [0, 10, 20, 30, 40]\n",
    "a[3]"
   ]
  },
  {
   "cell_type": "code",
   "execution_count": 4,
   "id": "c8a719cf",
   "metadata": {},
   "outputs": [
    {
     "name": "stdout",
     "output_type": "stream",
     "text": [
      "4 3\n",
      "1 2 3 4\n",
      "2 3 4 5\n",
      "3 4 5 6\n",
      "4 5 6 7\n"
     ]
    }
   ],
   "source": [
    "# P45\n",
    "\n",
    "n, m = list(map( int, input().split() ))  # n:4, m:3\n",
    "\n",
    "입력 = [ [0]*(n+1) ]\n",
    "누적 = [ [0]*(n+1) for i in range(n+1) ]\n",
    "\n",
    "for i in range(n):\n",
    "    입력_행 = [0] + list(map( int, input().split() ))\n",
    "    입력.append(입력_행)"
   ]
  },
  {
   "cell_type": "code",
   "execution_count": 5,
   "id": "189de79d",
   "metadata": {},
   "outputs": [
    {
     "data": {
      "text/plain": [
       "[[0, 0, 0, 0, 0],\n",
       " [0, 1, 2, 3, 4],\n",
       " [0, 2, 3, 4, 5],\n",
       " [0, 3, 4, 5, 6],\n",
       " [0, 4, 5, 6, 7]]"
      ]
     },
     "execution_count": 5,
     "metadata": {},
     "output_type": "execute_result"
    }
   ],
   "source": [
    "입력"
   ]
  },
  {
   "cell_type": "code",
   "execution_count": 7,
   "id": "0fd5e464",
   "metadata": {},
   "outputs": [
    {
     "name": "stdout",
     "output_type": "stream",
     "text": [
      "4 3\n",
      "1 2 3 4\n",
      "2 3 4 5\n",
      "3 4 5 6\n",
      "4 5 6 7\n",
      "2 2 3 4\n",
      "27\n",
      "3 4 3 4\n",
      "6\n",
      "1 1 4 4\n",
      "64\n"
     ]
    }
   ],
   "source": [
    "# P45\n",
    "\n",
    "n, m = list(map( int, input().split() ))  # n:4, m:3\n",
    "\n",
    "입력 = [ [0]*(n+1) ]\n",
    "누적 = [ [0]*(n+1) for i in range(n+1) ]\n",
    "\n",
    "for i in range(n):\n",
    "    입력_행 = [0] + list(map( int, input().split() ))\n",
    "    입력.append(입력_행)\n",
    "    \n",
    "for 행 in range(1, n+1):\n",
    "    for 열 in range(1, n+1):\n",
    "        누적[행][열] = 누적[행][열] = 누적[행][열-1] + 누적[행-1][열] + 입력[행][열] - 누적[행-1][열-1]\n",
    "        \n",
    "for prob_set in range(m):\n",
    "    x1, y1, x2, y2 = list(map( int, input().split() ))\n",
    "    ans = 누적[x2][y2] - 누적[x1-1][y2] - 누적[x2][y1-1] + 누적 [x1-1][y1-1]\n",
    "    print(ans)"
   ]
  },
  {
   "cell_type": "code",
   "execution_count": 8,
   "id": "2102fb03",
   "metadata": {},
   "outputs": [
    {
     "name": "stdout",
     "output_type": "stream",
     "text": [
      "4 3\n",
      "1 2 3 4\n",
      "2 3 4 5\n",
      "3 4 5 6\n",
      "4 5 6 7\n",
      "2 2 3 4\n",
      "27\n",
      "3 4 3 4\n",
      "6\n",
      "1 1 4 4\n",
      "64\n"
     ]
    }
   ],
   "source": [
    "# 있는 그대로 풀이\n",
    "\n",
    "n, m = list(map( int, input().split() ))  # n:4, m:3\n",
    "arr = []\n",
    "for i in range(n):\n",
    "    arr.append(list(map( int, input().split() )))\n",
    "    \n",
    "for prob_set in range(m):\n",
    "    x1, y1, x2, y2 = list(map( int, input().split() ))\n",
    "    sum_val = 0\n",
    "    for row in range(x1-1, x2):\n",
    "        for col in range(y1-1, y2):\n",
    "            sum_val += arr[row][col]\n",
    "    print(sum_val)"
   ]
  },
  {
   "cell_type": "code",
   "execution_count": 9,
   "id": "f342c0eb",
   "metadata": {},
   "outputs": [],
   "source": [
    "import time"
   ]
  },
  {
   "cell_type": "code",
   "execution_count": 10,
   "id": "ed02ac80",
   "metadata": {},
   "outputs": [
    {
     "name": "stdout",
     "output_type": "stream",
     "text": [
      "4 3\n",
      "1 2 3 4\n",
      "2 3 4 5\n",
      "3 4 5 6\n",
      "4 5 6 7\n",
      "2 2 3 4\n",
      "27\n",
      "3 4 3 4\n",
      "6\n",
      "1 1 4 4\n",
      "64\n",
      "총 소비 시간:0.0ms\n"
     ]
    }
   ],
   "source": [
    "# P49 부분합 적용 풀이\n",
    "\n",
    "time_spent = 0\n",
    "n, m = list(map( int, input().split() ))  # n:4, m:3\n",
    "\n",
    "입력 = [ [0]*(n+1) ]\n",
    "누적 = [ [0]*(n+1) for i in range(n+1) ]\n",
    "\n",
    "for i in range(n):\n",
    "    입력_행 = [0] + list(map( int, input().split() ))\n",
    "    입력.append(입력_행)\n",
    "    \n",
    "t1 = time.time()\n",
    "for 행 in range(1, n+1):\n",
    "    for 열 in range(1, n+1):\n",
    "        누적[행][열] = 누적[행][열-1] + 누적[행-1][열] + 입력[행][열] - 누적[행-1][열-1]\n",
    "t2 = time.time()\n",
    "time_spent += t2 - t1\n",
    "        \n",
    "for prob_set in range(m):\n",
    "    x1, y1, x2, y2 = list(map( int, input().split() ))\n",
    "    t1 = time.time()\n",
    "    ans = 누적[x2][y2] - 누적[x1-1][y2] - 누적[x2][y1-1] + 누적 [x1-1][y1-1]\n",
    "    t2 = time.time()\n",
    "    time_spent += t2 - t1\n",
    "    print(ans)\n",
    "print(f\"총 소비 시간:{time_spent}ms\")"
   ]
  },
  {
   "cell_type": "code",
   "execution_count": 11,
   "id": "9c8a80a3",
   "metadata": {},
   "outputs": [
    {
     "name": "stdout",
     "output_type": "stream",
     "text": [
      "4 3\n",
      "1 2 3 4\n",
      "2 3 4 5\n",
      "3 4 5 6\n",
      "4 5 6 7\n",
      "2 2 3 4\n",
      "27\n",
      "3 4 3 4\n",
      "6\n",
      "1 1 4 4\n",
      "64\n",
      "총 소비 시간:0.0ms\n"
     ]
    }
   ],
   "source": [
    "# 있는 그대로 풀이\n",
    "time_spent = 0\n",
    "n, m = list(map( int, input().split() ))  # n:4, m:3\n",
    "arr = []\n",
    "for i in range(n):\n",
    "    arr.append(list(map( int, input().split() )))\n",
    "    \n",
    "for prob_set in range(m):\n",
    "    x1, y1, x2, y2 = list(map( int, input().split() ))\n",
    "    t1 = time.time()\n",
    "    sum_val = 0\n",
    "    for row in range(x1-1, x2):\n",
    "        for col in range(y1-1, y2):\n",
    "            sum_val += arr[row][col]\n",
    "    t2 = time.time()\n",
    "    time_spent += t2 - t1\n",
    "    print(sum_val)\n",
    "print(f\"총 소비 시간:{time_spent}ms\")"
   ]
  },
  {
   "cell_type": "code",
   "execution_count": 12,
   "id": "d8ca685f",
   "metadata": {},
   "outputs": [
    {
     "name": "stdout",
     "output_type": "stream",
     "text": [
      "4 3\n",
      "1 2 3 4\n",
      "2 3 4 5\n",
      "3 4 5 6\n",
      "4 5 6 7\n",
      "2 2 3 4\n",
      "27\n",
      "3 4 3 4\n",
      "6\n",
      "1 1 4 4\n",
      "64\n",
      "총 소비 시간:1.0844006538391113ms\n"
     ]
    }
   ],
   "source": [
    "# P49 부분합 적용 풀이\n",
    "\n",
    "time_spent = 0\n",
    "n, m = list(map( int, input().split() ))  # n:4, m:3\n",
    "\n",
    "입력 = [ [0]*(n+1) ]\n",
    "누적 = [ [0]*(n+1) for i in range(n+1) ]\n",
    "\n",
    "for i in range(n):\n",
    "    입력_행 = [0] + list(map( int, input().split() ))\n",
    "    입력.append(입력_행)\n",
    "    \n",
    "t1 = time.time()\n",
    "for i in range(100000):\n",
    "    for 행 in range(1, n+1):\n",
    "        for 열 in range(1, n+1):\n",
    "            누적[행][열] = 누적[행][열-1] + 누적[행-1][열] + 입력[행][열] - 누적[행-1][열-1]\n",
    "t2 = time.time()\n",
    "time_spent += t2 - t1\n",
    "        \n",
    "for prob_set in range(m):\n",
    "    x1, y1, x2, y2 = list(map( int, input().split() ))\n",
    "    for i in range(100000):\n",
    "        t1 = time.time()\n",
    "        ans = 누적[x2][y2] - 누적[x1-1][y2] - 누적[x2][y1-1] + 누적 [x1-1][y1-1]\n",
    "        t2 = time.time()\n",
    "        time_spent += t2 - t1\n",
    "    print(ans)\n",
    "print(f\"총 소비 시간:{time_spent}ms\")"
   ]
  },
  {
   "cell_type": "code",
   "execution_count": 13,
   "id": "db5d8b1e",
   "metadata": {},
   "outputs": [
    {
     "name": "stdout",
     "output_type": "stream",
     "text": [
      "4 3\n",
      "1 2 3 4\n",
      "2 3 4 5\n",
      "3 4 5 6\n",
      "4 5 6 7\n",
      "2 2 3 4\n",
      "27\n",
      "3 4 3 4\n",
      "6\n",
      "1 1 4 4\n",
      "64\n",
      "총 소비 시간:0.5664064884185791ms\n"
     ]
    }
   ],
   "source": [
    "# 있는 그대로 풀이\n",
    "time_spent = 0\n",
    "n, m = list(map( int, input().split() ))  # n:4, m:3\n",
    "arr = []\n",
    "for i in range(n):\n",
    "    arr.append(list(map( int, input().split() )))\n",
    "    \n",
    "for prob_set in range(m):\n",
    "    x1, y1, x2, y2 = list(map( int, input().split() ))\n",
    "    for i in range(100000):\n",
    "        t1 = time.time()\n",
    "        sum_val = 0\n",
    "        for row in range(x1-1, x2):\n",
    "            for col in range(y1-1, y2):\n",
    "                sum_val += arr[row][col]\n",
    "        t2 = time.time()\n",
    "        time_spent += t2 - t1\n",
    "    print(sum_val)\n",
    "print(f\"총 소비 시간:{time_spent}ms\")"
   ]
  },
  {
   "cell_type": "code",
   "execution_count": 19,
   "id": "adc1c8cf",
   "metadata": {},
   "outputs": [],
   "source": [
    "n = 15 # int(input())\n",
    "count = 1\n",
    "s = 1\n",
    "e = 1\n",
    "sum_v = 1"
   ]
  },
  {
   "cell_type": "code",
   "execution_count": 20,
   "id": "6ac240a1",
   "metadata": {},
   "outputs": [
    {
     "name": "stdout",
     "output_type": "stream",
     "text": [
      "4\n"
     ]
    }
   ],
   "source": [
    "while e != n:\n",
    "    # 합이 n에 도달하면 count 추가\n",
    "    if sum_v == n:\n",
    "        count += 1\n",
    "        e += 1\n",
    "        sum_v += e\n",
    "    # 합이 주어진 n보다 크면 앞의 숫자 빼기\n",
    "    elif sum_v > n:\n",
    "        sum_v -= s\n",
    "        s += 1\n",
    "    # 합이 주어진 n보다 작으면 뒷 숫자 추가\n",
    "    else :\n",
    "        e += 1\n",
    "        sum_v += e\n",
    "print(count)"
   ]
  },
  {
   "cell_type": "code",
   "execution_count": 21,
   "id": "13270229",
   "metadata": {},
   "outputs": [
    {
     "name": "stdout",
     "output_type": "stream",
     "text": [
      "4\n"
     ]
    }
   ],
   "source": [
    "n = 15\n",
    "count = 0\n",
    "for s in range(1, n+1):\n",
    "    sum_v = 0\n",
    "    for e in range(s, n+1):\n",
    "        sum_v += e\n",
    "        if sum_v == n:\n",
    "            count += 1\n",
    "            break\n",
    "print(count)"
   ]
  },
  {
   "cell_type": "code",
   "execution_count": 31,
   "id": "aa7c246c",
   "metadata": {},
   "outputs": [
    {
     "name": "stdout",
     "output_type": "stream",
     "text": [
      "4 2\n",
      "GATA\n",
      "1 0 0 1\n",
      "2\n"
     ]
    }
   ],
   "source": [
    "# P69\n",
    "\n",
    "checkList = [0]*4\n",
    "myList = [0]*4\n",
    "checkSecret = 0\n",
    "\n",
    "def myadd(c):\n",
    "    global checkList, myList, checkSecret\n",
    "    \n",
    "    if c == 'A':\n",
    "        myList[0] += 1\n",
    "        if myList[0] == checkList[0]:\n",
    "            checkSecret += 1\n",
    "    elif c == 'C':\n",
    "        myList[1] += 1\n",
    "        if myList[1] == checkList[1]:\n",
    "            checkSecret += 1\n",
    "    elif c == 'G':\n",
    "        myList[2] += 1\n",
    "        if myList[2] == checkList[2]:\n",
    "            checkSecret += 1\n",
    "    elif c == 'T':\n",
    "        myList[3] += 1\n",
    "        if myList[3] == checkList[3]:\n",
    "            checkSecret += 1\n",
    "            \n",
    "def myremove(c):\n",
    "    global checkList, myList, checkSecret\n",
    "    \n",
    "    if c == 'A':\n",
    "        if myList[0] == checkList[0]:\n",
    "            checkSecret -= 1\n",
    "        myList[0] -= 1\n",
    "    elif c == 'C':\n",
    "        if myList[1] == checkList[1]:\n",
    "            checkSecret -= 1\n",
    "        myList[1] -= 1\n",
    "    elif c == 'G':\n",
    "        if myList[2] == checkList[2]:\n",
    "            checkSecret -= 1\n",
    "        myList[2] -= 1\n",
    "    elif c == 'T':\n",
    "        if myList[3] == checkList[3]:\n",
    "            checkSecret -= 1\n",
    "        myList[3] -= 1\n",
    "\n",
    "S, P = list(map( int, input().split() ))\n",
    "Result = 0\n",
    "\n",
    "A = list(input())\n",
    "\n",
    "checkList = list(map( int, input().split() ))\n",
    "\n",
    "for i in range(4):\n",
    "    if checkList[i] == 0:\n",
    "        checkSecret += 1 # 0의 개수\n",
    "        \n",
    "for i in range(P): # 부분 문자열 길이\n",
    "    myadd(A[i])\n",
    "    \n",
    "if checkSecret == 4:\n",
    "    Result += 1\n",
    "    \n",
    "for i in range(P, S):\n",
    "    myadd(A[i])\n",
    "    j = i - P\n",
    "    myremove(A[j])\n",
    "    if checkSecret == 4:\n",
    "        Result += 1\n",
    "        \n",
    "print(Result)"
   ]
  },
  {
   "cell_type": "code",
   "execution_count": 35,
   "id": "dad031bd",
   "metadata": {},
   "outputs": [
    {
     "name": "stdout",
     "output_type": "stream",
     "text": [
      "4 2\n",
      "GATA\n",
      "1 0 0 1\n",
      "2\n"
     ]
    }
   ],
   "source": [
    "S, P = list(map( int, input().split() ))\n",
    "dna = input()\n",
    "minimums = list(map( int, input().split() ))\n",
    "\n",
    "ACGT = [0, 0, 0, 0]\n",
    "start_index = 0\n",
    "end_index = P - 1\n",
    "count = 0\n",
    "\n",
    "def add_ACGT(char):\n",
    "    if char == \"A\":\n",
    "        ACGT[0] += 1\n",
    "    elif char == \"C\":\n",
    "        ACGT[1] += 1\n",
    "    elif char == \"G\":\n",
    "        ACGT[2] += 1\n",
    "    elif char == \"T\":\n",
    "        ACGT[3] += 1\n",
    "        \n",
    "def remove_ACGT(char):\n",
    "    if char == \"A\":\n",
    "        ACGT[0] -= 1\n",
    "    elif char == \"C\":\n",
    "        ACGT[1] -= 1\n",
    "    elif char == \"G\":\n",
    "        ACGT[2] -= 1\n",
    "    elif char == \"T\":\n",
    "        ACGT[3] -= 1\n",
    "        \n",
    "for i in range(P):\n",
    "    add_ACGT(dna[i])\n",
    "if ACGT[0] >= minimums[0] and ACGT[1] >= minimums[1] and ACGT[2] >= minimums[2] and ACGT[3] >= minimums[3]:\n",
    "    count += 1\n",
    "    \n",
    "while end_index < S - 1:\n",
    "    remove_ACGT(dna[start_index])\n",
    "    start_index += 1\n",
    "    end_index += 1\n",
    "    add_ACGT(dna[end_index])\n",
    "    \n",
    "    if ACGT[0] >= minimums[0] and ACGT[1] >= minimums[1] and ACGT[2] >= minimums[2] and ACGT[3] >= minimums[3]:\n",
    "        count += 1\n",
    "print(count)"
   ]
  },
  {
   "cell_type": "code",
   "execution_count": 45,
   "id": "ce2cb217",
   "metadata": {},
   "outputs": [],
   "source": [
    "test_dic = {\"딸기\":0, \"바나나\":0}"
   ]
  },
  {
   "cell_type": "code",
   "execution_count": 46,
   "id": "51d3749a",
   "metadata": {},
   "outputs": [],
   "source": [
    "test_dic[\"딸기\"] += 1"
   ]
  },
  {
   "cell_type": "code",
   "execution_count": 47,
   "id": "989c91fd",
   "metadata": {},
   "outputs": [
    {
     "data": {
      "text/plain": [
       "{'딸기': 1, '바나나': 0}"
      ]
     },
     "execution_count": 47,
     "metadata": {},
     "output_type": "execute_result"
    }
   ],
   "source": [
    "test_dic"
   ]
  },
  {
   "cell_type": "code",
   "execution_count": 50,
   "id": "70706b8c",
   "metadata": {},
   "outputs": [
    {
     "name": "stdout",
     "output_type": "stream",
     "text": [
      "4 2\n",
      "GATA\n",
      "1 0 0 1\n",
      "2\n"
     ]
    }
   ],
   "source": [
    "S, P = list(map( int, input().split() ))\n",
    "dna = list(input())\n",
    "a, c, g, t = list(map( int, input().split() ))\n",
    "minimums_dic = {\"A\":a, \"C\":c, \"G\":g, \"T\":t}\n",
    "acgt_count = {\"A\":0, \"C\":0, \"G\":0, \"T\":0}\n",
    "\n",
    "count = 0\n",
    "\n",
    "for i in range(S-P+1):\n",
    "    count_up = True\n",
    "    \n",
    "    if i == 0:\n",
    "        for j in range(P):\n",
    "            acgt_count[dna[j]] += 1\n",
    "    else :\n",
    "        acgt_count[dna[i+P-1]] += 1\n",
    "        acgt_count[dna[i-1]] -= 1\n",
    "        \n",
    "    for i in [\"A\", \"C\", \"G\", \"T\"]:\n",
    "        if acgt_count[i] < minimums_dic[i]:\n",
    "            count_up = False\n",
    "            break\n",
    "            \n",
    "    if count_up:\n",
    "        count += 1\n",
    "print(count)"
   ]
  },
  {
   "cell_type": "code",
   "execution_count": 51,
   "id": "93a1dd0f",
   "metadata": {},
   "outputs": [],
   "source": [
    "stack = []"
   ]
  },
  {
   "cell_type": "code",
   "execution_count": 52,
   "id": "7035a50b",
   "metadata": {},
   "outputs": [
    {
     "data": {
      "text/plain": [
       "[10]"
      ]
     },
     "execution_count": 52,
     "metadata": {},
     "output_type": "execute_result"
    }
   ],
   "source": [
    "stack.append(10)\n",
    "stack"
   ]
  },
  {
   "cell_type": "code",
   "execution_count": 53,
   "id": "c0e3fef5",
   "metadata": {},
   "outputs": [
    {
     "data": {
      "text/plain": [
       "[10, 20]"
      ]
     },
     "execution_count": 53,
     "metadata": {},
     "output_type": "execute_result"
    }
   ],
   "source": [
    "stack.append(20)\n",
    "stack"
   ]
  },
  {
   "cell_type": "code",
   "execution_count": 55,
   "id": "174cbd3d",
   "metadata": {},
   "outputs": [
    {
     "data": {
      "text/plain": [
       "[10, 20, 30]"
      ]
     },
     "execution_count": 55,
     "metadata": {},
     "output_type": "execute_result"
    }
   ],
   "source": [
    "stack.append(30)\n",
    "stack"
   ]
  },
  {
   "cell_type": "code",
   "execution_count": 60,
   "id": "21e60916",
   "metadata": {},
   "outputs": [
    {
     "data": {
      "text/plain": [
       "10"
      ]
     },
     "execution_count": 60,
     "metadata": {},
     "output_type": "execute_result"
    }
   ],
   "source": [
    "stack.pop()"
   ]
  },
  {
   "cell_type": "code",
   "execution_count": 61,
   "id": "1539cb78",
   "metadata": {},
   "outputs": [
    {
     "data": {
      "text/plain": [
       "[]"
      ]
     },
     "execution_count": 61,
     "metadata": {},
     "output_type": "execute_result"
    }
   ],
   "source": [
    "stack"
   ]
  },
  {
   "cell_type": "code",
   "execution_count": 62,
   "id": "409f3f6d",
   "metadata": {},
   "outputs": [],
   "source": [
    "if stack:\n",
    "    print(\"데이터 있어\")"
   ]
  },
  {
   "cell_type": "code",
   "execution_count": 63,
   "id": "6c1231e5",
   "metadata": {},
   "outputs": [],
   "source": [
    "stack.append(30)"
   ]
  },
  {
   "cell_type": "code",
   "execution_count": 64,
   "id": "b6974804",
   "metadata": {},
   "outputs": [
    {
     "name": "stdout",
     "output_type": "stream",
     "text": [
      "데이터 있어\n"
     ]
    }
   ],
   "source": [
    "if stack:\n",
    "    print(\"데이터 있어\")"
   ]
  },
  {
   "cell_type": "code",
   "execution_count": 65,
   "id": "2a5ba3b5",
   "metadata": {},
   "outputs": [],
   "source": [
    "queue = []"
   ]
  },
  {
   "cell_type": "code",
   "execution_count": 66,
   "id": "e8be8245",
   "metadata": {},
   "outputs": [],
   "source": [
    "queue.append(10)"
   ]
  },
  {
   "cell_type": "code",
   "execution_count": 67,
   "id": "1c5adc65",
   "metadata": {},
   "outputs": [],
   "source": [
    "queue.append(20)"
   ]
  },
  {
   "cell_type": "code",
   "execution_count": 69,
   "id": "f744c861",
   "metadata": {},
   "outputs": [
    {
     "data": {
      "text/plain": [
       "[10, 20, 30]"
      ]
     },
     "execution_count": 69,
     "metadata": {},
     "output_type": "execute_result"
    }
   ],
   "source": [
    "queue.append(30)\n",
    "queue"
   ]
  },
  {
   "cell_type": "code",
   "execution_count": 70,
   "id": "89cb58d8",
   "metadata": {},
   "outputs": [
    {
     "data": {
      "text/plain": [
       "[20, 30]"
      ]
     },
     "execution_count": 70,
     "metadata": {},
     "output_type": "execute_result"
    }
   ],
   "source": [
    "queue.pop(0)\n",
    "queue"
   ]
  },
  {
   "cell_type": "code",
   "execution_count": null,
   "id": "cb829b9f",
   "metadata": {},
   "outputs": [],
   "source": [
    "myQeque = deque()"
   ]
  }
 ],
 "metadata": {
  "kernelspec": {
   "display_name": "Python 3 (ipykernel)",
   "language": "python",
   "name": "python3"
  },
  "language_info": {
   "codemirror_mode": {
    "name": "ipython",
    "version": 3
   },
   "file_extension": ".py",
   "mimetype": "text/x-python",
   "name": "python",
   "nbconvert_exporter": "python",
   "pygments_lexer": "ipython3",
   "version": "3.8.0"
  }
 },
 "nbformat": 4,
 "nbformat_minor": 5
}
