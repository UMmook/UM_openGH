{
 "cells": [
  {
   "cell_type": "code",
   "execution_count": 1,
   "id": "5a916657",
   "metadata": {},
   "outputs": [],
   "source": [
    "# 자료구조와 알고리즘\n",
    "# 운영체제\n",
    "# 분산시스템\n",
    "# 네트워크 통신\n",
    "\n",
    "# HTML, CSS, Node.js\n",
    "\n",
    "# 화이트보드 테스트(자료구조와 알고리즘)\n",
    "#     화이트 박스 테스트\n",
    "\n",
    "# 코딩테스트(코드 자동 채점)\n",
    "#     블랙 박스 테스트(코드를 안보면서 결과 체크(기능을 본다))"
   ]
  },
  {
   "cell_type": "code",
   "execution_count": 2,
   "id": "d6f93112",
   "metadata": {},
   "outputs": [
    {
     "data": {
      "text/plain": [
       "-1"
      ]
     },
     "execution_count": 2,
     "metadata": {},
     "output_type": "execute_result"
    }
   ],
   "source": [
    "# 화이트 박스 테스트 (코드를 보면서 문제 탐색)\n",
    "def divide1(n, div):\n",
    "    return n/div\n",
    "\n",
    "def divide1(n, div):\n",
    "    if div != 0:\n",
    "        return n/div\n",
    "    else:\n",
    "        return -1\n",
    "\n",
    "divide1(10, 0)"
   ]
  },
  {
   "cell_type": "code",
   "execution_count": 3,
   "id": "e83b31ca",
   "metadata": {},
   "outputs": [],
   "source": [
    "# 파이썬 언어 문법 : 영어 문법(어법)\n",
    "# 자료 구조 알고리즘 : 프로그래밍(어법)"
   ]
  },
  {
   "cell_type": "code",
   "execution_count": 4,
   "id": "a643e1ac",
   "metadata": {},
   "outputs": [],
   "source": [
    "# array vs list\n",
    "# array : 길이 고정, 같은 종류(int, float, ...)\n",
    "# list : 길이 가변, 여러 종류(int, float, ...)"
   ]
  },
  {
   "cell_type": "code",
   "execution_count": 5,
   "id": "059f6c9d",
   "metadata": {},
   "outputs": [
    {
     "data": {
      "text/plain": [
       "[1, 2, 3, 4]"
      ]
     },
     "execution_count": 5,
     "metadata": {},
     "output_type": "execute_result"
    }
   ],
   "source": [
    "list_a = [1, 2, 3, 4]\n",
    "list_a"
   ]
  },
  {
   "cell_type": "code",
   "execution_count": 6,
   "id": "4b4b4dab",
   "metadata": {},
   "outputs": [
    {
     "data": {
      "text/plain": [
       "[1, 2, 3, 4, 5]"
      ]
     },
     "execution_count": 6,
     "metadata": {},
     "output_type": "execute_result"
    }
   ],
   "source": [
    "list_a.append(5)\n",
    "list_a"
   ]
  },
  {
   "cell_type": "code",
   "execution_count": 7,
   "id": "f71c2d13",
   "metadata": {},
   "outputs": [
    {
     "data": {
      "text/plain": [
       "[1, 1.5, 2, 3, 4, 5]"
      ]
     },
     "execution_count": 7,
     "metadata": {},
     "output_type": "execute_result"
    }
   ],
   "source": [
    "list_a.insert(1, 1.5)\n",
    "list_a"
   ]
  },
  {
   "cell_type": "code",
   "execution_count": 8,
   "id": "9380e7e5",
   "metadata": {},
   "outputs": [
    {
     "data": {
      "text/plain": [
       "[1, 2, 3, 4, 0, 0, 0]"
      ]
     },
     "execution_count": 8,
     "metadata": {},
     "output_type": "execute_result"
    }
   ],
   "source": [
    "array_a = [1, 2, 3, 4, 0, 0, 0]\n",
    "array_a"
   ]
  },
  {
   "cell_type": "code",
   "execution_count": 9,
   "id": "e04142d8",
   "metadata": {},
   "outputs": [
    {
     "data": {
      "text/plain": [
       "[1, 2, 3, 4, 4, 0, 0]"
      ]
     },
     "execution_count": 9,
     "metadata": {},
     "output_type": "execute_result"
    }
   ],
   "source": [
    "array_a[4] = array_a[3]\n",
    "array_a"
   ]
  },
  {
   "cell_type": "code",
   "execution_count": 10,
   "id": "6b4cbc44",
   "metadata": {},
   "outputs": [
    {
     "data": {
      "text/plain": [
       "[1, 2, 3, 3, 4, 0, 0]"
      ]
     },
     "execution_count": 10,
     "metadata": {},
     "output_type": "execute_result"
    }
   ],
   "source": [
    "array_a[3] = array_a[2]\n",
    "array_a"
   ]
  },
  {
   "cell_type": "code",
   "execution_count": 11,
   "id": "927e04c9",
   "metadata": {},
   "outputs": [
    {
     "data": {
      "text/plain": [
       "[1, 2, 5, 3, 4, 0, 0]"
      ]
     },
     "execution_count": 11,
     "metadata": {},
     "output_type": "execute_result"
    }
   ],
   "source": [
    "array_a[2] = 5\n",
    "array_a"
   ]
  },
  {
   "cell_type": "code",
   "execution_count": 12,
   "id": "c1884114",
   "metadata": {},
   "outputs": [
    {
     "name": "stdout",
     "output_type": "stream",
     "text": [
      "n1의 data값 :  값1\n",
      "n2의 data값 :  값2\n",
      "n3의 data값 :  값3\n"
     ]
    }
   ],
   "source": [
    "class Node:\n",
    "    def __init__(self, data_val):\n",
    "        self.data_val = data_val  # 자신의 값\n",
    "        self.next_val = None     # 포인터\n",
    "        \n",
    "class LinkedList:\n",
    "    def __init__(self):\n",
    "        self.head_val = None\n",
    "        \n",
    "mylist = LinkedList()\n",
    "n1 = Node(\"값1\")\n",
    "mylist.head_val = n1\n",
    "n2 =  Node(\"값2\")\n",
    "n1.next_val = n2\n",
    "n3 =  Node(\"값3\")\n",
    "n2.next_val = n3\n",
    "\n",
    "print(\"n1의 data값 : \", mylist.head_val.data_val)\n",
    "print(\"n2의 data값 : \", mylist.head_val.next_val.data_val)  # mylist.head_val.next_val : n2\n",
    "print(\"n3의 data값 : \", mylist.head_val.next_val.next_val.data_val)"
   ]
  },
  {
   "cell_type": "code",
   "execution_count": 13,
   "id": "d6da2c64",
   "metadata": {},
   "outputs": [
    {
     "name": "stdout",
     "output_type": "stream",
     "text": [
      "리스트의 data값 :  값1\n",
      "리스트의 data값 :  값12사이\n",
      "리스트의 data값 :  값2\n",
      "리스트의 data값 :  값3\n"
     ]
    }
   ],
   "source": [
    "n1 = Node(\"값1\")\n",
    "n2 = Node(\"값2\")\n",
    "n3 = Node(\"값3\")\n",
    "nbetween12 = Node(\"값12사이\")\n",
    "mylist2 = LinkedList()\n",
    "mylist2.head_val = n1\n",
    "# 아래 두 줄 : insert()문과 비슷\n",
    "n1.next_val = nbetween12  # n2\n",
    "nbetween12.next_val = n2\n",
    "# 아래 한 줄 : append()문과 비슷\n",
    "n2.next_val = n3\n",
    "print(\"리스트의 data값 : \", mylist2.head_val.data_val)\n",
    "print(\"리스트의 data값 : \", mylist2.head_val.next_val.data_val)  # mylist.head_val.next_val : n2\n",
    "print(\"리스트의 data값 : \", mylist2.head_val.next_val.next_val.data_val)\n",
    "print(\"리스트의 data값 : \", mylist2.head_val.next_val.next_val.next_val.data_val)"
   ]
  },
  {
   "cell_type": "code",
   "execution_count": 14,
   "id": "6563ee45",
   "metadata": {},
   "outputs": [
    {
     "name": "stdout",
     "output_type": "stream",
     "text": [
      "5\n",
      "54321\n"
     ]
    }
   ],
   "source": [
    "# P37\n",
    "\n",
    "n = input()\n",
    "numbers = input()"
   ]
  },
  {
   "cell_type": "code",
   "execution_count": 15,
   "id": "9af91d44",
   "metadata": {},
   "outputs": [
    {
     "data": {
      "text/plain": [
       "('5', '54321')"
      ]
     },
     "execution_count": 15,
     "metadata": {},
     "output_type": "execute_result"
    }
   ],
   "source": [
    "n, numbers"
   ]
  },
  {
   "cell_type": "code",
   "execution_count": 16,
   "id": "31ee9f52",
   "metadata": {},
   "outputs": [
    {
     "name": "stdout",
     "output_type": "stream",
     "text": [
      "15\n"
     ]
    }
   ],
   "source": [
    "answer = 15\n",
    "print(answer)"
   ]
  },
  {
   "cell_type": "code",
   "execution_count": 17,
   "id": "517d7af4",
   "metadata": {},
   "outputs": [
    {
     "name": "stdout",
     "output_type": "stream",
     "text": [
      "5\n",
      "54321\n",
      "15\n"
     ]
    }
   ],
   "source": [
    "n = input()\n",
    "numbers = input()\n",
    "sum_val = 0\n",
    "for i in range(int(n)):\n",
    "    sum_val += int(numbers[i])\n",
    "print(answer)"
   ]
  },
  {
   "cell_type": "code",
   "execution_count": 18,
   "id": "f27618cd",
   "metadata": {},
   "outputs": [
    {
     "name": "stdout",
     "output_type": "stream",
     "text": [
      "5\n",
      "54321\n"
     ]
    },
    {
     "data": {
      "text/plain": [
       "('5', ['5', '4', '3', '2', '1'])"
      ]
     },
     "execution_count": 18,
     "metadata": {},
     "output_type": "execute_result"
    }
   ],
   "source": [
    "n = input()\n",
    "numbers = list(input())\n",
    "n, numbers"
   ]
  },
  {
   "cell_type": "code",
   "execution_count": 19,
   "id": "e197504c",
   "metadata": {},
   "outputs": [
    {
     "data": {
      "text/plain": [
       "10"
      ]
     },
     "execution_count": 19,
     "metadata": {},
     "output_type": "execute_result"
    }
   ],
   "source": [
    "sum([1, 2, 3, 4])"
   ]
  },
  {
   "cell_type": "code",
   "execution_count": 20,
   "id": "67748e09",
   "metadata": {},
   "outputs": [],
   "source": [
    "# 이렇게 하지 말 것\n",
    "# sum = 0\n",
    "# sum([1, 2, 3, 4])"
   ]
  },
  {
   "cell_type": "code",
   "execution_count": 22,
   "id": "d8f9b713",
   "metadata": {},
   "outputs": [
    {
     "name": "stdout",
     "output_type": "stream",
     "text": [
      "15\n"
     ]
    }
   ],
   "source": [
    "sum_val = 0\n",
    "for i in numbers:\n",
    "    sum_val += int(i)\n",
    "print(sum_val)"
   ]
  },
  {
   "cell_type": "code",
   "execution_count": 30,
   "id": "cc0b67a1",
   "metadata": {},
   "outputs": [
    {
     "name": "stdout",
     "output_type": "stream",
     "text": [
      "3 4 5\n",
      "받은 값 :  [3, 4, 5]\n"
     ]
    },
    {
     "data": {
      "text/plain": [
       "[3, 4, 5]"
      ]
     },
     "execution_count": 30,
     "metadata": {},
     "output_type": "execute_result"
    }
   ],
   "source": [
    "a = list(map(int, input().split()))\n",
    "print(\"받은 값 : \", a)\n",
    "a"
   ]
  },
  {
   "cell_type": "code",
   "execution_count": 31,
   "id": "a948ca2a",
   "metadata": {},
   "outputs": [
    {
     "name": "stdout",
     "output_type": "stream",
     "text": [
      "3\n",
      "40 80 60\n"
     ]
    },
    {
     "data": {
      "text/plain": [
       "(3, [40, 80, 60])"
      ]
     },
     "execution_count": 31,
     "metadata": {},
     "output_type": "execute_result"
    }
   ],
   "source": [
    "# P38\n",
    "\n",
    "n = int(input())\n",
    "list_in = list(map(int, input().split()))\n",
    "n, list_in"
   ]
  },
  {
   "cell_type": "code",
   "execution_count": 32,
   "id": "48e2aeaf",
   "metadata": {},
   "outputs": [
    {
     "data": {
      "text/plain": [
       "80"
      ]
     },
     "execution_count": 32,
     "metadata": {},
     "output_type": "execute_result"
    }
   ],
   "source": [
    "max_point = max(list_in)\n",
    "max_point"
   ]
  },
  {
   "cell_type": "code",
   "execution_count": 35,
   "id": "29211e16",
   "metadata": {},
   "outputs": [
    {
     "data": {
      "text/plain": [
       "75.0"
      ]
     },
     "execution_count": 35,
     "metadata": {},
     "output_type": "execute_result"
    }
   ],
   "source": [
    "# (list_in[0]/80*100 + list_in[1]/80*100 + list_in[2]/80*100)/3\n",
    "# (list_in[0] + list_in[1] + list_in[2])/80*100/3\n",
    "sum(list_in)/80*100/3"
   ]
  },
  {
   "cell_type": "code",
   "execution_count": 41,
   "id": "6871a467",
   "metadata": {},
   "outputs": [
    {
     "name": "stdout",
     "output_type": "stream",
     "text": [
      "9\n",
      "10 20 30 40 50 60 70 80 90\n",
      "55.55555555555556\n"
     ]
    }
   ],
   "source": [
    "n = int(input())\n",
    "list_in = list(map(int, input().split()))\n",
    "max_point = max(list_in)\n",
    "print(sum(list_in)/max_point*100/n)"
   ]
  },
  {
   "cell_type": "code",
   "execution_count": 45,
   "id": "fd135a57",
   "metadata": {},
   "outputs": [
    {
     "data": {
      "text/plain": [
       "45"
      ]
     },
     "execution_count": 45,
     "metadata": {},
     "output_type": "execute_result"
    }
   ],
   "source": [
    "# P41\n",
    "\n",
    "a = [15, 13 ,10, 7, 3, 12, 13]\n",
    "s_6 = a[0] + a[1] + a[2] + a[3] + a[4] + a[5] + a[6]\n",
    "s_1 = a[0] + a[1]\n",
    "# s_2to5 = a[2] + a[3] + a[4] + a[5] + a[6]\n",
    "s_2to6 = s_6 - s_1  # 사칙 연산 1번 실행\n",
    "s_2to6"
   ]
  },
  {
   "cell_type": "code",
   "execution_count": 46,
   "id": "6a55dd81",
   "metadata": {},
   "outputs": [
    {
     "data": {
      "text/plain": [
       "45"
      ]
     },
     "execution_count": 46,
     "metadata": {},
     "output_type": "execute_result"
    }
   ],
   "source": [
    "a[2] + a[3] + a[4] + a[5] + a[6]  # 사칙 연산 4번 실행"
   ]
  },
  {
   "cell_type": "code",
   "execution_count": 47,
   "id": "d035b1c0",
   "metadata": {},
   "outputs": [
    {
     "data": {
      "text/plain": [
       "58"
      ]
     },
     "execution_count": 47,
     "metadata": {},
     "output_type": "execute_result"
    }
   ],
   "source": [
    "s_1to6 = s_6 - a[0]  # 사칙 연산 1번 실행\n",
    "s_1to6"
   ]
  },
  {
   "cell_type": "code",
   "execution_count": 48,
   "id": "aee9f826",
   "metadata": {},
   "outputs": [
    {
     "data": {
      "text/plain": [
       "58"
      ]
     },
     "execution_count": 48,
     "metadata": {},
     "output_type": "execute_result"
    }
   ],
   "source": [
    "s_1to6 = a[1] + a[2] + a[3] + a[4] + a[5] + a[6]  # 사칙 연산 5번 실행\n",
    "s_1to6"
   ]
  },
  {
   "cell_type": "code",
   "execution_count": 49,
   "id": "c4d6db47",
   "metadata": {},
   "outputs": [],
   "source": [
    "# 예제 입력, 예제 출력 : 테스트 케이스\n",
    "# 문제에서 제시 되지 않고 자동채점기에만 존재하는 케이스 : 히든 케이스\n",
    "\n",
    "# cache, memoization (memoization x)"
   ]
  },
  {
   "cell_type": "code",
   "execution_count": 51,
   "id": "a0ad1344",
   "metadata": {},
   "outputs": [
    {
     "name": "stdout",
     "output_type": "stream",
     "text": [
      "5 3\n",
      "5 4 3 2 1\n",
      "1 3\n",
      "12\n",
      "2 4\n",
      "9\n",
      "5 5\n",
      "1\n"
     ]
    }
   ],
   "source": [
    "# P43\n",
    "\n",
    "# 5 3\n",
    "suNo, quizNo = list(map( int, input().split() ))\n",
    "numbers      = list(map( int, input().split() ))\n",
    "prefix_sum = [0]\n",
    "temp = 0\n",
    "for i in numbers:\n",
    "    temp += i\n",
    "    prefix_sum.append(temp)\n",
    "\n",
    "for quiz in range(quizNo):\n",
    "    start_i, end_i = list(map( int, input().split() ))\n",
    "    ans = prefix_sum[end_i] - prefix_sum[start_i - 1]\n",
    "    print(ans)"
   ]
  },
  {
   "cell_type": "code",
   "execution_count": 58,
   "id": "d6b80a87",
   "metadata": {},
   "outputs": [
    {
     "data": {
      "text/plain": [
       "[0, 5, 9, 12, 14, 15]"
      ]
     },
     "execution_count": 58,
     "metadata": {},
     "output_type": "execute_result"
    }
   ],
   "source": [
    "numbers = [5, 4, 3, 2, 1]\n",
    "prefix_sum = [0]\n",
    "temp = 0\n",
    "for i in numbers:\n",
    "    temp += i\n",
    "    prefix_sum.append(temp)\n",
    "prefix_sum"
   ]
  },
  {
   "cell_type": "code",
   "execution_count": 52,
   "id": "feed4e0f",
   "metadata": {},
   "outputs": [
    {
     "data": {
      "text/plain": [
       "[1, 2, 3]"
      ]
     },
     "execution_count": 52,
     "metadata": {},
     "output_type": "execute_result"
    }
   ],
   "source": [
    "a = [1, 2, 3]\n",
    "a"
   ]
  },
  {
   "cell_type": "code",
   "execution_count": 54,
   "id": "0b07c044",
   "metadata": {},
   "outputs": [
    {
     "data": {
      "text/plain": [
       "[[1, 2, 3], [4, 5, 6], [7, 8, 9]]"
      ]
     },
     "execution_count": 54,
     "metadata": {},
     "output_type": "execute_result"
    }
   ],
   "source": [
    "a2 = [[1, 2, 3],\n",
    "      [4, 5, 6],\n",
    "      [7, 8, 9]]\n",
    "a2"
   ]
  },
  {
   "cell_type": "code",
   "execution_count": 55,
   "id": "95ab4669",
   "metadata": {},
   "outputs": [
    {
     "data": {
      "text/plain": [
       "[[0, 0, 0, 0, 0]]"
      ]
     },
     "execution_count": 55,
     "metadata": {},
     "output_type": "execute_result"
    }
   ],
   "source": [
    "n = 4\n",
    "A = [[0]*(n+1)]\n",
    "A"
   ]
  },
  {
   "cell_type": "code",
   "execution_count": 56,
   "id": "9951cb24",
   "metadata": {},
   "outputs": [
    {
     "data": {
      "text/plain": [
       "[[0, 0, 0, 0, 0],\n",
       " [0, 0, 0, 0, 0],\n",
       " [0, 0, 0, 0, 0],\n",
       " [0, 0, 0, 0, 0],\n",
       " [0, 0, 0, 0, 0]]"
      ]
     },
     "execution_count": 56,
     "metadata": {},
     "output_type": "execute_result"
    }
   ],
   "source": [
    "D = [[0]*(n+1) for i in range(n+1)]\n",
    "D"
   ]
  },
  {
   "cell_type": "code",
   "execution_count": 57,
   "id": "2ba32954",
   "metadata": {},
   "outputs": [
    {
     "data": {
      "text/plain": [
       "[0, 1, 2, 3, 4]"
      ]
     },
     "execution_count": 57,
     "metadata": {},
     "output_type": "execute_result"
    }
   ],
   "source": [
    "[i for i in range(n+1)]"
   ]
  },
  {
   "cell_type": "code",
   "execution_count": 1,
   "id": "93586b37",
   "metadata": {},
   "outputs": [
    {
     "name": "stdout",
     "output_type": "stream",
     "text": [
      "0\n",
      "1\n",
      "2\n",
      "3\n",
      "4\n"
     ]
    }
   ],
   "source": [
    "for 행 in range(5):\n",
    "    print(행)"
   ]
  },
  {
   "cell_type": "code",
   "execution_count": 2,
   "id": "e1e8b7a5",
   "metadata": {},
   "outputs": [
    {
     "data": {
      "text/plain": [
       "30"
      ]
     },
     "execution_count": 2,
     "metadata": {},
     "output_type": "execute_result"
    }
   ],
   "source": [
    "a = [10, 20, 30, 40]\n",
    "a[2]  # a[3]"
   ]
  },
  {
   "cell_type": "code",
   "execution_count": 3,
   "id": "8341eb98",
   "metadata": {},
   "outputs": [
    {
     "data": {
      "text/plain": [
       "30"
      ]
     },
     "execution_count": 3,
     "metadata": {},
     "output_type": "execute_result"
    }
   ],
   "source": [
    "a = [0, 10, 20, 30, 40]\n",
    "a[3]"
   ]
  },
  {
   "cell_type": "code",
   "execution_count": 4,
   "id": "c8a719cf",
   "metadata": {},
   "outputs": [
    {
     "name": "stdout",
     "output_type": "stream",
     "text": [
      "4 3\n",
      "1 2 3 4\n",
      "2 3 4 5\n",
      "3 4 5 6\n",
      "4 5 6 7\n"
     ]
    }
   ],
   "source": [
    "# P45\n",
    "\n",
    "n, m = list(map( int, input().split() ))  # n:4, m:3\n",
    "\n",
    "입력 = [ [0]*(n+1) ]\n",
    "누적 = [ [0]*(n+1) for i in range(n+1) ]\n",
    "\n",
    "for i in range(n):\n",
    "    입력_행 = [0] + list(map( int, input().split() ))\n",
    "    입력.append(입력_행)"
   ]
  },
  {
   "cell_type": "code",
   "execution_count": 5,
   "id": "189de79d",
   "metadata": {},
   "outputs": [
    {
     "data": {
      "text/plain": [
       "[[0, 0, 0, 0, 0],\n",
       " [0, 1, 2, 3, 4],\n",
       " [0, 2, 3, 4, 5],\n",
       " [0, 3, 4, 5, 6],\n",
       " [0, 4, 5, 6, 7]]"
      ]
     },
     "execution_count": 5,
     "metadata": {},
     "output_type": "execute_result"
    }
   ],
   "source": [
    "입력"
   ]
  },
  {
   "cell_type": "code",
   "execution_count": 7,
   "id": "0fd5e464",
   "metadata": {},
   "outputs": [
    {
     "name": "stdout",
     "output_type": "stream",
     "text": [
      "4 3\n",
      "1 2 3 4\n",
      "2 3 4 5\n",
      "3 4 5 6\n",
      "4 5 6 7\n",
      "2 2 3 4\n",
      "27\n",
      "3 4 3 4\n",
      "6\n",
      "1 1 4 4\n",
      "64\n"
     ]
    }
   ],
   "source": [
    "# P45\n",
    "\n",
    "n, m = list(map( int, input().split() ))  # n:4, m:3\n",
    "\n",
    "입력 = [ [0]*(n+1) ]\n",
    "누적 = [ [0]*(n+1) for i in range(n+1) ]\n",
    "\n",
    "for i in range(n):\n",
    "    입력_행 = [0] + list(map( int, input().split() ))\n",
    "    입력.append(입력_행)\n",
    "    \n",
    "for 행 in range(1, n+1):\n",
    "    for 열 in range(1, n+1):\n",
    "        누적[행][열] = 누적[행][열] = 누적[행][열-1] + 누적[행-1][열] + 입력[행][열] - 누적[행-1][열-1]\n",
    "        \n",
    "for prob_set in range(m):\n",
    "    x1, y1, x2, y2 = list(map( int, input().split() ))\n",
    "    ans = 누적[x2][y2] - 누적[x1-1][y2] - 누적[x2][y1-1] + 누적 [x1-1][y1-1]\n",
    "    print(ans)"
   ]
  },
  {
   "cell_type": "code",
   "execution_count": 8,
   "id": "2102fb03",
   "metadata": {},
   "outputs": [
    {
     "name": "stdout",
     "output_type": "stream",
     "text": [
      "4 3\n",
      "1 2 3 4\n",
      "2 3 4 5\n",
      "3 4 5 6\n",
      "4 5 6 7\n",
      "2 2 3 4\n",
      "27\n",
      "3 4 3 4\n",
      "6\n",
      "1 1 4 4\n",
      "64\n"
     ]
    }
   ],
   "source": [
    "# 있는 그대로 풀이\n",
    "\n",
    "n, m = list(map( int, input().split() ))  # n:4, m:3\n",
    "arr = []\n",
    "for i in range(n):\n",
    "    arr.append(list(map( int, input().split() )))\n",
    "    \n",
    "for prob_set in range(m):\n",
    "    x1, y1, x2, y2 = list(map( int, input().split() ))\n",
    "    sum_val = 0\n",
    "    for row in range(x1-1, x2):\n",
    "        for col in range(y1-1, y2):\n",
    "            sum_val += arr[row][col]\n",
    "    print(sum_val)"
   ]
  },
  {
   "cell_type": "code",
   "execution_count": 9,
   "id": "f342c0eb",
   "metadata": {},
   "outputs": [],
   "source": [
    "import time"
   ]
  },
  {
   "cell_type": "code",
   "execution_count": 10,
   "id": "ed02ac80",
   "metadata": {},
   "outputs": [
    {
     "name": "stdout",
     "output_type": "stream",
     "text": [
      "4 3\n",
      "1 2 3 4\n",
      "2 3 4 5\n",
      "3 4 5 6\n",
      "4 5 6 7\n",
      "2 2 3 4\n",
      "27\n",
      "3 4 3 4\n",
      "6\n",
      "1 1 4 4\n",
      "64\n",
      "총 소비 시간:0.0ms\n"
     ]
    }
   ],
   "source": [
    "# P49 부분합 적용 풀이\n",
    "\n",
    "time_spent = 0\n",
    "n, m = list(map( int, input().split() ))  # n:4, m:3\n",
    "\n",
    "입력 = [ [0]*(n+1) ]\n",
    "누적 = [ [0]*(n+1) for i in range(n+1) ]\n",
    "\n",
    "for i in range(n):\n",
    "    입력_행 = [0] + list(map( int, input().split() ))\n",
    "    입력.append(입력_행)\n",
    "    \n",
    "t1 = time.time()\n",
    "for 행 in range(1, n+1):\n",
    "    for 열 in range(1, n+1):\n",
    "        누적[행][열] = 누적[행][열-1] + 누적[행-1][열] + 입력[행][열] - 누적[행-1][열-1]\n",
    "t2 = time.time()\n",
    "time_spent += t2 - t1\n",
    "        \n",
    "for prob_set in range(m):\n",
    "    x1, y1, x2, y2 = list(map( int, input().split() ))\n",
    "    t1 = time.time()\n",
    "    ans = 누적[x2][y2] - 누적[x1-1][y2] - 누적[x2][y1-1] + 누적 [x1-1][y1-1]\n",
    "    t2 = time.time()\n",
    "    time_spent += t2 - t1\n",
    "    print(ans)\n",
    "print(f\"총 소비 시간:{time_spent}ms\")"
   ]
  },
  {
   "cell_type": "code",
   "execution_count": 11,
   "id": "9c8a80a3",
   "metadata": {},
   "outputs": [
    {
     "name": "stdout",
     "output_type": "stream",
     "text": [
      "4 3\n",
      "1 2 3 4\n",
      "2 3 4 5\n",
      "3 4 5 6\n",
      "4 5 6 7\n",
      "2 2 3 4\n",
      "27\n",
      "3 4 3 4\n",
      "6\n",
      "1 1 4 4\n",
      "64\n",
      "총 소비 시간:0.0ms\n"
     ]
    }
   ],
   "source": [
    "# 있는 그대로 풀이\n",
    "time_spent = 0\n",
    "n, m = list(map( int, input().split() ))  # n:4, m:3\n",
    "arr = []\n",
    "for i in range(n):\n",
    "    arr.append(list(map( int, input().split() )))\n",
    "    \n",
    "for prob_set in range(m):\n",
    "    x1, y1, x2, y2 = list(map( int, input().split() ))\n",
    "    t1 = time.time()\n",
    "    sum_val = 0\n",
    "    for row in range(x1-1, x2):\n",
    "        for col in range(y1-1, y2):\n",
    "            sum_val += arr[row][col]\n",
    "    t2 = time.time()\n",
    "    time_spent += t2 - t1\n",
    "    print(sum_val)\n",
    "print(f\"총 소비 시간:{time_spent}ms\")"
   ]
  },
  {
   "cell_type": "code",
   "execution_count": 12,
   "id": "d8ca685f",
   "metadata": {},
   "outputs": [
    {
     "name": "stdout",
     "output_type": "stream",
     "text": [
      "4 3\n",
      "1 2 3 4\n",
      "2 3 4 5\n",
      "3 4 5 6\n",
      "4 5 6 7\n",
      "2 2 3 4\n",
      "27\n",
      "3 4 3 4\n",
      "6\n",
      "1 1 4 4\n",
      "64\n",
      "총 소비 시간:1.0844006538391113ms\n"
     ]
    }
   ],
   "source": [
    "# P49 부분합 적용 풀이\n",
    "\n",
    "time_spent = 0\n",
    "n, m = list(map( int, input().split() ))  # n:4, m:3\n",
    "\n",
    "입력 = [ [0]*(n+1) ]\n",
    "누적 = [ [0]*(n+1) for i in range(n+1) ]\n",
    "\n",
    "for i in range(n):\n",
    "    입력_행 = [0] + list(map( int, input().split() ))\n",
    "    입력.append(입력_행)\n",
    "    \n",
    "t1 = time.time()\n",
    "for i in range(100000):\n",
    "    for 행 in range(1, n+1):\n",
    "        for 열 in range(1, n+1):\n",
    "            누적[행][열] = 누적[행][열-1] + 누적[행-1][열] + 입력[행][열] - 누적[행-1][열-1]\n",
    "t2 = time.time()\n",
    "time_spent += t2 - t1\n",
    "        \n",
    "for prob_set in range(m):\n",
    "    x1, y1, x2, y2 = list(map( int, input().split() ))\n",
    "    for i in range(100000):\n",
    "        t1 = time.time()\n",
    "        ans = 누적[x2][y2] - 누적[x1-1][y2] - 누적[x2][y1-1] + 누적 [x1-1][y1-1]\n",
    "        t2 = time.time()\n",
    "        time_spent += t2 - t1\n",
    "    print(ans)\n",
    "print(f\"총 소비 시간:{time_spent}ms\")"
   ]
  },
  {
   "cell_type": "code",
   "execution_count": 13,
   "id": "db5d8b1e",
   "metadata": {},
   "outputs": [
    {
     "name": "stdout",
     "output_type": "stream",
     "text": [
      "4 3\n",
      "1 2 3 4\n",
      "2 3 4 5\n",
      "3 4 5 6\n",
      "4 5 6 7\n",
      "2 2 3 4\n",
      "27\n",
      "3 4 3 4\n",
      "6\n",
      "1 1 4 4\n",
      "64\n",
      "총 소비 시간:0.5664064884185791ms\n"
     ]
    }
   ],
   "source": [
    "# 있는 그대로 풀이\n",
    "time_spent = 0\n",
    "n, m = list(map( int, input().split() ))  # n:4, m:3\n",
    "arr = []\n",
    "for i in range(n):\n",
    "    arr.append(list(map( int, input().split() )))\n",
    "    \n",
    "for prob_set in range(m):\n",
    "    x1, y1, x2, y2 = list(map( int, input().split() ))\n",
    "    for i in range(100000):\n",
    "        t1 = time.time()\n",
    "        sum_val = 0\n",
    "        for row in range(x1-1, x2):\n",
    "            for col in range(y1-1, y2):\n",
    "                sum_val += arr[row][col]\n",
    "        t2 = time.time()\n",
    "        time_spent += t2 - t1\n",
    "    print(sum_val)\n",
    "print(f\"총 소비 시간:{time_spent}ms\")"
   ]
  },
  {
   "cell_type": "code",
   "execution_count": 19,
   "id": "adc1c8cf",
   "metadata": {},
   "outputs": [],
   "source": [
    "n = 15 # int(input())\n",
    "count = 1\n",
    "s = 1\n",
    "e = 1\n",
    "sum_v = 1"
   ]
  },
  {
   "cell_type": "code",
   "execution_count": 20,
   "id": "6ac240a1",
   "metadata": {},
   "outputs": [
    {
     "name": "stdout",
     "output_type": "stream",
     "text": [
      "4\n"
     ]
    }
   ],
   "source": [
    "while e != n:\n",
    "    # 합이 n에 도달하면 count 추가\n",
    "    if sum_v == n:\n",
    "        count += 1\n",
    "        e += 1\n",
    "        sum_v += e\n",
    "    # 합이 주어진 n보다 크면 앞의 숫자 빼기\n",
    "    elif sum_v > n:\n",
    "        sum_v -= s\n",
    "        s += 1\n",
    "    # 합이 주어진 n보다 작으면 뒷 숫자 추가\n",
    "    else :\n",
    "        e += 1\n",
    "        sum_v += e\n",
    "print(count)"
   ]
  },
  {
   "cell_type": "code",
   "execution_count": 21,
   "id": "13270229",
   "metadata": {},
   "outputs": [
    {
     "name": "stdout",
     "output_type": "stream",
     "text": [
      "4\n"
     ]
    }
   ],
   "source": [
    "n = 15\n",
    "count = 0\n",
    "for s in range(1, n+1):\n",
    "    sum_v = 0\n",
    "    for e in range(s, n+1):\n",
    "        sum_v += e\n",
    "        if sum_v == n:\n",
    "            count += 1\n",
    "            break\n",
    "print(count)"
   ]
  },
  {
   "cell_type": "code",
   "execution_count": 31,
   "id": "aa7c246c",
   "metadata": {},
   "outputs": [
    {
     "name": "stdout",
     "output_type": "stream",
     "text": [
      "4 2\n",
      "GATA\n",
      "1 0 0 1\n",
      "2\n"
     ]
    }
   ],
   "source": [
    "# P69\n",
    "\n",
    "checkList = [0]*4\n",
    "myList = [0]*4\n",
    "checkSecret = 0\n",
    "\n",
    "def myadd(c):\n",
    "    global checkList, myList, checkSecret\n",
    "    \n",
    "    if c == 'A':\n",
    "        myList[0] += 1\n",
    "        if myList[0] == checkList[0]:\n",
    "            checkSecret += 1\n",
    "    elif c == 'C':\n",
    "        myList[1] += 1\n",
    "        if myList[1] == checkList[1]:\n",
    "            checkSecret += 1\n",
    "    elif c == 'G':\n",
    "        myList[2] += 1\n",
    "        if myList[2] == checkList[2]:\n",
    "            checkSecret += 1\n",
    "    elif c == 'T':\n",
    "        myList[3] += 1\n",
    "        if myList[3] == checkList[3]:\n",
    "            checkSecret += 1\n",
    "            \n",
    "def myremove(c):\n",
    "    global checkList, myList, checkSecret\n",
    "    \n",
    "    if c == 'A':\n",
    "        if myList[0] == checkList[0]:\n",
    "            checkSecret -= 1\n",
    "        myList[0] -= 1\n",
    "    elif c == 'C':\n",
    "        if myList[1] == checkList[1]:\n",
    "            checkSecret -= 1\n",
    "        myList[1] -= 1\n",
    "    elif c == 'G':\n",
    "        if myList[2] == checkList[2]:\n",
    "            checkSecret -= 1\n",
    "        myList[2] -= 1\n",
    "    elif c == 'T':\n",
    "        if myList[3] == checkList[3]:\n",
    "            checkSecret -= 1\n",
    "        myList[3] -= 1\n",
    "\n",
    "S, P = list(map( int, input().split() ))\n",
    "Result = 0\n",
    "\n",
    "A = list(input())\n",
    "\n",
    "checkList = list(map( int, input().split() ))\n",
    "\n",
    "for i in range(4):\n",
    "    if checkList[i] == 0:\n",
    "        checkSecret += 1 # 0의 개수\n",
    "        \n",
    "for i in range(P): # 부분 문자열 길이\n",
    "    myadd(A[i])\n",
    "    \n",
    "if checkSecret == 4:\n",
    "    Result += 1\n",
    "    \n",
    "for i in range(P, S):\n",
    "    myadd(A[i])\n",
    "    j = i - P\n",
    "    myremove(A[j])\n",
    "    if checkSecret == 4:\n",
    "        Result += 1\n",
    "        \n",
    "print(Result)"
   ]
  },
  {
   "cell_type": "code",
   "execution_count": 35,
   "id": "dad031bd",
   "metadata": {},
   "outputs": [
    {
     "name": "stdout",
     "output_type": "stream",
     "text": [
      "4 2\n",
      "GATA\n",
      "1 0 0 1\n",
      "2\n"
     ]
    }
   ],
   "source": [
    "S, P = list(map( int, input().split() ))\n",
    "dna = input()\n",
    "minimums = list(map( int, input().split() ))\n",
    "\n",
    "ACGT = [0, 0, 0, 0]\n",
    "start_index = 0\n",
    "end_index = P - 1\n",
    "count = 0\n",
    "\n",
    "def add_ACGT(char):\n",
    "    if char == \"A\":\n",
    "        ACGT[0] += 1\n",
    "    elif char == \"C\":\n",
    "        ACGT[1] += 1\n",
    "    elif char == \"G\":\n",
    "        ACGT[2] += 1\n",
    "    elif char == \"T\":\n",
    "        ACGT[3] += 1\n",
    "        \n",
    "def remove_ACGT(char):\n",
    "    if char == \"A\":\n",
    "        ACGT[0] -= 1\n",
    "    elif char == \"C\":\n",
    "        ACGT[1] -= 1\n",
    "    elif char == \"G\":\n",
    "        ACGT[2] -= 1\n",
    "    elif char == \"T\":\n",
    "        ACGT[3] -= 1\n",
    "        \n",
    "for i in range(P):\n",
    "    add_ACGT(dna[i])\n",
    "if ACGT[0] >= minimums[0] and ACGT[1] >= minimums[1] and ACGT[2] >= minimums[2] and ACGT[3] >= minimums[3]:\n",
    "    count += 1\n",
    "    \n",
    "while end_index < S - 1:\n",
    "    remove_ACGT(dna[start_index])\n",
    "    start_index += 1\n",
    "    end_index += 1\n",
    "    add_ACGT(dna[end_index])\n",
    "    \n",
    "    if ACGT[0] >= minimums[0] and ACGT[1] >= minimums[1] and ACGT[2] >= minimums[2] and ACGT[3] >= minimums[3]:\n",
    "        count += 1\n",
    "print(count)"
   ]
  },
  {
   "cell_type": "code",
   "execution_count": 45,
   "id": "ce2cb217",
   "metadata": {},
   "outputs": [],
   "source": [
    "test_dic = {\"딸기\":0, \"바나나\":0}"
   ]
  },
  {
   "cell_type": "code",
   "execution_count": 46,
   "id": "51d3749a",
   "metadata": {},
   "outputs": [],
   "source": [
    "test_dic[\"딸기\"] += 1"
   ]
  },
  {
   "cell_type": "code",
   "execution_count": 47,
   "id": "989c91fd",
   "metadata": {},
   "outputs": [
    {
     "data": {
      "text/plain": [
       "{'딸기': 1, '바나나': 0}"
      ]
     },
     "execution_count": 47,
     "metadata": {},
     "output_type": "execute_result"
    }
   ],
   "source": [
    "test_dic"
   ]
  },
  {
   "cell_type": "code",
   "execution_count": 50,
   "id": "70706b8c",
   "metadata": {},
   "outputs": [
    {
     "name": "stdout",
     "output_type": "stream",
     "text": [
      "4 2\n",
      "GATA\n",
      "1 0 0 1\n",
      "2\n"
     ]
    }
   ],
   "source": [
    "S, P = list(map( int, input().split() ))\n",
    "dna = list(input())\n",
    "a, c, g, t = list(map( int, input().split() ))\n",
    "minimums_dic = {\"A\":a, \"C\":c, \"G\":g, \"T\":t}\n",
    "acgt_count = {\"A\":0, \"C\":0, \"G\":0, \"T\":0}\n",
    "\n",
    "count = 0\n",
    "\n",
    "for i in range(S-P+1):\n",
    "    count_up = True\n",
    "    \n",
    "    if i == 0:\n",
    "        for j in range(P):\n",
    "            acgt_count[dna[j]] += 1\n",
    "    else :\n",
    "        acgt_count[dna[i+P-1]] += 1\n",
    "        acgt_count[dna[i-1]] -= 1\n",
    "        \n",
    "    for i in [\"A\", \"C\", \"G\", \"T\"]:\n",
    "        if acgt_count[i] < minimums_dic[i]:\n",
    "            count_up = False\n",
    "            break\n",
    "            \n",
    "    if count_up:\n",
    "        count += 1\n",
    "print(count)"
   ]
  },
  {
   "cell_type": "code",
   "execution_count": 51,
   "id": "93a1dd0f",
   "metadata": {},
   "outputs": [],
   "source": [
    "stack = []"
   ]
  },
  {
   "cell_type": "code",
   "execution_count": 52,
   "id": "7035a50b",
   "metadata": {},
   "outputs": [
    {
     "data": {
      "text/plain": [
       "[10]"
      ]
     },
     "execution_count": 52,
     "metadata": {},
     "output_type": "execute_result"
    }
   ],
   "source": [
    "stack.append(10)\n",
    "stack"
   ]
  },
  {
   "cell_type": "code",
   "execution_count": 53,
   "id": "c0e3fef5",
   "metadata": {},
   "outputs": [
    {
     "data": {
      "text/plain": [
       "[10, 20]"
      ]
     },
     "execution_count": 53,
     "metadata": {},
     "output_type": "execute_result"
    }
   ],
   "source": [
    "stack.append(20)\n",
    "stack"
   ]
  },
  {
   "cell_type": "code",
   "execution_count": 55,
   "id": "174cbd3d",
   "metadata": {},
   "outputs": [
    {
     "data": {
      "text/plain": [
       "[10, 20, 30]"
      ]
     },
     "execution_count": 55,
     "metadata": {},
     "output_type": "execute_result"
    }
   ],
   "source": [
    "stack.append(30)\n",
    "stack"
   ]
  },
  {
   "cell_type": "code",
   "execution_count": 60,
   "id": "21e60916",
   "metadata": {},
   "outputs": [
    {
     "data": {
      "text/plain": [
       "10"
      ]
     },
     "execution_count": 60,
     "metadata": {},
     "output_type": "execute_result"
    }
   ],
   "source": [
    "stack.pop()"
   ]
  },
  {
   "cell_type": "code",
   "execution_count": 61,
   "id": "1539cb78",
   "metadata": {},
   "outputs": [
    {
     "data": {
      "text/plain": [
       "[]"
      ]
     },
     "execution_count": 61,
     "metadata": {},
     "output_type": "execute_result"
    }
   ],
   "source": [
    "stack"
   ]
  },
  {
   "cell_type": "code",
   "execution_count": 62,
   "id": "409f3f6d",
   "metadata": {},
   "outputs": [],
   "source": [
    "if stack:\n",
    "    print(\"데이터 있어\")"
   ]
  },
  {
   "cell_type": "code",
   "execution_count": 63,
   "id": "6c1231e5",
   "metadata": {},
   "outputs": [],
   "source": [
    "stack.append(30)"
   ]
  },
  {
   "cell_type": "code",
   "execution_count": 64,
   "id": "b6974804",
   "metadata": {},
   "outputs": [
    {
     "name": "stdout",
     "output_type": "stream",
     "text": [
      "데이터 있어\n"
     ]
    }
   ],
   "source": [
    "if stack:\n",
    "    print(\"데이터 있어\")"
   ]
  },
  {
   "cell_type": "code",
   "execution_count": 65,
   "id": "2a5ba3b5",
   "metadata": {},
   "outputs": [],
   "source": [
    "queue = []"
   ]
  },
  {
   "cell_type": "code",
   "execution_count": 66,
   "id": "e8be8245",
   "metadata": {},
   "outputs": [],
   "source": [
    "queue.append(10)"
   ]
  },
  {
   "cell_type": "code",
   "execution_count": 67,
   "id": "1c5adc65",
   "metadata": {},
   "outputs": [],
   "source": [
    "queue.append(20)"
   ]
  },
  {
   "cell_type": "code",
   "execution_count": 69,
   "id": "f744c861",
   "metadata": {},
   "outputs": [
    {
     "data": {
      "text/plain": [
       "[10, 20, 30]"
      ]
     },
     "execution_count": 69,
     "metadata": {},
     "output_type": "execute_result"
    }
   ],
   "source": [
    "queue.append(30)\n",
    "queue"
   ]
  },
  {
   "cell_type": "code",
   "execution_count": 70,
   "id": "89cb58d8",
   "metadata": {},
   "outputs": [
    {
     "data": {
      "text/plain": [
       "[20, 30]"
      ]
     },
     "execution_count": 70,
     "metadata": {},
     "output_type": "execute_result"
    }
   ],
   "source": [
    "queue.pop(0)\n",
    "queue"
   ]
  },
  {
   "cell_type": "code",
   "execution_count": 1,
   "id": "cb829b9f",
   "metadata": {},
   "outputs": [
    {
     "name": "stdout",
     "output_type": "stream",
     "text": [
      "8\n",
      "4\n",
      "3\n",
      "6\n",
      "8\n",
      "7\n",
      "5\n",
      "2\n",
      "1\n"
     ]
    }
   ],
   "source": [
    "# P81\n",
    "\n",
    "N = int(input()) # N:8\n",
    "입력수열 = [0]*N\n",
    "\n",
    "for i in range(N):\n",
    "    입력수열[i] = int(input())\n",
    "    \n",
    "stack = []\n",
    "num = 1\n",
    "result = True\n",
    "answer = \"\"\n",
    "\n",
    "for i in range(N): # su = [4, 3, 6, 8, 7, 5, 2, 1]\n",
    "    su = 입력수열[i]\n",
    "    if su >= num:         # i(현재)번째 수열 값 >= 오름차순 자연수(num) => 스택에 append 4를 뽑기 위해서 4까지 쌓는 작업\n",
    "        while su >= num:\n",
    "            stack.append(num)\n",
    "            num += 1\n",
    "            answer += \"+\\n\"\n",
    "        stack.pop()\n",
    "        answer += \"-\\n\"\n",
    "    else :                # i(현재)번째 수열 값 < 오름차순 자연수(num) => 스택에서 꺼냄 (pop)\n",
    "        n = stack.pop()\n",
    "        # n:3, su:3\n",
    "        if n > su:        # 비정상 (뽑을 수 없을 때)\n",
    "            print(\"NO\")\n",
    "            result = False\n",
    "            break\n",
    "        else :\n",
    "            answer += \"-\\n\"\n",
    "\n",
    "if result:\n",
    "    print(answer)"
   ]
  },
  {
   "cell_type": "code",
   "execution_count": 2,
   "id": "28ad07f1",
   "metadata": {},
   "outputs": [
    {
     "data": {
      "text/plain": [
       "[4, 3, 6, 8, 7, 5, 2, 1]"
      ]
     },
     "execution_count": 2,
     "metadata": {},
     "output_type": "execute_result"
    }
   ],
   "source": [
    "입력수열"
   ]
  },
  {
   "cell_type": "code",
   "execution_count": 5,
   "id": "5dc41d36",
   "metadata": {},
   "outputs": [
    {
     "name": "stdout",
     "output_type": "stream",
     "text": [
      "6\n",
      "4\n"
     ]
    }
   ],
   "source": [
    "from collections import deque\n",
    "\n",
    "N = int(input())\n",
    "myQueue = deque()\n",
    "\n",
    "for i in range(1, N+1):\n",
    "    myQueue.append(i)\n",
    "    \n",
    "while len(myQueue) > 1:\n",
    "    myQueue.popleft()\n",
    "    tmp = myQueue.popleft()\n",
    "    myQueue.append(tmp)\n",
    "    \n",
    "print(myQueue[0])"
   ]
  },
  {
   "cell_type": "code",
   "execution_count": 4,
   "id": "41b8e4f1",
   "metadata": {},
   "outputs": [
    {
     "data": {
      "text/plain": [
       "deque([1, 2, 3, 4, 5, 6])"
      ]
     },
     "execution_count": 4,
     "metadata": {},
     "output_type": "execute_result"
    }
   ],
   "source": [
    "myQueue"
   ]
  },
  {
   "cell_type": "code",
   "execution_count": 6,
   "id": "d0497428",
   "metadata": {},
   "outputs": [],
   "source": [
    "# Stack, Queue\n",
    "# deque, heap, priority queue"
   ]
  },
  {
   "cell_type": "code",
   "execution_count": 28,
   "id": "ddc4ca50",
   "metadata": {},
   "outputs": [],
   "source": [
    "class myStack:\n",
    "    def __init__(self):\n",
    "        self.stack = []\n",
    "        self.top = -1\n",
    "        \n",
    "    def push(self, value):\n",
    "        self.stack.append(value)\n",
    "        self.top += 1\n",
    "    \n",
    "    def pop(self):\n",
    "        if self.top >= 0:\n",
    "            value = self.stack[self.top]\n",
    "            del self.stack[self.top]\n",
    "            self.top -= 1\n",
    "            return value\n",
    "        else :\n",
    "            return None\n",
    "        \n",
    "    def size(self):\n",
    "        return self.top+1"
   ]
  },
  {
   "cell_type": "code",
   "execution_count": 29,
   "id": "68de2be6",
   "metadata": {},
   "outputs": [
    {
     "data": {
      "text/plain": [
       "(-1, [], 0)"
      ]
     },
     "execution_count": 29,
     "metadata": {},
     "output_type": "execute_result"
    }
   ],
   "source": [
    "s1 = myStack()\n",
    "s1.top, s1.stack, s1.size()"
   ]
  },
  {
   "cell_type": "code",
   "execution_count": 30,
   "id": "04922aef",
   "metadata": {},
   "outputs": [
    {
     "data": {
      "text/plain": [
       "(0, [10], 1)"
      ]
     },
     "execution_count": 30,
     "metadata": {},
     "output_type": "execute_result"
    }
   ],
   "source": [
    "s1.push(10)\n",
    "s1.top, s1.stack, s1.size()"
   ]
  },
  {
   "cell_type": "code",
   "execution_count": 31,
   "id": "8e7b2a62",
   "metadata": {},
   "outputs": [
    {
     "data": {
      "text/plain": [
       "(1, [10, 20], 2)"
      ]
     },
     "execution_count": 31,
     "metadata": {},
     "output_type": "execute_result"
    }
   ],
   "source": [
    "s1.push(20)\n",
    "s1.top, s1.stack, s1.size()"
   ]
  },
  {
   "cell_type": "code",
   "execution_count": 32,
   "id": "307fdf0f",
   "metadata": {},
   "outputs": [
    {
     "data": {
      "text/plain": [
       "(20, [10], 0, 1)"
      ]
     },
     "execution_count": 32,
     "metadata": {},
     "output_type": "execute_result"
    }
   ],
   "source": [
    "s1.pop(), s1.stack, s1.top, s1.size()"
   ]
  },
  {
   "cell_type": "code",
   "execution_count": 33,
   "id": "13d219c9",
   "metadata": {},
   "outputs": [
    {
     "data": {
      "text/plain": [
       "(10, [], -1, 0)"
      ]
     },
     "execution_count": 33,
     "metadata": {},
     "output_type": "execute_result"
    }
   ],
   "source": [
    "s1.pop(), s1.stack, s1.top, s1.size()"
   ]
  },
  {
   "cell_type": "code",
   "execution_count": 34,
   "id": "17084cf2",
   "metadata": {},
   "outputs": [
    {
     "data": {
      "text/plain": [
       "(None, [], -1, 0)"
      ]
     },
     "execution_count": 34,
     "metadata": {},
     "output_type": "execute_result"
    }
   ],
   "source": [
    "s1.pop(), s1.stack, s1.top, s1.size()"
   ]
  },
  {
   "cell_type": "code",
   "execution_count": 35,
   "id": "ee6e36ea",
   "metadata": {},
   "outputs": [],
   "source": [
    "class myQueue:\n",
    "    def __init__(self):\n",
    "        self.queue = []\n",
    "        self.front = 0\n",
    "        self.back = -1\n",
    "        \n",
    "    def enqueue(self, value):    # stack에서 push\n",
    "        self.queue.append(value)\n",
    "        self.back += 1\n",
    "    \n",
    "    def dequeue(self):           # stack에서 pop\n",
    "        if self.back >= 0:\n",
    "            value = self.queue[self.front]\n",
    "            del self.queue[self.front]\n",
    "            self.back -= 1\n",
    "            return value\n",
    "        else :\n",
    "            return None\n",
    "        \n",
    "    def size(self):\n",
    "        return self.back+1"
   ]
  },
  {
   "cell_type": "code",
   "execution_count": 36,
   "id": "6491306f",
   "metadata": {},
   "outputs": [
    {
     "data": {
      "text/plain": [
       "(-1, [], 0)"
      ]
     },
     "execution_count": 36,
     "metadata": {},
     "output_type": "execute_result"
    }
   ],
   "source": [
    "q1 = myQueue()\n",
    "q1.back, q1.queue, q1.size()"
   ]
  },
  {
   "cell_type": "code",
   "execution_count": 38,
   "id": "acf26ddb",
   "metadata": {},
   "outputs": [
    {
     "data": {
      "text/plain": [
       "(0, [10], 1)"
      ]
     },
     "execution_count": 38,
     "metadata": {},
     "output_type": "execute_result"
    }
   ],
   "source": [
    "q1.enqueue(10)\n",
    "q1.back, q1.queue, q1.size()"
   ]
  },
  {
   "cell_type": "code",
   "execution_count": 39,
   "id": "8479b318",
   "metadata": {},
   "outputs": [
    {
     "data": {
      "text/plain": [
       "(1, [10, 20], 2)"
      ]
     },
     "execution_count": 39,
     "metadata": {},
     "output_type": "execute_result"
    }
   ],
   "source": [
    "q1.enqueue(20)\n",
    "q1.back, q1.queue, q1.size()"
   ]
  },
  {
   "cell_type": "code",
   "execution_count": 40,
   "id": "8d821e9e",
   "metadata": {},
   "outputs": [
    {
     "data": {
      "text/plain": [
       "(0, 10, [20], 1)"
      ]
     },
     "execution_count": 40,
     "metadata": {},
     "output_type": "execute_result"
    }
   ],
   "source": [
    "val = q1.dequeue()\n",
    "q1.back, val, q1.queue, q1.size()"
   ]
  },
  {
   "cell_type": "code",
   "execution_count": 41,
   "id": "881f3888",
   "metadata": {},
   "outputs": [
    {
     "data": {
      "text/plain": [
       "(-1, 20, [], 0)"
      ]
     },
     "execution_count": 41,
     "metadata": {},
     "output_type": "execute_result"
    }
   ],
   "source": [
    "val = q1.dequeue()\n",
    "q1.back, val, q1.queue, q1.size()"
   ]
  },
  {
   "cell_type": "code",
   "execution_count": 42,
   "id": "569208ab",
   "metadata": {},
   "outputs": [
    {
     "data": {
      "text/plain": [
       "(-1, None, [], 0)"
      ]
     },
     "execution_count": 42,
     "metadata": {},
     "output_type": "execute_result"
    }
   ],
   "source": [
    "val = q1.dequeue()\n",
    "q1.back, val, q1.queue, q1.size()"
   ]
  },
  {
   "cell_type": "code",
   "execution_count": 46,
   "id": "0160217b",
   "metadata": {},
   "outputs": [
    {
     "name": "stdout",
     "output_type": "stream",
     "text": [
      "deque(['월', '화', '수'])\n",
      "deque(['월', '화', '수', '목'])\n",
      "deque(['일', '월', '화', '수', '목'])\n",
      "목 deque(['일', '월', '화', '수'])\n",
      "일 deque(['월', '화', '수'])\n"
     ]
    }
   ],
   "source": [
    "from collections import deque\n",
    "dq = deque([\"월\", \"화\", \"수\"])\n",
    "print(dq)\n",
    "dq.append(\"목\")     # right에 add\n",
    "print(dq)\n",
    "dq.appendleft(\"일\") # left에 add\n",
    "print(dq)\n",
    "val = dq.pop()      # right에서 pop\n",
    "print(val, dq)\n",
    "val = dq.popleft()  # left에서 pop\n",
    "print(val, dq)"
   ]
  },
  {
   "cell_type": "code",
   "execution_count": 47,
   "id": "102b02ce",
   "metadata": {},
   "outputs": [],
   "source": [
    "# hash table\n",
    "# hash tag : 검색어, 문장 나열(X)\n",
    "# 코딩 테스트에서 hash 문제 : dictionary 활용 문제"
   ]
  },
  {
   "cell_type": "code",
   "execution_count": 48,
   "id": "ae54ec7a",
   "metadata": {},
   "outputs": [
    {
     "data": {
      "text/plain": [
       "6"
      ]
     },
     "execution_count": 48,
     "metadata": {},
     "output_type": "execute_result"
    }
   ],
   "source": [
    "# \"나는 오늘 맥주를 마시러 갔다\", \"맥주\"\n",
    "str1 = \"나는 오늘 맥주를 마시러 갔다\"\n",
    "\n",
    "str1.index(\"맥주\")"
   ]
  },
  {
   "cell_type": "code",
   "execution_count": 50,
   "id": "9c72578a",
   "metadata": {},
   "outputs": [
    {
     "data": {
      "text/plain": [
       "['나는', '오늘', '맥주를', '마시러', '갔다']"
      ]
     },
     "execution_count": 50,
     "metadata": {},
     "output_type": "execute_result"
    }
   ],
   "source": [
    "str1 = str1.split()\n",
    "str1"
   ]
  },
  {
   "cell_type": "code",
   "execution_count": null,
   "id": "9293229d",
   "metadata": {},
   "outputs": [],
   "source": [
    "# hash table\n",
    "# \"사과\": 0,\n",
    "# \"바나나\": 1,\n",
    "# \"수빅\": 2"
   ]
  },
  {
   "cell_type": "code",
   "execution_count": 52,
   "id": "cfb0c447",
   "metadata": {},
   "outputs": [],
   "source": [
    "class Hash_table:\n",
    "    def __init__(self, length = 5):\n",
    "        self.max_len = length\n",
    "        self.table = [[] for i in range(self.max_len)]\n",
    "        \n",
    "    def myhash(self, key): # hash function : 값을 hash index로 변형\n",
    "        res = sum([ord(s) for s in key])\n",
    "        return res % self.max_len\n",
    "        \n",
    "    def myset(self, key, value):\n",
    "        hash_index = self.myhash(key)\n",
    "        self.table[hash_index].append((key, value))\n",
    "        \n",
    "    def myget(self, key):\n",
    "        index = self.hash(key)\n",
    "        value = self.table[index]\n",
    "        if not value: return None\n",
    "        for v in value:\n",
    "            if v[0] == key:\n",
    "                return v[1]\n",
    "        return None"
   ]
  },
  {
   "cell_type": "code",
   "execution_count": 53,
   "id": "d199e465",
   "metadata": {},
   "outputs": [],
   "source": [
    "hash_capitals = Hash_table()"
   ]
  },
  {
   "cell_type": "code",
   "execution_count": 54,
   "id": "d89b471a",
   "metadata": {},
   "outputs": [],
   "source": [
    "국가 = [\"한국\", \"미국\",   \"중국\", \"영국\", \"일본\"]\n",
    "수도 = [\"서울\", \"워싱턴\", \"북경\", \"런던\", \"도쿄\"]\n",
    "for country, capital in zip(국가, 수도):\n",
    "    hash_capitals.myset(country, capital)"
   ]
  },
  {
   "cell_type": "code",
   "execution_count": 55,
   "id": "c0203155",
   "metadata": {},
   "outputs": [
    {
     "name": "stdout",
     "output_type": "stream",
     "text": [
      "해시 테이블\n",
      "0 [('중국', '북경')]\n",
      "1 [('영국', '런던')]\n",
      "2 [('한국', '서울'), ('미국', '워싱턴')]\n",
      "3 []\n",
      "4 [('일본', '도쿄')]\n"
     ]
    }
   ],
   "source": [
    "print(\"해시 테이블\")\n",
    "for index, value in enumerate(hash_capitals.table):\n",
    "    print(index, value)\n",
    "# 한국, 미국 : 해시 테이블 분리 연결"
   ]
  },
  {
   "cell_type": "code",
   "execution_count": 56,
   "id": "2e0202d4",
   "metadata": {},
   "outputs": [],
   "source": [
    "# myhash 기능\n",
    "# 원 데이터            1 2 3 4 5 6 7 8 9\n",
    "# 3으로 나눈 나머지    1 2 0 1 2 0 1 2 0\n",
    "\n",
    "# 0 [('중국', '북경')]\n",
    "# 1 [('영국', '런던')]\n",
    "# 2 [('한국', '서울')]\n",
    "# 3 [('미국', '워싱턴')]\n",
    "# 4 [('일본', '도쿄')]\n",
    "\n",
    "# 3단원 : 자료구조 (기초)\n",
    "\n",
    "# 4단원 : 정렬 (알고리즘)\n",
    "# P93 버블, 선택, 삽입, 퀵, 병합, 기수, ...\n",
    "# 버블, 퀵\n",
    "\n",
    "# 9단원 : 트리 (9->8->5)\n",
    "# 5단원 : 완전 탐색 (알고리즘 - 트리 / 그래프기반 알고리즘)\n",
    "# 8단원 : 그래프 (5단원과 연관)\n",
    "# 6단원 : 그리디 알고리즘 (탐욕 알고리즘, 불 완전 탐색)\n",
    "\n",
    "#동적 계획법\n",
    "\n",
    "# - 수학 -\n",
    "# 7단원 : 정수론\n",
    "# 10단원 : 조합\n",
    "# 12단원 : 기하"
   ]
  },
  {
   "cell_type": "code",
   "execution_count": 59,
   "id": "eb46db4d",
   "metadata": {},
   "outputs": [
    {
     "data": {
      "text/plain": [
       "[15, 24, 32, 42, 60]"
      ]
     },
     "execution_count": 59,
     "metadata": {},
     "output_type": "execute_result"
    }
   ],
   "source": [
    "# 버블 정렬\n",
    "data = [15, 24, 32, 42, 60]\n",
    "\n",
    "def bubbleSort(unsorted):\n",
    "    for iter_no in range(len(unsorted)-1, 0, -1):\n",
    "        for idx in range(iter_no):\n",
    "            if unsorted[idx] > unsorted[idx+1]:\n",
    "                tmp = unsorted[idx]\n",
    "                unsorted[idx] = unsorted[idx+1]\n",
    "                unsorted[idx+1] = tmp\n",
    "                \n",
    "bubbleSort(data)\n",
    "data"
   ]
  },
  {
   "cell_type": "code",
   "execution_count": 63,
   "id": "3b7f085a",
   "metadata": {},
   "outputs": [
    {
     "name": "stdout",
     "output_type": "stream",
     "text": [
      "5\n",
      "5\n",
      "2\n",
      "3\n",
      "4\n",
      "1\n"
     ]
    },
    {
     "data": {
      "text/plain": [
       "[5, 2, 3, 4, 1]"
      ]
     },
     "execution_count": 63,
     "metadata": {},
     "output_type": "execute_result"
    }
   ],
   "source": [
    "N = int(input())\n",
    "A = [0]*N\n",
    "\n",
    "for i in range(N):\n",
    "    A[i] = int(input())\n",
    "    \n",
    "A"
   ]
  },
  {
   "cell_type": "code",
   "execution_count": 64,
   "id": "e31fe1c1",
   "metadata": {},
   "outputs": [
    {
     "name": "stdout",
     "output_type": "stream",
     "text": [
      "5\n",
      "5\n",
      "2\n",
      "3\n",
      "4\n",
      "1\n",
      "1\n",
      "2\n",
      "3\n",
      "4\n",
      "5\n"
     ]
    }
   ],
   "source": [
    "N = int(input())\n",
    "A = [0]*N\n",
    "\n",
    "for i in range(N):\n",
    "    A[i] = int(input())\n",
    "    \n",
    "A.sort()\n",
    "\n",
    "for i in range(N):\n",
    "    print(A[i])"
   ]
  },
  {
   "cell_type": "code",
   "execution_count": 66,
   "id": "c4905e0b",
   "metadata": {},
   "outputs": [
    {
     "name": "stdout",
     "output_type": "stream",
     "text": [
      "5\n",
      "5\n",
      "2\n",
      "3\n",
      "4\n",
      "1\n",
      "1\n",
      "2\n",
      "3\n",
      "4\n",
      "5\n"
     ]
    }
   ],
   "source": [
    "N = int(input())\n",
    "A = [0]*N\n",
    "\n",
    "for i in range(N):\n",
    "    A[i] = int(input())\n",
    "    \n",
    "# A.sort()\n",
    "for i in range(N-1):\n",
    "    for j in range(N-1-i):\n",
    "        if A[j] > A[j+1]:\n",
    "            tmp = A[j]\n",
    "            A[j] = A[j+1]\n",
    "            A[j+1] = tmp\n",
    "        \n",
    "\n",
    "for i in range(N):\n",
    "    print(A[i])"
   ]
  },
  {
   "cell_type": "code",
   "execution_count": 1,
   "id": "9d10dd4d",
   "metadata": {},
   "outputs": [],
   "source": [
    "# 퀵 소트 (Divide and conquer)\n",
    "\n",
    "def swap(A, i, j):\n",
    "    temp = A[i]\n",
    "    A[i] = A[j]\n",
    "    A[j] = temp"
   ]
  },
  {
   "cell_type": "code",
   "execution_count": 5,
   "id": "eaae4c25",
   "metadata": {},
   "outputs": [],
   "source": [
    "def part(a, start, end):\n",
    "    pivot = a[end] # random, left, right, mid\n",
    "    plndex = start\n",
    "    \n",
    "    for i in range(start, end):\n",
    "        if a[i] <= pivot:\n",
    "            swap(a, i, plndex)\n",
    "            plndex += 1\n",
    "    swap(a, end, plndex)\n",
    "    return plndex"
   ]
  },
  {
   "cell_type": "code",
   "execution_count": 6,
   "id": "3ccdd952",
   "metadata": {},
   "outputs": [],
   "source": [
    "def qsort(a, start, end):\n",
    "    if start >= end: return\n",
    "    pivot = part(a, start, end)\n",
    "    qsort(a, start, pivot-1) # pivot 기준 왼쪽\n",
    "    qsort(a, pivot+1, end)   # pivot 기준 오른쪽"
   ]
  },
  {
   "cell_type": "code",
   "execution_count": 7,
   "id": "9d6f23f5",
   "metadata": {},
   "outputs": [
    {
     "data": {
      "text/plain": [
       "[-6, -3, 1, 2, 3, 5, 6, 8, 9]"
      ]
     },
     "execution_count": 7,
     "metadata": {},
     "output_type": "execute_result"
    }
   ],
   "source": [
    "data = [9, -3, 5, 2, 3, 6, 8, -6, 1]\n",
    "qsort(data, 0, len(data)-1)\n",
    "data"
   ]
  },
  {
   "cell_type": "code",
   "execution_count": 9,
   "id": "75616bc6",
   "metadata": {},
   "outputs": [],
   "source": [
    "# 병합 정렬 (Divide and conquer)\n",
    "\n",
    "def merge_sort(unsorted):\n",
    "    if len(unsorted) <= 1:\n",
    "        return unsorted\n",
    "    mid = len(unsorted) // 2\n",
    "    left_list = unsorted[:mid]\n",
    "    right_list = unsorted[mid:]\n",
    "    left_list = merge_sort(left_list)\n",
    "    right_list = merge_sort(right_list)\n",
    "    return list(merge(left_list, right_list))"
   ]
  },
  {
   "cell_type": "code",
   "execution_count": 10,
   "id": "2ec7e223",
   "metadata": {},
   "outputs": [],
   "source": [
    "def merge(left_list, right_list):\n",
    "    res = []\n",
    "    while len(left_list) != 0 and len(right_list) != 0:\n",
    "        if left_list[0] < right_list[0]:\n",
    "            res.append(left_list[0])\n",
    "            del left_list[0]\n",
    "        else :\n",
    "            res.append(right_list[0])\n",
    "            del right_list[0]\n",
    "    if len(left_list) == 0: # 왼쪽 다쓰고 오른쪽이 남으면\n",
    "        res += right_list\n",
    "    else :                  # 오른쪽 다쓰고 왼쪽이 남으면\n",
    "        res += left_list\n",
    "    return res"
   ]
  },
  {
   "cell_type": "code",
   "execution_count": 11,
   "id": "5354fb86",
   "metadata": {},
   "outputs": [
    {
     "data": {
      "text/plain": [
       "[1, 2, 3, 4, 5, 6, 7, 8]"
      ]
     },
     "execution_count": 11,
     "metadata": {},
     "output_type": "execute_result"
    }
   ],
   "source": [
    "data = [6, 5, 3, 1, 8, 7, 2, 4]\n",
    "data_sorted = merge_sort(data)\n",
    "data_sorted"
   ]
  },
  {
   "cell_type": "code",
   "execution_count": 13,
   "id": "099950a6",
   "metadata": {},
   "outputs": [],
   "source": [
    "# Tree\n",
    "\n",
    "class Node:\n",
    "    def __init__(self, data):\n",
    "        self.data = data\n",
    "        self.left_child = None\n",
    "        self.right_child = None\n",
    "        "
   ]
  },
  {
   "cell_type": "code",
   "execution_count": 14,
   "id": "4346c443",
   "metadata": {},
   "outputs": [
    {
     "data": {
      "text/plain": [
       "('A', 'B', 'C', 'D', 'E')"
      ]
     },
     "execution_count": 14,
     "metadata": {},
     "output_type": "execute_result"
    }
   ],
   "source": [
    "node_a = Node(\"A\")\n",
    "node_b = Node(\"B\")\n",
    "node_c = Node(\"C\")\n",
    "node_d = Node(\"D\")\n",
    "node_e = Node(\"E\")\n",
    "\n",
    "node_a.data, node_b.data, node_c.data, node_d.data, node_e.data"
   ]
  },
  {
   "cell_type": "code",
   "execution_count": 15,
   "id": "5afff341",
   "metadata": {},
   "outputs": [],
   "source": [
    "node_a.left_child = node_b\n",
    "node_a.right_child = node_c"
   ]
  },
  {
   "cell_type": "code",
   "execution_count": 16,
   "id": "f2ead1c6",
   "metadata": {},
   "outputs": [],
   "source": [
    "node_b.left_child = node_d\n",
    "node_b.right_child = node_e"
   ]
  },
  {
   "cell_type": "code",
   "execution_count": 22,
   "id": "83ead7da",
   "metadata": {},
   "outputs": [],
   "source": [
    "# 이진 트리 Binary tree P382\n",
    "\n",
    "class Node:\n",
    "    def __init__(self, data):\n",
    "        self.data = data\n",
    "        self.left = None\n",
    "        self.right = None\n",
    "        \n",
    "    def insert(self, data):\n",
    "        if self.data is None:\n",
    "            self.data = data\n",
    "        else :                              # 자식에게 data 넣어줌\n",
    "            if data < self.data:            # insert left\n",
    "                if self.left is not None:  # left 노드가 비어있을 경우\n",
    "                    self.left.insert(data)\n",
    "                else :                      # left 노드가 없을 때\n",
    "                    self.left = Node(data)\n",
    "            elif data > self.data:          # insert right\n",
    "                if self.right is not None: # right 노드가 비어있을 경우\n",
    "                    self.right.insert(data)\n",
    "                else :                      # right 노드가 없을 때\n",
    "                    self.right = Node(data)\n",
    "            else :                          # data == self.data\n",
    "                print(\"이미 트리에 있는 값이네요. 그냥 버릴게요\")"
   ]
  },
  {
   "cell_type": "code",
   "execution_count": 23,
   "id": "2bf46702",
   "metadata": {},
   "outputs": [
    {
     "data": {
      "text/plain": [
       "(3, None, None)"
      ]
     },
     "execution_count": 23,
     "metadata": {},
     "output_type": "execute_result"
    }
   ],
   "source": [
    "root = Node(3)\n",
    "root.data, root.left, root.right"
   ]
  },
  {
   "cell_type": "code",
   "execution_count": 24,
   "id": "a9e5e55a",
   "metadata": {},
   "outputs": [],
   "source": [
    "root.insert(1)"
   ]
  },
  {
   "cell_type": "code",
   "execution_count": 25,
   "id": "cfb5c65b",
   "metadata": {},
   "outputs": [
    {
     "data": {
      "text/plain": [
       "(3, <__main__.Node at 0x24963886f40>, None)"
      ]
     },
     "execution_count": 25,
     "metadata": {},
     "output_type": "execute_result"
    }
   ],
   "source": [
    "root.data, root.left, root.right"
   ]
  },
  {
   "cell_type": "code",
   "execution_count": 26,
   "id": "c1d81651",
   "metadata": {},
   "outputs": [
    {
     "data": {
      "text/plain": [
       "1"
      ]
     },
     "execution_count": 26,
     "metadata": {},
     "output_type": "execute_result"
    }
   ],
   "source": [
    "root.left.data"
   ]
  },
  {
   "cell_type": "code",
   "execution_count": 27,
   "id": "9e967394",
   "metadata": {},
   "outputs": [],
   "source": [
    "root.insert(5)"
   ]
  },
  {
   "cell_type": "code",
   "execution_count": 28,
   "id": "b04f9540",
   "metadata": {},
   "outputs": [
    {
     "data": {
      "text/plain": [
       "(3, <__main__.Node at 0x24963886f40>, <__main__.Node at 0x2496345a700>)"
      ]
     },
     "execution_count": 28,
     "metadata": {},
     "output_type": "execute_result"
    }
   ],
   "source": [
    "root.data, root.left, root.right"
   ]
  },
  {
   "cell_type": "code",
   "execution_count": 29,
   "id": "7562867f",
   "metadata": {},
   "outputs": [
    {
     "data": {
      "text/plain": [
       "5"
      ]
     },
     "execution_count": 29,
     "metadata": {},
     "output_type": "execute_result"
    }
   ],
   "source": [
    "root.right.data"
   ]
  },
  {
   "cell_type": "code",
   "execution_count": 30,
   "id": "6c913654",
   "metadata": {},
   "outputs": [],
   "source": [
    "root.insert(4)"
   ]
  },
  {
   "cell_type": "code",
   "execution_count": 31,
   "id": "ebd00ce3",
   "metadata": {},
   "outputs": [
    {
     "data": {
      "text/plain": [
       "4"
      ]
     },
     "execution_count": 31,
     "metadata": {},
     "output_type": "execute_result"
    }
   ],
   "source": [
    "root.right.left.data"
   ]
  },
  {
   "cell_type": "code",
   "execution_count": 32,
   "id": "89597a88",
   "metadata": {},
   "outputs": [
    {
     "name": "stdout",
     "output_type": "stream",
     "text": [
      "이미 트리에 있는 값이네요. 그냥 버릴게요\n"
     ]
    }
   ],
   "source": [
    "root.insert(3)"
   ]
  },
  {
   "cell_type": "code",
   "execution_count": 33,
   "id": "04a70296",
   "metadata": {},
   "outputs": [],
   "source": [
    "# 순회 (Traversing)\n",
    "# 중위 순회 ( in-order traversal) : left -> root -> right\n",
    "# 전위 순회 ( pre-order traversal) : root -> left -> right\n",
    "# 후위 순회 ( post-order traversal) : left -> right -> root\n",
    "\n",
    "# A -> B, C / B -> D / C -> E, F / F -> G\n",
    "\n",
    "#          A\n",
    "#      B      C\n",
    "#  D       E     F\n",
    "#                   G\n",
    "\n",
    "# 전위 : A B D C E F G\n",
    "# 중위 : D B A E C F G\n",
    "# 후위 : D B E G F C A"
   ]
  },
  {
   "cell_type": "code",
   "execution_count": 51,
   "id": "2ec09d97",
   "metadata": {},
   "outputs": [],
   "source": [
    "# in-order tree\n",
    "\n",
    "class Node:\n",
    "    def __init__(self, data):\n",
    "        self.data = data\n",
    "        self.left = None\n",
    "        self.right = None\n",
    "        \n",
    "    def insert(self, data):\n",
    "        if self.data is None:\n",
    "            self.data = data\n",
    "        else :                              # 자식에게 data 넣어줌\n",
    "            if data < self.data:            # insert left\n",
    "                if self.left is not None:  # left 노드가 비어있을 경우\n",
    "                    self.left.insert(data)\n",
    "                else :                      # left 노드가 없을 때\n",
    "                    self.left = Node(data)\n",
    "            elif data > self.data:          # insert right\n",
    "                if self.right is not None: # right 노드가 비어있을 경우\n",
    "                    self.right.insert(data)\n",
    "                else :                      # right 노드가 없을 때\n",
    "                    self.right = Node(data)\n",
    "            else :                          # data == self.data\n",
    "                print(\"이미 트리에 있는 값이네요. 그냥 버릴게요\")\n",
    "                \n",
    "    def iot(self, root):                    # in-order traversal (Left > Root > Right)\n",
    "        res = []\n",
    "        if root:\n",
    "            res = self.iot(root.left)\n",
    "            res.append(root.data)\n",
    "            res += self.iot(root.right)\n",
    "        return res\n",
    "    \n",
    "    def pot(self, root):                    # pre-order traversal (Root > Left > Right)\n",
    "        res = []\n",
    "        if root:\n",
    "            res.append(root.data)\n",
    "            res += self.pot(root.left)\n",
    "            res += self.pot(root.right)\n",
    "        return res\n",
    "    \n",
    "    def post_ot(self, root):                # post-order traversal (Left > Right > Root)\n",
    "        res = []\n",
    "        if root:\n",
    "            res = self.post_ot(root.left)\n",
    "            res += self.post_ot(root.right)\n",
    "            res.append(root.data)\n",
    "        return res"
   ]
  },
  {
   "cell_type": "code",
   "execution_count": 52,
   "id": "8c24a59b",
   "metadata": {},
   "outputs": [
    {
     "name": "stdout",
     "output_type": "stream",
     "text": [
      "in order :  [10, 14, 19, 27, 31, 35, 42]\n",
      "pre order :  [27, 14, 10, 19, 35, 31, 42]\n",
      "post order :  [10, 19, 14, 31, 42, 35, 27]\n"
     ]
    }
   ],
   "source": [
    "root = Node(27)\n",
    "root.insert(14)\n",
    "root.insert(35)\n",
    "root.insert(10)\n",
    "root.insert(19)\n",
    "root.insert(31)\n",
    "root.insert(42)\n",
    "print(\"in order : \", root.iot(root))\n",
    "print(\"pre order : \", root.pot(root))\n",
    "print(\"post order : \", root.post_ot(root))"
   ]
  },
  {
   "cell_type": "code",
   "execution_count": null,
   "id": "787240b7",
   "metadata": {},
   "outputs": [],
   "source": [
    "# factorial\n",
    "\"\"\"\n",
    "5! = 5 * 4 * 3 * 2 * 1\n",
    "     5 * 4!\n",
    "     5 * 4 * 3!\n",
    "     5 * 4 * 3 * 2!\n",
    "     5 * 4 * 3 * 2 * 1\n",
    " \n",
    "facto(5)\n",
    "    5 * facto(5-1)\n",
    "        4 * facto(4-1)\n",
    "            3 * facto(3-1)\n",
    "                2 * facto(2-1)\n",
    "                    facto(1) == 1\n",
    "\"\"\""
   ]
  },
  {
   "cell_type": "code",
   "execution_count": 2,
   "id": "a580e538",
   "metadata": {},
   "outputs": [],
   "source": [
    "def facto(n):\n",
    "    if n == 1:\n",
    "        return 1\n",
    "    return n * facto(n-1)"
   ]
  },
  {
   "cell_type": "code",
   "execution_count": 3,
   "id": "5d691b4b",
   "metadata": {},
   "outputs": [
    {
     "data": {
      "text/plain": [
       "120"
      ]
     },
     "execution_count": 3,
     "metadata": {},
     "output_type": "execute_result"
    }
   ],
   "source": [
    "facto(5)"
   ]
  },
  {
   "cell_type": "code",
   "execution_count": 5,
   "id": "49ae7852",
   "metadata": {},
   "outputs": [
    {
     "data": {
      "text/plain": [
       "1"
      ]
     },
     "execution_count": 5,
     "metadata": {},
     "output_type": "execute_result"
    }
   ],
   "source": [
    "3//2"
   ]
  },
  {
   "cell_type": "code",
   "execution_count": 6,
   "id": "3107be42",
   "metadata": {},
   "outputs": [
    {
     "name": "stdout",
     "output_type": "stream",
     "text": [
      "A B C\n",
      "B D .\n",
      "C E F\n",
      "E . .\n",
      "F . G\n",
      "D . .\n",
      "G . .\n"
     ]
    }
   ],
   "source": [
    "N = 7 # int(input())\n",
    "tree = {}\n",
    "for i in range(N):\n",
    "    root, left, right = input().split()\n",
    "    tree[root] = [left, right]"
   ]
  },
  {
   "cell_type": "code",
   "execution_count": 7,
   "id": "8a7a05f0",
   "metadata": {},
   "outputs": [
    {
     "data": {
      "text/plain": [
       "{'A': ['B', 'C'],\n",
       " 'B': ['D', '.'],\n",
       " 'C': ['E', 'F'],\n",
       " 'E': ['.', '.'],\n",
       " 'F': ['.', 'G'],\n",
       " 'D': ['.', '.'],\n",
       " 'G': ['.', '.']}"
      ]
     },
     "execution_count": 7,
     "metadata": {},
     "output_type": "execute_result"
    }
   ],
   "source": [
    "tree"
   ]
  },
  {
   "cell_type": "code",
   "execution_count": 8,
   "id": "f6c3b828",
   "metadata": {},
   "outputs": [],
   "source": [
    "def preOrder(now):\n",
    "    if now == \".\":\n",
    "        return\n",
    "    print(now, end=\"\")\n",
    "    preOrder(tree[now][0])\n",
    "    preOrder(tree[now][1])"
   ]
  },
  {
   "cell_type": "code",
   "execution_count": 9,
   "id": "fcfc6553",
   "metadata": {},
   "outputs": [],
   "source": [
    "def inOrder(now):\n",
    "    if now == \".\":\n",
    "        return\n",
    "    inOrder(tree[now][0])\n",
    "    print(now, end=\"\")\n",
    "    inOrder(tree[now][1])"
   ]
  },
  {
   "cell_type": "code",
   "execution_count": 10,
   "id": "53f26f60",
   "metadata": {},
   "outputs": [],
   "source": [
    "def postOrder(now):\n",
    "    if now == \".\":\n",
    "        return\n",
    "    postOrder(tree[now][0])\n",
    "    postOrder(tree[now][1])\n",
    "    print(now, end=\"\")"
   ]
  },
  {
   "cell_type": "code",
   "execution_count": 11,
   "id": "fb3a03a2",
   "metadata": {},
   "outputs": [
    {
     "name": "stdout",
     "output_type": "stream",
     "text": [
      "ABDCEFG"
     ]
    }
   ],
   "source": [
    "preOrder(\"A\")"
   ]
  },
  {
   "cell_type": "code",
   "execution_count": 12,
   "id": "7f7cb180",
   "metadata": {},
   "outputs": [
    {
     "name": "stdout",
     "output_type": "stream",
     "text": [
      "DBAECFG"
     ]
    }
   ],
   "source": [
    "inOrder(\"A\")"
   ]
  },
  {
   "cell_type": "code",
   "execution_count": 13,
   "id": "0cb2b940",
   "metadata": {},
   "outputs": [
    {
     "name": "stdout",
     "output_type": "stream",
     "text": [
      "DBEGFCA"
     ]
    }
   ],
   "source": [
    "postOrder(\"A\")"
   ]
  },
  {
   "cell_type": "code",
   "execution_count": 14,
   "id": "63ba19ad",
   "metadata": {},
   "outputs": [],
   "source": [
    "# P167 이진 탐색 (Binary search) - 백준 / 프로그래머스 : 이분 탐색"
   ]
  },
  {
   "cell_type": "code",
   "execution_count": null,
   "id": "a254d8d8",
   "metadata": {},
   "outputs": [],
   "source": [
    "N = int(input())\n",
    "A = list(map( int, input().split() ))\n",
    "A.sort()\n",
    "M = int(input())\n",
    "target_list = list(map( int, input().split() ))\n",
    "\n",
    "for test_i in range(M):\n",
    "    isFind = False\n",
    "    target_now = target_list[test_i]\n",
    "    \n",
    "    # 찾기 수행\n",
    "    start_i = 1-1\n",
    "    end_i = len(A)-1\n",
    "    \n",
    "    while start_i <= end_i:\n",
    "        middle_i = (start + end) // 2\n",
    "        middle_val = A[middle_i]\n",
    "        \n",
    "        if middle_val > target_now: # 왼쪽 반을 쓴다\n",
    "            end_i = middle_i - 1\n",
    "        elif middle_val < target_now: # 오른쪽 반을 쓴다\n",
    "            start_i = middle_i + 1\n",
    "        else :\n",
    "            isFind = True\n",
    "    \n",
    "    is isFind:\n",
    "        print(1)\n",
    "    else :\n",
    "        print(0)"
   ]
  },
  {
   "cell_type": "code",
   "execution_count": 15,
   "id": "1bc24040",
   "metadata": {},
   "outputs": [],
   "source": [
    "class Node:\n",
    "    def __init__(self, data):\n",
    "        self.data = data\n",
    "        self.left = None\n",
    "        self.right = None\n",
    "        \n",
    "    def insert(self, data):\n",
    "        if self.data is None:\n",
    "            self.data = data\n",
    "        else :                              # 자식에게 data 넣어줌\n",
    "            if data < self.data:            # insert left\n",
    "                if self.left is not None:  # left 노드가 비어있을 경우\n",
    "                    self.left.insert(data)\n",
    "                else :                      # left 노드가 없을 때\n",
    "                    self.left = Node(data)\n",
    "            elif data > self.data:          # insert right\n",
    "                if self.right is not None: # right 노드가 비어있을 경우\n",
    "                    self.right.insert(data)\n",
    "                else :                      # right 노드가 없을 때\n",
    "                    self.right = Node(data)\n",
    "            else :                          # data == self.data\n",
    "                print(\"이미 트리에 있는 값이네요. 그냥 버릴게요\")\n",
    "                \n",
    "    def search(self, value):\n",
    "        if value < self.data: # left에서 계속 서치, right 버림\n",
    "            if self.left is None:\n",
    "                return f\"{value}이/가 없네요\"\n",
    "            return self.left.search(value)\n",
    "        elif value > self.data: # right에서 계속 서치, left 버림\n",
    "            if self.right is None:\n",
    "                return f\"{value}이/가 없네요\"\n",
    "            return self.right.search(value)\n",
    "        else : # value == self.data 서치완료\n",
    "            return f\"{value}이/가 있네요\""
   ]
  },
  {
   "cell_type": "code",
   "execution_count": 16,
   "id": "c3996f42",
   "metadata": {},
   "outputs": [
    {
     "data": {
      "text/plain": [
       "('1이/가 있네요', '-10이/가 있네요', '4이/가 있네요', '7이/가 없네요')"
      ]
     },
     "execution_count": 16,
     "metadata": {},
     "output_type": "execute_result"
    }
   ],
   "source": [
    "root = Node(3)\n",
    "root.insert(1)\n",
    "root.insert(-10)\n",
    "root.insert(5)\n",
    "root.insert(4)\n",
    "root.search(1), root.search(-10), root.search(4), root.search(7)"
   ]
  },
  {
   "cell_type": "code",
   "execution_count": 17,
   "id": "e16f7c78",
   "metadata": {},
   "outputs": [],
   "source": [
    "# P134 깊이 우선 탐색 (Depth First Search) - 재귀(스택) - 완전 탐색\n",
    "\n",
    "# P150 너비 우선 탐색 (Breadth First Search) - 큐 - 완전 탐색"
   ]
  },
  {
   "cell_type": "code",
   "execution_count": 26,
   "id": "2bb881a1",
   "metadata": {},
   "outputs": [],
   "source": [
    "graph = {}\n",
    "graph[\"A\"] = [\"B\", \"C\"]\n",
    "graph[\"B\"] = [\"A\", \"D\"]\n",
    "graph[\"C\"] = [\"A\", \"G\", \"H\", \"I\"]\n",
    "graph[\"D\"] = [\"B\", \"E\", \"F\"]\n",
    "graph[\"E\"] = [\"D\"]\n",
    "graph[\"F\"] = [\"D\"]\n",
    "graph[\"G\"] = [\"C\"]\n",
    "graph[\"H\"] = [\"C\"]\n",
    "graph[\"I\"] = [\"C\", \"J\"]\n",
    "graph[\"J\"] = [\"I\"]"
   ]
  },
  {
   "cell_type": "code",
   "execution_count": 20,
   "id": "20f6ba56",
   "metadata": {},
   "outputs": [
    {
     "data": {
      "text/plain": [
       "['A', 'C', 'I', 'J', 'H', 'G', 'B', 'D', 'F', 'E']"
      ]
     },
     "execution_count": 20,
     "metadata": {},
     "output_type": "execute_result"
    }
   ],
   "source": [
    "def dfs(graph, start_node):\n",
    "    stack = []\n",
    "    visited = []\n",
    "    \n",
    "    stack.append(start_node)\n",
    "    while stack:\n",
    "        node = stack.pop()\n",
    "        if node not in visited:\n",
    "            visited.append(node)\n",
    "            stack += graph[node]\n",
    "    return visited\n",
    "    \n",
    "dfs(graph, \"A\")"
   ]
  },
  {
   "cell_type": "code",
   "execution_count": 21,
   "id": "8dda02dd",
   "metadata": {},
   "outputs": [
    {
     "name": "stdout",
     "output_type": "stream",
     "text": [
      "['h', 'e', 'l', 'l', 'o']\n",
      "['o', 'l', 'l', 'e', 'h']\n"
     ]
    }
   ],
   "source": [
    "a = list(\"hello\")\n",
    "print(a)\n",
    "a.reverse()\n",
    "print(a)"
   ]
  },
  {
   "cell_type": "code",
   "execution_count": 22,
   "id": "563cf728",
   "metadata": {},
   "outputs": [
    {
     "data": {
      "text/plain": [
       "['A', 'B', 'D', 'E', 'F', 'C', 'G', 'H', 'I', 'J']"
      ]
     },
     "execution_count": 22,
     "metadata": {},
     "output_type": "execute_result"
    }
   ],
   "source": [
    "def dfs(graph, start_node):\n",
    "    stack = []\n",
    "    visited = []\n",
    "    \n",
    "    stack.append(start_node)\n",
    "    while stack:\n",
    "        node = stack.pop()\n",
    "        if node not in visited:\n",
    "            visited.append(node)\n",
    "            tmp = graph[node]\n",
    "            tmp.reverse()\n",
    "            stack += tmp\n",
    "    return visited\n",
    "    \n",
    "dfs(graph, \"A\")"
   ]
  },
  {
   "cell_type": "code",
   "execution_count": 23,
   "id": "1387d9bf",
   "metadata": {},
   "outputs": [
    {
     "data": {
      "text/plain": [
       "deque([10, 15, 25])"
      ]
     },
     "execution_count": 23,
     "metadata": {},
     "output_type": "execute_result"
    }
   ],
   "source": [
    "from collections import deque\n",
    "stack = deque()\n",
    "stack.append(10)\n",
    "stack.append(15)\n",
    "stack.append(25)\n",
    "stack"
   ]
  },
  {
   "cell_type": "code",
   "execution_count": 24,
   "id": "b669d673",
   "metadata": {},
   "outputs": [
    {
     "data": {
      "text/plain": [
       "(25, deque([10, 15]))"
      ]
     },
     "execution_count": 24,
     "metadata": {},
     "output_type": "execute_result"
    }
   ],
   "source": [
    "pop = stack.pop()\n",
    "pop, stack"
   ]
  },
  {
   "cell_type": "code",
   "execution_count": 27,
   "id": "2d73cf33",
   "metadata": {},
   "outputs": [
    {
     "data": {
      "text/plain": [
       "['A', 'C', 'I', 'J', 'H', 'G', 'B', 'D', 'F', 'E']"
      ]
     },
     "execution_count": 27,
     "metadata": {},
     "output_type": "execute_result"
    }
   ],
   "source": [
    "def dfs_deque(graph, start_node):\n",
    "    stack = deque()\n",
    "    visited = []\n",
    "    \n",
    "    stack.append(start_node)\n",
    "    while stack:\n",
    "        node = stack.pop()\n",
    "        if node not in visited:\n",
    "            visited.append(node)\n",
    "            stack += graph[node]\n",
    "    return visited\n",
    "    \n",
    "dfs_deque(graph, \"A\")"
   ]
  },
  {
   "cell_type": "code",
   "execution_count": 29,
   "id": "66e8c249",
   "metadata": {},
   "outputs": [
    {
     "data": {
      "text/plain": [
       "['A', 'B', 'D', 'E', 'F', 'C', 'G', 'H', 'I', 'J']"
      ]
     },
     "execution_count": 29,
     "metadata": {},
     "output_type": "execute_result"
    }
   ],
   "source": [
    "graph = {}\n",
    "graph[\"A\"] = [\"B\", \"C\"]\n",
    "graph[\"B\"] = [\"A\", \"D\"]\n",
    "graph[\"C\"] = [\"A\", \"G\", \"H\", \"I\"]\n",
    "graph[\"D\"] = [\"B\", \"E\", \"F\"]\n",
    "graph[\"E\"] = [\"D\"]\n",
    "graph[\"F\"] = [\"D\"]\n",
    "graph[\"G\"] = [\"C\"]\n",
    "graph[\"H\"] = [\"C\"]\n",
    "graph[\"I\"] = [\"C\", \"J\"]\n",
    "graph[\"J\"] = [\"I\"]\n",
    "\n",
    "def dfs_re(graph, start_node, visited=[]): # 재귀함수, recursive\n",
    "    visited.append(start_node)\n",
    "    for node in graph[start_node]:\n",
    "        if node not in visited:\n",
    "            dfs_re(graph, node, visited)\n",
    "    return visited\n",
    "dfs_re(graph, \"A\")"
   ]
  },
  {
   "cell_type": "code",
   "execution_count": 30,
   "id": "2a3bbb2c",
   "metadata": {},
   "outputs": [
    {
     "data": {
      "text/plain": [
       "['A', 'B', 'C', 'D', 'G', 'H', 'I', 'E', 'F', 'J']"
      ]
     },
     "execution_count": 30,
     "metadata": {},
     "output_type": "execute_result"
    }
   ],
   "source": [
    "# BFS\n",
    "\n",
    "def bfs(graph, start_node):\n",
    "    queue = deque()\n",
    "    visited = []\n",
    "\n",
    "    queue.append(start_node)\n",
    "    \n",
    "    while queue:\n",
    "        node = queue.popleft()\n",
    "\n",
    "        if node not in visited:\n",
    "            visited.append(node)\n",
    "            queue += graph[node]\n",
    "            \n",
    "    return visited\n",
    "    \n",
    "bfs(graph, \"A\")"
   ]
  },
  {
   "cell_type": "code",
   "execution_count": null,
   "id": "29470cd1",
   "metadata": {},
   "outputs": [],
   "source": [
    "# 무향 그래프 vs 유향 그래프\n",
    "# P242 Graph의 표현 / 에지 리스트 (가중치 있는 그래프 vs 가중치 없는 그래프)\n",
    "# P244 인접 리스트 방식(adjacency list) vs P243 인접 행렬(adjacency matrix)"
   ]
  },
  {
   "cell_type": "code",
   "execution_count": 5,
   "id": "a16b27ba",
   "metadata": {},
   "outputs": [
    {
     "name": "stdout",
     "output_type": "stream",
     "text": [
      "6 4\n",
      "0 0 0 0 0 0\n",
      "0 0 0 0 0 0\n",
      "0 0 0 0 0 0\n",
      "0 0 0 0 0 1\n"
     ]
    }
   ],
   "source": [
    "# 백준 토마토 문제\n",
    "# BFS(deque)\n",
    "\n",
    "from collections import deque\n",
    "     # 상 하 좌 우\n",
    "dx = [ 0, 0, -1, 1]\n",
    "dy = [-1, 1,  0, 0]\n",
    "\n",
    "m, n = map( int, input().split() )\n",
    "matrix = [ list(map( int, input().split() )) for i in range(n) ]\n",
    "q = deque([])\n",
    "res = 0\n",
    "\n",
    "for hang in range(n): # 0, 1, 2, 3\n",
    "    for yeol in range(m): # 0, 1, 2, 3, 4, 5\n",
    "        if matrix[hang][yeol] == 1:\n",
    "            q.append([hang, yeol])\n",
    "    \n",
    "def bfs():\n",
    "    while q:\n",
    "        x, y = q.popleft()\n",
    "        for i in range(4):\n",
    "            nx, ny = x+dx[i], y+dy[i]\n",
    "            if 0 <= nx < n and 0 <= ny < m and matrix[nx][ny] == 0:\n",
    "                matrix[nx][ny] = matrix[x][y] + 1 # 익히기\n",
    "                q.append([nx, ny])\n",
    "bfs()"
   ]
  },
  {
   "cell_type": "code",
   "execution_count": 6,
   "id": "2082e99a",
   "metadata": {},
   "outputs": [
    {
     "data": {
      "text/plain": [
       "[[9, 8, 7, 6, 5, 4],\n",
       " [8, 7, 6, 5, 4, 3],\n",
       " [7, 6, 5, 4, 3, 2],\n",
       " [6, 5, 4, 3, 2, 1]]"
      ]
     },
     "execution_count": 6,
     "metadata": {},
     "output_type": "execute_result"
    }
   ],
   "source": [
    "matrix"
   ]
  },
  {
   "cell_type": "code",
   "execution_count": 7,
   "id": "c93a5c55",
   "metadata": {},
   "outputs": [
    {
     "name": "stdout",
     "output_type": "stream",
     "text": [
      "8\n"
     ]
    }
   ],
   "source": [
    "keep_going = True\n",
    "for hang in matrix:\n",
    "    for yeol in hang:\n",
    "        if keep_going == True:\n",
    "            if yeol == 0: # bfs로 못 익혔으면,\n",
    "                print(-1)\n",
    "                keep_going = False # exit(0)\n",
    "    res = max(res, max(hang))\n",
    "print(res - 1)"
   ]
  },
  {
   "cell_type": "code",
   "execution_count": 9,
   "id": "3cc31ffd",
   "metadata": {},
   "outputs": [
    {
     "name": "stdout",
     "output_type": "stream",
     "text": [
      "4 6\n",
      "101111\n",
      "101010\n",
      "101011\n",
      "111011\n",
      "15\n"
     ]
    }
   ],
   "source": [
    "# 백준 2178 미로 탐색 문제\n",
    "# BFS(deque)\n",
    "\n",
    "from collections import deque\n",
    "     # 상 하 좌 우\n",
    "dx = [ 0, 0, -1, 1]\n",
    "dy = [-1, 1,  0, 0]\n",
    "\n",
    "N, M = map( int, input().split() )\n",
    "A = [ [0] * M for i in range(N) ]\n",
    "visited = [[False]*M for i in range(N)]\n",
    "\n",
    "for i in range(N):\n",
    "    numbers = list(input())\n",
    "    for j in range(M):\n",
    "        A[i][j] = int(numbers[j])\n",
    "    \n",
    "def bfs(i, j):\n",
    "    q = deque([])\n",
    "    q.append((i, j)) # (0, 0)\n",
    "    visited[i][j] = True\n",
    "    while q:\n",
    "        now = q.popleft() # now[0]: x, now[1]: y\n",
    "        for i in range(4):\n",
    "            x, y = now[0] + dx[i], now[1] + dy[i]\n",
    "            if 0 <= x < N and 0 <= y < M and A[x][y] != 0 and not visited[x][y]:\n",
    "                visited[x][y] = True\n",
    "                A[x][y] = A[now[0]][now[1]] + 1\n",
    "                q.append([x, y])\n",
    "bfs(0, 0)\n",
    "\n",
    "print(A[N-1][M-1])"
   ]
  },
  {
   "cell_type": "code",
   "execution_count": 10,
   "id": "9b95b032",
   "metadata": {},
   "outputs": [
    {
     "name": "stdout",
     "output_type": "stream",
     "text": [
      "7\n",
      "0110100\n",
      "0110101\n",
      "1110101\n",
      "0000111\n",
      "0100000\n",
      "0111110\n",
      "0111000\n"
     ]
    }
   ],
   "source": [
    "# 백준 2667 단지번호 붙이기\n",
    "# BFS(deque)\n",
    "\n",
    "from collections import deque\n",
    "     # 상 하 좌 우\n",
    "dx = [ 0, 0, -1, 1]\n",
    "dy = [-1, 1,  0, 0]\n",
    "\n",
    "N = int( input() )\n",
    "A = []\n",
    "\n",
    "for i in range(N):\n",
    "    A.append( list(map( int, input().strip())) )"
   ]
  },
  {
   "cell_type": "code",
   "execution_count": 11,
   "id": "240a7147",
   "metadata": {},
   "outputs": [
    {
     "data": {
      "text/plain": [
       "[[0, 1, 1, 0, 1, 0, 0],\n",
       " [0, 1, 1, 0, 1, 0, 1],\n",
       " [1, 1, 1, 0, 1, 0, 1],\n",
       " [0, 0, 0, 0, 1, 1, 1],\n",
       " [0, 1, 0, 0, 0, 0, 0],\n",
       " [0, 1, 1, 1, 1, 1, 0],\n",
       " [0, 1, 1, 1, 0, 0, 0]]"
      ]
     },
     "execution_count": 11,
     "metadata": {},
     "output_type": "execute_result"
    }
   ],
   "source": [
    "A"
   ]
  },
  {
   "cell_type": "code",
   "execution_count": 12,
   "id": "5aa52393",
   "metadata": {},
   "outputs": [
    {
     "name": "stdout",
     "output_type": "stream",
     "text": [
      "3\n",
      "7\n",
      "8\n",
      "9\n"
     ]
    }
   ],
   "source": [
    "ans = []\n",
    "def bfs(x, y):\n",
    "    global cnt # cnt += 1\n",
    "    A[x][y] = 0\n",
    "    q = deque([(x, y)])\n",
    "    while q:\n",
    "        now = q.popleft()\n",
    "        for i in range(4):\n",
    "            x, y = now[0] + dx[i], now[1] + dy[i]\n",
    "            if 0 <= x < N and 0 <= y < N and A[x][y] == 1:\n",
    "                A[x][y] = 0\n",
    "                cnt += 1\n",
    "                q.append([x, y])\n",
    "\n",
    "for x in range(N):\n",
    "    for y in range(N):\n",
    "        if A[x][y] == 1:\n",
    "            cnt = 1 # 건물 찾음 / 즉 건물 수를 세기 시작\n",
    "            bfs(x, y) # 탐색 시작 bfs, dfs\n",
    "            ans.append(cnt) # [7, 8, 9]\n",
    "            \n",
    "complex_num = len(ans)\n",
    "print(complex_num)\n",
    "for i in range(complex_num):\n",
    "    print(ans[i])"
   ]
  },
  {
   "cell_type": "code",
   "execution_count": 17,
   "id": "dfe38a93",
   "metadata": {},
   "outputs": [
    {
     "name": "stdout",
     "output_type": "stream",
     "text": [
      "7\n",
      "0110100\n",
      "0110101\n",
      "1110101\n",
      "0000111\n",
      "0100000\n",
      "0111110\n",
      "0111000\n",
      "3\n",
      "7\n",
      "8\n",
      "9\n"
     ]
    }
   ],
   "source": [
    "# 백준 2667 단지번호 붙이기\n",
    "# DFS(재귀함수)\n",
    "\n",
    "     # 상 하 좌 우\n",
    "dx = [ 0, 0, -1, 1]\n",
    "dy = [-1, 1,  0, 0]\n",
    "\n",
    "N = int( input() )\n",
    "A = []\n",
    "visited = [ [0]*N for i in range(N) ]\n",
    "\n",
    "for i in range(N):\n",
    "    A.append( list(map( int, input().strip())) )\n",
    "\n",
    "def dfs(x, y):\n",
    "    visited[x][y] = 1\n",
    "    global cnt\n",
    "    \n",
    "    if A[x][y] == 1:\n",
    "        cnt += 1\n",
    "    for i in range(4):\n",
    "        nx, ny = x+dx[i], y+dy[i]\n",
    "        if 0 <= nx < N and 0 <= ny < N and A[nx][ny] == 1 and visited[nx][ny] == 0:\n",
    "            dfs(nx, ny)\n",
    "            \n",
    "cnt = 0\n",
    "ans = []\n",
    "for x in range(N):\n",
    "    for y in range(N):\n",
    "        if A[x][y] == 1 and visited[x][y] == 0:\n",
    "            dfs(x, y)\n",
    "            ans.append(cnt)\n",
    "            cnt = 0\n",
    "ans.sort()\n",
    "\n",
    "complex_num = len(ans)\n",
    "print(complex_num)\n",
    "for i in range(complex_num):\n",
    "    print(ans[i])"
   ]
  },
  {
   "cell_type": "code",
   "execution_count": 18,
   "id": "a4b3b370",
   "metadata": {},
   "outputs": [
    {
     "data": {
      "text/plain": [
       "[[0, 1, 1, 0, 1, 0, 0],\n",
       " [0, 1, 1, 0, 1, 0, 1],\n",
       " [1, 1, 1, 0, 1, 0, 1],\n",
       " [0, 0, 0, 0, 1, 1, 1],\n",
       " [0, 1, 0, 0, 0, 0, 0],\n",
       " [0, 1, 1, 1, 1, 1, 0],\n",
       " [0, 1, 1, 1, 0, 0, 0]]"
      ]
     },
     "execution_count": 18,
     "metadata": {},
     "output_type": "execute_result"
    }
   ],
   "source": [
    "A"
   ]
  },
  {
   "cell_type": "code",
   "execution_count": 19,
   "id": "bf6d0aac",
   "metadata": {},
   "outputs": [
    {
     "data": {
      "text/plain": [
       "[[0, 1, 1, 0, 1, 0, 0],\n",
       " [0, 1, 1, 0, 1, 0, 1],\n",
       " [1, 1, 1, 0, 1, 0, 1],\n",
       " [0, 0, 0, 0, 1, 1, 1],\n",
       " [0, 1, 0, 0, 0, 0, 0],\n",
       " [0, 1, 1, 1, 1, 1, 0],\n",
       " [0, 1, 1, 1, 0, 0, 0]]"
      ]
     },
     "execution_count": 19,
     "metadata": {},
     "output_type": "execute_result"
    }
   ],
   "source": [
    "visited"
   ]
  },
  {
   "cell_type": "code",
   "execution_count": 20,
   "id": "767da4ae",
   "metadata": {},
   "outputs": [],
   "source": [
    "# node 0 1 2 3 으로 인접 행렬 구성\n",
    "\n",
    "graph_am = [\n",
    "    [0, 1, 1, 1],\n",
    "    [1, 0, 0, 1],\n",
    "    [1, 0, 0, 1],\n",
    "    [1, 1, 1, 0]\n",
    "]"
   ]
  },
  {
   "cell_type": "code",
   "execution_count": 21,
   "id": "9808f9a1",
   "metadata": {},
   "outputs": [
    {
     "data": {
      "text/plain": [
       "[[0, 1, 1, 1], [1, 0, 0, 1], [1, 0, 0, 1], [1, 1, 1, 0]]"
      ]
     },
     "execution_count": 21,
     "metadata": {},
     "output_type": "execute_result"
    }
   ],
   "source": [
    "graph_am"
   ]
  },
  {
   "cell_type": "code",
   "execution_count": 22,
   "id": "f38670d8",
   "metadata": {},
   "outputs": [
    {
     "data": {
      "text/plain": [
       "[[1, 2, 3], [0, 3], [0, 3], [0, 1, 2]]"
      ]
     },
     "execution_count": 22,
     "metadata": {},
     "output_type": "execute_result"
    }
   ],
   "source": [
    "# node 0 1 2 3 으로 인접 리스트 구성\n",
    "\n",
    "graph_al = [\n",
    "    [1, 2, 3], # 0\n",
    "    [0, 3],    # 1\n",
    "    [0, 3],    # 2\n",
    "    [0, 1, 2]  # 3\n",
    "]\n",
    "graph_al"
   ]
  },
  {
   "cell_type": "code",
   "execution_count": 23,
   "id": "afad9f37",
   "metadata": {},
   "outputs": [
    {
     "data": {
      "text/plain": [
       "{0: [1, 2, 3], 1: [0, 3], 2: [0, 3], 3: [0, 1, 2]}"
      ]
     },
     "execution_count": 23,
     "metadata": {},
     "output_type": "execute_result"
    }
   ],
   "source": [
    "# node 0 1 2 3 으로 인접 리스트 구성 (dict 사용)\n",
    "graph_al_dic = {\n",
    "    0: [1, 2, 3],\n",
    "    1: [0, 3],\n",
    "    2: [0, 3],\n",
    "    3: [0, 1, 2]\n",
    "}\n",
    "graph_al_dic"
   ]
  },
  {
   "cell_type": "code",
   "execution_count": null,
   "id": "02f034dd",
   "metadata": {},
   "outputs": [],
   "source": [
    "# P152, 백준 1260 DFS와 BFS\n",
    "\n",
    "# DFS : 인접 행렬, stack\n",
    "# DFS : 인접 행렬, 재귀함수\n",
    "# DFS : 인접 리스트, stack\n",
    "# DFS : 인접 리스트, 재귀함수"
   ]
  },
  {
   "cell_type": "code",
   "execution_count": 24,
   "id": "4330b944",
   "metadata": {},
   "outputs": [
    {
     "name": "stdout",
     "output_type": "stream",
     "text": [
      "4 5 1\n"
     ]
    }
   ],
   "source": [
    "# DFS : 인접 행렬, stack\n",
    "\n",
    "n, m, v = map( int, input().split() ) # 4 5 1\n",
    "a_matrix = [[0]*(n+1) for i in range(n+1)]\n",
    "visited = [False] * (n+1)"
   ]
  },
  {
   "cell_type": "code",
   "execution_count": 25,
   "id": "0a0ceb20",
   "metadata": {},
   "outputs": [
    {
     "data": {
      "text/plain": [
       "([[0, 0, 0, 0, 0],\n",
       "  [0, 0, 0, 0, 0],\n",
       "  [0, 0, 0, 0, 0],\n",
       "  [0, 0, 0, 0, 0],\n",
       "  [0, 0, 0, 0, 0]],\n",
       " [False, False, False, False, False])"
      ]
     },
     "execution_count": 25,
     "metadata": {},
     "output_type": "execute_result"
    }
   ],
   "source": [
    "a_matrix, visited"
   ]
  },
  {
   "cell_type": "code",
   "execution_count": 26,
   "id": "5787feb6",
   "metadata": {},
   "outputs": [
    {
     "name": "stdout",
     "output_type": "stream",
     "text": [
      "1 2\n",
      "1 3\n",
      "1 4\n",
      "2 4\n",
      "3 4\n"
     ]
    },
    {
     "data": {
      "text/plain": [
       "[[0, 0, 0, 0, 0],\n",
       " [0, 0, 1, 1, 1],\n",
       " [0, 1, 0, 0, 1],\n",
       " [0, 1, 0, 0, 1],\n",
       " [0, 1, 1, 1, 0]]"
      ]
     },
     "execution_count": 26,
     "metadata": {},
     "output_type": "execute_result"
    }
   ],
   "source": [
    "for i in range(m):\n",
    "    f, t = map( int, input().split() )\n",
    "    a_matrix[f][t] = a_matrix[t][f] = 1\n",
    "a_matrix"
   ]
  },
  {
   "cell_type": "code",
   "execution_count": 27,
   "id": "47fcfd7d",
   "metadata": {},
   "outputs": [
    {
     "name": "stdout",
     "output_type": "stream",
     "text": [
      "1 2 4 3 "
     ]
    }
   ],
   "source": [
    "def dfs(a_matrix, i, visited):\n",
    "    stack = [i]\n",
    "    while stack: \n",
    "        value = stack.pop()\n",
    "        if not visited[value]:\n",
    "            print(value, end=\" \")\n",
    "            visited[value] = True\n",
    "            # a_matrix-1 to 0 거꾸로 (정점 번호가 작은 것을 먼저 방문)\n",
    "            for c in range(len(a_matrix)-1, -1, -1):\n",
    "                if a_matrix[value][c] == 1 and not visited[c]:\n",
    "                    stack.append(c)\n",
    "            \n",
    "dfs(a_matrix, v, visited)"
   ]
  },
  {
   "cell_type": "code",
   "execution_count": 30,
   "id": "5e19cfeb",
   "metadata": {},
   "outputs": [
    {
     "name": "stdout",
     "output_type": "stream",
     "text": [
      "1 2 4 3 "
     ]
    }
   ],
   "source": [
    "# DFS : 인접 행렬, 재귀함수\n",
    "\n",
    "visited = [False] * (n+1)\n",
    "\n",
    "def dfs(a_matrix, i, visited):\n",
    "    visited[i] = True\n",
    "    print(i, end=\" \")\n",
    "    for c in range(len(a_matrix[i])):\n",
    "        if a_matrix[i][c] == 1 and not visited[c]:\n",
    "            dfs(a_matrix, c, visited)\n",
    "            \n",
    "dfs(a_matrix, v, visited)"
   ]
  },
  {
   "cell_type": "code",
   "execution_count": 42,
   "id": "02682312",
   "metadata": {},
   "outputs": [
    {
     "name": "stdout",
     "output_type": "stream",
     "text": [
      "4 5 1\n"
     ]
    },
    {
     "data": {
      "text/plain": [
       "[[], [], [], [], []]"
      ]
     },
     "execution_count": 42,
     "metadata": {},
     "output_type": "execute_result"
    }
   ],
   "source": [
    "# DFS : 인접 리스트, stack\n",
    "\n",
    "n, m, v = map( int, input().split() ) # 4 5 1\n",
    "graph = [[]] * (n+1)\n",
    "visited = [False] * (n+1)\n",
    "graph"
   ]
  },
  {
   "cell_type": "code",
   "execution_count": 43,
   "id": "0d8f43b6",
   "metadata": {},
   "outputs": [
    {
     "name": "stdout",
     "output_type": "stream",
     "text": [
      "1 2\n",
      "1 3\n",
      "1 4\n",
      "2 4\n",
      "3 4\n"
     ]
    }
   ],
   "source": [
    "for i in range(m):\n",
    "    f, t = map( int, input().split() )\n",
    "    if graph[f] == []:\n",
    "        graph[f] = [t]\n",
    "    else :\n",
    "        graph[f].append(t)\n",
    "        \n",
    "    if graph[t] == []:\n",
    "        graph[t] = [f]\n",
    "    else :\n",
    "        graph[t].append(f)"
   ]
  },
  {
   "cell_type": "code",
   "execution_count": 44,
   "id": "11ef430d",
   "metadata": {},
   "outputs": [
    {
     "data": {
      "text/plain": [
       "[[], [2, 3, 4], [1, 4], [1, 4], [1, 2, 3]]"
      ]
     },
     "execution_count": 44,
     "metadata": {},
     "output_type": "execute_result"
    }
   ],
   "source": [
    "graph"
   ]
  },
  {
   "cell_type": "code",
   "execution_count": 46,
   "id": "63f2c3d8",
   "metadata": {},
   "outputs": [
    {
     "data": {
      "text/plain": [
       "[False, False, False, False, False]"
      ]
     },
     "execution_count": 46,
     "metadata": {},
     "output_type": "execute_result"
    }
   ],
   "source": [
    "visited = [False] * (n+1)\n",
    "visited"
   ]
  },
  {
   "cell_type": "code",
   "execution_count": 47,
   "id": "591641fe",
   "metadata": {},
   "outputs": [
    {
     "name": "stdout",
     "output_type": "stream",
     "text": [
      "1 2 4 3 "
     ]
    }
   ],
   "source": [
    "def dfs(graph, i, visited):\n",
    "    stack = [i]\n",
    "    visited[i] = True\n",
    "    while stack:\n",
    "        value = stack.pop()\n",
    "        if not visited[value]:\n",
    "            print(value, end=\" \")\n",
    "            visited[value] = True\n",
    "        for j in graph[value]:\n",
    "            if not visited[j]:\n",
    "                stack.append(j)\n",
    "                \n",
    "for i in graph:\n",
    "    i.reverse()\n",
    "    \n",
    "print(v, end=\" \")\n",
    "dfs(graph, v, visited)"
   ]
  },
  {
   "cell_type": "code",
   "execution_count": 49,
   "id": "553c3cec",
   "metadata": {},
   "outputs": [
    {
     "name": "stdout",
     "output_type": "stream",
     "text": [
      "4 5 1\n",
      "1 2\n",
      "1 3\n",
      "1 4\n",
      "2 4\n",
      "3 4\n",
      "1 2 4 3 "
     ]
    }
   ],
   "source": [
    "# DFS : 인접 리스트, 재귀함수\n",
    "\n",
    "n, m, v = map( int, input().split() ) # 4 5 1\n",
    "graph = [[]] * (n+1)\n",
    "visited = [False] * (n+1)\n",
    "\n",
    "for i in range(m):\n",
    "    f, t = map( int, input().split() )\n",
    "    if graph[f] == []:\n",
    "        graph[f] = [t]\n",
    "    else :\n",
    "        graph[f].append(t)\n",
    "        \n",
    "    if graph[t] == []:\n",
    "        graph[t] = [f]\n",
    "    else :\n",
    "        graph[t].append(f)\n",
    "        \n",
    "def dfs(graph, i, visited):\n",
    "    visited[i] = True\n",
    "    print(i, end=\" \")\n",
    "    for j in graph[i]:\n",
    "        if not visited[j]:\n",
    "            dfs(graph, j, visited)\n",
    "            \n",
    "dfs(graph, v, visited)"
   ]
  },
  {
   "cell_type": "code",
   "execution_count": 50,
   "id": "44098d79",
   "metadata": {},
   "outputs": [],
   "source": [
    "# BFS : 인접 행렬, queue\n",
    "# BFS : 인접 리스트, queue"
   ]
  },
  {
   "cell_type": "code",
   "execution_count": 51,
   "id": "2f0280ec",
   "metadata": {},
   "outputs": [
    {
     "name": "stdout",
     "output_type": "stream",
     "text": [
      "4 5 1\n",
      "1 2\n",
      "1 3\n",
      "1 4\n",
      "2 4\n",
      "3 4\n",
      "1 2 3 4 "
     ]
    }
   ],
   "source": [
    "# BFS : 인접 행렬, queue\n",
    "\n",
    "n, m, v = map( int, input().split() ) # 4 5 1\n",
    "a_matrix = [[0]*(n+1) for i in range(n+1)]\n",
    "visited = [False] * (n+1)\n",
    "\n",
    "for i in range(m):\n",
    "    f, t = map( int, input().split() )\n",
    "    a_matrix[f][t] = a_matrix[t][f] = 1\n",
    "\n",
    "from collections import deque\n",
    "\n",
    "def bfs(a_matrix, i, visited):\n",
    "    q = deque()\n",
    "    q.append(i)\n",
    "    while q:\n",
    "        value = q.popleft()\n",
    "        if not visited[value]:\n",
    "            print(value, end=\" \")\n",
    "            visited[value] = True\n",
    "            for c in range(len(a_matrix[value])):\n",
    "                if a_matrix[value][c] == 1 and not visited[c]:\n",
    "                    q.append(c)\n",
    "                    \n",
    "bfs(a_matrix, v, visited)"
   ]
  },
  {
   "cell_type": "code",
   "execution_count": 53,
   "id": "961bf6e6",
   "metadata": {},
   "outputs": [
    {
     "name": "stdout",
     "output_type": "stream",
     "text": [
      "4 5 1\n",
      "1 2\n",
      "1 3\n",
      "1 4\n",
      "2 4\n",
      "3 4\n",
      "1 2 3 4 "
     ]
    }
   ],
   "source": [
    "# BFS : 인접 리스트, queue\n",
    "\n",
    "n, m, v = map( int, input().split() ) # 4 5 1\n",
    "graph = [[]] * (n+1)\n",
    "visited = [False] * (n+1)\n",
    "\n",
    "for i in range(m):\n",
    "    f, t = map( int, input().split() )\n",
    "    if graph[f] == []:\n",
    "        graph[f] = [t]\n",
    "    else :\n",
    "        graph[f].append(t)\n",
    "        \n",
    "    if graph[t] == []:\n",
    "        graph[t] = [f]\n",
    "    else :\n",
    "        graph[t].append(f)\n",
    "        \n",
    "# graph : [[], [2, 3, 4], [1, 4], [1, 4], [1, 2, 3]]\n",
    "        \n",
    "from collections import deque\n",
    "\n",
    "def bfs(a_matrix, i, visited):\n",
    "    q = deque()\n",
    "    q.append(i)\n",
    "    while q:\n",
    "        value = q.popleft()\n",
    "        if not visited[value]:\n",
    "            print(value, end=\" \")\n",
    "            visited[value] = True\n",
    "            for c in graph[value]:\n",
    "                q.append(c)\n",
    "                    \n",
    "bfs(a_matrix, v, visited)"
   ]
  },
  {
   "cell_type": "code",
   "execution_count": 1,
   "id": "cbabc886",
   "metadata": {},
   "outputs": [
    {
     "data": {
      "text/plain": [
       "[[], [], [], [], [], [], [], []]"
      ]
     },
     "execution_count": 1,
     "metadata": {},
     "output_type": "execute_result"
    }
   ],
   "source": [
    "# 백준 바이러스 2606 DFS/BFS\n",
    "# DFS / 재귀함수\n",
    "\n",
    "vertex = 7 # int(input()) ==> 7\n",
    "edge = 6   # int(input()) ==> 6\n",
    "\n",
    "graph = [[] for i in range(vertex+1)]\n",
    "graph"
   ]
  },
  {
   "cell_type": "code",
   "execution_count": 2,
   "id": "25954696",
   "metadata": {},
   "outputs": [
    {
     "name": "stdout",
     "output_type": "stream",
     "text": [
      "1 2\n",
      "2 3\n",
      "1 5\n",
      "5 2\n",
      "5 6\n",
      "4 7\n"
     ]
    },
    {
     "data": {
      "text/plain": [
       "[[], [2, 5], [1, 3, 5], [2], [7], [1, 2, 6], [5], [4]]"
      ]
     },
     "execution_count": 2,
     "metadata": {},
     "output_type": "execute_result"
    }
   ],
   "source": [
    "for i in range(edge):\n",
    "    a, b = map( int, input().split() )\n",
    "    graph[a].append(b)\n",
    "    graph[b].append(a)\n",
    "graph"
   ]
  },
  {
   "cell_type": "code",
   "execution_count": 3,
   "id": "c672c77d",
   "metadata": {},
   "outputs": [
    {
     "name": "stdout",
     "output_type": "stream",
     "text": [
      "4\n"
     ]
    }
   ],
   "source": [
    "def dfs(x):\n",
    "    global count\n",
    "    visited[x] = True\n",
    "    count += 1\n",
    "    \n",
    "    for node in graph[x]:\n",
    "        if not visited[node]:\n",
    "            dfs(node)\n",
    "\n",
    "count = 0\n",
    "visited = [False for i in range(vertex+1)]\n",
    "\n",
    "dfs(1)\n",
    "print(count - 1)"
   ]
  },
  {
   "cell_type": "code",
   "execution_count": 4,
   "id": "95419537",
   "metadata": {},
   "outputs": [
    {
     "data": {
      "text/plain": [
       "[False, True, True, True, False, True, True, False]"
      ]
     },
     "execution_count": 4,
     "metadata": {},
     "output_type": "execute_result"
    }
   ],
   "source": [
    "visited"
   ]
  },
  {
   "cell_type": "code",
   "execution_count": 5,
   "id": "aea27e7a",
   "metadata": {},
   "outputs": [
    {
     "name": "stdout",
     "output_type": "stream",
     "text": [
      "1 2\n",
      "2 3\n",
      "1 5\n",
      "5 2\n",
      "5 6\n",
      "4 7\n",
      "4\n"
     ]
    }
   ],
   "source": [
    "from collections import deque\n",
    "\n",
    "vertex = 7 # int(input()) ==> 7\n",
    "edge = 6   # int(input()) ==> 6\n",
    "\n",
    "graph = [[] for i in range(vertex+1)]\n",
    "\n",
    "for i in range(edge):\n",
    "    a, b = map( int, input().split() )\n",
    "    graph[a].append(b)\n",
    "    graph[b].append(a)\n",
    "    \n",
    "def bfs(x):\n",
    "    q = deque([x])\n",
    "    count = 0\n",
    "    visited[x] = True\n",
    "    while q:\n",
    "        node = q.popleft()\n",
    "        for next_node in graph[node]:\n",
    "            if not visited[next_node]:\n",
    "                visited[next_node] = True\n",
    "                q.append(next_node)\n",
    "                count += 1\n",
    "    return count\n",
    "\n",
    "visited = [False for i in range(vertex+1)]\n",
    "print(bfs(1))"
   ]
  },
  {
   "cell_type": "code",
   "execution_count": null,
   "id": "f05f920f",
   "metadata": {},
   "outputs": [],
   "source": [
    "# heap / priority queue"
   ]
  },
  {
   "cell_type": "code",
   "execution_count": null,
   "id": "0f7fc2a9",
   "metadata": {},
   "outputs": [],
   "source": [
    "# heap : 내부 표현 완전 이진 트리\n",
    "# max heap (최대 힙) : 최대 트리, 완전 이진 트리\n",
    "# min heap (최소 힙)\n",
    "# max tree (최대 트리) : 어떤 노드가 자식보다 작지 않은 트리 (부모가 자식보다 크거나 같다) 부모 >= 자식"
   ]
  },
  {
   "cell_type": "code",
   "execution_count": 14,
   "id": "bebd927a",
   "metadata": {},
   "outputs": [],
   "source": [
    "class Element:\n",
    "    def __init__(self, key):\n",
    "        self.key = key\n",
    "        \n",
    "class MaxHeap:\n",
    "    MAX_ELEMENTS = 100\n",
    "    \n",
    "    def __init__(self):\n",
    "        self.arr = [None for i in range(self.MAX_ELEMENTS+1)]\n",
    "        self.heapsize = 0\n",
    "        \n",
    "    def is_empty(self):\n",
    "        if self.heapsize == 0:\n",
    "            return True\n",
    "        else :\n",
    "            return False\n",
    "    \n",
    "    def is_full(self):\n",
    "        if self.heapsize >= self.MAX_ELEMENTS:\n",
    "            return True\n",
    "        else :\n",
    "            return False\n",
    "    \n",
    "    def parent(self, idx): # idx의 부모 인덱스\n",
    "        return idx // 2\n",
    "    \n",
    "    def left(self, idx):   # idx의 left child 인덱스\n",
    "        return idx * 2\n",
    "    \n",
    "    def right(self, idx):  # idx의 right child 인덱스\n",
    "        return idx * 2 + 1\n",
    "    \n",
    "    def push(self, item):  # item : 11 (item.key)\n",
    "        if self.is_full():\n",
    "            return \"힙이 가득 차서 넣을 수 없어요\"\n",
    "        \n",
    "        self.heapsize += 1\n",
    "        cur_idx = self.heapsize\n",
    "        \n",
    "        # cur_idx가 루트가 아니고 item 값이 cur_idx 부모의 값보다 크면 반복 수행\n",
    "        while cur_idx != 1 and item.key > self.arr[self.parent(cur_idx)].key: # 11 > 2\n",
    "            self.arr[cur_idx] = self.arr[self.parent(cur_idx)]\n",
    "            cur_idx = self.parent(cur_idx)\n",
    "        self.arr[cur_idx] = item\n",
    "        \n",
    "    def pop(self):\n",
    "        if self.is_empty():\n",
    "            return None\n",
    "        \n",
    "        pop_item = self.arr[1]\n",
    "        \n",
    "        temp = self.arr[self.heapsize]\n",
    "        self.heapsize -= 1\n",
    "        \n",
    "        cur_idx = 1\n",
    "        child_idx = self.left(cur_idx)\n",
    "        \n",
    "        while child_idx <= self.heapsize: # child_idx > self.heapsize : leaf에 도달\n",
    "            if child_idx < self.heapsize and ( self.arr[self.left(cur_idx)].key < self.arr[self.right(cur_idx)].key ):\n",
    "                child_idx = self.right(cur_idx)\n",
    "                \n",
    "            if temp.key >= self.arr[child_idx].key:\n",
    "                break\n",
    "                \n",
    "            self.arr[cur_idx] = self.arr[child_idx]\n",
    "            cur_idx = child_idx\n",
    "            child_idx = self.left(cur_idx)\n",
    "            \n",
    "        self.arr[cur_idx] = temp\n",
    "        \n",
    "        return pop_item"
   ]
  },
  {
   "cell_type": "code",
   "execution_count": 15,
   "id": "9408bff5",
   "metadata": {},
   "outputs": [],
   "source": [
    "def print_heap(h):\n",
    "    for i in range(1, h.heapsize+1):\n",
    "        print(f\"{i}번째 항목: {h.arr[i].key}\")"
   ]
  },
  {
   "cell_type": "code",
   "execution_count": 16,
   "id": "70160675",
   "metadata": {},
   "outputs": [],
   "source": [
    "h = MaxHeap()"
   ]
  },
  {
   "cell_type": "code",
   "execution_count": 17,
   "id": "5e3e2682",
   "metadata": {},
   "outputs": [],
   "source": [
    "h.push(Element(2))"
   ]
  },
  {
   "cell_type": "code",
   "execution_count": 18,
   "id": "597713c1",
   "metadata": {},
   "outputs": [
    {
     "name": "stdout",
     "output_type": "stream",
     "text": [
      "1번째 항목: 2\n"
     ]
    }
   ],
   "source": [
    "print_heap(h)"
   ]
  },
  {
   "cell_type": "code",
   "execution_count": 19,
   "id": "92e8a681",
   "metadata": {},
   "outputs": [
    {
     "name": "stdout",
     "output_type": "stream",
     "text": [
      "1번째 항목: 14\n",
      "2번째 항목: 2\n"
     ]
    }
   ],
   "source": [
    "h.push(Element(14))\n",
    "print_heap(h)"
   ]
  },
  {
   "cell_type": "code",
   "execution_count": 20,
   "id": "292e64e4",
   "metadata": {},
   "outputs": [
    {
     "name": "stdout",
     "output_type": "stream",
     "text": [
      "1번째 항목: 14\n",
      "2번째 항목: 2\n",
      "3번째 항목: 9\n"
     ]
    }
   ],
   "source": [
    "h.push(Element(9))\n",
    "print_heap(h)"
   ]
  },
  {
   "cell_type": "code",
   "execution_count": 21,
   "id": "d036bfaf",
   "metadata": {},
   "outputs": [
    {
     "name": "stdout",
     "output_type": "stream",
     "text": [
      "1번째 항목: 14\n",
      "2번째 항목: 11\n",
      "3번째 항목: 9\n",
      "4번째 항목: 2\n"
     ]
    }
   ],
   "source": [
    "h.push(Element(11))\n",
    "print_heap(h)"
   ]
  },
  {
   "cell_type": "code",
   "execution_count": 22,
   "id": "878bf2b5",
   "metadata": {},
   "outputs": [
    {
     "name": "stdout",
     "output_type": "stream",
     "text": [
      "1번째 항목: 14\n",
      "2번째 항목: 11\n",
      "3번째 항목: 9\n",
      "4번째 항목: 2\n",
      "5번째 항목: 6\n"
     ]
    }
   ],
   "source": [
    "h.push(Element(6))\n",
    "print_heap(h)"
   ]
  },
  {
   "cell_type": "code",
   "execution_count": 23,
   "id": "60d26271",
   "metadata": {},
   "outputs": [
    {
     "name": "stdout",
     "output_type": "stream",
     "text": [
      "1번째 항목: 14\n",
      "2번째 항목: 11\n",
      "3번째 항목: 9\n",
      "4번째 항목: 2\n",
      "5번째 항목: 6\n",
      "6번째 항목: 8\n"
     ]
    }
   ],
   "source": [
    "h.push(Element(8))\n",
    "print_heap(h)"
   ]
  },
  {
   "cell_type": "code",
   "execution_count": 24,
   "id": "73f2598c",
   "metadata": {},
   "outputs": [
    {
     "data": {
      "text/plain": [
       "14"
      ]
     },
     "execution_count": 24,
     "metadata": {},
     "output_type": "execute_result"
    }
   ],
   "source": [
    "h.pop().key"
   ]
  },
  {
   "cell_type": "code",
   "execution_count": 25,
   "id": "08caf549",
   "metadata": {},
   "outputs": [
    {
     "name": "stdout",
     "output_type": "stream",
     "text": [
      "1번째 항목: 11\n",
      "2번째 항목: 8\n",
      "3번째 항목: 9\n",
      "4번째 항목: 2\n",
      "5번째 항목: 6\n"
     ]
    }
   ],
   "source": [
    "print_heap(h)"
   ]
  },
  {
   "cell_type": "code",
   "execution_count": 26,
   "id": "7b7878f4",
   "metadata": {},
   "outputs": [
    {
     "data": {
      "text/plain": [
       "11"
      ]
     },
     "execution_count": 26,
     "metadata": {},
     "output_type": "execute_result"
    }
   ],
   "source": [
    "h.pop().key"
   ]
  },
  {
   "cell_type": "code",
   "execution_count": 27,
   "id": "61f73219",
   "metadata": {},
   "outputs": [
    {
     "name": "stdout",
     "output_type": "stream",
     "text": [
      "1번째 항목: 9\n",
      "2번째 항목: 8\n",
      "3번째 항목: 6\n",
      "4번째 항목: 2\n"
     ]
    }
   ],
   "source": [
    "print_heap(h)"
   ]
  },
  {
   "cell_type": "code",
   "execution_count": 28,
   "id": "de32d369",
   "metadata": {},
   "outputs": [
    {
     "data": {
      "text/plain": [
       "9"
      ]
     },
     "execution_count": 28,
     "metadata": {},
     "output_type": "execute_result"
    }
   ],
   "source": [
    "h.pop().key"
   ]
  },
  {
   "cell_type": "code",
   "execution_count": 29,
   "id": "1dbf90cb",
   "metadata": {},
   "outputs": [
    {
     "name": "stdout",
     "output_type": "stream",
     "text": [
      "1번째 항목: 8\n",
      "2번째 항목: 2\n",
      "3번째 항목: 6\n"
     ]
    }
   ],
   "source": [
    "print_heap(h)"
   ]
  },
  {
   "cell_type": "code",
   "execution_count": 30,
   "id": "3b35abc2",
   "metadata": {},
   "outputs": [
    {
     "data": {
      "text/plain": [
       "8"
      ]
     },
     "execution_count": 30,
     "metadata": {},
     "output_type": "execute_result"
    }
   ],
   "source": [
    "h.pop().key"
   ]
  },
  {
   "cell_type": "code",
   "execution_count": 31,
   "id": "9584b375",
   "metadata": {},
   "outputs": [
    {
     "name": "stdout",
     "output_type": "stream",
     "text": [
      "1번째 항목: 6\n",
      "2번째 항목: 2\n"
     ]
    }
   ],
   "source": [
    "print_heap(h)"
   ]
  },
  {
   "cell_type": "code",
   "execution_count": 32,
   "id": "e734244d",
   "metadata": {},
   "outputs": [
    {
     "data": {
      "text/plain": [
       "6"
      ]
     },
     "execution_count": 32,
     "metadata": {},
     "output_type": "execute_result"
    }
   ],
   "source": [
    "h.pop().key"
   ]
  },
  {
   "cell_type": "code",
   "execution_count": 33,
   "id": "bd87a93b",
   "metadata": {},
   "outputs": [
    {
     "name": "stdout",
     "output_type": "stream",
     "text": [
      "1번째 항목: 2\n"
     ]
    }
   ],
   "source": [
    "print_heap(h)"
   ]
  },
  {
   "cell_type": "code",
   "execution_count": 34,
   "id": "37ae0b32",
   "metadata": {},
   "outputs": [
    {
     "data": {
      "text/plain": [
       "2"
      ]
     },
     "execution_count": 34,
     "metadata": {},
     "output_type": "execute_result"
    }
   ],
   "source": [
    "h.pop().key"
   ]
  },
  {
   "cell_type": "code",
   "execution_count": 35,
   "id": "282ea937",
   "metadata": {},
   "outputs": [],
   "source": [
    "print_heap(h)"
   ]
  },
  {
   "cell_type": "code",
   "execution_count": 36,
   "id": "373198e5",
   "metadata": {},
   "outputs": [
    {
     "name": "stdout",
     "output_type": "stream",
     "text": [
      "[2]\n",
      "[2, 14]\n",
      "[2, 14, 9]\n",
      "[2, 11, 9, 14]\n",
      "[2, 6, 9, 14, 11]\n",
      "[2, 6, 8, 14, 11, 9]\n"
     ]
    }
   ],
   "source": [
    "import heapq\n",
    "\n",
    "a = [] # 2, 14, 9, 11, 6, 8\n",
    "\n",
    "heapq.heappush(a, 2)\n",
    "print(a)\n",
    "heapq.heappush(a, 14)\n",
    "print(a)\n",
    "heapq.heappush(a, 9)\n",
    "print(a)\n",
    "heapq.heappush(a, 11)\n",
    "print(a)\n",
    "heapq.heappush(a, 6)\n",
    "print(a)\n",
    "heapq.heappush(a, 8)\n",
    "print(a)"
   ]
  },
  {
   "cell_type": "code",
   "execution_count": null,
   "id": "c8ae24c3",
   "metadata": {},
   "outputs": [],
   "source": [
    "# 14, 11, 9, 2, 6, 8\n",
    "\n",
    "# 1번째 항목: 14\n",
    "# 2번째 항목: 11\n",
    "# 3번째 항목: 9\n",
    "# 4번째 항목: 2\n",
    "# 5번째 항목: 6\n",
    "# 6번째 항목: 8"
   ]
  },
  {
   "cell_type": "code",
   "execution_count": 37,
   "id": "6e9ab49f",
   "metadata": {},
   "outputs": [
    {
     "name": "stdout",
     "output_type": "stream",
     "text": [
      "2\n",
      "6\n",
      "8\n",
      "9\n",
      "11\n",
      "14\n"
     ]
    }
   ],
   "source": [
    "# 파이썬 heapq는 최소 힙으로 구현\n",
    "\n",
    "print(heapq.heappop(a))\n",
    "print(heapq.heappop(a))\n",
    "print(heapq.heappop(a))\n",
    "print(heapq.heappop(a))\n",
    "print(heapq.heappop(a))\n",
    "print(heapq.heappop(a))"
   ]
  },
  {
   "cell_type": "code",
   "execution_count": 41,
   "id": "7324b351",
   "metadata": {},
   "outputs": [],
   "source": [
    "# 파이썬 heapq로 최대 힙 사용\n",
    "\n",
    "a = [] # 2, 14, 9, 11, 6, 8\n",
    "\n",
    "heapq.heappush(a, (-2, 2))\n",
    "heapq.heappush(a, (-14, 14))\n",
    "heapq.heappush(a, (-9, 9))\n",
    "heapq.heappush(a, (-11, 11))\n",
    "heapq.heappush(a, (-6, 6))\n",
    "heapq.heappush(a, (-8, 8))"
   ]
  },
  {
   "cell_type": "code",
   "execution_count": 42,
   "id": "314ad62d",
   "metadata": {},
   "outputs": [
    {
     "name": "stdout",
     "output_type": "stream",
     "text": [
      "14\n",
      "11\n",
      "9\n",
      "8\n",
      "6\n",
      "2\n"
     ]
    }
   ],
   "source": [
    "print(heapq.heappop(a)[1])\n",
    "print(heapq.heappop(a)[1])\n",
    "print(heapq.heappop(a)[1])\n",
    "print(heapq.heappop(a)[1])\n",
    "print(heapq.heappop(a)[1])\n",
    "print(heapq.heappop(a)[1])"
   ]
  },
  {
   "cell_type": "code",
   "execution_count": 43,
   "id": "9b7a8a14",
   "metadata": {},
   "outputs": [
    {
     "name": "stdout",
     "output_type": "stream",
     "text": [
      "2\n",
      "6\n",
      "8\n",
      "9\n",
      "11\n",
      "14\n"
     ]
    }
   ],
   "source": [
    "from queue import PriorityQueue # 우선 순위 큐\n",
    "pq = PriorityQueue()\n",
    "\n",
    "# 2, 14, 9, 11, 6, 8\n",
    "pq.put(2)\n",
    "pq.put(14)\n",
    "pq.put(9)\n",
    "pq.put(11)\n",
    "pq.put(6)\n",
    "pq.put(8)\n",
    "print(pq.get())\n",
    "print(pq.get())\n",
    "print(pq.get())\n",
    "print(pq.get())\n",
    "print(pq.get())\n",
    "print(pq.get())"
   ]
  },
  {
   "cell_type": "code",
   "execution_count": null,
   "id": "dd1fd7a6",
   "metadata": {},
   "outputs": [],
   "source": [
    "# P282 위상 정렬\n",
    "# 할 일의 순서를 정렬\n",
    "# 학습 순서"
   ]
  },
  {
   "cell_type": "code",
   "execution_count": 45,
   "id": "587bdb4b",
   "metadata": {},
   "outputs": [
    {
     "name": "stdout",
     "output_type": "stream",
     "text": [
      "3 2\n",
      "1 3\n",
      "2 3\n",
      "1 2 3 "
     ]
    }
   ],
   "source": [
    "# P284\n",
    "\n",
    "from collections import deque\n",
    "\n",
    "N, M = map( int, input().split() )\n",
    "Ad = [[] for i in range(N+1)]  # 1. 인접리스트\n",
    "indegree = [0] * (N+1)        # 2. 진입 차수 리스트 D\n",
    "for i in range(M):\n",
    "    A, B = map( int, input().split() )\n",
    "    Ad[A].append(B)\n",
    "    indegree[B] += 1\n",
    "    \n",
    "q = deque()                   # 3. 위상 정렬 리스트\n",
    "for i in range(1, N+1):\n",
    "    if indegree[i] == 0:\n",
    "        q.append(i)\n",
    "        \n",
    "while q:\n",
    "    now = q.popleft()\n",
    "    print(now, end=\" \")\n",
    "    for next_item in Ad[now]:\n",
    "        indegree[next_item] -= 1\n",
    "        \n",
    "        if indegree[next_item] == 0:\n",
    "            q.append(next_item)"
   ]
  },
  {
   "cell_type": "code",
   "execution_count": 55,
   "id": "c6a409b7",
   "metadata": {},
   "outputs": [
    {
     "name": "stdout",
     "output_type": "stream",
     "text": [
      "5\n",
      "10 -1\n",
      "10 1 -1\n",
      "4 1 -1\n",
      "4 3 1 -1\n",
      "3 3 -1\n"
     ]
    }
   ],
   "source": [
    "# 287\n",
    "\n",
    "from collections import deque\n",
    "\n",
    "N = int(input())\n",
    "Ad = [[] for i in range(N+1)]\n",
    "indegree = [0] * (N+1)  # 진입 차수 리스트 (그래프 순서 확인용)\n",
    "selfBuild = [0] * (N+1) # 자기 자신 짓는데 걸리는 시간\n",
    "\n",
    "for i in range(1, N+1):\n",
    "    inputList = list(map( int, input().split() ))\n",
    "    selfBuild[i] = inputList[0]\n",
    "    index = 1           # 입력 줄의 1번 자료부터 선행 건물\n",
    "    \n",
    "    while True:\n",
    "        preTemp = inputList[index] # preTemp 선행 건물\n",
    "        index += 1\n",
    "        \n",
    "        if preTemp == -1:\n",
    "            break\n",
    "            \n",
    "        Ad[preTemp].append(i)\n",
    "        indegree[i] += 1"
   ]
  },
  {
   "cell_type": "code",
   "execution_count": 56,
   "id": "14513829",
   "metadata": {},
   "outputs": [
    {
     "data": {
      "text/plain": [
       "[[], [2, 3, 4], [], [4, 5], [], []]"
      ]
     },
     "execution_count": 56,
     "metadata": {},
     "output_type": "execute_result"
    }
   ],
   "source": [
    "Ad"
   ]
  },
  {
   "cell_type": "code",
   "execution_count": 57,
   "id": "8d0711fa",
   "metadata": {},
   "outputs": [
    {
     "data": {
      "text/plain": [
       "[0, 0, 1, 1, 2, 1]"
      ]
     },
     "execution_count": 57,
     "metadata": {},
     "output_type": "execute_result"
    }
   ],
   "source": [
    "indegree"
   ]
  },
  {
   "cell_type": "code",
   "execution_count": 58,
   "id": "a86cdb54",
   "metadata": {},
   "outputs": [
    {
     "data": {
      "text/plain": [
       "[0, 10, 10, 4, 4, 3]"
      ]
     },
     "execution_count": 58,
     "metadata": {},
     "output_type": "execute_result"
    }
   ],
   "source": [
    "selfBuild"
   ]
  },
  {
   "cell_type": "code",
   "execution_count": 59,
   "id": "5e2ea00f",
   "metadata": {},
   "outputs": [],
   "source": [
    "q = deque()\n",
    "\n",
    "for i in range(1, N+1):\n",
    "    if indegree[i] == 0:\n",
    "        q.append(i)"
   ]
  },
  {
   "cell_type": "code",
   "execution_count": 60,
   "id": "1c8cb82a",
   "metadata": {},
   "outputs": [
    {
     "data": {
      "text/plain": [
       "1"
      ]
     },
     "execution_count": 60,
     "metadata": {},
     "output_type": "execute_result"
    }
   ],
   "source": [
    "q[0]"
   ]
  },
  {
   "cell_type": "code",
   "execution_count": 61,
   "id": "c2a358fd",
   "metadata": {},
   "outputs": [
    {
     "name": "stdout",
     "output_type": "stream",
     "text": [
      "10\n",
      "20\n",
      "14\n",
      "18\n",
      "17\n"
     ]
    }
   ],
   "source": [
    "result = [0] * (N+1)\n",
    "\n",
    "while q:\n",
    "    now = q.popleft()\n",
    "    \n",
    "    for next_item in Ad[now]: # 1 => 2, 3, 4\n",
    "        indegree[next_item] -= 1\n",
    "        result[next_item] = max(result[next_item], result[now] + selfBuild[now])\n",
    "        \n",
    "        if indegree[next_item] == 0:\n",
    "            q.append(next_item)\n",
    "            \n",
    "for i in range(1, N+1):\n",
    "    print(result[i] + selfBuild[i])"
   ]
  },
  {
   "cell_type": "code",
   "execution_count": 62,
   "id": "2b68ff42",
   "metadata": {},
   "outputs": [
    {
     "name": "stdout",
     "output_type": "stream",
     "text": [
      "5\n",
      "10 -1\n",
      "10 1 -1\n",
      "4 1 -1\n",
      "4 3 1 -1\n",
      "3 3 -1\n",
      "10\n",
      "20\n",
      "14\n",
      "18\n",
      "17\n"
     ]
    }
   ],
   "source": [
    "# 위 287 합친 상태\n",
    "\n",
    "from collections import deque\n",
    "\n",
    "N = int(input())\n",
    "Ad = [[] for i in range(N+1)]\n",
    "indegree = [0] * (N+1)  # 진입 차수 리스트 (그래프 순서 확인용)\n",
    "selfBuild = [0] * (N+1) # 자기 자신 짓는데 걸리는 시간\n",
    "\n",
    "for i in range(1, N+1):\n",
    "    inputList = list(map( int, input().split() ))\n",
    "    selfBuild[i] = inputList[0]\n",
    "    index = 1           # 입력 줄의 1번 자료부터 선행 건물\n",
    "    \n",
    "    while True:\n",
    "        preTemp = inputList[index] # preTemp 선행 건물\n",
    "        index += 1\n",
    "        \n",
    "        if preTemp == -1:\n",
    "            break\n",
    "            \n",
    "        Ad[preTemp].append(i)\n",
    "        indegree[i] += 1\n",
    "        \n",
    "q = deque()\n",
    "\n",
    "for i in range(1, N+1):\n",
    "    if indegree[i] == 0:\n",
    "        q.append(i)\n",
    "        \n",
    "result = [0] * (N+1)\n",
    "\n",
    "while q:\n",
    "    now = q.popleft()\n",
    "    \n",
    "    for next_item in Ad[now]: # 1 => 2, 3, 4\n",
    "        indegree[next_item] -= 1\n",
    "        result[next_item] = max(result[next_item], result[now] + selfBuild[now])\n",
    "        \n",
    "        if indegree[next_item] == 0:\n",
    "            q.append(next_item)\n",
    "            \n",
    "for i in range(1, N+1):\n",
    "    print(result[i] + selfBuild[i])"
   ]
  },
  {
   "cell_type": "code",
   "execution_count": null,
   "id": "01c7151b",
   "metadata": {},
   "outputs": [],
   "source": [
    "# 주어진 정수 배열 nums에서 최대 합을 갖는 부분 집합을 찾아서 그 최대 합을 구해보자\n",
    "# nums = [-2, 1, -3, 4, -1, 2, 1, -5, 4]\n",
    "# sum : 6 [4, -1, 2, 1]\n",
    "# nums = [5, 4, -1, 7, 8]\n",
    "# sum : 23 [ 5, 4, -1, 7, 8]\n",
    "\n",
    "# 동적 계획법 (Dynamic Programming, DP), P459"
   ]
  },
  {
   "cell_type": "code",
   "execution_count": null,
   "id": "b4de232e",
   "metadata": {},
   "outputs": [],
   "source": [
    "# P460 피보나치 수열\n",
    "# D[N] = D[N-1] + D[N-2] / 어떤 수는 그 전 숫자 + 전전 숫자\n",
    "# D[N-2] + D[N-1] => D[N]\n",
    "# 0 1 1 2 3 5 8 ...\n",
    "# D[20] = D[19] + D[18]\n",
    "#         D[19] = D[18] + D[17]\n",
    "\n",
    "# 팩토리얼\n",
    "# 5! = 5 * 4!\n",
    "#          4! = 4 * 3!\n",
    "#     ...  2! = 2 * 1\n",
    "\n",
    "# D[0] D[1] D[2] D[3] D[4] D[5] D[6] ...\n",
    "#   0    1    1    2    3    5    8  ..."
   ]
  },
  {
   "cell_type": "code",
   "execution_count": 1,
   "id": "ea77a64f",
   "metadata": {},
   "outputs": [
    {
     "data": {
      "text/plain": [
       "[-1, -1, -1, -1, -1, -1]"
      ]
     },
     "execution_count": 1,
     "metadata": {},
     "output_type": "execute_result"
    }
   ],
   "source": [
    "# P462 피보나치 top-down\n",
    "N = 5\n",
    "F = [-1] * (N + 1) # -1은 사전 계산된 값이 아님\n",
    "F"
   ]
  },
  {
   "cell_type": "code",
   "execution_count": 2,
   "id": "bfd13202",
   "metadata": {},
   "outputs": [],
   "source": [
    "F[0] = 0\n",
    "F[1] = 1\n",
    "def fibo_no_memoi(n):\n",
    "    if n == 1:\n",
    "        return 1\n",
    "    elif n == 0:\n",
    "        return 0\n",
    "    return fibo_no_memoi(n-1) + fibo_no_memoi(n-2)"
   ]
  },
  {
   "cell_type": "code",
   "execution_count": 3,
   "id": "df4a8241",
   "metadata": {},
   "outputs": [
    {
     "data": {
      "text/plain": [
       "5"
      ]
     },
     "execution_count": 3,
     "metadata": {},
     "output_type": "execute_result"
    }
   ],
   "source": [
    "fibo_no_memoi(5)"
   ]
  },
  {
   "cell_type": "code",
   "execution_count": 4,
   "id": "1584b1a7",
   "metadata": {},
   "outputs": [
    {
     "data": {
      "text/plain": [
       "8"
      ]
     },
     "execution_count": 4,
     "metadata": {},
     "output_type": "execute_result"
    }
   ],
   "source": [
    "fibo_no_memoi(6)"
   ]
  },
  {
   "cell_type": "code",
   "execution_count": 5,
   "id": "71156121",
   "metadata": {},
   "outputs": [
    {
     "data": {
      "text/plain": [
       "[0, 1, -1, -1, -1, -1]"
      ]
     },
     "execution_count": 5,
     "metadata": {},
     "output_type": "execute_result"
    }
   ],
   "source": [
    "F[0] = 0\n",
    "F[1] = 1\n",
    "F"
   ]
  },
  {
   "cell_type": "code",
   "execution_count": 6,
   "id": "8103b621",
   "metadata": {},
   "outputs": [
    {
     "data": {
      "text/plain": [
       "[0, 1, -1, -1, -1, -1]"
      ]
     },
     "execution_count": 6,
     "metadata": {},
     "output_type": "execute_result"
    }
   ],
   "source": [
    "def fibo_with_memoi(n):\n",
    "    if F[n] != -1: # 가져올 값이 있다\n",
    "        return F[n]\n",
    "    F[n] = fibo_with_memoi(n-1) + fibo_with_memoi(n-2)\n",
    "    return F[n]\n",
    "F"
   ]
  },
  {
   "cell_type": "code",
   "execution_count": 7,
   "id": "70366d6b",
   "metadata": {},
   "outputs": [
    {
     "data": {
      "text/plain": [
       "(3, [0, 1, 1, 2, 3, -1])"
      ]
     },
     "execution_count": 7,
     "metadata": {},
     "output_type": "execute_result"
    }
   ],
   "source": [
    "fibo_with_memoi(4), F"
   ]
  },
  {
   "cell_type": "code",
   "execution_count": 8,
   "id": "3b8ba290",
   "metadata": {},
   "outputs": [
    {
     "data": {
      "text/plain": [
       "(5, [0, 1, 1, 2, 3, 5])"
      ]
     },
     "execution_count": 8,
     "metadata": {},
     "output_type": "execute_result"
    }
   ],
   "source": [
    "fibo_with_memoi(5), F"
   ]
  },
  {
   "cell_type": "code",
   "execution_count": 9,
   "id": "fbf3cd6f",
   "metadata": {},
   "outputs": [
    {
     "data": {
      "text/plain": [
       "[0, 1, 1, 2, 3, 5]"
      ]
     },
     "execution_count": 9,
     "metadata": {},
     "output_type": "execute_result"
    }
   ],
   "source": [
    "# P462 피보나치 bottom-up\n",
    "\n",
    "for i in range(2, N+1):\n",
    "    F[i] = F[i-1] + F[i-2]\n",
    "F"
   ]
  },
  {
   "cell_type": "code",
   "execution_count": 10,
   "id": "b278911b",
   "metadata": {},
   "outputs": [
    {
     "data": {
      "text/plain": [
       "5"
      ]
     },
     "execution_count": 10,
     "metadata": {},
     "output_type": "execute_result"
    }
   ],
   "source": [
    "F[5]"
   ]
  },
  {
   "cell_type": "code",
   "execution_count": null,
   "id": "631901cc",
   "metadata": {},
   "outputs": [],
   "source": [
    "# P463, 백준 1463 정수를 1로 만들기\n",
    "D[i] = D[i-1] + 1 # 1을 뺀다\n",
    "if i % 2 == 0:\n",
    "    D[i] = min(D[i], D[i/2]+1)\n",
    "if i % 3 == 0:\n",
    "    D[i] = min(D[i], D[i/3]+1)\n",
    "    \n",
    "# i : 1 2 3 4 5 6 7 8 9 10\n",
    "# D : 0 1\n",
    "# D[2] : D[2-1] + 1 => 1 # 3번 연산인 -1연산\n",
    "#        D[2/2] + 1 => 1 # 2번 연산인 /2연산"
   ]
  },
  {
   "cell_type": "code",
   "execution_count": 12,
   "id": "e554bb5e",
   "metadata": {},
   "outputs": [],
   "source": [
    "N = 10 # int(input())\n",
    "D = [0] * (N+1)\n",
    "D[1] = 0\n",
    "for i in range(2, N+1):\n",
    "    D[i] = D[i-1] + 1\n",
    "    if i % 2 == 0:\n",
    "        D[i] = min(D[i], D[i//2]+1)\n",
    "    if i % 3 == 0:\n",
    "        D[i] = min(D[i], D[i//3]+1)"
   ]
  },
  {
   "cell_type": "code",
   "execution_count": 13,
   "id": "dfb54050",
   "metadata": {},
   "outputs": [
    {
     "data": {
      "text/plain": [
       "3"
      ]
     },
     "execution_count": 13,
     "metadata": {},
     "output_type": "execute_result"
    }
   ],
   "source": [
    "D[10]"
   ]
  },
  {
   "cell_type": "code",
   "execution_count": 14,
   "id": "66c50e9a",
   "metadata": {},
   "outputs": [
    {
     "data": {
      "text/plain": [
       "[0, 0]"
      ]
     },
     "execution_count": 14,
     "metadata": {},
     "output_type": "execute_result"
    }
   ],
   "source": [
    "N = 1 # int(input())\n",
    "D = [0] * (N+1)\n",
    "D[1] = 0\n",
    "for i in range(2, N+1): # i : x\n",
    "    D[i] = D[i-1] + 1\n",
    "    if i % 2 == 0:\n",
    "        D[i] = min(D[i], D[i//2]+1)\n",
    "    if i % 3 == 0:\n",
    "        D[i] = min(D[i], D[i//3]+1)\n",
    "D"
   ]
  },
  {
   "cell_type": "code",
   "execution_count": 15,
   "id": "a26d09c4",
   "metadata": {},
   "outputs": [
    {
     "data": {
      "text/plain": [
       "[0, 0, 1]"
      ]
     },
     "execution_count": 15,
     "metadata": {},
     "output_type": "execute_result"
    }
   ],
   "source": [
    "N = 2 # int(input())\n",
    "D = [0] * (N+1)\n",
    "D[1] = 0\n",
    "for i in range(2, N+1): # i : 2\n",
    "    D[i] = D[i-1] + 1\n",
    "    if i % 2 == 0:\n",
    "        D[i] = min(D[i], D[i//2]+1) # min(1, 1)\n",
    "    if i % 3 == 0:\n",
    "        D[i] = min(D[i], D[i//3]+1)\n",
    "D"
   ]
  },
  {
   "cell_type": "code",
   "execution_count": 16,
   "id": "fe616443",
   "metadata": {},
   "outputs": [
    {
     "data": {
      "text/plain": [
       "[0, 0, 1, 1]"
      ]
     },
     "execution_count": 16,
     "metadata": {},
     "output_type": "execute_result"
    }
   ],
   "source": [
    "N = 3 # int(input())\n",
    "D = [0] * (N+1)\n",
    "D[1] = 0\n",
    "for i in range(2, N+1): # i : 2, 3\n",
    "    D[i] = D[i-1] + 1   # D[2] = D[2-1] + 1, D[3] = D[3-1] + 1, D[3] = 2\n",
    "    if i % 2 == 0:\n",
    "        D[i] = min(D[i], D[i//2]+1) # D[2] = min(D[2], D[2//2]+1), min(1, 1)\n",
    "    if i % 3 == 0:\n",
    "        D[i] = min(D[i], D[i//3]+1) # D[3] = min(D[3], D[3//2]+1), min(2, 1)\n",
    "D"
   ]
  },
  {
   "cell_type": "code",
   "execution_count": 17,
   "id": "a3fbb8e4",
   "metadata": {},
   "outputs": [
    {
     "data": {
      "text/plain": [
       "[0, 0, 1, 1, 2]"
      ]
     },
     "execution_count": 17,
     "metadata": {},
     "output_type": "execute_result"
    }
   ],
   "source": [
    "N = 4 # int(input())\n",
    "D = [0] * (N+1)\n",
    "D[1] = 0\n",
    "for i in range(2, N+1): # i : 2, 3, 4\n",
    "    D[i] = D[i-1] + 1\n",
    "    if i % 2 == 0:\n",
    "        D[i] = min(D[i], D[i//2]+1)\n",
    "    if i % 3 == 0:\n",
    "        D[i] = min(D[i], D[i//3]+1)\n",
    "D # D[4] = 2 : /2 /2"
   ]
  },
  {
   "cell_type": "code",
   "execution_count": 18,
   "id": "af8ba5f0",
   "metadata": {},
   "outputs": [
    {
     "data": {
      "text/plain": [
       "[0, 0, 1, 1, 2, 3]"
      ]
     },
     "execution_count": 18,
     "metadata": {},
     "output_type": "execute_result"
    }
   ],
   "source": [
    "N = 5 # int(input())\n",
    "D = [0] * (N+1)\n",
    "D[1] = 0\n",
    "for i in range(2, N+1): # i : 2, 3, 4, 5\n",
    "    D[i] = D[i-1] + 1\n",
    "    if i % 2 == 0:\n",
    "        D[i] = min(D[i], D[i//2]+1)\n",
    "    if i % 3 == 0:\n",
    "        D[i] = min(D[i], D[i//3]+1)\n",
    "D # D[5] = 3 : -1 /2 /2"
   ]
  },
  {
   "cell_type": "code",
   "execution_count": 19,
   "id": "7bf7f4c3",
   "metadata": {},
   "outputs": [
    {
     "data": {
      "text/plain": [
       "[0, 0, 1, 1, 2, 3, 2]"
      ]
     },
     "execution_count": 19,
     "metadata": {},
     "output_type": "execute_result"
    }
   ],
   "source": [
    "N = 6 # int(input())\n",
    "D = [0] * (N+1)\n",
    "D[1] = 0\n",
    "for i in range(2, N+1): # i : 2, 3, 4, 5, 6\n",
    "    D[i] = D[i-1] + 1\n",
    "    if i % 2 == 0:\n",
    "        D[i] = min(D[i], D[i//2]+1)\n",
    "    if i % 3 == 0:\n",
    "        D[i] = min(D[i], D[i//3]+1)\n",
    "D # D[6] = 2 : /3 /3"
   ]
  },
  {
   "cell_type": "code",
   "execution_count": 20,
   "id": "e91e66bd",
   "metadata": {},
   "outputs": [
    {
     "data": {
      "text/plain": [
       "[0, 0, 1, 1, 2, 3, 2, 3]"
      ]
     },
     "execution_count": 20,
     "metadata": {},
     "output_type": "execute_result"
    }
   ],
   "source": [
    "N = 7 # int(input())\n",
    "D = [0] * (N+1)\n",
    "D[1] = 0\n",
    "for i in range(2, N+1): # i : 2, 3, 4, 5, 6, 7\n",
    "    D[i] = D[i-1] + 1\n",
    "    if i % 2 == 0:\n",
    "        D[i] = min(D[i], D[i//2]+1)\n",
    "    if i % 3 == 0:\n",
    "        D[i] = min(D[i], D[i//3]+1)\n",
    "D # D[7] = 3 : -1 /3 /3"
   ]
  },
  {
   "cell_type": "code",
   "execution_count": 21,
   "id": "ea3ff700",
   "metadata": {},
   "outputs": [
    {
     "data": {
      "text/plain": [
       "[0, 0, 1, 1, 2, 3, 2, 3, 3]"
      ]
     },
     "execution_count": 21,
     "metadata": {},
     "output_type": "execute_result"
    }
   ],
   "source": [
    "N = 8 # int(input())\n",
    "D = [0] * (N+1)\n",
    "D[1] = 0\n",
    "for i in range(2, N+1): # i : 2, 3, 4, 5, 6, 7, 8\n",
    "    D[i] = D[i-1] + 1\n",
    "    if i % 2 == 0:\n",
    "        D[i] = min(D[i], D[i//2]+1)\n",
    "    if i % 3 == 0:\n",
    "        D[i] = min(D[i], D[i//3]+1)\n",
    "D # D[8] = 3 : /2 /2 /2"
   ]
  },
  {
   "cell_type": "code",
   "execution_count": 22,
   "id": "2ad1baeb",
   "metadata": {},
   "outputs": [
    {
     "data": {
      "text/plain": [
       "[0, 0, 1, 1, 2, 3, 2, 3, 3, 2]"
      ]
     },
     "execution_count": 22,
     "metadata": {},
     "output_type": "execute_result"
    }
   ],
   "source": [
    "N = 9 # int(input())\n",
    "D = [0] * (N+1)\n",
    "D[1] = 0\n",
    "for i in range(2, N+1): # i : 2, 3, 4, 5, 6, 7, 8, 9\n",
    "    D[i] = D[i-1] + 1\n",
    "    if i % 2 == 0:\n",
    "        D[i] = min(D[i], D[i//2]+1)\n",
    "    if i % 3 == 0:\n",
    "        D[i] = min(D[i], D[i//3]+1)\n",
    "D # D[9] = 2 : /3 /3"
   ]
  },
  {
   "cell_type": "code",
   "execution_count": 23,
   "id": "4285ecdf",
   "metadata": {},
   "outputs": [
    {
     "data": {
      "text/plain": [
       "[0, 0, 1, 1, 2, 3, 2, 3, 3, 2, 3]"
      ]
     },
     "execution_count": 23,
     "metadata": {},
     "output_type": "execute_result"
    }
   ],
   "source": [
    "N = 10 # int(input())\n",
    "D = [0] * (N+1)\n",
    "D[1] = 0\n",
    "for i in range(2, N+1): # i : 2, 3, 4, 5, 6, 7, 8, 9, 10\n",
    "    D[i] = D[i-1] + 1\n",
    "    if i % 2 == 0:\n",
    "        D[i] = min(D[i], D[i//2]+1)\n",
    "    if i % 3 == 0:\n",
    "        D[i] = min(D[i], D[i//3]+1)\n",
    "D # D[10] = 3 : -1 /3 /3"
   ]
  },
  {
   "cell_type": "code",
   "execution_count": null,
   "id": "8e44f0c4",
   "metadata": {},
   "outputs": [],
   "source": [
    "# D[i] : i 번째 날로부터 퇴사날까지 벌 수 있는 최대 수입\n",
    "\n",
    "# D[i] = D[i+1] # 오늘 (i) 시작, 퇴사일까지 안 끝남\n",
    "# D[i] = MAX(D[i+1], D[i + T[i]] + P[i]) # max (오늘까지 수익, 잡은 일 마쳤을 때까지의 수익)"
   ]
  },
  {
   "cell_type": "code",
   "execution_count": null,
   "id": "470be969",
   "metadata": {},
   "outputs": [],
   "source": [
    "# D[1] = 45"
   ]
  },
  {
   "cell_type": "code",
   "execution_count": 24,
   "id": "b7297791",
   "metadata": {},
   "outputs": [
    {
     "name": "stdout",
     "output_type": "stream",
     "text": [
      "3 10\n",
      "5 20\n",
      "1 10\n",
      "1 20\n",
      "2 15\n",
      "4 40\n",
      "2 200\n"
     ]
    }
   ],
   "source": [
    "N = 7\n",
    "D = [0] * (N+2)\n",
    "T = [0] * (N+1)\n",
    "P = [0] * (N+1)\n",
    "\n",
    "for i in range(1, N+1):\n",
    "    T[i], P[i] = map( int, input().split() )"
   ]
  },
  {
   "cell_type": "code",
   "execution_count": 25,
   "id": "a5b1ea7b",
   "metadata": {},
   "outputs": [
    {
     "data": {
      "text/plain": [
       "([0, 3, 5, 1, 1, 2, 4, 2], [0, 10, 20, 10, 20, 15, 40, 200])"
      ]
     },
     "execution_count": 25,
     "metadata": {},
     "output_type": "execute_result"
    }
   ],
   "source": [
    "T, P"
   ]
  },
  {
   "cell_type": "code",
   "execution_count": 27,
   "id": "3684845f",
   "metadata": {},
   "outputs": [],
   "source": [
    "for i in range(N, 0, -1):\n",
    "    if i+T[i] > N+1: # 잡은 일이 퇴사 전까지 못 마침\n",
    "        D[i] = D[i+1]\n",
    "    else :\n",
    "        D[i] = max(D[i+1], D[i + T[i]] + P[i])"
   ]
  },
  {
   "cell_type": "code",
   "execution_count": 28,
   "id": "5f640652",
   "metadata": {},
   "outputs": [
    {
     "data": {
      "text/plain": [
       "[0, 45, 45, 45, 35, 15, 0, 0, 0]"
      ]
     },
     "execution_count": 28,
     "metadata": {},
     "output_type": "execute_result"
    }
   ],
   "source": [
    "D"
   ]
  },
  {
   "cell_type": "code",
   "execution_count": null,
   "id": "6f12b89e",
   "metadata": {},
   "outputs": [],
   "source": [
    "# 1일 2일 3일 4일 5일 6일 7일 퇴사일\n",
    "#  3   2   1   1   2   1   0   0\n",
    "#  0   0  10  20   0  15   0   0\n",
    "#  0   0  10  30   0  45   0  45"
   ]
  },
  {
   "cell_type": "code",
   "execution_count": 29,
   "id": "c85d246a",
   "metadata": {},
   "outputs": [
    {
     "data": {
      "text/plain": [
       "[0, 45, 45, 45, 35, 15, 0, 0, 0]"
      ]
     },
     "execution_count": 29,
     "metadata": {},
     "output_type": "execute_result"
    }
   ],
   "source": [
    "N = 7\n",
    "D = [0] * (N+2)\n",
    "for i in range(N, 0, -1):\n",
    "    if i+T[i] > N+1: # 잡은 일이 퇴사 전까지 못 마침\n",
    "        D[i] = D[i+1]\n",
    "    else :\n",
    "        D[i] = max(D[i+1], D[i + T[i]] + P[i])\n",
    "D"
   ]
  },
  {
   "cell_type": "code",
   "execution_count": 30,
   "id": "99f75ae1",
   "metadata": {},
   "outputs": [
    {
     "data": {
      "text/plain": [
       "[0, 45, 45, 45, 35, 15, 0, 0]"
      ]
     },
     "execution_count": 30,
     "metadata": {},
     "output_type": "execute_result"
    }
   ],
   "source": [
    "N = 6\n",
    "D = [0] * (N+2)\n",
    "for i in range(N, 0, -1):\n",
    "    if i+T[i] > N+1: # 잡은 일이 퇴사 전까지 못 마침\n",
    "        D[i] = D[i+1]\n",
    "    else :\n",
    "        D[i] = max(D[i+1], D[i + T[i]] + P[i])\n",
    "D"
   ]
  },
  {
   "cell_type": "code",
   "execution_count": 31,
   "id": "9ab639ab",
   "metadata": {},
   "outputs": [
    {
     "data": {
      "text/plain": [
       "[0, 30, 30, 30, 20, 0, 0]"
      ]
     },
     "execution_count": 31,
     "metadata": {},
     "output_type": "execute_result"
    }
   ],
   "source": [
    "N = 5\n",
    "D = [0] * (N+2)\n",
    "for i in range(N, 0, -1):\n",
    "    if i+T[i] > N+1: # 잡은 일이 퇴사 전까지 못 마침\n",
    "        D[i] = D[i+1]\n",
    "    else :\n",
    "        D[i] = max(D[i+1], D[i + T[i]] + P[i])\n",
    "D"
   ]
  },
  {
   "cell_type": "code",
   "execution_count": 32,
   "id": "a16f9eb3",
   "metadata": {},
   "outputs": [
    {
     "data": {
      "text/plain": [
       "[0, 30, 30, 30, 20, 0]"
      ]
     },
     "execution_count": 32,
     "metadata": {},
     "output_type": "execute_result"
    }
   ],
   "source": [
    "N = 4\n",
    "D = [0] * (N+2)\n",
    "for i in range(N, 0, -1):\n",
    "    if i+T[i] > N+1: # 잡은 일이 퇴사 전까지 못 마침\n",
    "        D[i] = D[i+1]\n",
    "    else :\n",
    "        D[i] = max(D[i+1], D[i + T[i]] + P[i])\n",
    "D"
   ]
  },
  {
   "cell_type": "code",
   "execution_count": 33,
   "id": "b2a2df84",
   "metadata": {},
   "outputs": [
    {
     "data": {
      "text/plain": [
       "[0, 10, 10, 10, 0]"
      ]
     },
     "execution_count": 33,
     "metadata": {},
     "output_type": "execute_result"
    }
   ],
   "source": [
    "N = 3\n",
    "D = [0] * (N+2)\n",
    "for i in range(N, 0, -1):\n",
    "    if i+T[i] > N+1: # 잡은 일이 퇴사 전까지 못 마침\n",
    "        D[i] = D[i+1]\n",
    "    else :\n",
    "        D[i] = max(D[i+1], D[i + T[i]] + P[i])\n",
    "D"
   ]
  },
  {
   "cell_type": "code",
   "execution_count": 34,
   "id": "7144d920",
   "metadata": {},
   "outputs": [
    {
     "data": {
      "text/plain": [
       "[0, 0, 0, 0]"
      ]
     },
     "execution_count": 34,
     "metadata": {},
     "output_type": "execute_result"
    }
   ],
   "source": [
    "N = 2\n",
    "D = [0] * (N+2)\n",
    "for i in range(N, 0, -1):\n",
    "    if i+T[i] > N+1: # 잡은 일이 퇴사 전까지 못 마침\n",
    "        D[i] = D[i+1]\n",
    "    else :\n",
    "        D[i] = max(D[i+1], D[i + T[i]] + P[i])\n",
    "D"
   ]
  },
  {
   "cell_type": "code",
   "execution_count": null,
   "id": "afd5584f",
   "metadata": {},
   "outputs": [],
   "source": [
    "# 최단 거리\n",
    "# 다익스트라 P298 vs 벨만 포드 P315 vs 플로이드-워셜 P328 vs 최소 신장 트리 P343"
   ]
  },
  {
   "cell_type": "code",
   "execution_count": 35,
   "id": "e7b60a4a",
   "metadata": {},
   "outputs": [
    {
     "data": {
      "text/plain": [
       "(9223372036854775807, 27670116110564327421, -9223372036854775807)"
      ]
     },
     "execution_count": 35,
     "metadata": {},
     "output_type": "execute_result"
    }
   ],
   "source": [
    "import sys\n",
    "sys.maxsize, sys.maxsize*3, -sys.maxsize"
   ]
  },
  {
   "cell_type": "code",
   "execution_count": 37,
   "id": "d6169883",
   "metadata": {},
   "outputs": [
    {
     "name": "stdout",
     "output_type": "stream",
     "text": [
      "5 6\n",
      "1\n",
      "5 1 1\n",
      "1 2 2\n",
      "1 3 3\n",
      "2 3 4\n",
      "2 4 5\n",
      "3 4 6\n"
     ]
    }
   ],
   "source": [
    "# P304 백준 1753\n",
    "\n",
    "from queue import PriorityQueue\n",
    "import sys\n",
    "\n",
    "V, E = map( int, input().split() )\n",
    "K = int(input())\n",
    "\n",
    "distance = [sys.maxsize] * (V+1)   # 거리 리스트\n",
    "visited = [False] * (V+1)         # visited\n",
    "myList = [[] for i in range(V+1)] # 인접 리스트\n",
    "pq = PriorityQueue()\n",
    "\n",
    "for i in range(E):\n",
    "    u, v, w = map( int, input().split() )\n",
    "    myList[u].append( (v, w))\n",
    "    \n",
    "pq.put((0, K))\n",
    "distance[K] = 0"
   ]
  },
  {
   "cell_type": "code",
   "execution_count": 38,
   "id": "9661d9fb",
   "metadata": {},
   "outputs": [
    {
     "data": {
      "text/plain": [
       "[9223372036854775807,\n",
       " 0,\n",
       " 9223372036854775807,\n",
       " 9223372036854775807,\n",
       " 9223372036854775807,\n",
       " 9223372036854775807]"
      ]
     },
     "execution_count": 38,
     "metadata": {},
     "output_type": "execute_result"
    }
   ],
   "source": [
    "distance # 9223372036854775807 => 무한대를 max치로 표시"
   ]
  },
  {
   "cell_type": "code",
   "execution_count": 39,
   "id": "3b2a49f5",
   "metadata": {},
   "outputs": [
    {
     "data": {
      "text/plain": [
       "[[], [(2, 2), (3, 3)], [(3, 4), (4, 5)], [(4, 6)], [], [(1, 1)]]"
      ]
     },
     "execution_count": 39,
     "metadata": {},
     "output_type": "execute_result"
    }
   ],
   "source": [
    "myList"
   ]
  },
  {
   "cell_type": "code",
   "execution_count": 40,
   "id": "c95f679a",
   "metadata": {},
   "outputs": [
    {
     "data": {
      "text/plain": [
       "<queue.PriorityQueue at 0x235a6fbf7f0>"
      ]
     },
     "execution_count": 40,
     "metadata": {},
     "output_type": "execute_result"
    }
   ],
   "source": [
    "pq"
   ]
  },
  {
   "cell_type": "code",
   "execution_count": 42,
   "id": "53fb209a",
   "metadata": {},
   "outputs": [],
   "source": [
    "while pq.qsize() > 0:\n",
    "    current = pq.get()\n",
    "    c_v = current[1]\n",
    "    \n",
    "    if visited[c_v]:\n",
    "        continue\n",
    "        \n",
    "    visited[c_v] = True\n",
    "    \n",
    "    for tmp in myList[c_v]: # 1 => tmp : (2, 2), (3, 3)\n",
    "        next_item = tmp[0]  # 다음 vertex(node)\n",
    "        value     = tmp[1]  # 다음 weight\n",
    "        \n",
    "        if distance[next_item] > distance[c_v] + value: # 최소 값 출현 (update)\n",
    "            distance[next_item] = distance[c_v] + value\n",
    "            pq.put((distance[next_item], next_item))     # 가중치 값, 타겟 노드"
   ]
  },
  {
   "cell_type": "code",
   "execution_count": 43,
   "id": "e256b508",
   "metadata": {},
   "outputs": [
    {
     "data": {
      "text/plain": [
       "[9223372036854775807, 0, 2, 3, 7, 9223372036854775807]"
      ]
     },
     "execution_count": 43,
     "metadata": {},
     "output_type": "execute_result"
    }
   ],
   "source": [
    "distance"
   ]
  },
  {
   "cell_type": "code",
   "execution_count": 44,
   "id": "443a540b",
   "metadata": {},
   "outputs": [
    {
     "data": {
      "text/plain": [
       "[False, True, True, True, True, False]"
      ]
     },
     "execution_count": 44,
     "metadata": {},
     "output_type": "execute_result"
    }
   ],
   "source": [
    "visited"
   ]
  },
  {
   "cell_type": "code",
   "execution_count": 46,
   "id": "09e2cef6",
   "metadata": {},
   "outputs": [
    {
     "name": "stdout",
     "output_type": "stream",
     "text": [
      "0\n",
      "2\n",
      "3\n",
      "7\n",
      "INF\n"
     ]
    }
   ],
   "source": [
    "for i in range(1, V+1):\n",
    "    if visited[i]:\n",
    "        print(distance[i])\n",
    "    else :\n",
    "        print(\"INF\")"
   ]
  },
  {
   "cell_type": "code",
   "execution_count": 47,
   "id": "00242939",
   "metadata": {},
   "outputs": [
    {
     "name": "stdout",
     "output_type": "stream",
     "text": [
      "5\n",
      "8\n",
      "1 2 2\n",
      "1 3 3\n",
      "1 4 1\n",
      "1 5 10\n",
      "2 4 2\n",
      "3 4 1\n",
      "3 5 1\n",
      "4 5 3\n",
      "1 5\n"
     ]
    }
   ],
   "source": [
    "# P308\n",
    "from queue import PriorityQueue\n",
    "import sys\n",
    "\n",
    "N = int(input())\n",
    "M = int(input())\n",
    "\n",
    "distance = [sys.maxsize] * (N+1)   # 거리 리스트\n",
    "visited = [False] * (N+1)         # visited\n",
    "myList = [[] for i in range(N+1)] # 인접 리스트\n",
    "pq = PriorityQueue()\n",
    "\n",
    "for i in range(M):\n",
    "    u, v, w = map( int, input().split() )\n",
    "    myList[u].append( (v, w))\n",
    "    \n",
    "start_i, end_i = map( int, input().split() )\n",
    "\n",
    "pq.put((0, start_i))\n",
    "distance[start_i] = 0"
   ]
  },
  {
   "cell_type": "code",
   "execution_count": 48,
   "id": "937c6ac5",
   "metadata": {},
   "outputs": [
    {
     "data": {
      "text/plain": [
       "[9223372036854775807,\n",
       " 0,\n",
       " 9223372036854775807,\n",
       " 9223372036854775807,\n",
       " 9223372036854775807,\n",
       " 9223372036854775807]"
      ]
     },
     "execution_count": 48,
     "metadata": {},
     "output_type": "execute_result"
    }
   ],
   "source": [
    "distance"
   ]
  },
  {
   "cell_type": "code",
   "execution_count": 49,
   "id": "49eae1ef",
   "metadata": {},
   "outputs": [
    {
     "data": {
      "text/plain": [
       "[[],\n",
       " [(2, 2), (3, 3), (4, 1), (5, 10)],\n",
       " [(4, 2)],\n",
       " [(4, 1), (5, 1)],\n",
       " [(5, 3)],\n",
       " []]"
      ]
     },
     "execution_count": 49,
     "metadata": {},
     "output_type": "execute_result"
    }
   ],
   "source": [
    "myList"
   ]
  },
  {
   "cell_type": "code",
   "execution_count": 50,
   "id": "d8e34e31",
   "metadata": {},
   "outputs": [
    {
     "name": "stdout",
     "output_type": "stream",
     "text": [
      "4\n"
     ]
    }
   ],
   "source": [
    "while pq.qsize() > 0:\n",
    "    current = pq.get()\n",
    "    c_v = current[1]\n",
    "    \n",
    "    if visited[c_v]:\n",
    "        continue\n",
    "        \n",
    "    visited[c_v] = True\n",
    "    \n",
    "    for tmp in myList[c_v]:\n",
    "        next_item = tmp[0]  # 다음 vertex(node)\n",
    "        value     = tmp[1]  # 다음 weight\n",
    "        \n",
    "        if distance[next_item] > distance[c_v] + value: # 최소 값 출현 (update)\n",
    "            distance[next_item] = distance[c_v] + value\n",
    "            pq.put((distance[next_item], next_item))     # 가중치 값, 타겟 노드\n",
    "print(distance[end_i])"
   ]
  },
  {
   "cell_type": "code",
   "execution_count": 9,
   "id": "e267d283",
   "metadata": {},
   "outputs": [
    {
     "data": {
      "text/plain": [
       "[1, 3, 5]"
      ]
     },
     "execution_count": 9,
     "metadata": {},
     "output_type": "execute_result"
    }
   ],
   "source": [
    "a = [1, 5, 3]\n",
    "a.sort()\n",
    "a"
   ]
  },
  {
   "cell_type": "code",
   "execution_count": 10,
   "id": "61210541",
   "metadata": {},
   "outputs": [
    {
     "data": {
      "text/plain": [
       "[[1, 3, 5], [3, 2, 6]]"
      ]
     },
     "execution_count": 10,
     "metadata": {},
     "output_type": "execute_result"
    }
   ],
   "source": [
    "a = [[1, 5, 3],\n",
    "     [3, 2, 6]]\n",
    "a[0].sort()\n",
    "a"
   ]
  },
  {
   "cell_type": "code",
   "execution_count": 26,
   "id": "1082c2f4",
   "metadata": {},
   "outputs": [
    {
     "name": "stdout",
     "output_type": "stream",
     "text": [
      "5 10 2\n"
     ]
    }
   ],
   "source": [
    "# 최단 경로 = 1번째 최단 경로 \n",
    "# P309, 백준 1854\n",
    "\n",
    "import heapq\n",
    "import sys\n",
    "\n",
    "N, M, K = map( int, input().split() )\n",
    "W = [[] for i in range(N+1)]\n",
    "distance = [[sys.maxsize] * K for i in range(N+1)]"
   ]
  },
  {
   "cell_type": "code",
   "execution_count": 27,
   "id": "b87da670",
   "metadata": {},
   "outputs": [
    {
     "data": {
      "text/plain": [
       "[[], [], [], [], [], []]"
      ]
     },
     "execution_count": 27,
     "metadata": {},
     "output_type": "execute_result"
    }
   ],
   "source": [
    "W"
   ]
  },
  {
   "cell_type": "code",
   "execution_count": 28,
   "id": "1c698ff2",
   "metadata": {},
   "outputs": [
    {
     "data": {
      "text/plain": [
       "[[9223372036854775807, 9223372036854775807],\n",
       " [9223372036854775807, 9223372036854775807],\n",
       " [9223372036854775807, 9223372036854775807],\n",
       " [9223372036854775807, 9223372036854775807],\n",
       " [9223372036854775807, 9223372036854775807],\n",
       " [9223372036854775807, 9223372036854775807]]"
      ]
     },
     "execution_count": 28,
     "metadata": {},
     "output_type": "execute_result"
    }
   ],
   "source": [
    "distance"
   ]
  },
  {
   "cell_type": "code",
   "execution_count": 29,
   "id": "2cbfaeee",
   "metadata": {},
   "outputs": [
    {
     "name": "stdout",
     "output_type": "stream",
     "text": [
      "1 2 2\n",
      "1 3 7\n",
      "1 4 5\n",
      "1 5 6\n",
      "2 4 2\n",
      "2 3 4\n",
      "3 4 6\n",
      "3 5 8\n",
      "5 2 4\n",
      "5 4 1\n"
     ]
    },
    {
     "data": {
      "text/plain": [
       "[[],\n",
       " [(2, 2), (3, 7), (4, 5), (5, 6)],\n",
       " [(4, 2), (3, 4)],\n",
       " [(4, 6), (5, 8)],\n",
       " [],\n",
       " [(2, 4), (4, 1)]]"
      ]
     },
     "execution_count": 29,
     "metadata": {},
     "output_type": "execute_result"
    }
   ],
   "source": [
    "for i in range(M):\n",
    "    u, v, w = map( int, input().split() )\n",
    "    W[u].append((v, w))\n",
    "W"
   ]
  },
  {
   "cell_type": "code",
   "execution_count": 30,
   "id": "c5091bd0",
   "metadata": {},
   "outputs": [],
   "source": [
    "pq = [(0, 1)] # 1번 노드, 간선 가중치 : 0\n",
    "distance[1][0] = 0\n",
    "\n",
    "while pq:\n",
    "    cost, node = heapq.heappop(pq)\n",
    "    \n",
    "    for nNode, nCost in W[node]: # 1 => (2, 2), (3, 7), (4, 5), (5, 6)\n",
    "        sCost = cost + nCost\n",
    "        if distance[nNode][K-1] > sCost:\n",
    "            distance[nNode][K-1] = sCost\n",
    "            distance[nNode].sort()\n",
    "            heapq.heappush(pq, [sCost, nNode])"
   ]
  },
  {
   "cell_type": "code",
   "execution_count": 31,
   "id": "47371b7a",
   "metadata": {},
   "outputs": [
    {
     "data": {
      "text/plain": [
       "[[9223372036854775807, 9223372036854775807],\n",
       " [0, 9223372036854775807],\n",
       " [2, 10],\n",
       " [6, 7],\n",
       " [4, 5],\n",
       " [6, 14]]"
      ]
     },
     "execution_count": 31,
     "metadata": {},
     "output_type": "execute_result"
    }
   ],
   "source": [
    "distance"
   ]
  },
  {
   "cell_type": "code",
   "execution_count": null,
   "id": "43d4dde7",
   "metadata": {},
   "outputs": [],
   "source": [
    "# [Inf 0   2 3 4 5]\n",
    "# [Inf Inf 7 5 6 8]"
   ]
  },
  {
   "cell_type": "code",
   "execution_count": 33,
   "id": "9b91b056",
   "metadata": {},
   "outputs": [
    {
     "name": "stdout",
     "output_type": "stream",
     "text": [
      "-1\n",
      "10\n",
      "7\n",
      "5\n",
      "14\n"
     ]
    }
   ],
   "source": [
    "for i in range(1, N+1):\n",
    "    if distance[i][K-1] == sys.maxsize:\n",
    "        print(-1)\n",
    "    else :\n",
    "        print(distance[i][K-1])"
   ]
  },
  {
   "cell_type": "code",
   "execution_count": null,
   "id": "2e4840fb",
   "metadata": {},
   "outputs": [],
   "source": []
  }
 ],
 "metadata": {
  "kernelspec": {
   "display_name": "Python 3 (ipykernel)",
   "language": "python",
   "name": "python3"
  },
  "language_info": {
   "codemirror_mode": {
    "name": "ipython",
    "version": 3
   },
   "file_extension": ".py",
   "mimetype": "text/x-python",
   "name": "python",
   "nbconvert_exporter": "python",
   "pygments_lexer": "ipython3",
   "version": "3.8.0"
  }
 },
 "nbformat": 4,
 "nbformat_minor": 5
}
