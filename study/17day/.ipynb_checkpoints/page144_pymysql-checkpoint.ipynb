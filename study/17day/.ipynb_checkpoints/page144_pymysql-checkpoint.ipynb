{
 "cells": [
  {
   "cell_type": "code",
   "execution_count": 1,
   "id": "e965f647",
   "metadata": {},
   "outputs": [
    {
     "name": "stdout",
     "output_type": "stream",
     "text": [
      "Collecting pymysql\n",
      "  Obtaining dependency information for pymysql from https://files.pythonhosted.org/packages/e5/30/20467e39523d0cfc2b6227902d3687a16364307260c75e6a1cb4422b0c62/PyMySQL-1.1.0-py3-none-any.whl.metadata\n",
      "  Downloading PyMySQL-1.1.0-py3-none-any.whl.metadata (4.4 kB)\n",
      "Downloading PyMySQL-1.1.0-py3-none-any.whl (44 kB)\n",
      "   ---------------------------------------- 0.0/44.8 kB ? eta -:--:--\n",
      "   ---------------------------------------- 44.8/44.8 kB ? eta 0:00:00\n",
      "Installing collected packages: pymysql\n",
      "Successfully installed pymysql-1.1.0\n"
     ]
    },
    {
     "name": "stderr",
     "output_type": "stream",
     "text": [
      "WARNING: Ignoring invalid distribution -pype1 (c:\\programdata\\miniconda3\\envs\\mulcam3\\lib\\site-packages)\n",
      "WARNING: Ignoring invalid distribution -pype1 (c:\\programdata\\miniconda3\\envs\\mulcam3\\lib\\site-packages)\n"
     ]
    }
   ],
   "source": [
    "# !pip install pymysql"
   ]
  },
  {
   "cell_type": "code",
   "execution_count": 2,
   "id": "4de8159c",
   "metadata": {},
   "outputs": [],
   "source": [
    "import pymysql as m"
   ]
  },
  {
   "cell_type": "code",
   "execution_count": 12,
   "id": "02f0974e",
   "metadata": {},
   "outputs": [],
   "source": [
    "# mysql과 python 연결\n",
    "con = m.connect(host='127.0.0.1', port=3305, user='root', password='1234', db='pythondb', charset='utf8')\n",
    "cur = con.cursor()\n",
    "\n",
    "for i in range(10):\n",
    "    q = f'insert into test1 values({i}, \"값{i}\");'\n",
    "    cur.execute(q)\n",
    "con.commit() # data 변경할 때만 사용\n",
    "con.close()"
   ]
  },
  {
   "cell_type": "code",
   "execution_count": 13,
   "id": "acb2c729",
   "metadata": {},
   "outputs": [
    {
     "data": {
      "text/plain": [
       "((0, '값0'),\n",
       " (1, '값1'),\n",
       " (2, '값2'),\n",
       " (3, '값3'),\n",
       " (4, '값4'),\n",
       " (5, '값5'),\n",
       " (6, '값6'),\n",
       " (7, '값7'),\n",
       " (8, '값8'),\n",
       " (9, '값9'))"
      ]
     },
     "execution_count": 13,
     "metadata": {},
     "output_type": "execute_result"
    }
   ],
   "source": [
    "con = m.connect(host='127.0.0.1', port=3305, user='root', password='1234', db='pythondb', charset='utf8')\n",
    "cur = con.cursor()\n",
    "\n",
    "q = f'select * from test1;'\n",
    "cur.execute(q)\n",
    "res = cur.fetchall()\n",
    "con.close()\n",
    "res"
   ]
  },
  {
   "cell_type": "code",
   "execution_count": 14,
   "id": "33b33dc2",
   "metadata": {},
   "outputs": [],
   "source": [
    "import pandas as pd"
   ]
  },
  {
   "cell_type": "code",
   "execution_count": 16,
   "id": "92fecba1",
   "metadata": {},
   "outputs": [
    {
     "data": {
      "text/html": [
       "<div>\n",
       "<style scoped>\n",
       "    .dataframe tbody tr th:only-of-type {\n",
       "        vertical-align: middle;\n",
       "    }\n",
       "\n",
       "    .dataframe tbody tr th {\n",
       "        vertical-align: top;\n",
       "    }\n",
       "\n",
       "    .dataframe thead th {\n",
       "        text-align: right;\n",
       "    }\n",
       "</style>\n",
       "<table border=\"1\" class=\"dataframe\">\n",
       "  <thead>\n",
       "    <tr style=\"text-align: right;\">\n",
       "      <th></th>\n",
       "      <th>0</th>\n",
       "      <th>1</th>\n",
       "      <th>2</th>\n",
       "      <th>3</th>\n",
       "    </tr>\n",
       "  </thead>\n",
       "  <tbody>\n",
       "    <tr>\n",
       "      <th>0</th>\n",
       "      <td>전남 순천시</td>\n",
       "      <td>순천조례점</td>\n",
       "      <td>전라남도 순천시 충효로 109 (조례동, 디지털프라자전자랜드) 조례동 1264</td>\n",
       "      <td>061-902-7288</td>\n",
       "    </tr>\n",
       "    <tr>\n",
       "      <th>1</th>\n",
       "      <td>충남 논산시</td>\n",
       "      <td>논산내동점</td>\n",
       "      <td>충청남도 논산시 대학로65번길 6-5 (내동) 101,102,201호</td>\n",
       "      <td>041-733-4855</td>\n",
       "    </tr>\n",
       "    <tr>\n",
       "      <th>2</th>\n",
       "      <td>서울 구로구</td>\n",
       "      <td>오류동점</td>\n",
       "      <td>서울특별시 구로구 경인로 224 (오류동, 칸타빌레5차) .</td>\n",
       "      <td>02-2625-4854</td>\n",
       "    </tr>\n",
       "    <tr>\n",
       "      <th>3</th>\n",
       "      <td>경기 고양시 일산동구</td>\n",
       "      <td>부천역점</td>\n",
       "      <td>경기도 부천시 부일로 448 (심곡동, 프리존빌딩) 110호, 204호</td>\n",
       "      <td>032-665-8255</td>\n",
       "    </tr>\n",
       "    <tr>\n",
       "      <th>4</th>\n",
       "      <td>경기 화성시</td>\n",
       "      <td>화성병점점</td>\n",
       "      <td>경기도 화성시 병점동로 105 1,2층(진안동)</td>\n",
       "      <td>031-233-4686</td>\n",
       "    </tr>\n",
       "  </tbody>\n",
       "</table>\n",
       "</div>"
      ],
      "text/plain": [
       "             0      1                                            2  \\\n",
       "0       전남 순천시  순천조례점  전라남도 순천시 충효로 109 (조례동, 디지털프라자전자랜드) 조례동 1264   \n",
       "1       충남 논산시  논산내동점       충청남도 논산시 대학로65번길 6-5 (내동) 101,102,201호   \n",
       "2       서울 구로구   오류동점            서울특별시 구로구 경인로 224 (오류동, 칸타빌레5차) .   \n",
       "3  경기 고양시 일산동구   부천역점      경기도 부천시 부일로 448 (심곡동, 프리존빌딩) 110호, 204호   \n",
       "4       경기 화성시  화성병점점                   경기도 화성시 병점동로 105 1,2층(진안동)   \n",
       "\n",
       "              3  \n",
       "0  061-902-7288  \n",
       "1  041-733-4855  \n",
       "2  02-2625-4854  \n",
       "3  032-665-8255  \n",
       "4  031-233-4686  "
      ]
     },
     "execution_count": 16,
     "metadata": {},
     "output_type": "execute_result"
    }
   ],
   "source": [
    "df_hollys = pd.read_csv(\"hollys_shopinfo.csv\", encoding='cp949', index_col=0)\n",
    "df_hollys[:5]"
   ]
  },
  {
   "cell_type": "code",
   "execution_count": 18,
   "id": "d466fa64",
   "metadata": {},
   "outputs": [
    {
     "data": {
      "text/plain": [
       "('전남 순천시',\n",
       " '순천조례점',\n",
       " '전라남도 순천시 충효로 109 (조례동, 디지털프라자전자랜드) 조례동 1264',\n",
       " '061-902-7288')"
      ]
     },
     "execution_count": 18,
     "metadata": {},
     "output_type": "execute_result"
    }
   ],
   "source": [
    "df_hollys.iloc[0, 0], df_hollys.iloc[0, 1], df_hollys.iloc[0, 2], df_hollys.iloc[0, 3]"
   ]
  },
  {
   "cell_type": "code",
   "execution_count": 19,
   "id": "6c0e7337",
   "metadata": {},
   "outputs": [],
   "source": [
    "con = m.connect(host='127.0.0.1', port=3305, user='root', password='1234', db='pythondb', charset='utf8')\n",
    "cur = con.cursor()\n",
    "\n",
    "for i in range(2):\n",
    "    q = f\"insert into hollys values('{df_hollys.iloc[i, 0]}', '{df_hollys.iloc[i, 1]}', '{df_hollys.iloc[i, 2]}', '{df_hollys.iloc[i, 3]}');\"\n",
    "    cur.execute(q)\n",
    "con.commit() # data 변경할 때만 사용\n",
    "con.close()"
   ]
  },
  {
   "cell_type": "code",
   "execution_count": 20,
   "id": "245c9c3b",
   "metadata": {},
   "outputs": [
    {
     "data": {
      "text/plain": [
       "504"
      ]
     },
     "execution_count": 20,
     "metadata": {},
     "output_type": "execute_result"
    }
   ],
   "source": [
    "len(df_hollys)"
   ]
  },
  {
   "cell_type": "code",
   "execution_count": null,
   "id": "d50ab955",
   "metadata": {},
   "outputs": [],
   "source": []
  }
 ],
 "metadata": {
  "kernelspec": {
   "display_name": "Python 3 (ipykernel)",
   "language": "python",
   "name": "python3"
  },
  "language_info": {
   "codemirror_mode": {
    "name": "ipython",
    "version": 3
   },
   "file_extension": ".py",
   "mimetype": "text/x-python",
   "name": "python",
   "nbconvert_exporter": "python",
   "pygments_lexer": "ipython3",
   "version": "3.8.0"
  }
 },
 "nbformat": 4,
 "nbformat_minor": 5
}
